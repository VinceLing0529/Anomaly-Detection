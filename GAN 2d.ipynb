{
 "cells": [
  {
   "cell_type": "code",
   "execution_count": 1,
   "metadata": {},
   "outputs": [],
   "source": [
    "import h5py as h5\n",
    "import numpy as np\n",
    "import pandas as pd\n",
    "import matplotlib.pyplot as plt\n",
    "from tqdm import tqdm\n"
   ]
  },
  {
   "cell_type": "code",
   "execution_count": 2,
   "metadata": {},
   "outputs": [],
   "source": [
    "datapath = \"Herwig_qcd_features.h5\"\n",
    "df = pd.read_hdf(datapath)"
   ]
  },
  {
   "cell_type": "code",
   "execution_count": 3,
   "metadata": {},
   "outputs": [
    {
     "data": {
      "text/html": [
       "<div>\n",
       "<style scoped>\n",
       "    .dataframe tbody tr th:only-of-type {\n",
       "        vertical-align: middle;\n",
       "    }\n",
       "\n",
       "    .dataframe tbody tr th {\n",
       "        vertical-align: top;\n",
       "    }\n",
       "\n",
       "    .dataframe thead th {\n",
       "        text-align: right;\n",
       "    }\n",
       "</style>\n",
       "<table border=\"1\" class=\"dataframe\">\n",
       "  <thead>\n",
       "    <tr style=\"text-align: right;\">\n",
       "      <th></th>\n",
       "      <th>pxj1</th>\n",
       "      <th>pyj1</th>\n",
       "      <th>pzj1</th>\n",
       "      <th>mj1</th>\n",
       "      <th>tau1j1</th>\n",
       "      <th>tau2j1</th>\n",
       "      <th>tau3j1</th>\n",
       "      <th>pxj2</th>\n",
       "      <th>pyj2</th>\n",
       "      <th>pzj2</th>\n",
       "      <th>mj2</th>\n",
       "      <th>tau1j2</th>\n",
       "      <th>tau2j2</th>\n",
       "      <th>tau3j2</th>\n",
       "    </tr>\n",
       "  </thead>\n",
       "  <tbody>\n",
       "    <tr>\n",
       "      <th>0</th>\n",
       "      <td>-1062.890015</td>\n",
       "      <td>-628.263000</td>\n",
       "      <td>1.169330</td>\n",
       "      <td>223.070007</td>\n",
       "      <td>186.315994</td>\n",
       "      <td>108.044998</td>\n",
       "      <td>68.937798</td>\n",
       "      <td>785.325012</td>\n",
       "      <td>370.963013</td>\n",
       "      <td>-111.802002</td>\n",
       "      <td>67.170799</td>\n",
       "      <td>50.092701</td>\n",
       "      <td>28.765200</td>\n",
       "      <td>15.288100</td>\n",
       "    </tr>\n",
       "    <tr>\n",
       "      <th>1</th>\n",
       "      <td>-561.768005</td>\n",
       "      <td>-1116.109985</td>\n",
       "      <td>-865.270020</td>\n",
       "      <td>242.136002</td>\n",
       "      <td>88.407402</td>\n",
       "      <td>20.304501</td>\n",
       "      <td>12.437700</td>\n",
       "      <td>508.622009</td>\n",
       "      <td>966.379028</td>\n",
       "      <td>-325.015015</td>\n",
       "      <td>77.530197</td>\n",
       "      <td>36.413601</td>\n",
       "      <td>31.230499</td>\n",
       "      <td>24.091101</td>\n",
       "    </tr>\n",
       "    <tr>\n",
       "      <th>2</th>\n",
       "      <td>-1737.829956</td>\n",
       "      <td>-749.458008</td>\n",
       "      <td>-321.303009</td>\n",
       "      <td>95.748199</td>\n",
       "      <td>30.898800</td>\n",
       "      <td>22.592400</td>\n",
       "      <td>16.777599</td>\n",
       "      <td>929.109009</td>\n",
       "      <td>955.013977</td>\n",
       "      <td>1421.810059</td>\n",
       "      <td>583.320984</td>\n",
       "      <td>342.750000</td>\n",
       "      <td>61.851898</td>\n",
       "      <td>36.460602</td>\n",
       "    </tr>\n",
       "    <tr>\n",
       "      <th>3</th>\n",
       "      <td>-798.586975</td>\n",
       "      <td>918.947998</td>\n",
       "      <td>2056.659912</td>\n",
       "      <td>440.657013</td>\n",
       "      <td>238.959000</td>\n",
       "      <td>144.123993</td>\n",
       "      <td>71.498199</td>\n",
       "      <td>537.398987</td>\n",
       "      <td>-838.393005</td>\n",
       "      <td>-1693.349976</td>\n",
       "      <td>144.897003</td>\n",
       "      <td>36.847801</td>\n",
       "      <td>28.074800</td>\n",
       "      <td>14.404400</td>\n",
       "    </tr>\n",
       "    <tr>\n",
       "      <th>4</th>\n",
       "      <td>647.491028</td>\n",
       "      <td>-1165.069946</td>\n",
       "      <td>-59.776699</td>\n",
       "      <td>51.966702</td>\n",
       "      <td>24.274799</td>\n",
       "      <td>4.958610</td>\n",
       "      <td>2.036370</td>\n",
       "      <td>-794.692993</td>\n",
       "      <td>1014.479980</td>\n",
       "      <td>-1927.390015</td>\n",
       "      <td>116.587997</td>\n",
       "      <td>41.674801</td>\n",
       "      <td>18.256599</td>\n",
       "      <td>12.612700</td>\n",
       "    </tr>\n",
       "    <tr>\n",
       "      <th>...</th>\n",
       "      <td>...</td>\n",
       "      <td>...</td>\n",
       "      <td>...</td>\n",
       "      <td>...</td>\n",
       "      <td>...</td>\n",
       "      <td>...</td>\n",
       "      <td>...</td>\n",
       "      <td>...</td>\n",
       "      <td>...</td>\n",
       "      <td>...</td>\n",
       "      <td>...</td>\n",
       "      <td>...</td>\n",
       "      <td>...</td>\n",
       "      <td>...</td>\n",
       "    </tr>\n",
       "    <tr>\n",
       "      <th>999994</th>\n",
       "      <td>-710.262024</td>\n",
       "      <td>-1026.920044</td>\n",
       "      <td>-1307.729980</td>\n",
       "      <td>796.106995</td>\n",
       "      <td>744.283020</td>\n",
       "      <td>368.661987</td>\n",
       "      <td>210.828003</td>\n",
       "      <td>692.814026</td>\n",
       "      <td>976.697998</td>\n",
       "      <td>-41.325802</td>\n",
       "      <td>32.149200</td>\n",
       "      <td>10.357700</td>\n",
       "      <td>7.979660</td>\n",
       "      <td>4.746760</td>\n",
       "    </tr>\n",
       "    <tr>\n",
       "      <th>999995</th>\n",
       "      <td>-268.907990</td>\n",
       "      <td>1307.540039</td>\n",
       "      <td>1420.180054</td>\n",
       "      <td>333.614014</td>\n",
       "      <td>240.792007</td>\n",
       "      <td>171.697006</td>\n",
       "      <td>130.660995</td>\n",
       "      <td>155.938995</td>\n",
       "      <td>-1274.060059</td>\n",
       "      <td>-1473.140015</td>\n",
       "      <td>124.994003</td>\n",
       "      <td>86.582901</td>\n",
       "      <td>25.811399</td>\n",
       "      <td>18.830799</td>\n",
       "    </tr>\n",
       "    <tr>\n",
       "      <th>999996</th>\n",
       "      <td>65.702904</td>\n",
       "      <td>-1444.400024</td>\n",
       "      <td>-1056.260010</td>\n",
       "      <td>77.524902</td>\n",
       "      <td>39.939301</td>\n",
       "      <td>23.995701</td>\n",
       "      <td>13.755400</td>\n",
       "      <td>314.462006</td>\n",
       "      <td>1388.619995</td>\n",
       "      <td>-158.914001</td>\n",
       "      <td>420.259003</td>\n",
       "      <td>295.635986</td>\n",
       "      <td>57.412300</td>\n",
       "      <td>44.277100</td>\n",
       "    </tr>\n",
       "    <tr>\n",
       "      <th>999997</th>\n",
       "      <td>-133.639999</td>\n",
       "      <td>1522.699951</td>\n",
       "      <td>-229.511993</td>\n",
       "      <td>632.781006</td>\n",
       "      <td>504.207001</td>\n",
       "      <td>105.698997</td>\n",
       "      <td>48.149700</td>\n",
       "      <td>29.203501</td>\n",
       "      <td>-1470.739990</td>\n",
       "      <td>-839.638977</td>\n",
       "      <td>189.417999</td>\n",
       "      <td>60.181000</td>\n",
       "      <td>42.477699</td>\n",
       "      <td>32.273899</td>\n",
       "    </tr>\n",
       "    <tr>\n",
       "      <th>999998</th>\n",
       "      <td>-1712.619995</td>\n",
       "      <td>658.551025</td>\n",
       "      <td>220.513000</td>\n",
       "      <td>100.477997</td>\n",
       "      <td>40.810501</td>\n",
       "      <td>11.292000</td>\n",
       "      <td>10.909400</td>\n",
       "      <td>1654.319946</td>\n",
       "      <td>-688.971008</td>\n",
       "      <td>353.144012</td>\n",
       "      <td>150.893997</td>\n",
       "      <td>76.824097</td>\n",
       "      <td>48.240898</td>\n",
       "      <td>26.232500</td>\n",
       "    </tr>\n",
       "  </tbody>\n",
       "</table>\n",
       "<p>999999 rows × 14 columns</p>\n",
       "</div>"
      ],
      "text/plain": [
       "               pxj1         pyj1         pzj1         mj1      tau1j1  \\\n",
       "0      -1062.890015  -628.263000     1.169330  223.070007  186.315994   \n",
       "1       -561.768005 -1116.109985  -865.270020  242.136002   88.407402   \n",
       "2      -1737.829956  -749.458008  -321.303009   95.748199   30.898800   \n",
       "3       -798.586975   918.947998  2056.659912  440.657013  238.959000   \n",
       "4        647.491028 -1165.069946   -59.776699   51.966702   24.274799   \n",
       "...             ...          ...          ...         ...         ...   \n",
       "999994  -710.262024 -1026.920044 -1307.729980  796.106995  744.283020   \n",
       "999995  -268.907990  1307.540039  1420.180054  333.614014  240.792007   \n",
       "999996    65.702904 -1444.400024 -1056.260010   77.524902   39.939301   \n",
       "999997  -133.639999  1522.699951  -229.511993  632.781006  504.207001   \n",
       "999998 -1712.619995   658.551025   220.513000  100.477997   40.810501   \n",
       "\n",
       "            tau2j1      tau3j1         pxj2         pyj2         pzj2  \\\n",
       "0       108.044998   68.937798   785.325012   370.963013  -111.802002   \n",
       "1        20.304501   12.437700   508.622009   966.379028  -325.015015   \n",
       "2        22.592400   16.777599   929.109009   955.013977  1421.810059   \n",
       "3       144.123993   71.498199   537.398987  -838.393005 -1693.349976   \n",
       "4         4.958610    2.036370  -794.692993  1014.479980 -1927.390015   \n",
       "...            ...         ...          ...          ...          ...   \n",
       "999994  368.661987  210.828003   692.814026   976.697998   -41.325802   \n",
       "999995  171.697006  130.660995   155.938995 -1274.060059 -1473.140015   \n",
       "999996   23.995701   13.755400   314.462006  1388.619995  -158.914001   \n",
       "999997  105.698997   48.149700    29.203501 -1470.739990  -839.638977   \n",
       "999998   11.292000   10.909400  1654.319946  -688.971008   353.144012   \n",
       "\n",
       "               mj2      tau1j2     tau2j2     tau3j2  \n",
       "0        67.170799   50.092701  28.765200  15.288100  \n",
       "1        77.530197   36.413601  31.230499  24.091101  \n",
       "2       583.320984  342.750000  61.851898  36.460602  \n",
       "3       144.897003   36.847801  28.074800  14.404400  \n",
       "4       116.587997   41.674801  18.256599  12.612700  \n",
       "...            ...         ...        ...        ...  \n",
       "999994   32.149200   10.357700   7.979660   4.746760  \n",
       "999995  124.994003   86.582901  25.811399  18.830799  \n",
       "999996  420.259003  295.635986  57.412300  44.277100  \n",
       "999997  189.417999   60.181000  42.477699  32.273899  \n",
       "999998  150.893997   76.824097  48.240898  26.232500  \n",
       "\n",
       "[999999 rows x 14 columns]"
      ]
     },
     "execution_count": 3,
     "metadata": {},
     "output_type": "execute_result"
    }
   ],
   "source": [
    "df"
   ]
  },
  {
   "cell_type": "code",
   "execution_count": 4,
   "metadata": {},
   "outputs": [],
   "source": [
    "def computemjj_np(event):\n",
    "    px1 = event[:,0]\n",
    "    py1 = event[:,1]\n",
    "    pz1 = event[:,2]\n",
    "    pE1 = np.sqrt(px1**2+py1**2+pz1**2+event[:,3]**2)\n",
    "    \n",
    "    px2 = event[:,7]\n",
    "    py2 = event[:,8]\n",
    "    pz2 = event[:,9]\n",
    "    pE2 = np.sqrt(px2**2+py2**2+pz2**2+event[:,10]**2)\n",
    "    \n",
    "    m2 = (pE1+pE2)**2-(px1+px2)**2-(py1+py2)**2-(pz1+pz2)**2\n",
    "    return np.sqrt(m2)"
   ]
  },
  {
   "cell_type": "code",
   "execution_count": 5,
   "metadata": {},
   "outputs": [
    {
     "data": {
      "text/plain": [
       "array([2096.18175627, 2397.09079043, 3707.09535248, ..., 3028.00084892,\n",
       "       3198.57333649, 3638.00693971])"
      ]
     },
     "execution_count": 5,
     "metadata": {},
     "output_type": "execute_result"
    }
   ],
   "source": [
    "herwig_np = df.to_numpy()\n",
    "mjj_herwig = computemjj_np(herwig_np)\n",
    "mjj_herwig"
   ]
  },
  {
   "cell_type": "code",
   "execution_count": 6,
   "metadata": {},
   "outputs": [],
   "source": [
    "minmass_herwig = np.array(df[['mj1','mj2']].min(axis=1))\n",
    "maxmass_herwig = np.array(df[['mj1','mj2']].max(axis=1))"
   ]
  },
  {
   "cell_type": "code",
   "execution_count": 7,
   "metadata": {},
   "outputs": [
    {
     "data": {
      "image/png": "[encoded data removed]",
      "text/plain": [
       "<Figure size 432x288 with 1 Axes>"
      ]
     },
     "metadata": {
      "needs_background": "light"
     },
     "output_type": "display_data"
    }
   ],
   "source": [
    "plt.yscale('log')\n",
    "plt.xlim(0,800)\n",
    "hist=plt.hist(minmass_herwig,bins=50)"
   ]
  },
  {
   "cell_type": "code",
   "execution_count": 8,
   "metadata": {},
   "outputs": [
    {
     "data": {
      "text/plain": [
       "(array([9.37600e+03, 6.55270e+04, 1.03325e+05, 1.13114e+05, 1.09579e+05,\n",
       "        9.97220e+04, 8.84960e+04, 7.67230e+04, 6.58990e+04, 5.53940e+04,\n",
       "        4.71080e+04, 3.83760e+04, 3.21630e+04, 2.53950e+04, 2.01810e+04,\n",
       "        1.54280e+04, 1.14860e+04, 7.91200e+03, 5.26100e+03, 3.33200e+03,\n",
       "        2.19600e+03, 1.35300e+03, 9.15000e+02, 5.60000e+02, 3.36000e+02,\n",
       "        2.57000e+02, 1.97000e+02, 1.30000e+02, 7.80000e+01, 6.50000e+01,\n",
       "        3.00000e+01, 2.20000e+01, 1.60000e+01, 1.80000e+01, 1.00000e+01,\n",
       "        9.00000e+00, 1.00000e+00, 1.00000e+00, 1.00000e+00, 2.00000e+00,\n",
       "        1.00000e+00, 1.00000e+00, 0.00000e+00, 2.00000e+00, 0.00000e+00,\n",
       "        0.00000e+00, 0.00000e+00, 0.00000e+00, 0.00000e+00, 1.00000e+00]),\n",
       " array([  13.25669956,   52.04596498,   90.83523041,  129.62449583,\n",
       "         168.41376125,  207.20302668,  245.9922921 ,  284.78155752,\n",
       "         323.57082294,  362.36008837,  401.14935379,  439.93861921,\n",
       "         478.72788464,  517.51715006,  556.30641548,  595.0956809 ,\n",
       "         633.88494633,  672.67421175,  711.46347717,  750.2527426 ,\n",
       "         789.04200802,  827.83127344,  866.62053886,  905.40980429,\n",
       "         944.19906971,  982.98833513, 1021.77760056, 1060.56686598,\n",
       "        1099.3561314 , 1138.14539682, 1176.93466225, 1215.72392767,\n",
       "        1254.51319309, 1293.30245852, 1332.09172394, 1370.88098936,\n",
       "        1409.67025478, 1448.45952021, 1487.24878563, 1526.03805105,\n",
       "        1564.82731647, 1603.6165819 , 1642.40584732, 1681.19511274,\n",
       "        1719.98437817, 1758.77364359, 1797.56290901, 1836.35217443,\n",
       "        1875.14143986, 1913.93070528, 1952.7199707 ]),\n",
       " <a list of 50 Patch objects>)"
      ]
     },
     "execution_count": 8,
     "metadata": {},
     "output_type": "execute_result"
    },
    {
     "data": {
      "image/png": "[encoded data removed]",
      "text/plain": [
       "<Figure size 432x288 with 1 Axes>"
      ]
     },
     "metadata": {
      "needs_background": "light"
     },
     "output_type": "display_data"
    }
   ],
   "source": [
    "plt.yscale('log')\n",
    "plt.xlim(0,1250)\n",
    "plt.hist(maxmass_herwig,bins=50)"
   ]
  },
  {
   "cell_type": "code",
   "execution_count": 9,
   "metadata": {},
   "outputs": [],
   "source": [
    "num=50"
   ]
  },
  {
   "cell_type": "code",
   "execution_count": 10,
   "metadata": {},
   "outputs": [
    {
     "data": {
      "image/png": "[encoded data removed]",
      "text/plain": [
       "<Figure size 432x288 with 1 Axes>"
      ]
     },
     "metadata": {
      "needs_background": "light"
     },
     "output_type": "display_data"
    }
   ],
   "source": [
    "hist=plt.hist(minmass_herwig[0:num],bins=50)"
   ]
  },
  {
   "cell_type": "code",
   "execution_count": 11,
   "metadata": {},
   "outputs": [],
   "source": [
    "B1=minmass_herwig[0:num].reshape(-1, 1)"
   ]
  },
  {
   "cell_type": "code",
   "execution_count": 12,
   "metadata": {},
   "outputs": [],
   "source": [
    "B2=maxmass_herwig[0:num].reshape(-1, 1)"
   ]
  },
  {
   "cell_type": "code",
   "execution_count": 13,
   "metadata": {},
   "outputs": [
    {
     "data": {
      "text/plain": [
       "array([[223.07000732],\n",
       "       [242.13600159],\n",
       "       [583.32098389],\n",
       "       [440.65701294],\n",
       "       [116.58799744],\n",
       "       [168.36399841],\n",
       "       [ 57.32740021],\n",
       "       [ 76.89109802],\n",
       "       [170.48699951],\n",
       "       [303.00201416],\n",
       "       [190.36399841],\n",
       "       [220.47099304],\n",
       "       [488.59500122],\n",
       "       [649.33898926],\n",
       "       [189.02099609],\n",
       "       [625.72497559],\n",
       "       [390.26400757],\n",
       "       [138.62199402],\n",
       "       [145.85800171],\n",
       "       [496.81500244],\n",
       "       [284.76599121],\n",
       "       [ 45.00569916],\n",
       "       [117.67299652],\n",
       "       [312.10400391],\n",
       "       [670.67297363],\n",
       "       [269.75601196],\n",
       "       [126.01100159],\n",
       "       [325.50601196],\n",
       "       [371.38198853],\n",
       "       [313.70700073],\n",
       "       [ 60.71829987],\n",
       "       [115.88400269],\n",
       "       [432.63198853],\n",
       "       [116.34799957],\n",
       "       [286.64801025],\n",
       "       [577.81402588],\n",
       "       [169.99899292],\n",
       "       [104.21399689],\n",
       "       [129.60899353],\n",
       "       [465.20098877],\n",
       "       [ 84.27220154],\n",
       "       [278.63198853],\n",
       "       [ 95.02909851],\n",
       "       [196.71600342],\n",
       "       [259.83898926],\n",
       "       [338.26300049],\n",
       "       [ 77.92680359],\n",
       "       [224.28599548],\n",
       "       [106.90100098],\n",
       "       [279.24700928]])"
      ]
     },
     "execution_count": 13,
     "metadata": {},
     "output_type": "execute_result"
    }
   ],
   "source": [
    "B2"
   ]
  },
  {
   "cell_type": "code",
   "execution_count": 14,
   "metadata": {},
   "outputs": [],
   "source": [
    "combined = np.column_stack((B1, B2))"
   ]
  },
  {
   "cell_type": "code",
   "execution_count": 15,
   "metadata": {},
   "outputs": [
    {
     "data": {
      "text/plain": [
       "array([[ 67.17079926, 223.07000732],\n",
       "       [ 77.53019714, 242.13600159],\n",
       "       [ 95.74819946, 583.32098389],\n",
       "       [144.89700317, 440.65701294],\n",
       "       [ 51.96670151, 116.58799744],\n",
       "       [104.55899811, 168.36399841],\n",
       "       [ 25.49370003,  57.32740021],\n",
       "       [ 50.5923996 ,  76.89109802],\n",
       "       [ 59.12400055, 170.48699951],\n",
       "       [128.61099243, 303.00201416],\n",
       "       [169.1190033 , 190.36399841],\n",
       "       [210.03799438, 220.47099304],\n",
       "       [177.01699829, 488.59500122],\n",
       "       [139.63400269, 649.33898926],\n",
       "       [ 56.75559998, 189.02099609],\n",
       "       [165.17100525, 625.72497559],\n",
       "       [306.68798828, 390.26400757],\n",
       "       [ 94.87599945, 138.62199402],\n",
       "       [ 79.92849731, 145.85800171],\n",
       "       [422.18499756, 496.81500244],\n",
       "       [ 31.59880066, 284.76599121],\n",
       "       [ 32.7256012 ,  45.00569916],\n",
       "       [112.22899628, 117.67299652],\n",
       "       [ 92.21099854, 312.10400391],\n",
       "       [145.71200562, 670.67297363],\n",
       "       [129.54600525, 269.75601196],\n",
       "       [106.36699677, 126.01100159],\n",
       "       [186.55999756, 325.50601196],\n",
       "       [202.88400269, 371.38198853],\n",
       "       [186.44400024, 313.70700073],\n",
       "       [ 59.25120163,  60.71829987],\n",
       "       [101.44400024, 115.88400269],\n",
       "       [233.39900208, 432.63198853],\n",
       "       [ 70.35269928, 116.34799957],\n",
       "       [ 93.85549927, 286.64801025],\n",
       "       [151.75700378, 577.81402588],\n",
       "       [127.31800079, 169.99899292],\n",
       "       [ 67.71920013, 104.21399689],\n",
       "       [ 59.66730118, 129.60899353],\n",
       "       [390.62600708, 465.20098877],\n",
       "       [ 21.36319923,  84.27220154],\n",
       "       [147.61099243, 278.63198853],\n",
       "       [ 72.53369904,  95.02909851],\n",
       "       [187.74299622, 196.71600342],\n",
       "       [ 66.96710205, 259.83898926],\n",
       "       [179.72799683, 338.26300049],\n",
       "       [ 54.90060043,  77.92680359],\n",
       "       [166.4940033 , 224.28599548],\n",
       "       [ 94.3022995 , 106.90100098],\n",
       "       [106.21600342, 279.24700928]])"
      ]
     },
     "execution_count": 15,
     "metadata": {},
     "output_type": "execute_result"
    }
   ],
   "source": [
    "combined"
   ]
  },
  {
   "cell_type": "code",
   "execution_count": null,
   "metadata": {},
   "outputs": [
    {
     "name": "stdout",
     "output_type": "stream",
     "text": [
      "Iterations: 0\t Discriminator loss: 10.3968\t Generator loss: 8.9097\n"
     ]
    },
    {
     "data": {
      "image/png": "[encoded data removed]",
      "text/plain": [
       "<Figure size 432x288 with 1 Axes>"
      ]
     },
     "metadata": {
      "needs_background": "light"
     },
     "output_type": "display_data"
    },
    {
     "name": "stdout",
     "output_type": "stream",
     "text": [
      "Iterations: 1\t Discriminator loss: 1.1333\t Generator loss: 3.7163\n",
      "Iterations: 2\t Discriminator loss: 0.6884\t Generator loss: 1.8525\n",
      "Iterations: 3\t Discriminator loss: 0.7663\t Generator loss: 0.9007\n",
      "Iterations: 4\t Discriminator loss: 0.7856\t Generator loss: 0.8353\n",
      "Iterations: 5\t Discriminator loss: 1.1574\t Generator loss: 0.6610\n",
      "Iterations: 6\t Discriminator loss: 0.9304\t Generator loss: 0.6507\n",
      "Iterations: 7\t Discriminator loss: 1.1015\t Generator loss: 0.7945\n",
      "Iterations: 8\t Discriminator loss: 0.9238\t Generator loss: 0.7570\n",
      "Iterations: 9\t Discriminator loss: 0.9947\t Generator loss: 0.8086\n",
      "Iterations: 10\t Discriminator loss: 1.0467\t Generator loss: 0.2640\n"
     ]
    },
    {
     "data": {
      "image/png": "[encoded data removed]",
      "text/plain": [
       "<Figure size 432x288 with 1 Axes>"
      ]
     },
     "metadata": {
      "needs_background": "light"
     },
     "output_type": "display_data"
    },
    {
     "name": "stdout",
     "output_type": "stream",
     "text": [
      "Iterations: 11\t Discriminator loss: 1.2129\t Generator loss: 0.9991\n",
      "Iterations: 12\t Discriminator loss: 1.0864\t Generator loss: 0.3093"
     ]
    }
   ],
   "source": [
    "import numpy as np\n",
    "import tensorflow.compat.v1 as tf\n",
    "tf.disable_v2_behavior() \n",
    "tf.reset_default_graph()\n",
    "\n",
    "import matplotlib.pyplot as plt\n",
    "\n",
    "\n",
    "def get_y(x):\n",
    "    return 10 + x*x\n",
    "\n",
    "\n",
    "\n",
    "def sample_Z(m, n):\n",
    "    return np.random.uniform(0., 300., size=[m, n])\n",
    "\n",
    "def generator(Z,hsize=[16, 16],reuse=False):\n",
    "    with tf.variable_scope(\"GAN/Generator\",reuse=reuse):\n",
    "        h1 = tf.layers.dense(Z,hsize[0],activation=tf.nn.leaky_relu)\n",
    "        h2 = tf.layers.dense(h1,hsize[1],activation=tf.nn.leaky_relu)\n",
    "        out = tf.layers.dense(h2,2)\n",
    "\n",
    "    return out\n",
    "\n",
    "def discriminator(X,hsize=[16, 16],reuse=False):\n",
    "    with tf.variable_scope(\"GAN/Discriminator\",reuse=reuse):\n",
    "        h1 = tf.layers.dense(X,hsize[0],activation=tf.nn.leaky_relu)\n",
    "        h2 = tf.layers.dense(h1,hsize[1],activation=tf.nn.leaky_relu)\n",
    "        h3 = tf.layers.dense(h2,2)\n",
    "        out = tf.layers.dense(h3,1)\n",
    "\n",
    "    return out, h3\n",
    "\n",
    "\n",
    "X = tf.placeholder(tf.float32,[None,2])\n",
    "Z = tf.placeholder(tf.float32,[None,2])\n",
    "\n",
    "G_sample = generator(Z)\n",
    "r_logits, r_rep = discriminator(X)\n",
    "f_logits, g_rep = discriminator(G_sample,reuse=True)\n",
    "\n",
    "disc_loss = tf.reduce_mean(tf.nn.sigmoid_cross_entropy_with_logits(logits=r_logits,labels=tf.ones_like(r_logits)) + tf.nn.sigmoid_cross_entropy_with_logits(logits=f_logits,labels=tf.zeros_like(f_logits)))\n",
    "gen_loss = tf.reduce_mean(tf.nn.sigmoid_cross_entropy_with_logits(logits=f_logits,labels=tf.ones_like(f_logits)))\n",
    "\n",
    "gen_vars = tf.get_collection(tf.GraphKeys.GLOBAL_VARIABLES,scope=\"GAN/Generator\")\n",
    "disc_vars = tf.get_collection(tf.GraphKeys.GLOBAL_VARIABLES,scope=\"GAN/Discriminator\")\n",
    "\n",
    "gen_step = tf.train.RMSPropOptimizer(learning_rate=0.001).minimize(gen_loss,var_list = gen_vars) # G Train step\n",
    "disc_step = tf.train.RMSPropOptimizer(learning_rate=0.001).minimize(disc_loss,var_list = disc_vars) # D Train step\n",
    "\n",
    "\n",
    "\n",
    "# sess = tf.Session(config=config)\n",
    "sess = tf.Session()\n",
    "tf.global_variables_initializer().run(session=sess)\n",
    "\n",
    "batch_size = num\n",
    "nd_steps = 10\n",
    "ng_steps = 10\n",
    "\n",
    "x_plot = combined\n",
    "\n",
    "f = open('loss_logs.csv','w')\n",
    "f.write('Iteration,Discriminator Loss,Generator Loss\\n')\n",
    "\n",
    "for i in range(10001):\n",
    "    X_batch = combined\n",
    "    Z_batch = sample_Z(batch_size, 2)\n",
    "\n",
    "    for _ in range(nd_steps):\n",
    "        _, dloss = sess.run([disc_step, disc_loss], feed_dict={X: X_batch, Z: Z_batch})\n",
    "    rrep_dstep, grep_dstep = sess.run([r_rep, g_rep], feed_dict={X: X_batch, Z: Z_batch})\n",
    "\n",
    "    for _ in range(ng_steps):\n",
    "        _, gloss = sess.run([gen_step, gen_loss], feed_dict={Z: Z_batch})\n",
    "\n",
    "    rrep_gstep, grep_gstep = sess.run([r_rep, g_rep], feed_dict={X: X_batch, Z: Z_batch})\n",
    "\n",
    "    print (\"Iterations: %d\\t Discriminator loss: %.4f\\t Generator loss: %.4f\"%(i,dloss,gloss))\n",
    "    if i%10 == 0:\n",
    "        f.write(\"%d,%f,%f\\n\"%(i,dloss,gloss))\n",
    "    if i%10 == 0:\n",
    "        plt.figure()\n",
    "        g_plot = sess.run(G_sample, feed_dict={Z: Z_batch})\n",
    "        xax = plt.scatter(x_plot[:,0], x_plot[:,1])\n",
    "        gax = plt.scatter(g_plot[:,0],g_plot[:,1])\n",
    "\n",
    "        plt.legend((xax,gax), (\"Real Data\",\"Generated Data\"))\n",
    "        plt.title('Samples at Iteration %d'%i)\n",
    "        plt.tight_layout()\n",
    "        plt.show()\n",
    "\n",
    "f.close()"
   ]
  },
  {
   "cell_type": "code",
   "execution_count": null,
   "metadata": {},
   "outputs": [],
   "source": [
    "        X_batch = combined\n",
    "        Z_batch = sample_Z(1000000, 2)\n",
    "        plt.figure()\n",
    "        g_plot = sess.run(G_sample, feed_dict={Z: Z_batch})\n",
    "        xax = plt.scatter(x_plot[:,0], x_plot[:,1])"
   ]
  },
  {
   "cell_type": "code",
   "execution_count": null,
   "metadata": {},
   "outputs": [],
   "source": [
    "r_rep.summary()"
   ]
  },
  {
   "cell_type": "code",
   "execution_count": null,
   "metadata": {},
   "outputs": [],
   "source": [
    "Z_batch"
   ]
  },
  {
   "cell_type": "code",
   "execution_count": null,
   "metadata": {},
   "outputs": [],
   "source": [
    "gen=Z_batch.flatten()"
   ]
  },
  {
   "cell_type": "code",
   "execution_count": null,
   "metadata": {},
   "outputs": [],
   "source": [
    "hist=plt.hist(gen,bins=50)"
   ]
  }
 ],
 "metadata": {
  "kernelspec": {
   "display_name": "Python 3.7 (tensorflow)",
   "language": "python",
   "name": "tensorflow"
  },
  "language_info": {
   "codemirror_mode": {
    "name": "ipython",
    "version": 3
   },
   "file_extension": ".py",
   "mimetype": "text/x-python",
   "name": "python",
   "nbconvert_exporter": "python",
   "pygments_lexer": "ipython3",
   "version": "3.7.7"
  }
 },
 "nbformat": 4,
 "nbformat_minor": 4
}
