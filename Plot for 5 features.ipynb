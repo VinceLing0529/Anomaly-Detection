{
 "cells": [
  {
   "cell_type": "code",
   "execution_count": 1,
   "metadata": {},
   "outputs": [
    {
     "name": "stdout",
     "output_type": "stream",
     "text": [
      "2.1.0\n",
      "PhysicalDevice(name='/physical_device:GPU:0', device_type='GPU')\n"
     ]
    },
    {
     "name": "stderr",
     "output_type": "stream",
     "text": [
      "Using TensorFlow backend.\n"
     ]
    }
   ],
   "source": [
    "import h5py as h5\n",
    "import numpy as np\n",
    "from math import ceil, floor\n",
    "from tqdm import tqdm\n",
    "import pandas as pd\n",
    "import matplotlib.pyplot as plt\n",
    "from sklearn.model_selection import train_test_split\n",
    "from sklearn.preprocessing import MinMaxScaler\n",
    "import tensorflow as tf\n",
    "from tensorflow.keras import layers\n",
    "import keras.backend as K\n",
    "import gc\n",
    "print(tf.__version__)\n",
    "physical_devices = tf.config.experimental.list_physical_devices('GPU')\n",
    "tf.config.experimental.set_memory_growth(physical_devices[0], True)\n",
    "print(physical_devices[0])"
   ]
  },
  {
   "cell_type": "code",
   "execution_count": 3,
   "metadata": {},
   "outputs": [],
   "source": [
    "df= pd.read_hdf(\"pythiabk_5features.h5\")"
   ]
  },
  {
   "cell_type": "code",
   "execution_count": 4,
   "metadata": {},
   "outputs": [
    {
     "data": {
      "text/html": [
       "<div>\n",
       "<style scoped>\n",
       "    .dataframe tbody tr th:only-of-type {\n",
       "        vertical-align: middle;\n",
       "    }\n",
       "\n",
       "    .dataframe tbody tr th {\n",
       "        vertical-align: top;\n",
       "    }\n",
       "\n",
       "    .dataframe thead th {\n",
       "        text-align: right;\n",
       "    }\n",
       "</style>\n",
       "<table border=\"1\" class=\"dataframe\">\n",
       "  <thead>\n",
       "    <tr style=\"text-align: right;\">\n",
       "      <th></th>\n",
       "      <th>mj2</th>\n",
       "      <th>mjj</th>\n",
       "      <th>tau21j1</th>\n",
       "      <th>tau21j2</th>\n",
       "      <th>mj1-mj2</th>\n",
       "    </tr>\n",
       "  </thead>\n",
       "  <tbody>\n",
       "    <tr>\n",
       "      <th>0</th>\n",
       "      <td>38.896000</td>\n",
       "      <td>3307.152392</td>\n",
       "      <td>0.263237</td>\n",
       "      <td>0.583317</td>\n",
       "      <td>198.997997</td>\n",
       "    </tr>\n",
       "    <tr>\n",
       "      <th>1</th>\n",
       "      <td>22.999201</td>\n",
       "      <td>3394.853954</td>\n",
       "      <td>0.519086</td>\n",
       "      <td>0.787733</td>\n",
       "      <td>366.532812</td>\n",
       "    </tr>\n",
       "    <tr>\n",
       "      <th>2</th>\n",
       "      <td>72.155502</td>\n",
       "      <td>3264.210445</td>\n",
       "      <td>0.911809</td>\n",
       "      <td>0.789584</td>\n",
       "      <td>6.075195</td>\n",
       "    </tr>\n",
       "    <tr>\n",
       "      <th>3</th>\n",
       "      <td>55.797798</td>\n",
       "      <td>3485.726685</td>\n",
       "      <td>0.590729</td>\n",
       "      <td>0.277957</td>\n",
       "      <td>303.315208</td>\n",
       "    </tr>\n",
       "    <tr>\n",
       "      <th>4</th>\n",
       "      <td>77.506500</td>\n",
       "      <td>2925.692015</td>\n",
       "      <td>0.577303</td>\n",
       "      <td>0.588890</td>\n",
       "      <td>7.385002</td>\n",
       "    </tr>\n",
       "    <tr>\n",
       "      <th>...</th>\n",
       "      <td>...</td>\n",
       "      <td>...</td>\n",
       "      <td>...</td>\n",
       "      <td>...</td>\n",
       "      <td>...</td>\n",
       "    </tr>\n",
       "    <tr>\n",
       "      <th>999994</th>\n",
       "      <td>37.011299</td>\n",
       "      <td>3094.216316</td>\n",
       "      <td>0.335101</td>\n",
       "      <td>0.612835</td>\n",
       "      <td>53.363701</td>\n",
       "    </tr>\n",
       "    <tr>\n",
       "      <th>999995</th>\n",
       "      <td>58.769901</td>\n",
       "      <td>3360.677894</td>\n",
       "      <td>0.677995</td>\n",
       "      <td>0.204301</td>\n",
       "      <td>88.747097</td>\n",
       "    </tr>\n",
       "    <tr>\n",
       "      <th>999996</th>\n",
       "      <td>32.242199</td>\n",
       "      <td>3329.060612</td>\n",
       "      <td>0.701016</td>\n",
       "      <td>0.849000</td>\n",
       "      <td>104.146809</td>\n",
       "    </tr>\n",
       "    <tr>\n",
       "      <th>999997</th>\n",
       "      <td>56.471600</td>\n",
       "      <td>4703.062204</td>\n",
       "      <td>0.839041</td>\n",
       "      <td>0.710135</td>\n",
       "      <td>339.640400</td>\n",
       "    </tr>\n",
       "    <tr>\n",
       "      <th>999998</th>\n",
       "      <td>105.186996</td>\n",
       "      <td>3014.520999</td>\n",
       "      <td>0.227966</td>\n",
       "      <td>0.644702</td>\n",
       "      <td>258.603989</td>\n",
       "    </tr>\n",
       "  </tbody>\n",
       "</table>\n",
       "<p>999999 rows × 5 columns</p>\n",
       "</div>"
      ],
      "text/plain": [
       "               mj2          mjj   tau21j1   tau21j2     mj1-mj2\n",
       "0        38.896000  3307.152392  0.263237  0.583317  198.997997\n",
       "1        22.999201  3394.853954  0.519086  0.787733  366.532812\n",
       "2        72.155502  3264.210445  0.911809  0.789584    6.075195\n",
       "3        55.797798  3485.726685  0.590729  0.277957  303.315208\n",
       "4        77.506500  2925.692015  0.577303  0.588890    7.385002\n",
       "...            ...          ...       ...       ...         ...\n",
       "999994   37.011299  3094.216316  0.335101  0.612835   53.363701\n",
       "999995   58.769901  3360.677894  0.677995  0.204301   88.747097\n",
       "999996   32.242199  3329.060612  0.701016  0.849000  104.146809\n",
       "999997   56.471600  4703.062204  0.839041  0.710135  339.640400\n",
       "999998  105.186996  3014.520999  0.227966  0.644702  258.603989\n",
       "\n",
       "[999999 rows x 5 columns]"
      ]
     },
     "execution_count": 4,
     "metadata": {},
     "output_type": "execute_result"
    }
   ],
   "source": [
    "df"
   ]
  },
  {
   "cell_type": "code",
   "execution_count": 14,
   "metadata": {},
   "outputs": [
    {
     "data": {
      "text/plain": [
       "Text(0.5, 0, 'mj1_mj2')"
      ]
     },
     "execution_count": 14,
     "metadata": {},
     "output_type": "execute_result"
    },
    {
     "data": {
      "image/png": "[encoded data removed]",
      "text/plain": [
       "<Figure size 432x288 with 1 Axes>"
      ]
     },
     "metadata": {
      "needs_background": "light"
     },
     "output_type": "display_data"
    }
   ],
   "source": [
    "mj1_mj2=plt.hist(df['mj1-mj2'], bins = 1000, range = (0, 800), alpha = 0.5, density = True)\n",
    "plt.xlabel(\"mj1_mj2\")"
   ]
  },
  {
   "cell_type": "code",
   "execution_count": 13,
   "metadata": {},
   "outputs": [
    {
     "data": {
      "text/plain": [
       "Text(0.5, 0, 'mj2')"
      ]
     },
     "execution_count": 13,
     "metadata": {},
     "output_type": "execute_result"
    },
    {
     "data": {
      "image/png": "[encoded data removed]",
      "text/plain": [
       "<Figure size 432x288 with 1 Axes>"
      ]
     },
     "metadata": {
      "needs_background": "light"
     },
     "output_type": "display_data"
    }
   ],
   "source": [
    "mj2=plt.hist(df['mj2'], bins = 1000, range = (0, 500), alpha = 0.5, density = True)\n",
    "plt.xlabel(\"mj2\")"
   ]
  },
  {
   "cell_type": "code",
   "execution_count": 17,
   "metadata": {},
   "outputs": [
    {
     "data": {
      "text/plain": [
       "Text(0.5, 0, 'mjj')"
      ]
     },
     "execution_count": 17,
     "metadata": {},
     "output_type": "execute_result"
    },
    {
     "data": {
      "image/png": "[encoded data removed]",
      "text/plain": [
       "<Figure size 432x288 with 1 Axes>"
      ]
     },
     "metadata": {
      "needs_background": "light"
     },
     "output_type": "display_data"
    }
   ],
   "source": [
    "mj2=plt.hist(df['mjj'], bins = 1000, range = (0, 10000), alpha = 0.5, density = True)\n",
    "plt.xlabel(\"mjj\")"
   ]
  },
  {
   "cell_type": "code",
   "execution_count": 20,
   "metadata": {},
   "outputs": [
    {
     "data": {
      "text/plain": [
       "Text(0.5, 0, 'tau21j1')"
      ]
     },
     "execution_count": 20,
     "metadata": {},
     "output_type": "execute_result"
    },
    {
     "data": {
      "image/png": "[encoded data removed]",
      "text/plain": [
       "<Figure size 432x288 with 1 Axes>"
      ]
     },
     "metadata": {
      "needs_background": "light"
     },
     "output_type": "display_data"
    }
   ],
   "source": [
    "tau21j1=plt.hist(df['tau21j1'], bins = 1000, range = (0, 1), alpha = 0.5, density = True)\n",
    "plt.xlabel(\"tau21j1\")"
   ]
  },
  {
   "cell_type": "code",
   "execution_count": 21,
   "metadata": {},
   "outputs": [
    {
     "data": {
      "text/plain": [
       "Text(0.5, 0, 'tau21j2')"
      ]
     },
     "execution_count": 21,
     "metadata": {},
     "output_type": "execute_result"
    },
    {
     "data": {
      "image/png": "[encoded data removed]",
      "text/plain": [
       "<Figure size 432x288 with 1 Axes>"
      ]
     },
     "metadata": {
      "needs_background": "light"
     },
     "output_type": "display_data"
    }
   ],
   "source": [
    "tau21j2=plt.hist(df['tau21j2'], bins = 1000, range = (0, 1), alpha = 0.5, density = True)\n",
    "plt.xlabel(\"tau21j2\")"
   ]
  },
  {
   "cell_type": "code",
   "execution_count": null,
   "metadata": {},
   "outputs": [],
   "source": []
  }
 ],
 "metadata": {
  "kernelspec": {
   "display_name": "Python 3",
   "language": "python",
   "name": "python3"
  },
  "language_info": {
   "codemirror_mode": {
    "name": "ipython",
    "version": 3
   },
   "file_extension": ".py",
   "mimetype": "text/x-python",
   "name": "python",
   "nbconvert_exporter": "python",
   "pygments_lexer": "ipython3",
   "version": "3.7.7"
  }
 },
 "nbformat": 4,
 "nbformat_minor": 4
}
