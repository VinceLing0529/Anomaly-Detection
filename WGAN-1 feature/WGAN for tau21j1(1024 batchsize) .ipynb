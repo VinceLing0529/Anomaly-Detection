{
 "cells": [
  {
   "cell_type": "markdown",
   "metadata": {},
   "source": [
    "# Wasserstein GAN with Gradient Penalty\n",
    "## For generation of features based on LHCO2020 datasets"
   ]
  },
  {
   "cell_type": "code",
   "execution_count": 1,
   "metadata": {},
   "outputs": [
    {
     "name": "stdout",
     "output_type": "stream",
     "text": [
      "2.1.0\n",
      "PhysicalDevice(name='/physical_device:GPU:0', device_type='GPU')\n"
     ]
    },
    {
     "name": "stderr",
     "output_type": "stream",
     "text": [
      "Using TensorFlow backend.\n"
     ]
    }
   ],
   "source": [
    "import h5py as h5\n",
    "import numpy as np\n",
    "from math import ceil, floor\n",
    "from tqdm import tqdm\n",
    "import pandas as pd\n",
    "import matplotlib.pyplot as plt\n",
    "from sklearn.model_selection import train_test_split\n",
    "from sklearn.preprocessing import MinMaxScaler\n",
    "import tensorflow as tf\n",
    "from tensorflow.keras import layers\n",
    "import keras.backend as K\n",
    "import gc\n",
    "print(tf.__version__)\n",
    "physical_devices = tf.config.experimental.list_physical_devices('GPU')\n",
    "tf.config.experimental.set_memory_growth(physical_devices[0], True)\n",
    "print(physical_devices[0])"
   ]
  },
  {
   "cell_type": "code",
   "execution_count": 2,
   "metadata": {},
   "outputs": [],
   "source": [
    "filenames = {\n",
    "    \"herwig\": \"Herwig_qcd_features.h5\",\n",
    "    \"pythiabg\": \"GAN-data\\events_anomalydetection_DelphesPythia8_v2_qcd_features.h5\",\n",
    "    \"pythiasig\": \"GAN-data\\events_anomalydetection_DelphesPythia8_v2_Wprime_features.h5\"\n",
    "}\n",
    "\n",
    "datatypes = [\"herwig\", \"pythiabg\", \"pythiasig\"]\n",
    "features = [\"px\", \"py\", \"pz\", \"m\", \"tau1\", \"tau2\", \"tau3\"]\n",
    " # Can be flexibly changed to suit GAN needs"
   ]
  },
  {
   "cell_type": "code",
   "execution_count": 3,
   "metadata": {},
   "outputs": [],
   "source": [
    "def load_data(datatype, stop = None):\n",
    "    input_frame = pd.read_hdf(filenames[datatype], stop = stop)\n",
    "    output_frame = input_frame.copy()\n",
    "    for feature in features:\n",
    "        output_frame[feature + \"j1\"] = (input_frame[\"mj1\"] >= input_frame[\"mj2\"])*input_frame[feature + \"j1\"] + (input_frame[\"mj1\"] < input_frame[\"mj2\"])*input_frame[feature + \"j2\"]\n",
    "        output_frame[feature + \"j2\"] = (input_frame[\"mj1\"] >= input_frame[\"mj2\"])*input_frame[feature + \"j2\"] + (input_frame[\"mj1\"] < input_frame[\"mj2\"])*input_frame[feature + \"j1\"]\n",
    "    del input_frame\n",
    "    gc.collect()\n",
    "    output_frame[\"ej1\"] = np.sqrt(output_frame[\"mj1\"]**2 + output_frame[\"pxj1\"]**2 + output_frame[\"pyj1\"]**2 + output_frame[\"pzj1\"]**2)\n",
    "    output_frame[\"ej2\"] = np.sqrt(output_frame[\"mj2\"]**2 + output_frame[\"pxj2\"]**2 + output_frame[\"pyj2\"]**2 + output_frame[\"pzj2\"]**2)\n",
    "    output_frame[\"ejj\"] = output_frame[\"ej1\"] + output_frame[\"ej2\"]\n",
    "    output_frame[\"pjj\"] = np.sqrt((output_frame[\"pxj1\"] + output_frame[\"pxj2\"])**2 + (output_frame[\"pyj1\"] + output_frame[\"pyj2\"])**2 + (output_frame[\"pyj1\"] + output_frame[\"pyj2\"])**2)\n",
    "    output_frame[\"mjj\"] = np.sqrt(output_frame[\"ejj\"]**2 - output_frame[\"pjj\"]**2)\n",
    "    output_frame[\"tau21j1\"] = output_frame[\"tau2j1\"] / output_frame[\"tau1j1\"]\n",
    "    output_frame[\"tau32j1\"] = output_frame[\"tau3j1\"] / output_frame[\"tau2j1\"]\n",
    "    output_frame[\"tau21j2\"] = output_frame[\"tau2j2\"] / output_frame[\"tau1j2\"]\n",
    "    output_frame[\"tau32j2\"] = output_frame[\"tau3j2\"] / output_frame[\"tau2j2\"]\n",
    "    output_frame[\"mj1-mj2\"] = output_frame[\"mj1\"] -output_frame[\"mj2\"]\n",
    "\n",
    "    return output_frame"
   ]
  },
  {
   "cell_type": "code",
   "execution_count": 4,
   "metadata": {},
   "outputs": [],
   "source": [
    "# Network hyperparameters\n",
    "\n",
    "BATCH_SIZE =1024# Uses about 3 GB of VRAM for batch size of 512\n",
    "EPOCHS = 1000\n",
    "LEARNING_RATE = 0.00001\n",
    "N_CRITIC = 5\n",
    "C_LAMBDA = 0.5"
   ]
  },
  {
   "cell_type": "code",
   "execution_count": 5,
   "metadata": {},
   "outputs": [
    {
     "name": "stderr",
     "output_type": "stream",
     "text": [
      "D:\\Users\\Azure\\anaconda3\\envs\\GPU\\lib\\site-packages\\pandas\\core\\series.py:679: RuntimeWarning: invalid value encountered in sqrt\n",
      "  result = getattr(ufunc, method)(*inputs, **kwargs)\n"
     ]
    },
    {
     "data": {
      "text/plain": [
       "1e-06"
      ]
     },
     "execution_count": 5,
     "metadata": {},
     "output_type": "execute_result"
    }
   ],
   "source": [
    "df = load_data(\"herwig\")\n",
    "df[\"tau2j2\"]=np.where(df[\"tau2j2\"]==0, 0.000001, df[\"tau2j2\"]) \n",
    "min(df[\"tau2j2\"])"
   ]
  },
  {
   "cell_type": "code",
   "execution_count": 6,
   "metadata": {},
   "outputs": [],
   "source": [
    "df = load_data(\"herwig\")\n",
    "df.dropna(inplace = True)\n",
    "#df[\"tau2j2\"]=np.where(df[\"tau2j2\"]==0, 0.000001, df[\"tau2j2\"]) \n",
    "# Ensures all batches have same size\n",
    "\n",
    "df.drop([i for i in range(df.shape[0] % (BATCH_SIZE * 4))], inplace = True)\n",
    "\n",
    "df.reset_index(drop = True, inplace = True)\n",
    "df = df.astype('float32')"
   ]
  },
  {
   "cell_type": "code",
   "execution_count": 7,
   "metadata": {},
   "outputs": [
    {
     "data": {
      "text/html": [
       "<div>\n",
       "<style scoped>\n",
       "    .dataframe tbody tr th:only-of-type {\n",
       "        vertical-align: middle;\n",
       "    }\n",
       "\n",
       "    .dataframe tbody tr th {\n",
       "        vertical-align: top;\n",
       "    }\n",
       "\n",
       "    .dataframe thead th {\n",
       "        text-align: right;\n",
       "    }\n",
       "</style>\n",
       "<table border=\"1\" class=\"dataframe\">\n",
       "  <thead>\n",
       "    <tr style=\"text-align: right;\">\n",
       "      <th></th>\n",
       "      <th>pxj1</th>\n",
       "      <th>pyj1</th>\n",
       "      <th>pzj1</th>\n",
       "      <th>mj1</th>\n",
       "      <th>tau1j1</th>\n",
       "      <th>tau2j1</th>\n",
       "      <th>tau3j1</th>\n",
       "      <th>pxj2</th>\n",
       "      <th>pyj2</th>\n",
       "      <th>pzj2</th>\n",
       "      <th>...</th>\n",
       "      <th>ej1</th>\n",
       "      <th>ej2</th>\n",
       "      <th>ejj</th>\n",
       "      <th>pjj</th>\n",
       "      <th>mjj</th>\n",
       "      <th>tau21j1</th>\n",
       "      <th>tau32j1</th>\n",
       "      <th>tau21j2</th>\n",
       "      <th>tau32j2</th>\n",
       "      <th>mj1-mj2</th>\n",
       "    </tr>\n",
       "  </thead>\n",
       "  <tbody>\n",
       "    <tr>\n",
       "      <th>0</th>\n",
       "      <td>-606.640015</td>\n",
       "      <td>136.223999</td>\n",
       "      <td>-2463.290039</td>\n",
       "      <td>115.829002</td>\n",
       "      <td>41.708900</td>\n",
       "      <td>19.615000</td>\n",
       "      <td>16.282600</td>\n",
       "      <td>1410.239990</td>\n",
       "      <td>-311.454010</td>\n",
       "      <td>516.468018</td>\n",
       "      <td>...</td>\n",
       "      <td>2543.183594</td>\n",
       "      <td>1537.945679</td>\n",
       "      <td>4081.129395</td>\n",
       "      <td>840.942322</td>\n",
       "      <td>3993.548828</td>\n",
       "      <td>0.470283</td>\n",
       "      <td>0.830110</td>\n",
       "      <td>0.614313</td>\n",
       "      <td>0.647716</td>\n",
       "      <td>2.881004</td>\n",
       "    </tr>\n",
       "    <tr>\n",
       "      <th>1</th>\n",
       "      <td>1075.790039</td>\n",
       "      <td>560.247986</td>\n",
       "      <td>-473.667999</td>\n",
       "      <td>253.820999</td>\n",
       "      <td>98.636002</td>\n",
       "      <td>46.423801</td>\n",
       "      <td>37.188900</td>\n",
       "      <td>-785.905029</td>\n",
       "      <td>-476.933990</td>\n",
       "      <td>-1670.449951</td>\n",
       "      <td>...</td>\n",
       "      <td>1326.645630</td>\n",
       "      <td>1906.993530</td>\n",
       "      <td>3233.639160</td>\n",
       "      <td>312.914948</td>\n",
       "      <td>3218.463379</td>\n",
       "      <td>0.470658</td>\n",
       "      <td>0.801074</td>\n",
       "      <td>0.345675</td>\n",
       "      <td>0.681456</td>\n",
       "      <td>220.523193</td>\n",
       "    </tr>\n",
       "    <tr>\n",
       "      <th>2</th>\n",
       "      <td>-963.197998</td>\n",
       "      <td>-802.231995</td>\n",
       "      <td>-255.048004</td>\n",
       "      <td>369.252991</td>\n",
       "      <td>203.923996</td>\n",
       "      <td>32.369499</td>\n",
       "      <td>22.955299</td>\n",
       "      <td>1066.229980</td>\n",
       "      <td>662.479980</td>\n",
       "      <td>-1211.520020</td>\n",
       "      <td>...</td>\n",
       "      <td>1331.436768</td>\n",
       "      <td>1748.691895</td>\n",
       "      <td>3080.128662</td>\n",
       "      <td>222.883026</td>\n",
       "      <td>3072.053955</td>\n",
       "      <td>0.158733</td>\n",
       "      <td>0.709165</td>\n",
       "      <td>0.349252</td>\n",
       "      <td>0.687567</td>\n",
       "      <td>249.183990</td>\n",
       "    </tr>\n",
       "    <tr>\n",
       "      <th>3</th>\n",
       "      <td>-914.739014</td>\n",
       "      <td>-1285.349976</td>\n",
       "      <td>-390.425995</td>\n",
       "      <td>420.726013</td>\n",
       "      <td>183.169006</td>\n",
       "      <td>29.843300</td>\n",
       "      <td>24.244101</td>\n",
       "      <td>910.085022</td>\n",
       "      <td>1286.180054</td>\n",
       "      <td>228.893997</td>\n",
       "      <td>...</td>\n",
       "      <td>1678.783691</td>\n",
       "      <td>1593.454956</td>\n",
       "      <td>3272.238770</td>\n",
       "      <td>4.799760</td>\n",
       "      <td>3272.235107</td>\n",
       "      <td>0.162928</td>\n",
       "      <td>0.812380</td>\n",
       "      <td>0.515532</td>\n",
       "      <td>0.832525</td>\n",
       "      <td>355.978119</td>\n",
       "    </tr>\n",
       "    <tr>\n",
       "      <th>4</th>\n",
       "      <td>1178.770020</td>\n",
       "      <td>-442.437988</td>\n",
       "      <td>-816.497009</td>\n",
       "      <td>429.519989</td>\n",
       "      <td>272.453003</td>\n",
       "      <td>162.826004</td>\n",
       "      <td>113.084999</td>\n",
       "      <td>-945.479004</td>\n",
       "      <td>402.459015</td>\n",
       "      <td>-412.460999</td>\n",
       "      <td>...</td>\n",
       "      <td>1560.898804</td>\n",
       "      <td>1110.571655</td>\n",
       "      <td>2671.470459</td>\n",
       "      <td>240.044449</td>\n",
       "      <td>2660.664062</td>\n",
       "      <td>0.597630</td>\n",
       "      <td>0.694514</td>\n",
       "      <td>0.720654</td>\n",
       "      <td>0.639655</td>\n",
       "      <td>343.837708</td>\n",
       "    </tr>\n",
       "    <tr>\n",
       "      <th>...</th>\n",
       "      <td>...</td>\n",
       "      <td>...</td>\n",
       "      <td>...</td>\n",
       "      <td>...</td>\n",
       "      <td>...</td>\n",
       "      <td>...</td>\n",
       "      <td>...</td>\n",
       "      <td>...</td>\n",
       "      <td>...</td>\n",
       "      <td>...</td>\n",
       "      <td>...</td>\n",
       "      <td>...</td>\n",
       "      <td>...</td>\n",
       "      <td>...</td>\n",
       "      <td>...</td>\n",
       "      <td>...</td>\n",
       "      <td>...</td>\n",
       "      <td>...</td>\n",
       "      <td>...</td>\n",
       "      <td>...</td>\n",
       "      <td>...</td>\n",
       "    </tr>\n",
       "    <tr>\n",
       "      <th>999419</th>\n",
       "      <td>-710.262024</td>\n",
       "      <td>-1026.920044</td>\n",
       "      <td>-1307.729980</td>\n",
       "      <td>796.106995</td>\n",
       "      <td>744.283020</td>\n",
       "      <td>368.661987</td>\n",
       "      <td>210.828003</td>\n",
       "      <td>692.814026</td>\n",
       "      <td>976.697998</td>\n",
       "      <td>-41.325802</td>\n",
       "      <td>...</td>\n",
       "      <td>1975.596313</td>\n",
       "      <td>1198.612427</td>\n",
       "      <td>3174.208740</td>\n",
       "      <td>73.136452</td>\n",
       "      <td>3173.365967</td>\n",
       "      <td>0.495325</td>\n",
       "      <td>0.571873</td>\n",
       "      <td>0.770408</td>\n",
       "      <td>0.594857</td>\n",
       "      <td>763.957764</td>\n",
       "    </tr>\n",
       "    <tr>\n",
       "      <th>999420</th>\n",
       "      <td>-268.907990</td>\n",
       "      <td>1307.540039</td>\n",
       "      <td>1420.180054</td>\n",
       "      <td>333.614014</td>\n",
       "      <td>240.792007</td>\n",
       "      <td>171.697006</td>\n",
       "      <td>130.660995</td>\n",
       "      <td>155.938995</td>\n",
       "      <td>-1274.060059</td>\n",
       "      <td>-1473.140015</td>\n",
       "      <td>...</td>\n",
       "      <td>1977.418091</td>\n",
       "      <td>1957.884277</td>\n",
       "      <td>3935.302490</td>\n",
       "      <td>122.490051</td>\n",
       "      <td>3933.395508</td>\n",
       "      <td>0.713051</td>\n",
       "      <td>0.760998</td>\n",
       "      <td>0.298112</td>\n",
       "      <td>0.729554</td>\n",
       "      <td>208.620010</td>\n",
       "    </tr>\n",
       "    <tr>\n",
       "      <th>999421</th>\n",
       "      <td>314.462006</td>\n",
       "      <td>1388.619995</td>\n",
       "      <td>-158.914001</td>\n",
       "      <td>420.259003</td>\n",
       "      <td>295.635986</td>\n",
       "      <td>57.412300</td>\n",
       "      <td>44.277100</td>\n",
       "      <td>65.702904</td>\n",
       "      <td>-1444.400024</td>\n",
       "      <td>-1056.260010</td>\n",
       "      <td>...</td>\n",
       "      <td>1492.991333</td>\n",
       "      <td>1792.290039</td>\n",
       "      <td>3285.281494</td>\n",
       "      <td>388.263031</td>\n",
       "      <td>3262.257812</td>\n",
       "      <td>0.194199</td>\n",
       "      <td>0.771213</td>\n",
       "      <td>0.600804</td>\n",
       "      <td>0.573244</td>\n",
       "      <td>342.734100</td>\n",
       "    </tr>\n",
       "    <tr>\n",
       "      <th>999422</th>\n",
       "      <td>-133.639999</td>\n",
       "      <td>1522.699951</td>\n",
       "      <td>-229.511993</td>\n",
       "      <td>632.781006</td>\n",
       "      <td>504.207001</td>\n",
       "      <td>105.698997</td>\n",
       "      <td>48.149700</td>\n",
       "      <td>29.203501</td>\n",
       "      <td>-1470.739990</td>\n",
       "      <td>-839.638977</td>\n",
       "      <td>...</td>\n",
       "      <td>1670.198242</td>\n",
       "      <td>1704.347900</td>\n",
       "      <td>3374.546143</td>\n",
       "      <td>127.697525</td>\n",
       "      <td>3372.129150</td>\n",
       "      <td>0.209634</td>\n",
       "      <td>0.455536</td>\n",
       "      <td>0.705832</td>\n",
       "      <td>0.759785</td>\n",
       "      <td>443.363007</td>\n",
       "    </tr>\n",
       "    <tr>\n",
       "      <th>999423</th>\n",
       "      <td>1654.319946</td>\n",
       "      <td>-688.971008</td>\n",
       "      <td>353.144012</td>\n",
       "      <td>150.893997</td>\n",
       "      <td>76.824097</td>\n",
       "      <td>48.240898</td>\n",
       "      <td>26.232500</td>\n",
       "      <td>-1712.619995</td>\n",
       "      <td>658.551025</td>\n",
       "      <td>220.513000</td>\n",
       "      <td>...</td>\n",
       "      <td>1832.739868</td>\n",
       "      <td>1850.804810</td>\n",
       "      <td>3683.544678</td>\n",
       "      <td>72.454445</td>\n",
       "      <td>3682.832031</td>\n",
       "      <td>0.627940</td>\n",
       "      <td>0.543781</td>\n",
       "      <td>0.276693</td>\n",
       "      <td>0.966118</td>\n",
       "      <td>50.416000</td>\n",
       "    </tr>\n",
       "  </tbody>\n",
       "</table>\n",
       "<p>999424 rows × 24 columns</p>\n",
       "</div>"
      ],
      "text/plain": [
       "               pxj1         pyj1         pzj1         mj1      tau1j1  \\\n",
       "0       -606.640015   136.223999 -2463.290039  115.829002   41.708900   \n",
       "1       1075.790039   560.247986  -473.667999  253.820999   98.636002   \n",
       "2       -963.197998  -802.231995  -255.048004  369.252991  203.923996   \n",
       "3       -914.739014 -1285.349976  -390.425995  420.726013  183.169006   \n",
       "4       1178.770020  -442.437988  -816.497009  429.519989  272.453003   \n",
       "...             ...          ...          ...         ...         ...   \n",
       "999419  -710.262024 -1026.920044 -1307.729980  796.106995  744.283020   \n",
       "999420  -268.907990  1307.540039  1420.180054  333.614014  240.792007   \n",
       "999421   314.462006  1388.619995  -158.914001  420.259003  295.635986   \n",
       "999422  -133.639999  1522.699951  -229.511993  632.781006  504.207001   \n",
       "999423  1654.319946  -688.971008   353.144012  150.893997   76.824097   \n",
       "\n",
       "            tau2j1      tau3j1         pxj2         pyj2         pzj2  ...  \\\n",
       "0        19.615000   16.282600  1410.239990  -311.454010   516.468018  ...   \n",
       "1        46.423801   37.188900  -785.905029  -476.933990 -1670.449951  ...   \n",
       "2        32.369499   22.955299  1066.229980   662.479980 -1211.520020  ...   \n",
       "3        29.843300   24.244101   910.085022  1286.180054   228.893997  ...   \n",
       "4       162.826004  113.084999  -945.479004   402.459015  -412.460999  ...   \n",
       "...            ...         ...          ...          ...          ...  ...   \n",
       "999419  368.661987  210.828003   692.814026   976.697998   -41.325802  ...   \n",
       "999420  171.697006  130.660995   155.938995 -1274.060059 -1473.140015  ...   \n",
       "999421   57.412300   44.277100    65.702904 -1444.400024 -1056.260010  ...   \n",
       "999422  105.698997   48.149700    29.203501 -1470.739990  -839.638977  ...   \n",
       "999423   48.240898   26.232500 -1712.619995   658.551025   220.513000  ...   \n",
       "\n",
       "                ej1          ej2          ejj         pjj          mjj  \\\n",
       "0       2543.183594  1537.945679  4081.129395  840.942322  3993.548828   \n",
       "1       1326.645630  1906.993530  3233.639160  312.914948  3218.463379   \n",
       "2       1331.436768  1748.691895  3080.128662  222.883026  3072.053955   \n",
       "3       1678.783691  1593.454956  3272.238770    4.799760  3272.235107   \n",
       "4       1560.898804  1110.571655  2671.470459  240.044449  2660.664062   \n",
       "...             ...          ...          ...         ...          ...   \n",
       "999419  1975.596313  1198.612427  3174.208740   73.136452  3173.365967   \n",
       "999420  1977.418091  1957.884277  3935.302490  122.490051  3933.395508   \n",
       "999421  1492.991333  1792.290039  3285.281494  388.263031  3262.257812   \n",
       "999422  1670.198242  1704.347900  3374.546143  127.697525  3372.129150   \n",
       "999423  1832.739868  1850.804810  3683.544678   72.454445  3682.832031   \n",
       "\n",
       "         tau21j1   tau32j1   tau21j2   tau32j2     mj1-mj2  \n",
       "0       0.470283  0.830110  0.614313  0.647716    2.881004  \n",
       "1       0.470658  0.801074  0.345675  0.681456  220.523193  \n",
       "2       0.158733  0.709165  0.349252  0.687567  249.183990  \n",
       "3       0.162928  0.812380  0.515532  0.832525  355.978119  \n",
       "4       0.597630  0.694514  0.720654  0.639655  343.837708  \n",
       "...          ...       ...       ...       ...         ...  \n",
       "999419  0.495325  0.571873  0.770408  0.594857  763.957764  \n",
       "999420  0.713051  0.760998  0.298112  0.729554  208.620010  \n",
       "999421  0.194199  0.771213  0.600804  0.573244  342.734100  \n",
       "999422  0.209634  0.455536  0.705832  0.759785  443.363007  \n",
       "999423  0.627940  0.543781  0.276693  0.966118   50.416000  \n",
       "\n",
       "[999424 rows x 24 columns]"
      ]
     },
     "execution_count": 7,
     "metadata": {},
     "output_type": "execute_result"
    }
   ],
   "source": [
    "df"
   ]
  },
  {
   "cell_type": "code",
   "execution_count": 8,
   "metadata": {},
   "outputs": [
    {
     "data": {
      "text/plain": [
       "False"
      ]
     },
     "execution_count": 8,
     "metadata": {},
     "output_type": "execute_result"
    }
   ],
   "source": [
    "np.any(np.isnan(df))"
   ]
  },
  {
   "cell_type": "code",
   "execution_count": 9,
   "metadata": {},
   "outputs": [],
   "source": [
    "df = df.drop(df.columns[[0,1,2,4,5,6,7,8,9,11,12,13,14,15,16,17,20,22]], axis=1)"
   ]
  },
  {
   "cell_type": "code",
   "execution_count": 10,
   "metadata": {},
   "outputs": [
    {
     "data": {
      "text/html": [
       "<div>\n",
       "<style scoped>\n",
       "    .dataframe tbody tr th:only-of-type {\n",
       "        vertical-align: middle;\n",
       "    }\n",
       "\n",
       "    .dataframe tbody tr th {\n",
       "        vertical-align: top;\n",
       "    }\n",
       "\n",
       "    .dataframe thead th {\n",
       "        text-align: right;\n",
       "    }\n",
       "</style>\n",
       "<table border=\"1\" class=\"dataframe\">\n",
       "  <thead>\n",
       "    <tr style=\"text-align: right;\">\n",
       "      <th></th>\n",
       "      <th>mj1</th>\n",
       "      <th>mj2</th>\n",
       "      <th>mjj</th>\n",
       "      <th>tau21j1</th>\n",
       "      <th>tau21j2</th>\n",
       "      <th>mj1-mj2</th>\n",
       "    </tr>\n",
       "  </thead>\n",
       "  <tbody>\n",
       "    <tr>\n",
       "      <th>0</th>\n",
       "      <td>115.829002</td>\n",
       "      <td>112.947998</td>\n",
       "      <td>3993.548828</td>\n",
       "      <td>0.470283</td>\n",
       "      <td>0.614313</td>\n",
       "      <td>2.881004</td>\n",
       "    </tr>\n",
       "    <tr>\n",
       "      <th>1</th>\n",
       "      <td>253.820999</td>\n",
       "      <td>33.297798</td>\n",
       "      <td>3218.463379</td>\n",
       "      <td>0.470658</td>\n",
       "      <td>0.345675</td>\n",
       "      <td>220.523193</td>\n",
       "    </tr>\n",
       "    <tr>\n",
       "      <th>2</th>\n",
       "      <td>369.252991</td>\n",
       "      <td>120.069000</td>\n",
       "      <td>3072.053955</td>\n",
       "      <td>0.158733</td>\n",
       "      <td>0.349252</td>\n",
       "      <td>249.183990</td>\n",
       "    </tr>\n",
       "    <tr>\n",
       "      <th>3</th>\n",
       "      <td>420.726013</td>\n",
       "      <td>64.747902</td>\n",
       "      <td>3272.235107</td>\n",
       "      <td>0.162928</td>\n",
       "      <td>0.515532</td>\n",
       "      <td>355.978119</td>\n",
       "    </tr>\n",
       "    <tr>\n",
       "      <th>4</th>\n",
       "      <td>429.519989</td>\n",
       "      <td>85.682297</td>\n",
       "      <td>2660.664062</td>\n",
       "      <td>0.597630</td>\n",
       "      <td>0.720654</td>\n",
       "      <td>343.837708</td>\n",
       "    </tr>\n",
       "    <tr>\n",
       "      <th>...</th>\n",
       "      <td>...</td>\n",
       "      <td>...</td>\n",
       "      <td>...</td>\n",
       "      <td>...</td>\n",
       "      <td>...</td>\n",
       "      <td>...</td>\n",
       "    </tr>\n",
       "    <tr>\n",
       "      <th>999419</th>\n",
       "      <td>796.106995</td>\n",
       "      <td>32.149200</td>\n",
       "      <td>3173.365967</td>\n",
       "      <td>0.495325</td>\n",
       "      <td>0.770408</td>\n",
       "      <td>763.957764</td>\n",
       "    </tr>\n",
       "    <tr>\n",
       "      <th>999420</th>\n",
       "      <td>333.614014</td>\n",
       "      <td>124.994003</td>\n",
       "      <td>3933.395508</td>\n",
       "      <td>0.713051</td>\n",
       "      <td>0.298112</td>\n",
       "      <td>208.620010</td>\n",
       "    </tr>\n",
       "    <tr>\n",
       "      <th>999421</th>\n",
       "      <td>420.259003</td>\n",
       "      <td>77.524902</td>\n",
       "      <td>3262.257812</td>\n",
       "      <td>0.194199</td>\n",
       "      <td>0.600804</td>\n",
       "      <td>342.734100</td>\n",
       "    </tr>\n",
       "    <tr>\n",
       "      <th>999422</th>\n",
       "      <td>632.781006</td>\n",
       "      <td>189.417999</td>\n",
       "      <td>3372.129150</td>\n",
       "      <td>0.209634</td>\n",
       "      <td>0.705832</td>\n",
       "      <td>443.363007</td>\n",
       "    </tr>\n",
       "    <tr>\n",
       "      <th>999423</th>\n",
       "      <td>150.893997</td>\n",
       "      <td>100.477997</td>\n",
       "      <td>3682.832031</td>\n",
       "      <td>0.627940</td>\n",
       "      <td>0.276693</td>\n",
       "      <td>50.416000</td>\n",
       "    </tr>\n",
       "  </tbody>\n",
       "</table>\n",
       "<p>999424 rows × 6 columns</p>\n",
       "</div>"
      ],
      "text/plain": [
       "               mj1         mj2          mjj   tau21j1   tau21j2     mj1-mj2\n",
       "0       115.829002  112.947998  3993.548828  0.470283  0.614313    2.881004\n",
       "1       253.820999   33.297798  3218.463379  0.470658  0.345675  220.523193\n",
       "2       369.252991  120.069000  3072.053955  0.158733  0.349252  249.183990\n",
       "3       420.726013   64.747902  3272.235107  0.162928  0.515532  355.978119\n",
       "4       429.519989   85.682297  2660.664062  0.597630  0.720654  343.837708\n",
       "...            ...         ...          ...       ...       ...         ...\n",
       "999419  796.106995   32.149200  3173.365967  0.495325  0.770408  763.957764\n",
       "999420  333.614014  124.994003  3933.395508  0.713051  0.298112  208.620010\n",
       "999421  420.259003   77.524902  3262.257812  0.194199  0.600804  342.734100\n",
       "999422  632.781006  189.417999  3372.129150  0.209634  0.705832  443.363007\n",
       "999423  150.893997  100.477997  3682.832031  0.627940  0.276693   50.416000\n",
       "\n",
       "[999424 rows x 6 columns]"
      ]
     },
     "execution_count": 10,
     "metadata": {},
     "output_type": "execute_result"
    }
   ],
   "source": [
    "df"
   ]
  },
  {
   "cell_type": "code",
   "execution_count": 11,
   "metadata": {},
   "outputs": [
    {
     "name": "stdout",
     "output_type": "stream",
     "text": [
      "Dataset consists of 732 batches of 1024 samples each, total 749568 samples\n",
      "Testset consists of 244 batches of 1024 samples each, total 249856 samples\n"
     ]
    },
    {
     "data": {
      "text/plain": [
       "20"
      ]
     },
     "execution_count": 11,
     "metadata": {},
     "output_type": "execute_result"
    }
   ],
   "source": [
    "# Normalize all inputs between -1 and 1\n",
    "\n",
    "train_features = [\"tau21j1\"]\n",
    "scaler = MinMaxScaler((-1,1)).fit(df[train_features])\n",
    "feature_df = scaler.transform(df[train_features])\n",
    "\n",
    "X_train, X_test = train_test_split(feature_df, test_size = 0.25)\n",
    "len_dataset = int(X_train.shape[0] / BATCH_SIZE)\n",
    "len_testset = int(X_test.shape[0] / BATCH_SIZE)\n",
    "print(\"Dataset consists of {} batches of {} samples each, total {} samples\".format(len_dataset, BATCH_SIZE, len_dataset * BATCH_SIZE))\n",
    "print(\"Testset consists of {} batches of {} samples each, total {} samples\".format(len_testset, BATCH_SIZE, len_testset * BATCH_SIZE))\n",
    "gc.collect()"
   ]
  },
  {
   "cell_type": "code",
   "execution_count": 12,
   "metadata": {},
   "outputs": [
    {
     "data": {
      "text/plain": [
       "array([[ 0.45848095],\n",
       "       [ 0.2181058 ],\n",
       "       [ 0.01459885],\n",
       "       ...,\n",
       "       [-0.13662153],\n",
       "       [-0.53161925],\n",
       "       [-0.4444012 ]], dtype=float32)"
      ]
     },
     "execution_count": 12,
     "metadata": {},
     "output_type": "execute_result"
    }
   ],
   "source": [
    "X_train"
   ]
  },
  {
   "cell_type": "code",
   "execution_count": 13,
   "metadata": {},
   "outputs": [],
   "source": [
    "train_dataset = tf.data.Dataset.from_tensor_slices(np.array(X_train)).batch(BATCH_SIZE)\n",
    "test_dataset = tf.data.Dataset.from_tensor_slices(np.array(X_test)).batch(BATCH_SIZE)"
   ]
  },
  {
   "cell_type": "code",
   "execution_count": 14,
   "metadata": {},
   "outputs": [],
   "source": [
    "def make_generator_model():\n",
    "    \n",
    "    model = tf.keras.Sequential()\n",
    "    model.add(layers.Dense(50, input_shape=(len(train_features),)))\n",
    "    model.add(layers.BatchNormalization())\n",
    "    model.add(layers.LeakyReLU())\n",
    "\n",
    "    model.add(layers.Dense(50))\n",
    "    model.add(layers.BatchNormalization())\n",
    "    model.add(layers.LeakyReLU())\n",
    "\n",
    "    model.add(layers.Dense(50))\n",
    "    model.add(layers.BatchNormalization())\n",
    "    model.add(layers.LeakyReLU())\n",
    "\n",
    "    model.add(layers.Dense(len(train_features), activation='tanh'))\n",
    "    assert model.output_shape == (None, len(train_features))\n",
    "\n",
    "    return model"
   ]
  },
  {
   "cell_type": "code",
   "execution_count": 15,
   "metadata": {},
   "outputs": [],
   "source": [
    "generator = make_generator_model()"
   ]
  },
  {
   "cell_type": "code",
   "execution_count": 16,
   "metadata": {},
   "outputs": [],
   "source": [
    "def make_discriminator_model():\n",
    "    model = tf.keras.Sequential()\n",
    "    model.add(layers.Dense(50, input_shape=(len(train_features),)))\n",
    "    model.add(layers.LeakyReLU())\n",
    "    model.add(layers.Dropout(0.3))\n",
    "\n",
    "    model.add(layers.Dense(50))\n",
    "    model.add(layers.LeakyReLU())\n",
    "    model.add(layers.Dropout(0.3))\n",
    "\n",
    "    model.add(layers.Dense(1)) # WGAN: No sigmoid activation in last layer\n",
    "\n",
    "    return model"
   ]
  },
  {
   "cell_type": "code",
   "execution_count": 17,
   "metadata": {},
   "outputs": [],
   "source": [
    "discriminator = make_discriminator_model()"
   ]
  },
  {
   "cell_type": "code",
   "execution_count": 18,
   "metadata": {},
   "outputs": [
    {
     "name": "stdout",
     "output_type": "stream",
     "text": [
      "Model: \"sequential\"\n",
      "_________________________________________________________________\n",
      "Layer (type)                 Output Shape              Param #   \n",
      "=================================================================\n",
      "dense (Dense)                (None, 50)                100       \n",
      "_________________________________________________________________\n",
      "batch_normalization (BatchNo (None, 50)                200       \n",
      "_________________________________________________________________\n",
      "leaky_re_lu (LeakyReLU)      (None, 50)                0         \n",
      "_________________________________________________________________\n",
      "dense_1 (Dense)              (None, 50)                2550      \n",
      "_________________________________________________________________\n",
      "batch_normalization_1 (Batch (None, 50)                200       \n",
      "_________________________________________________________________\n",
      "leaky_re_lu_1 (LeakyReLU)    (None, 50)                0         \n",
      "_________________________________________________________________\n",
      "dense_2 (Dense)              (None, 50)                2550      \n",
      "_________________________________________________________________\n",
      "batch_normalization_2 (Batch (None, 50)                200       \n",
      "_________________________________________________________________\n",
      "leaky_re_lu_2 (LeakyReLU)    (None, 50)                0         \n",
      "_________________________________________________________________\n",
      "dense_3 (Dense)              (None, 1)                 51        \n",
      "=================================================================\n",
      "Total params: 5,851\n",
      "Trainable params: 5,551\n",
      "Non-trainable params: 300\n",
      "_________________________________________________________________\n"
     ]
    }
   ],
   "source": [
    "generator.summary()"
   ]
  },
  {
   "cell_type": "code",
   "execution_count": 19,
   "metadata": {},
   "outputs": [
    {
     "name": "stdout",
     "output_type": "stream",
     "text": [
      "Model: \"sequential_1\"\n",
      "_________________________________________________________________\n",
      "Layer (type)                 Output Shape              Param #   \n",
      "=================================================================\n",
      "dense_4 (Dense)              (None, 50)                100       \n",
      "_________________________________________________________________\n",
      "leaky_re_lu_3 (LeakyReLU)    (None, 50)                0         \n",
      "_________________________________________________________________\n",
      "dropout (Dropout)            (None, 50)                0         \n",
      "_________________________________________________________________\n",
      "dense_5 (Dense)              (None, 50)                2550      \n",
      "_________________________________________________________________\n",
      "leaky_re_lu_4 (LeakyReLU)    (None, 50)                0         \n",
      "_________________________________________________________________\n",
      "dropout_1 (Dropout)          (None, 50)                0         \n",
      "_________________________________________________________________\n",
      "dense_6 (Dense)              (None, 1)                 51        \n",
      "=================================================================\n",
      "Total params: 2,701\n",
      "Trainable params: 2,701\n",
      "Non-trainable params: 0\n",
      "_________________________________________________________________\n"
     ]
    }
   ],
   "source": [
    "discriminator.summary()"
   ]
  },
  {
   "cell_type": "code",
   "execution_count": 20,
   "metadata": {},
   "outputs": [],
   "source": [
    "@tf.function\n",
    "def gradient_penalty(real, fake, epsilon): \n",
    "    # mixed_images = real * epsilon + fake * (1 - epsilon)\n",
    "    mixed_images = fake + epsilon * (real - fake)\n",
    "    with tf.GradientTape() as tape:\n",
    "        tape.watch(mixed_images) \n",
    "        mixed_scores = discriminator(mixed_images)\n",
    "        \n",
    "    gradient = tape.gradient(mixed_scores, mixed_images)[0]\n",
    "    \n",
    "    gradient_norm = tf.norm(gradient)\n",
    "    penalty = tf.math.reduce_mean((gradient_norm - 1)**2)\n",
    "    return penalty"
   ]
  },
  {
   "cell_type": "code",
   "execution_count": 21,
   "metadata": {},
   "outputs": [],
   "source": [
    "@tf.function\n",
    "def discriminator_loss(real_output, fake_output, gradient_penalty):\n",
    "    loss = tf.math.reduce_mean(fake_output) - tf.math.reduce_mean(real_output) + C_LAMBDA * gradient_penalty\n",
    "    return loss"
   ]
  },
  {
   "cell_type": "code",
   "execution_count": 22,
   "metadata": {},
   "outputs": [],
   "source": [
    "@tf.function\n",
    "def generator_loss(fake_output):\n",
    "    gen_loss = -1. * tf.math.reduce_mean(fake_output)\n",
    "    return gen_loss"
   ]
  },
  {
   "cell_type": "code",
   "execution_count": 23,
   "metadata": {},
   "outputs": [],
   "source": [
    "generator_optimizer = tf.keras.optimizers.RMSprop(lr=LEARNING_RATE)\n",
    "discriminator_optimizer = tf.keras.optimizers.RMSprop(lr=LEARNING_RATE)"
   ]
  },
  {
   "cell_type": "code",
   "execution_count": 24,
   "metadata": {},
   "outputs": [],
   "source": [
    "# Convert tensor to float for loss function plotting\n",
    "def K_eval(x):\n",
    "    try:\n",
    "        return K.get_value(K.to_dense(x))\n",
    "    except:\n",
    "        eval_fn = K.function([], [x])\n",
    "        return eval_fn([])[0]"
   ]
  },
  {
   "cell_type": "code",
   "execution_count": 25,
   "metadata": {},
   "outputs": [],
   "source": [
    "@tf.function\n",
    "def train_step_generator(images):\n",
    "  noise = tf.random.normal([BATCH_SIZE, len(train_features)])\n",
    "\n",
    "  with tf.GradientTape() as gen_tape, tf.GradientTape() as disc_tape:\n",
    "    generated_images = generator(noise, training=True)\n",
    "    fake_output = discriminator(generated_images, training=True)\n",
    "    gen_loss = generator_loss(fake_output)\n",
    "\n",
    "  gradients_of_generator = gen_tape.gradient(gen_loss, generator.trainable_variables)\n",
    "\n",
    "  generator_optimizer.apply_gradients(zip(gradients_of_generator, generator.trainable_variables))\n",
    "  \n",
    "  return gen_loss"
   ]
  },
  {
   "cell_type": "code",
   "execution_count": 26,
   "metadata": {},
   "outputs": [],
   "source": [
    "@tf.function\n",
    "def train_step_discriminator(images):\n",
    "  noise = tf.random.normal([BATCH_SIZE, len(train_features)])\n",
    "\n",
    "  with tf.GradientTape() as gen_tape, tf.GradientTape() as disc_tape:\n",
    "    generated_images = generator(noise, training=True)\n",
    "\n",
    "    real_output = discriminator(images, training=True)\n",
    "    fake_output = discriminator(generated_images, training=True)\n",
    "\n",
    "    epsilon = tf.random.uniform([BATCH_SIZE,len(train_features)],minval=0,maxval=1)\n",
    "\n",
    "    gp = gradient_penalty(images, generated_images, epsilon)\n",
    "    \n",
    "    disc_loss = discriminator_loss(real_output, fake_output, gp)\n",
    "\n",
    "  gradients_of_discriminator = disc_tape.gradient(disc_loss, discriminator.trainable_variables)\n",
    "\n",
    "  discriminator_optimizer.apply_gradients(zip(gradients_of_discriminator, discriminator.trainable_variables))\n",
    "  \n",
    "  return disc_loss"
   ]
  },
  {
   "cell_type": "code",
   "execution_count": 27,
   "metadata": {},
   "outputs": [],
   "source": [
    "@tf.function\n",
    "def evaluate_generator():\n",
    "    noise = tf.random.normal([BATCH_SIZE, len(train_features)])\n",
    "    generated_images = generator(noise, training=False)\n",
    "\n",
    "    fake_output = discriminator(generated_images, training=False)\n",
    "\n",
    "    gen_loss = generator_loss(fake_output)\n",
    "\n",
    "    return gen_loss"
   ]
  },
  {
   "cell_type": "code",
   "execution_count": 28,
   "metadata": {},
   "outputs": [],
   "source": [
    "@tf.function\n",
    "def evaluate_discriminator(images):\n",
    "    noise = tf.random.normal([BATCH_SIZE, len(train_features)])\n",
    "    generated_images = generator(noise, training=False)\n",
    "\n",
    "    real_output = discriminator(images, training=False)\n",
    "    fake_output = discriminator(generated_images, training=False)\n",
    "\n",
    "    epsilon = tf.random.uniform([BATCH_SIZE,len(train_features)],minval=0,maxval=1)\n",
    "\n",
    "    gp = gradient_penalty(images, generated_images, epsilon)\n",
    "    \n",
    "    disc_loss = discriminator_loss(real_output, fake_output, gp)\n",
    "\n",
    "    return disc_loss"
   ]
  },
  {
   "cell_type": "code",
   "execution_count": 29,
   "metadata": {},
   "outputs": [],
   "source": [
    "def graph_gan(generator):\n",
    "    fakedata = scaler.inverse_transform(generator(tf.random.normal((10000, len(train_features))), training=False))\n",
    "    plt.ylabel(\"Normalized to Unity\")\n",
    "    \n",
    "    plt.hist(df['tau21j1'], bins = 25, range = (0, 1), color = \"tab:orange\", alpha = 0.5, label = \"Herwig Background\", density = True)\n",
    "    plt.hist(fakedata, bins = 25, range = (0, 1), color = \"tab:blue\", histtype = \"step\", label = \"GAN\", density = True)\n",
    "    plt.legend()\n",
    "    plt.show()\n",
    "    "
   ]
  },
  {
   "cell_type": "code",
   "execution_count": 30,
   "metadata": {},
   "outputs": [],
   "source": [
    "train_gen_losses = []\n",
    "train_disc_losses = []\n",
    "test_gen_losses = []\n",
    "test_disc_losses = []"
   ]
  },
  {
   "cell_type": "code",
   "execution_count": 31,
   "metadata": {},
   "outputs": [],
   "source": [
    "def graph_genloss():\n",
    "    plt.title(\"Generator Loss\")\n",
    "    plt.ylabel(\"Wasserstein Loss\")\n",
    "    plt.xlabel(\"Epoch\")\n",
    "    plt.plot(train_gen_losses, 'b', label = \"Training loss\")\n",
    "    plt.plot(test_gen_losses, 'r', label = \"Validation loss\")\n",
    "    plt.legend()\n",
    "    plt.show()"
   ]
  },
  {
   "cell_type": "code",
   "execution_count": 32,
   "metadata": {},
   "outputs": [],
   "source": [
    "def graph_discloss():\n",
    "    plt.title(\"Discriminator Loss\")\n",
    "    plt.ylabel(\"Wasserstein Loss\")\n",
    "    plt.xlabel(\"Epoch\")\n",
    "    plt.plot(train_disc_losses, 'b', label = \"Training loss\")\n",
    "    plt.plot(test_disc_losses, 'r', label = \"Validation loss\")\n",
    "    plt.legend()\n",
    "    plt.show()"
   ]
  },
  {
   "cell_type": "code",
   "execution_count": 33,
   "metadata": {},
   "outputs": [],
   "source": [
    "def train(dataset, testset, epochs, n_critic):\n",
    "  for epoch in tqdm(range(epochs)):\n",
    "    \n",
    "    print_losses = ((epoch + 1) % 10 == 0)\n",
    "    draw_outputs = ((epoch + 1) % 100 == 0)\n",
    "\n",
    "    train_gen_loss = 0\n",
    "    train_disc_loss = 0\n",
    "\n",
    "    test_gen_loss = 0\n",
    "    test_disc_loss = 0\n",
    "\n",
    "\n",
    "    # Training\n",
    "\n",
    "    for image_batch in dataset:\n",
    "      train_gen_loss += K_eval(train_step_generator(image_batch))\n",
    "      for n in range(n_critic):\n",
    "        train_disc_loss += K_eval(train_step_discriminator(image_batch))\n",
    "    \n",
    "    train_gen_losses.append(train_gen_loss / len_dataset)\n",
    "    train_disc_losses.append(train_disc_loss / len_dataset / n_critic)\n",
    "\n",
    "            \n",
    "    # Evaluation\n",
    "\n",
    "    for test_batch in testset:\n",
    "      test_gen_loss += K_eval(evaluate_generator())\n",
    "      test_disc_loss += K_eval(evaluate_discriminator(test_batch))\n",
    "\n",
    "    test_gen_losses.append(test_gen_loss / len_testset)\n",
    "    test_disc_losses.append(test_disc_loss / len_testset)\n",
    "\n",
    "    # Logging\n",
    "\n",
    "    if print_losses:\n",
    "      print()\n",
    "\n",
    "      print(\"Epoch \" + str(epoch + 1) + \":\")\n",
    "      print()\n",
    "      print(\"Generator training loss: \" + str(train_gen_losses[-1]))\n",
    "      print(\"Discriminator training loss: \" + str(train_disc_losses[-1]))\n",
    "      print()\n",
    "      print(\"Generator validation loss: \" + str(test_gen_losses[-1]))\n",
    "      print(\"Discriminator validation loss: \" + str(test_disc_losses[-1]))\n",
    "\n",
    "    if draw_outputs:\n",
    "      print()\n",
    "      print(\"Epoch \" + str(epoch + 1) + \":\")\n",
    "      graph_gan(generator)\n",
    "\n",
    "      graph_genloss()\n",
    "      graph_discloss()\n"
   ]
  },
  {
   "cell_type": "code",
   "execution_count": null,
   "metadata": {
    "scrolled": false,
    "tags": []
   },
   "outputs": [
    {
     "name": "stderr",
     "output_type": "stream",
     "text": [
      "\r",
      "  0%|                                                                                         | 0/1000 [00:00<?, ?it/s]"
     ]
    },
    {
     "name": "stdout",
     "output_type": "stream",
     "text": [
      "WARNING:tensorflow:AutoGraph could not transform <function train_step_generator at 0x000001756D470E58> and will run it as-is.\n",
      "Please report this to the TensorFlow team. When filing the bug, set the verbosity to 10 (on Linux, `export AUTOGRAPH_VERBOSITY=10`) and attach the full output.\n",
      "Cause: Bad argument number for Name: 3, expecting 4\n",
      "WARNING: AutoGraph could not transform <function train_step_generator at 0x000001756D470E58> and will run it as-is.\n",
      "Please report this to the TensorFlow team. When filing the bug, set the verbosity to 10 (on Linux, `export AUTOGRAPH_VERBOSITY=10`) and attach the full output.\n",
      "Cause: Bad argument number for Name: 3, expecting 4\n",
      "WARNING:tensorflow:AutoGraph could not transform <function generator_loss at 0x000001753594F288> and will run it as-is.\n",
      "Please report this to the TensorFlow team. When filing the bug, set the verbosity to 10 (on Linux, `export AUTOGRAPH_VERBOSITY=10`) and attach the full output.\n",
      "Cause: Bad argument number for Name: 3, expecting 4\n",
      "WARNING: AutoGraph could not transform <function generator_loss at 0x000001753594F288> and will run it as-is.\n",
      "Please report this to the TensorFlow team. When filing the bug, set the verbosity to 10 (on Linux, `export AUTOGRAPH_VERBOSITY=10`) and attach the full output.\n",
      "Cause: Bad argument number for Name: 3, expecting 4\n",
      "WARNING:tensorflow:AutoGraph could not transform <function train_step_discriminator at 0x00000175359361F8> and will run it as-is.\n",
      "Please report this to the TensorFlow team. When filing the bug, set the verbosity to 10 (on Linux, `export AUTOGRAPH_VERBOSITY=10`) and attach the full output.\n",
      "Cause: Bad argument number for Name: 3, expecting 4\n",
      "WARNING: AutoGraph could not transform <function train_step_discriminator at 0x00000175359361F8> and will run it as-is.\n",
      "Please report this to the TensorFlow team. When filing the bug, set the verbosity to 10 (on Linux, `export AUTOGRAPH_VERBOSITY=10`) and attach the full output.\n",
      "Cause: Bad argument number for Name: 3, expecting 4\n",
      "WARNING:tensorflow:AutoGraph could not transform <function gradient_penalty at 0x0000017535936948> and will run it as-is.\n",
      "Please report this to the TensorFlow team. When filing the bug, set the verbosity to 10 (on Linux, `export AUTOGRAPH_VERBOSITY=10`) and attach the full output.\n",
      "Cause: module 'gast' has no attribute 'Num'\n",
      "WARNING: AutoGraph could not transform <function gradient_penalty at 0x0000017535936948> and will run it as-is.\n",
      "Please report this to the TensorFlow team. When filing the bug, set the verbosity to 10 (on Linux, `export AUTOGRAPH_VERBOSITY=10`) and attach the full output.\n",
      "Cause: module 'gast' has no attribute 'Num'\n",
      "WARNING:tensorflow:AutoGraph could not transform <function discriminator_loss at 0x0000017535936E58> and will run it as-is.\n",
      "Please report this to the TensorFlow team. When filing the bug, set the verbosity to 10 (on Linux, `export AUTOGRAPH_VERBOSITY=10`) and attach the full output.\n",
      "Cause: Bad argument number for Name: 3, expecting 4\n",
      "WARNING: AutoGraph could not transform <function discriminator_loss at 0x0000017535936E58> and will run it as-is.\n",
      "Please report this to the TensorFlow team. When filing the bug, set the verbosity to 10 (on Linux, `export AUTOGRAPH_VERBOSITY=10`) and attach the full output.\n",
      "Cause: Bad argument number for Name: 3, expecting 4\n",
      "WARNING:tensorflow:AutoGraph could not transform <function evaluate_generator at 0x0000017535936D38> and will run it as-is.\n",
      "Please report this to the TensorFlow team. When filing the bug, set the verbosity to 10 (on Linux, `export AUTOGRAPH_VERBOSITY=10`) and attach the full output.\n",
      "Cause: Bad argument number for Name: 3, expecting 4\n",
      "WARNING: AutoGraph could not transform <function evaluate_generator at 0x0000017535936D38> and will run it as-is.\n",
      "Please report this to the TensorFlow team. When filing the bug, set the verbosity to 10 (on Linux, `export AUTOGRAPH_VERBOSITY=10`) and attach the full output.\n",
      "Cause: Bad argument number for Name: 3, expecting 4\n",
      "WARNING:tensorflow:AutoGraph could not transform <function evaluate_discriminator at 0x0000017535903168> and will run it as-is.\n",
      "Please report this to the TensorFlow team. When filing the bug, set the verbosity to 10 (on Linux, `export AUTOGRAPH_VERBOSITY=10`) and attach the full output.\n",
      "Cause: Bad argument number for Name: 3, expecting 4\n",
      "WARNING: AutoGraph could not transform <function evaluate_discriminator at 0x0000017535903168> and will run it as-is.\n",
      "Please report this to the TensorFlow team. When filing the bug, set the verbosity to 10 (on Linux, `export AUTOGRAPH_VERBOSITY=10`) and attach the full output.\n",
      "Cause: Bad argument number for Name: 3, expecting 4\n"
     ]
    },
    {
     "name": "stderr",
     "output_type": "stream",
     "text": [
      "  1%|▊                                                                             | 10/1000 [03:53<6:26:56, 23.45s/it]"
     ]
    },
    {
     "name": "stdout",
     "output_type": "stream",
     "text": [
      "\n",
      "Epoch 10:\n",
      "\n",
      "Generator training loss: -0.05980997144809512\n",
      "Discriminator training loss: 0.41998348819916365\n",
      "\n",
      "Generator validation loss: -0.22778915943669492\n",
      "Discriminator validation loss: 0.4917503588023733\n"
     ]
    },
    {
     "name": "stderr",
     "output_type": "stream",
     "text": [
      "  2%|█▌                                                                            | 20/1000 [07:47<6:24:21, 23.53s/it]"
     ]
    },
    {
     "name": "stdout",
     "output_type": "stream",
     "text": [
      "\n",
      "Epoch 20:\n",
      "\n",
      "Generator training loss: -0.050607591312088564\n",
      "Discriminator training loss: 0.17135803385795464\n",
      "\n",
      "Generator validation loss: -0.6724639759689081\n",
      "Discriminator validation loss: 0.3959794464658518\n"
     ]
    },
    {
     "name": "stderr",
     "output_type": "stream",
     "text": [
      "  3%|██▎                                                                           | 30/1000 [11:42<6:20:39, 23.55s/it]"
     ]
    },
    {
     "name": "stdout",
     "output_type": "stream",
     "text": [
      "\n",
      "Epoch 30:\n",
      "\n",
      "Generator training loss: 0.2967901497142888\n",
      "Discriminator training loss: -0.012084974851238203\n",
      "\n",
      "Generator validation loss: -0.41429607790024553\n",
      "Discriminator validation loss: -0.0067689350413036396\n"
     ]
    },
    {
     "name": "stderr",
     "output_type": "stream",
     "text": [
      "  4%|███                                                                           | 40/1000 [15:38<6:17:10, 23.57s/it]"
     ]
    },
    {
     "name": "stdout",
     "output_type": "stream",
     "text": [
      "\n",
      "Epoch 40:\n",
      "\n",
      "Generator training loss: 0.7942771972691427\n",
      "Discriminator training loss: -0.005579277333930545\n",
      "\n",
      "Generator validation loss: 0.05004124479276723\n",
      "Discriminator validation loss: 0.004767565872781666\n"
     ]
    },
    {
     "name": "stderr",
     "output_type": "stream",
     "text": [
      "  5%|███▉                                                                          | 50/1000 [19:34<6:13:07, 23.57s/it]"
     ]
    },
    {
     "name": "stdout",
     "output_type": "stream",
     "text": [
      "\n",
      "Epoch 50:\n",
      "\n",
      "Generator training loss: 0.6088715677297181\n",
      "Discriminator training loss: 0.017076775507163796\n",
      "\n",
      "Generator validation loss: -0.05399623452151408\n",
      "Discriminator validation loss: -0.00993449962888768\n"
     ]
    },
    {
     "name": "stderr",
     "output_type": "stream",
     "text": [
      "  6%|████▋                                                                         | 60/1000 [23:32<6:10:51, 23.67s/it]"
     ]
    },
    {
     "name": "stdout",
     "output_type": "stream",
     "text": [
      "\n",
      "Epoch 60:\n",
      "\n",
      "Generator training loss: 0.4199591849019619\n",
      "Discriminator training loss: 0.008765571888192217\n",
      "\n",
      "Generator validation loss: -0.29044523138980394\n",
      "Discriminator validation loss: 0.00448005443611125\n"
     ]
    },
    {
     "name": "stderr",
     "output_type": "stream",
     "text": [
      "  7%|█████▍                                                                        | 70/1000 [27:28<6:04:49, 23.54s/it]"
     ]
    },
    {
     "name": "stdout",
     "output_type": "stream",
     "text": [
      "\n",
      "Epoch 70:\n",
      "\n",
      "Generator training loss: 0.42747980545534464\n",
      "Discriminator training loss: 0.016224146694973265\n",
      "\n",
      "Generator validation loss: -0.37733135799892614\n",
      "Discriminator validation loss: 0.025845523050624937\n"
     ]
    },
    {
     "name": "stderr",
     "output_type": "stream",
     "text": [
      "  8%|██████▏                                                                       | 80/1000 [31:24<6:02:49, 23.66s/it]"
     ]
    },
    {
     "name": "stdout",
     "output_type": "stream",
     "text": [
      "\n",
      "Epoch 80:\n",
      "\n",
      "Generator training loss: 0.3137983028220949\n",
      "Discriminator training loss: 0.03452526180219357\n",
      "\n",
      "Generator validation loss: -0.5542114061898873\n",
      "Discriminator validation loss: -0.021138571705988828\n"
     ]
    },
    {
     "name": "stderr",
     "output_type": "stream",
     "text": [
      "  9%|███████                                                                       | 90/1000 [35:19<5:56:22, 23.50s/it]"
     ]
    },
    {
     "name": "stdout",
     "output_type": "stream",
     "text": [
      "\n",
      "Epoch 90:\n",
      "\n",
      "Generator training loss: 0.45141824428501026\n",
      "Discriminator training loss: 0.013673788594346637\n",
      "\n",
      "Generator validation loss: -0.24848587963669028\n",
      "Discriminator validation loss: 0.007826404715220246\n"
     ]
    },
    {
     "name": "stderr",
     "output_type": "stream",
     "text": [
      " 10%|███████▋                                                                      | 99/1000 [38:51<5:51:58, 23.44s/it]"
     ]
    },
    {
     "name": "stdout",
     "output_type": "stream",
     "text": [
      "\n",
      "Epoch 100:\n",
      "\n",
      "Generator training loss: 0.6719299206316797\n",
      "Discriminator training loss: -0.005387697089650341\n",
      "\n",
      "Generator validation loss: 0.058614402948344344\n",
      "Discriminator validation loss: -0.006498254182513877\n",
      "\n",
      "Epoch 100:\n"
     ]
    },
    {
     "data": {
      "image/png": "[encoded data removed]",
      "text/plain": [
       "<Figure size 432x288 with 1 Axes>"
      ]
     },
     "metadata": {
      "needs_background": "light"
     },
     "output_type": "display_data"
    },
    {
     "data": {
      "image/png": "[encoded data removed]",
      "text/plain": [
       "<Figure size 432x288 with 1 Axes>"
      ]
     },
     "metadata": {
      "needs_background": "light"
     },
     "output_type": "display_data"
    },
    {
     "data": {
      "image/png": "[encoded data removed]",
      "text/plain": [
       "<Figure size 432x288 with 1 Axes>"
      ]
     },
     "metadata": {
      "needs_background": "light"
     },
     "output_type": "display_data"
    },
    {
     "name": "stderr",
     "output_type": "stream",
     "text": [
      " 11%|████████▍                                                                    | 110/1000 [43:09<5:48:13, 23.48s/it]"
     ]
    },
    {
     "name": "stdout",
     "output_type": "stream",
     "text": [
      "\n",
      "Epoch 110:\n",
      "\n",
      "Generator training loss: 0.2682819336632399\n",
      "Discriminator training loss: 0.026841220427188412\n",
      "\n",
      "Generator validation loss: -0.5661310082087752\n",
      "Discriminator validation loss: -0.003542371210761437\n"
     ]
    },
    {
     "name": "stderr",
     "output_type": "stream",
     "text": [
      " 12%|█████████▏                                                                   | 120/1000 [47:04<5:44:01, 23.46s/it]"
     ]
    },
    {
     "name": "stdout",
     "output_type": "stream",
     "text": [
      "\n",
      "Epoch 120:\n",
      "\n",
      "Generator training loss: 0.35006675602552667\n",
      "Discriminator training loss: 0.005364566735481842\n",
      "\n",
      "Generator validation loss: -0.3623457415426364\n",
      "Discriminator validation loss: 0.045643358232527895\n"
     ]
    },
    {
     "name": "stderr",
     "output_type": "stream",
     "text": [
      " 13%|██████████                                                                   | 130/1000 [50:59<5:40:35, 23.49s/it]"
     ]
    },
    {
     "name": "stdout",
     "output_type": "stream",
     "text": [
      "\n",
      "Epoch 130:\n",
      "\n",
      "Generator training loss: 0.23025138435956558\n",
      "Discriminator training loss: 0.01815417891475938\n",
      "\n",
      "Generator validation loss: -0.5439238262469651\n",
      "Discriminator validation loss: -0.012382799519758412\n"
     ]
    },
    {
     "name": "stderr",
     "output_type": "stream",
     "text": [
      " 14%|██████████▊                                                                  | 140/1000 [54:55<5:38:01, 23.58s/it]"
     ]
    },
    {
     "name": "stdout",
     "output_type": "stream",
     "text": [
      "\n",
      "Epoch 140:\n",
      "\n",
      "Generator training loss: 0.2985497473489717\n",
      "Discriminator training loss: 0.009274203594192886\n",
      "\n",
      "Generator validation loss: -0.5096109938181814\n",
      "Discriminator validation loss: 0.027554377342372004\n"
     ]
    },
    {
     "name": "stderr",
     "output_type": "stream",
     "text": [
      " 15%|███████████▌                                                                 | 150/1000 [58:51<5:35:04, 23.65s/it]"
     ]
    },
    {
     "name": "stdout",
     "output_type": "stream",
     "text": [
      "\n",
      "Epoch 150:\n",
      "\n",
      "Generator training loss: 0.39896100560009806\n",
      "Discriminator training loss: 0.006122752992303733\n",
      "\n",
      "Generator validation loss: -0.4435994362489122\n",
      "Discriminator validation loss: 0.00976015296104468\n"
     ]
    },
    {
     "name": "stderr",
     "output_type": "stream",
     "text": [
      " 16%|████████████                                                               | 160/1000 [1:02:48<5:33:15, 23.80s/it]"
     ]
    },
    {
     "name": "stdout",
     "output_type": "stream",
     "text": [
      "\n",
      "Epoch 160:\n",
      "\n",
      "Generator training loss: 0.32205150072854727\n",
      "Discriminator training loss: 0.005231116271601711\n",
      "\n",
      "Generator validation loss: -0.6129131727531308\n",
      "Discriminator validation loss: 0.006388382428444036\n"
     ]
    },
    {
     "name": "stderr",
     "output_type": "stream",
     "text": [
      " 17%|████████████▊                                                              | 170/1000 [1:06:45<5:26:20, 23.59s/it]"
     ]
    },
    {
     "name": "stdout",
     "output_type": "stream",
     "text": [
      "\n",
      "Epoch 170:\n",
      "\n",
      "Generator training loss: 0.4723974607599889\n",
      "Discriminator training loss: 0.0120761284277668\n",
      "\n",
      "Generator validation loss: -0.43010292458729665\n",
      "Discriminator validation loss: 0.0699695375515148\n"
     ]
    },
    {
     "name": "stderr",
     "output_type": "stream",
     "text": [
      " 18%|█████████████▌                                                             | 180/1000 [1:10:40<5:20:57, 23.48s/it]"
     ]
    },
    {
     "name": "stdout",
     "output_type": "stream",
     "text": [
      "\n",
      "Epoch 180:\n",
      "\n",
      "Generator training loss: 0.5382230514711369\n",
      "Discriminator training loss: 0.017586282463131393\n",
      "\n",
      "Generator validation loss: -0.19785363721798677\n",
      "Discriminator validation loss: -0.010979112412314862\n"
     ]
    },
    {
     "name": "stderr",
     "output_type": "stream",
     "text": [
      " 19%|██████████████▎                                                            | 190/1000 [1:14:36<5:18:37, 23.60s/it]"
     ]
    },
    {
     "name": "stdout",
     "output_type": "stream",
     "text": [
      "\n",
      "Epoch 190:\n",
      "\n",
      "Generator training loss: 0.6006523746121777\n",
      "Discriminator training loss: 0.003125494589727427\n",
      "\n",
      "Generator validation loss: -0.2463189557072569\n",
      "Discriminator validation loss: 0.034275313552273874\n"
     ]
    },
    {
     "name": "stderr",
     "output_type": "stream",
     "text": [
      " 20%|██████████████▉                                                            | 199/1000 [1:18:08<5:14:26, 23.55s/it]"
     ]
    },
    {
     "name": "stdout",
     "output_type": "stream",
     "text": [
      "\n",
      "Epoch 200:\n",
      "\n",
      "Generator training loss: 0.5962582742744457\n",
      "Discriminator training loss: 0.003783055771110596\n",
      "\n",
      "Generator validation loss: -0.23709136021674657\n",
      "Discriminator validation loss: -0.01207877112595225\n",
      "\n",
      "Epoch 200:\n"
     ]
    },
    {
     "data": {
      "image/png": "[encoded data removed]",
      "text/plain": [
       "<Figure size 432x288 with 1 Axes>"
      ]
     },
     "metadata": {
      "needs_background": "light"
     },
     "output_type": "display_data"
    },
    {
     "data": {
      "image/png": "[encoded data removed]",
      "text/plain": [
       "<Figure size 432x288 with 1 Axes>"
      ]
     },
     "metadata": {
      "needs_background": "light"
     },
     "output_type": "display_data"
    },
    {
     "data": {
      "image/png": "[encoded data removed]",
      "text/plain": [
       "<Figure size 432x288 with 1 Axes>"
      ]
     },
     "metadata": {
      "needs_background": "light"
     },
     "output_type": "display_data"
    },
    {
     "name": "stderr",
     "output_type": "stream",
     "text": [
      " 21%|███████████████▊                                                           | 210/1000 [1:22:28<5:10:40, 23.60s/it]"
     ]
    },
    {
     "name": "stdout",
     "output_type": "stream",
     "text": [
      "\n",
      "Epoch 210:\n",
      "\n",
      "Generator training loss: 0.5732558094412903\n",
      "Discriminator training loss: 0.003993922194973005\n",
      "\n",
      "Generator validation loss: -0.24975179386187774\n",
      "Discriminator validation loss: -0.001039253121786312\n"
     ]
    },
    {
     "name": "stderr",
     "output_type": "stream",
     "text": [
      " 22%|████████████████▌                                                          | 220/1000 [1:26:24<5:07:23, 23.65s/it]"
     ]
    },
    {
     "name": "stdout",
     "output_type": "stream",
     "text": [
      "\n",
      "Epoch 220:\n",
      "\n",
      "Generator training loss: 0.5099837483196962\n",
      "Discriminator training loss: 0.0037776913040655073\n",
      "\n",
      "Generator validation loss: -0.30199154234323344\n",
      "Discriminator validation loss: 0.02882301490028679\n"
     ]
    },
    {
     "name": "stderr",
     "output_type": "stream",
     "text": [
      " 23%|█████████████████▎                                                         | 230/1000 [1:30:20<5:01:51, 23.52s/it]"
     ]
    },
    {
     "name": "stdout",
     "output_type": "stream",
     "text": [
      "\n",
      "Epoch 230:\n",
      "\n",
      "Generator training loss: 0.4309822279410284\n",
      "Discriminator training loss: 0.004865570434558918\n",
      "\n",
      "Generator validation loss: -0.43484954230609485\n",
      "Discriminator validation loss: 0.01498486270638303\n"
     ]
    },
    {
     "name": "stderr",
     "output_type": "stream",
     "text": [
      " 24%|██████████████████                                                         | 240/1000 [1:34:17<5:00:47, 23.75s/it]"
     ]
    },
    {
     "name": "stdout",
     "output_type": "stream",
     "text": [
      "\n",
      "Epoch 240:\n",
      "\n",
      "Generator training loss: 0.4578657872934159\n",
      "Discriminator training loss: 0.002116725577215732\n",
      "\n",
      "Generator validation loss: -0.43129600523436656\n",
      "Discriminator validation loss: 0.01997351198558329\n"
     ]
    },
    {
     "name": "stderr",
     "output_type": "stream",
     "text": [
      " 25%|██████████████████▊                                                        | 250/1000 [1:38:15<4:56:44, 23.74s/it]"
     ]
    },
    {
     "name": "stdout",
     "output_type": "stream",
     "text": [
      "\n",
      "Epoch 250:\n",
      "\n",
      "Generator training loss: 0.3709231275108343\n",
      "Discriminator training loss: 0.002356956597470314\n",
      "\n",
      "Generator validation loss: -0.41763064436248093\n",
      "Discriminator validation loss: 0.006457433313013009\n"
     ]
    },
    {
     "name": "stderr",
     "output_type": "stream",
     "text": [
      " 26%|███████████████████▌                                                       | 260/1000 [1:42:11<4:52:01, 23.68s/it]"
     ]
    },
    {
     "name": "stdout",
     "output_type": "stream",
     "text": [
      "\n",
      "Epoch 260:\n",
      "\n",
      "Generator training loss: 0.4219036924708736\n",
      "Discriminator training loss: 0.004096060731171747\n",
      "\n",
      "Generator validation loss: -0.367252776246579\n",
      "Discriminator validation loss: 0.0013929570833155235\n"
     ]
    },
    {
     "name": "stderr",
     "output_type": "stream",
     "text": [
      " 27%|████████████████████▎                                                      | 270/1000 [1:46:08<4:47:07, 23.60s/it]"
     ]
    },
    {
     "name": "stdout",
     "output_type": "stream",
     "text": [
      "\n",
      "Epoch 270:\n",
      "\n",
      "Generator training loss: 0.37496256294960534\n",
      "Discriminator training loss: 0.0048699538248513675\n",
      "\n",
      "Generator validation loss: -0.5378399283670988\n",
      "Discriminator validation loss: 0.02692711235169077\n"
     ]
    },
    {
     "name": "stderr",
     "output_type": "stream",
     "text": [
      " 28%|█████████████████████                                                      | 280/1000 [1:50:06<4:47:30, 23.96s/it]"
     ]
    },
    {
     "name": "stdout",
     "output_type": "stream",
     "text": [
      "\n",
      "Epoch 280:\n",
      "\n",
      "Generator training loss: 0.3686815339847992\n",
      "Discriminator training loss: 0.002663188418383505\n",
      "\n",
      "Generator validation loss: -0.4660038515681126\n",
      "Discriminator validation loss: 0.01746195530561591\n"
     ]
    },
    {
     "name": "stderr",
     "output_type": "stream",
     "text": [
      " 29%|█████████████████████▊                                                     | 290/1000 [1:54:02<4:39:25, 23.61s/it]"
     ]
    },
    {
     "name": "stdout",
     "output_type": "stream",
     "text": [
      "\n",
      "Epoch 290:\n",
      "\n",
      "Generator training loss: 0.34115485266828144\n",
      "Discriminator training loss: 0.0060687492333277495\n",
      "\n",
      "Generator validation loss: -0.5073006332653468\n",
      "Discriminator validation loss: -0.024015325442439357\n"
     ]
    },
    {
     "name": "stderr",
     "output_type": "stream",
     "text": [
      " 30%|██████████████████████▍                                                    | 299/1000 [1:57:35<4:37:05, 23.72s/it]"
     ]
    },
    {
     "name": "stdout",
     "output_type": "stream",
     "text": [
      "\n",
      "Epoch 300:\n",
      "\n",
      "Generator training loss: 0.26599982254654986\n",
      "Discriminator training loss: 0.0034280002435748505\n",
      "\n",
      "Generator validation loss: -0.56639179733933\n",
      "Discriminator validation loss: 0.006985157112064714\n",
      "\n",
      "Epoch 300:\n"
     ]
    },
    {
     "data": {
      "image/png": "[encoded data removed]",
      "text/plain": [
       "<Figure size 432x288 with 1 Axes>"
      ]
     },
     "metadata": {
      "needs_background": "light"
     },
     "output_type": "display_data"
    },
    {
     "data": {
      "image/png": "[encoded data removed]",
      "text/plain": [
       "<Figure size 432x288 with 1 Axes>"
      ]
     },
     "metadata": {
      "needs_background": "light"
     },
     "output_type": "display_data"
    },
    {
     "data": {
      "image/png": "[encoded data removed]",
      "text/plain": [
       "<Figure size 432x288 with 1 Axes>"
      ]
     },
     "metadata": {
      "needs_background": "light"
     },
     "output_type": "display_data"
    },
    {
     "name": "stderr",
     "output_type": "stream",
     "text": [
      " 31%|███████████████████████▎                                                   | 310/1000 [2:01:56<4:33:12, 23.76s/it]"
     ]
    },
    {
     "name": "stdout",
     "output_type": "stream",
     "text": [
      "\n",
      "Epoch 310:\n",
      "\n",
      "Generator training loss: 0.24170511701434363\n",
      "Discriminator training loss: 0.003533118048139567\n",
      "\n",
      "Generator validation loss: -0.6098009963504604\n",
      "Discriminator validation loss: -0.0001873737923919269\n"
     ]
    },
    {
     "name": "stderr",
     "output_type": "stream",
     "text": [
      " 32%|████████████████████████                                                   | 320/1000 [2:05:51<4:27:17, 23.58s/it]"
     ]
    },
    {
     "name": "stdout",
     "output_type": "stream",
     "text": [
      "\n",
      "Epoch 320:\n",
      "\n",
      "Generator training loss: 0.32125353349036856\n",
      "Discriminator training loss: 0.0045235344147289145\n",
      "\n",
      "Generator validation loss: -0.5152786376534916\n",
      "Discriminator validation loss: -0.01354292010555433\n"
     ]
    },
    {
     "name": "stderr",
     "output_type": "stream",
     "text": [
      " 33%|████████████████████████▊                                                  | 330/1000 [2:09:48<4:23:35, 23.60s/it]"
     ]
    },
    {
     "name": "stdout",
     "output_type": "stream",
     "text": [
      "\n",
      "Epoch 330:\n",
      "\n",
      "Generator training loss: 0.31918435063355605\n",
      "Discriminator training loss: 0.004060777169559184\n",
      "\n",
      "Generator validation loss: -0.5088093632557353\n",
      "Discriminator validation loss: 0.031968019536791084\n"
     ]
    },
    {
     "name": "stderr",
     "output_type": "stream",
     "text": [
      " 34%|█████████████████████████▌                                                 | 340/1000 [2:13:46<4:21:44, 23.80s/it]"
     ]
    },
    {
     "name": "stdout",
     "output_type": "stream",
     "text": [
      "\n",
      "Epoch 340:\n",
      "\n",
      "Generator training loss: 0.21076068351340424\n",
      "Discriminator training loss: 0.0056182550419037304\n",
      "\n",
      "Generator validation loss: -0.6208853369853535\n",
      "Discriminator validation loss: -0.008106838260841943\n"
     ]
    },
    {
     "name": "stderr",
     "output_type": "stream",
     "text": [
      " 35%|██████████████████████████▎                                                | 350/1000 [2:17:42<4:16:12, 23.65s/it]"
     ]
    },
    {
     "name": "stdout",
     "output_type": "stream",
     "text": [
      "\n",
      "Epoch 350:\n",
      "\n",
      "Generator training loss: 0.17805967501318845\n",
      "Discriminator training loss: 0.008346072680624126\n",
      "\n",
      "Generator validation loss: -0.6367498262495291\n",
      "Discriminator validation loss: -0.0019320784247342925\n"
     ]
    },
    {
     "name": "stderr",
     "output_type": "stream",
     "text": [
      " 36%|███████████████████████████                                                | 360/1000 [2:21:39<4:13:11, 23.74s/it]"
     ]
    },
    {
     "name": "stdout",
     "output_type": "stream",
     "text": [
      "\n",
      "Epoch 360:\n",
      "\n",
      "Generator training loss: 0.13206934333839987\n",
      "Discriminator training loss: 0.010532854338297476\n",
      "\n",
      "Generator validation loss: -0.7469264718352772\n",
      "Discriminator validation loss: 0.07032155726471397\n"
     ]
    },
    {
     "name": "stderr",
     "output_type": "stream",
     "text": [
      " 37%|███████████████████████████▊                                               | 370/1000 [2:25:36<4:08:15, 23.64s/it]"
     ]
    },
    {
     "name": "stdout",
     "output_type": "stream",
     "text": [
      "\n",
      "Epoch 370:\n",
      "\n",
      "Generator training loss: 0.009420806233188432\n",
      "Discriminator training loss: 0.008205555718122327\n",
      "\n",
      "Generator validation loss: -0.8026729673147202\n",
      "Discriminator validation loss: 0.012659462378503464\n"
     ]
    },
    {
     "name": "stderr",
     "output_type": "stream",
     "text": [
      " 38%|████████████████████████████▌                                              | 380/1000 [2:29:32<4:04:18, 23.64s/it]"
     ]
    },
    {
     "name": "stdout",
     "output_type": "stream",
     "text": [
      "\n",
      "Epoch 380:\n",
      "\n",
      "Generator training loss: 0.08488549613947292\n",
      "Discriminator training loss: 0.0047229565584430665\n",
      "\n",
      "Generator validation loss: -0.7239251940465364\n",
      "Discriminator validation loss: -0.001567422765398734\n"
     ]
    },
    {
     "name": "stderr",
     "output_type": "stream",
     "text": [
      " 39%|█████████████████████████████▎                                             | 390/1000 [2:33:29<4:01:28, 23.75s/it]"
     ]
    },
    {
     "name": "stdout",
     "output_type": "stream",
     "text": [
      "\n",
      "Epoch 390:\n",
      "\n",
      "Generator training loss: 0.17410292596011703\n",
      "Discriminator training loss: 0.003013179706649084\n",
      "\n",
      "Generator validation loss: -0.7153286462435957\n",
      "Discriminator validation loss: 0.015373381914749367\n"
     ]
    },
    {
     "name": "stderr",
     "output_type": "stream",
     "text": [
      " 40%|█████████████████████████████▉                                             | 399/1000 [2:37:02<3:56:15, 23.59s/it]"
     ]
    },
    {
     "name": "stdout",
     "output_type": "stream",
     "text": [
      "\n",
      "Epoch 400:\n",
      "\n",
      "Generator training loss: 0.13405954859555377\n",
      "Discriminator training loss: 0.00817393530195177\n",
      "\n",
      "Generator validation loss: -0.6913414121162696\n",
      "Discriminator validation loss: 0.03343391539404917\n",
      "\n",
      "Epoch 400:\n"
     ]
    },
    {
     "data": {
      "image/png": "[encoded data removed]",
      "text/plain": [
       "<Figure size 432x288 with 1 Axes>"
      ]
     },
     "metadata": {
      "needs_background": "light"
     },
     "output_type": "display_data"
    },
    {
     "data": {
      "image/png": "[encoded data removed]",
      "text/plain": [
       "<Figure size 432x288 with 1 Axes>"
      ]
     },
     "metadata": {
      "needs_background": "light"
     },
     "output_type": "display_data"
    },
    {
     "data": {
      "image/png": "[encoded data removed]",
      "text/plain": [
       "<Figure size 432x288 with 1 Axes>"
      ]
     },
     "metadata": {
      "needs_background": "light"
     },
     "output_type": "display_data"
    },
    {
     "name": "stderr",
     "output_type": "stream",
     "text": [
      " 41%|██████████████████████████████▋                                            | 410/1000 [2:41:23<3:53:22, 23.73s/it]"
     ]
    },
    {
     "name": "stdout",
     "output_type": "stream",
     "text": [
      "\n",
      "Epoch 410:\n",
      "\n",
      "Generator training loss: 0.02565459280686397\n",
      "Discriminator training loss: 0.0031849581567272613\n",
      "\n",
      "Generator validation loss: -0.8895091656290117\n",
      "Discriminator validation loss: 0.011062938264703767\n"
     ]
    },
    {
     "name": "stderr",
     "output_type": "stream",
     "text": [
      " 42%|███████████████████████████████▌                                           | 420/1000 [2:45:19<3:48:14, 23.61s/it]"
     ]
    },
    {
     "name": "stdout",
     "output_type": "stream",
     "text": [
      "\n",
      "Epoch 420:\n",
      "\n",
      "Generator training loss: 0.06408646460870647\n",
      "Discriminator training loss: 0.0017873727024255812\n",
      "\n",
      "Generator validation loss: -0.8428307805882126\n",
      "Discriminator validation loss: 0.010975890151548512\n"
     ]
    },
    {
     "name": "stderr",
     "output_type": "stream",
     "text": [
      " 43%|████████████████████████████████▎                                          | 430/1000 [2:49:15<3:43:36, 23.54s/it]"
     ]
    },
    {
     "name": "stdout",
     "output_type": "stream",
     "text": [
      "\n",
      "Epoch 430:\n",
      "\n",
      "Generator training loss: 0.006868537705451444\n",
      "Discriminator training loss: 0.005372756870674692\n",
      "\n",
      "Generator validation loss: -0.9120072072646657\n",
      "Discriminator validation loss: 0.051945061733007246\n"
     ]
    },
    {
     "name": "stderr",
     "output_type": "stream",
     "text": [
      " 44%|█████████████████████████████████                                          | 440/1000 [2:53:12<3:41:22, 23.72s/it]"
     ]
    },
    {
     "name": "stdout",
     "output_type": "stream",
     "text": [
      "\n",
      "Epoch 440:\n",
      "\n",
      "Generator training loss: -0.015587368492441649\n",
      "Discriminator training loss: 0.004310549751865243\n",
      "\n",
      "Generator validation loss: -0.8980342066678845\n",
      "Discriminator validation loss: -0.011317362544030433\n"
     ]
    },
    {
     "name": "stderr",
     "output_type": "stream",
     "text": [
      " 45%|█████████████████████████████████▊                                         | 450/1000 [2:57:09<3:36:38, 23.63s/it]"
     ]
    },
    {
     "name": "stdout",
     "output_type": "stream",
     "text": [
      "\n",
      "Epoch 450:\n",
      "\n",
      "Generator training loss: -0.10454567843511232\n",
      "Discriminator training loss: 0.003795322124931305\n",
      "\n",
      "Generator validation loss: -0.9660821456889637\n",
      "Discriminator validation loss: 0.000317818713975597\n"
     ]
    },
    {
     "name": "stderr",
     "output_type": "stream",
     "text": [
      " 46%|██████████████████████████████████▌                                        | 460/1000 [3:01:05<3:32:11, 23.58s/it]"
     ]
    },
    {
     "name": "stdout",
     "output_type": "stream",
     "text": [
      "\n",
      "Epoch 460:\n",
      "\n",
      "Generator training loss: -0.15411424649818267\n",
      "Discriminator training loss: 0.007699747446161785\n",
      "\n",
      "Generator validation loss: -0.9903991388492897\n",
      "Discriminator validation loss: 0.010163822502721307\n"
     ]
    },
    {
     "name": "stderr",
     "output_type": "stream",
     "text": [
      " 47%|███████████████████████████████████▎                                       | 470/1000 [3:05:03<3:29:07, 23.67s/it]"
     ]
    },
    {
     "name": "stdout",
     "output_type": "stream",
     "text": [
      "\n",
      "Epoch 470:\n",
      "\n",
      "Generator training loss: -0.2398447075380328\n",
      "Discriminator training loss: 0.005758960234867674\n",
      "\n",
      "Generator validation loss: -1.1123354283512616\n",
      "Discriminator validation loss: -0.004789623147264108\n"
     ]
    },
    {
     "name": "stderr",
     "output_type": "stream",
     "text": [
      " 48%|████████████████████████████████████                                       | 480/1000 [3:08:59<3:24:01, 23.54s/it]"
     ]
    },
    {
     "name": "stdout",
     "output_type": "stream",
     "text": [
      "\n",
      "Epoch 480:\n",
      "\n",
      "Generator training loss: -0.23326077832855652\n",
      "Discriminator training loss: 0.013207970077236808\n",
      "\n",
      "Generator validation loss: -1.0029246777784628\n",
      "Discriminator validation loss: -0.019475294306652895\n"
     ]
    },
    {
     "name": "stderr",
     "output_type": "stream",
     "text": [
      " 49%|████████████████████████████████████▊                                      | 490/1000 [3:12:54<3:19:23, 23.46s/it]"
     ]
    },
    {
     "name": "stdout",
     "output_type": "stream",
     "text": [
      "\n",
      "Epoch 490:\n",
      "\n",
      "Generator training loss: -0.28773113242426857\n",
      "Discriminator training loss: 0.007674342509892851\n",
      "\n",
      "Generator validation loss: -1.1416094874749418\n",
      "Discriminator validation loss: 0.010742537028117574\n"
     ]
    },
    {
     "name": "stderr",
     "output_type": "stream",
     "text": [
      " 50%|█████████████████████████████████████▍                                     | 499/1000 [3:16:26<3:16:17, 23.51s/it]"
     ]
    },
    {
     "name": "stdout",
     "output_type": "stream",
     "text": [
      "\n",
      "Epoch 500:\n",
      "\n",
      "Generator training loss: -0.24621474997349124\n",
      "Discriminator training loss: 0.005312629181748467\n",
      "\n",
      "Generator validation loss: -1.118006855249405\n",
      "Discriminator validation loss: -0.006661589084316921\n",
      "\n",
      "Epoch 500:\n"
     ]
    },
    {
     "data": {
      "image/png": "[encoded data removed]",
      "text/plain": [
       "<Figure size 432x288 with 1 Axes>"
      ]
     },
     "metadata": {
      "needs_background": "light"
     },
     "output_type": "display_data"
    },
    {
     "data": {
      "image/png": "[encoded data removed]",
      "text/plain": [
       "<Figure size 432x288 with 1 Axes>"
      ]
     },
     "metadata": {
      "needs_background": "light"
     },
     "output_type": "display_data"
    },
    {
     "data": {
      "image/png": "[encoded data removed]",
      "text/plain": [
       "<Figure size 432x288 with 1 Axes>"
      ]
     },
     "metadata": {
      "needs_background": "light"
     },
     "output_type": "display_data"
    },
    {
     "name": "stderr",
     "output_type": "stream",
     "text": [
      " 51%|██████████████████████████████████████▎                                    | 510/1000 [3:20:45<3:12:52, 23.62s/it]"
     ]
    },
    {
     "name": "stdout",
     "output_type": "stream",
     "text": [
      "\n",
      "Epoch 510:\n",
      "\n",
      "Generator training loss: -0.31398604964949395\n",
      "Discriminator training loss: 0.0060768936312516645\n",
      "\n",
      "Generator validation loss: -1.1884698037241326\n",
      "Discriminator validation loss: 0.010779186035834441\n"
     ]
    },
    {
     "name": "stderr",
     "output_type": "stream",
     "text": [
      " 52%|███████████████████████████████████████                                    | 520/1000 [3:24:41<3:09:03, 23.63s/it]"
     ]
    },
    {
     "name": "stdout",
     "output_type": "stream",
     "text": [
      "\n",
      "Epoch 520:\n",
      "\n",
      "Generator training loss: -0.4302430562878567\n",
      "Discriminator training loss: 0.0062203016456244325\n",
      "\n",
      "Generator validation loss: -1.2946147459452269\n",
      "Discriminator validation loss: 0.004554460384094797\n"
     ]
    },
    {
     "name": "stderr",
     "output_type": "stream",
     "text": [
      " 53%|███████████████████████████████████████▊                                   | 530/1000 [3:28:36<3:04:25, 23.54s/it]"
     ]
    },
    {
     "name": "stdout",
     "output_type": "stream",
     "text": [
      "\n",
      "Epoch 530:\n",
      "\n",
      "Generator training loss: -0.5182554988506062\n",
      "Discriminator training loss: 0.013655415085687095\n",
      "\n",
      "Generator validation loss: -1.4176613888779626\n",
      "Discriminator validation loss: 0.013339416176170401\n"
     ]
    },
    {
     "name": "stderr",
     "output_type": "stream",
     "text": [
      " 54%|████████████████████████████████████████▌                                  | 540/1000 [3:32:32<3:00:08, 23.50s/it]"
     ]
    },
    {
     "name": "stdout",
     "output_type": "stream",
     "text": [
      "\n",
      "Epoch 540:\n",
      "\n",
      "Generator training loss: -0.602668115227926\n",
      "Discriminator training loss: 0.004356621115913369\n",
      "\n",
      "Generator validation loss: -1.506576631401406\n",
      "Discriminator validation loss: 0.011388569322990092\n"
     ]
    },
    {
     "name": "stderr",
     "output_type": "stream",
     "text": [
      " 55%|█████████████████████████████████████████▎                                 | 550/1000 [3:36:28<2:57:16, 23.64s/it]"
     ]
    },
    {
     "name": "stdout",
     "output_type": "stream",
     "text": [
      "\n",
      "Epoch 550:\n",
      "\n",
      "Generator training loss: -0.6672176474430522\n",
      "Discriminator training loss: 0.008951598092985751\n",
      "\n",
      "Generator validation loss: -1.5709623469681036\n",
      "Discriminator validation loss: 0.01456577239508481\n"
     ]
    },
    {
     "name": "stderr",
     "output_type": "stream",
     "text": [
      " 56%|██████████████████████████████████████████                                 | 560/1000 [3:40:23<2:52:33, 23.53s/it]"
     ]
    },
    {
     "name": "stdout",
     "output_type": "stream",
     "text": [
      "\n",
      "Epoch 560:\n",
      "\n",
      "Generator training loss: -0.7112475608378812\n",
      "Discriminator training loss: 0.00568433254879072\n",
      "\n",
      "Generator validation loss: -1.595505924009886\n",
      "Discriminator validation loss: -0.013922996751567612\n"
     ]
    },
    {
     "name": "stderr",
     "output_type": "stream",
     "text": [
      " 57%|██████████████████████████████████████████▋                                | 570/1000 [3:44:18<2:48:04, 23.45s/it]"
     ]
    },
    {
     "name": "stdout",
     "output_type": "stream",
     "text": [
      "\n",
      "Epoch 570:\n",
      "\n",
      "Generator training loss: -0.7634853541525335\n",
      "Discriminator training loss: 0.00412312859077192\n",
      "\n",
      "Generator validation loss: -1.7180526955205886\n",
      "Discriminator validation loss: 0.01612714710951922\n"
     ]
    },
    {
     "name": "stderr",
     "output_type": "stream",
     "text": [
      " 58%|███████████████████████████████████████████▌                               | 580/1000 [3:48:13<2:44:34, 23.51s/it]"
     ]
    },
    {
     "name": "stdout",
     "output_type": "stream",
     "text": [
      "\n",
      "Epoch 580:\n",
      "\n",
      "Generator training loss: -0.8248090546964948\n",
      "Discriminator training loss: 0.002668494350542482\n",
      "\n",
      "Generator validation loss: -1.7574501902353568\n",
      "Discriminator validation loss: -0.000918219841326793\n"
     ]
    },
    {
     "name": "stderr",
     "output_type": "stream",
     "text": [
      " 59%|████████████████████████████████████████████▎                              | 590/1000 [3:52:08<2:41:34, 23.65s/it]"
     ]
    },
    {
     "name": "stdout",
     "output_type": "stream",
     "text": [
      "\n",
      "Epoch 590:\n",
      "\n",
      "Generator training loss: -0.8298262107730563\n",
      "Discriminator training loss: 0.006017892595752175\n",
      "\n",
      "Generator validation loss: -1.7770257963508855\n",
      "Discriminator validation loss: 0.012512290694415198\n"
     ]
    },
    {
     "name": "stderr",
     "output_type": "stream",
     "text": [
      " 60%|████████████████████████████████████████████▉                              | 599/1000 [3:55:39<2:36:59, 23.49s/it]"
     ]
    },
    {
     "name": "stdout",
     "output_type": "stream",
     "text": [
      "\n",
      "Epoch 600:\n",
      "\n",
      "Generator training loss: -0.7801497171485359\n",
      "Discriminator training loss: 0.00814747563040651\n",
      "\n",
      "Generator validation loss: -1.7189471350341547\n",
      "Discriminator validation loss: 0.00743045618797683\n",
      "\n",
      "Epoch 600:\n"
     ]
    },
    {
     "data": {
      "image/png": "[encoded data removed]",
      "text/plain": [
       "<Figure size 432x288 with 1 Axes>"
      ]
     },
     "metadata": {
      "needs_background": "light"
     },
     "output_type": "display_data"
    },
    {
     "data": {
      "image/png": "[encoded data removed]",
      "text/plain": [
       "<Figure size 432x288 with 1 Axes>"
      ]
     },
     "metadata": {
      "needs_background": "light"
     },
     "output_type": "display_data"
    },
    {
     "data": {
      "image/png": "[encoded data removed]",
      "text/plain": [
       "<Figure size 432x288 with 1 Axes>"
      ]
     },
     "metadata": {
      "needs_background": "light"
     },
     "output_type": "display_data"
    },
    {
     "name": "stderr",
     "output_type": "stream",
     "text": [
      " 61%|█████████████████████████████████████████████▊                             | 610/1000 [3:59:58<2:33:11, 23.57s/it]"
     ]
    },
    {
     "name": "stdout",
     "output_type": "stream",
     "text": [
      "\n",
      "Epoch 610:\n",
      "\n",
      "Generator training loss: -0.8434914507663966\n",
      "Discriminator training loss: 0.0019926989859627587\n",
      "\n",
      "Generator validation loss: -1.8094620885419064\n",
      "Discriminator validation loss: 0.009832858951190022\n"
     ]
    },
    {
     "name": "stderr",
     "output_type": "stream",
     "text": [
      " 61%|███████████████████████████████████████████▌                           | 613/1000 [7:17:30<268:29:21, 2497.57s/it]"
     ]
    }
   ],
   "source": [
    "train_gen_losses = []\n",
    "train_disc_losses = []\n",
    "test_gen_losses = []\n",
    "test_disc_losses = []\n",
    "train(train_dataset, test_dataset, 1000, N_CRITIC)"
   ]
  },
  {
   "cell_type": "markdown",
   "metadata": {},
   "source": [
    "## Results\n",
    "Train for 4 features works pretty well and took 2:20 hrs for 1000 epos with a 1080"
   ]
  },
  {
   "cell_type": "code",
   "execution_count": null,
   "metadata": {},
   "outputs": [],
   "source": [
    "z"
   ]
  },
  {
   "cell_type": "code",
   "execution_count": null,
   "metadata": {},
   "outputs": [],
   "source": []
  }
 ],
 "metadata": {
  "kernelspec": {
   "display_name": "Python 3.7 (tensorflow)",
   "language": "python",
   "name": "tensorflow"
  },
  "language_info": {
   "codemirror_mode": {
    "name": "ipython",
    "version": 3
   },
   "file_extension": ".py",
   "mimetype": "text/x-python",
   "name": "python",
   "nbconvert_exporter": "python",
   "pygments_lexer": "ipython3",
   "version": "3.7.7"
  }
 },
 "nbformat": 4,
 "nbformat_minor": 2
}
