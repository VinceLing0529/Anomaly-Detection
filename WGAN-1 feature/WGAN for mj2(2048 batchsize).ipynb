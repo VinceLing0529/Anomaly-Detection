{
 "cells": [
  {
   "cell_type": "markdown",
   "metadata": {},
   "source": [
    "# Wasserstein GAN with Gradient Penalty\n",
    "## For generation of features based on LHCO2020 datasets"
   ]
  },
  {
   "cell_type": "code",
   "execution_count": 1,
   "metadata": {},
   "outputs": [
    {
     "name": "stdout",
     "output_type": "stream",
     "text": [
      "2.1.0\n",
      "PhysicalDevice(name='/physical_device:GPU:0', device_type='GPU')\n"
     ]
    },
    {
     "name": "stderr",
     "output_type": "stream",
     "text": [
      "Using TensorFlow backend.\n"
     ]
    }
   ],
   "source": [
    "import h5py as h5\n",
    "import numpy as np\n",
    "from math import ceil, floor\n",
    "from tqdm import tqdm\n",
    "import pandas as pd\n",
    "import matplotlib.pyplot as plt\n",
    "from sklearn.model_selection import train_test_split\n",
    "from sklearn.preprocessing import MinMaxScaler\n",
    "import tensorflow as tf\n",
    "from tensorflow.keras import layers\n",
    "import keras.backend as K\n",
    "import gc\n",
    "print(tf.__version__)\n",
    "physical_devices = tf.config.experimental.list_physical_devices('GPU')\n",
    "tf.config.experimental.set_memory_growth(physical_devices[0], True)\n",
    "print(physical_devices[0])"
   ]
  },
  {
   "cell_type": "code",
   "execution_count": 2,
   "metadata": {},
   "outputs": [],
   "source": [
    "filenames = {\n",
    "    \"herwig\": \"Herwig_qcd_features.h5\",\n",
    "    \"pythiabg\": \"GAN-data\\events_anomalydetection_DelphesPythia8_v2_qcd_features.h5\",\n",
    "    \"pythiasig\": \"GAN-data\\events_anomalydetection_DelphesPythia8_v2_Wprime_features.h5\"\n",
    "}\n",
    "\n",
    "datatypes = [\"herwig\", \"pythiabg\", \"pythiasig\"]\n",
    "features = [\"px\", \"py\", \"pz\", \"m\", \"tau1\", \"tau2\", \"tau3\"]\n",
    " # Can be flexibly changed to suit GAN needs"
   ]
  },
  {
   "cell_type": "code",
   "execution_count": 3,
   "metadata": {},
   "outputs": [],
   "source": [
    "def load_data(datatype, stop = None):\n",
    "    input_frame = pd.read_hdf(filenames[datatype], stop = stop)\n",
    "    output_frame = input_frame.copy()\n",
    "    for feature in features:\n",
    "        output_frame[feature + \"j1\"] = (input_frame[\"mj1\"] >= input_frame[\"mj2\"])*input_frame[feature + \"j1\"] + (input_frame[\"mj1\"] < input_frame[\"mj2\"])*input_frame[feature + \"j2\"]\n",
    "        output_frame[feature + \"j2\"] = (input_frame[\"mj1\"] >= input_frame[\"mj2\"])*input_frame[feature + \"j2\"] + (input_frame[\"mj1\"] < input_frame[\"mj2\"])*input_frame[feature + \"j1\"]\n",
    "    del input_frame\n",
    "    gc.collect()\n",
    "    output_frame[\"ej1\"] = np.sqrt(output_frame[\"mj1\"]**2 + output_frame[\"pxj1\"]**2 + output_frame[\"pyj1\"]**2 + output_frame[\"pzj1\"]**2)\n",
    "    output_frame[\"ej2\"] = np.sqrt(output_frame[\"mj2\"]**2 + output_frame[\"pxj2\"]**2 + output_frame[\"pyj2\"]**2 + output_frame[\"pzj2\"]**2)\n",
    "    output_frame[\"ejj\"] = output_frame[\"ej1\"] + output_frame[\"ej2\"]\n",
    "    output_frame[\"pjj\"] = np.sqrt((output_frame[\"pxj1\"] + output_frame[\"pxj2\"])**2 + (output_frame[\"pyj1\"] + output_frame[\"pyj2\"])**2 + (output_frame[\"pyj1\"] + output_frame[\"pyj2\"])**2)\n",
    "    output_frame[\"mjj\"] = np.sqrt(output_frame[\"ejj\"]**2 - output_frame[\"pjj\"]**2)\n",
    "    output_frame[\"tau21j1\"] = output_frame[\"tau2j1\"] / output_frame[\"tau1j1\"]\n",
    "    output_frame[\"tau32j1\"] = output_frame[\"tau3j1\"] / output_frame[\"tau2j1\"]\n",
    "    output_frame[\"tau21j2\"] = output_frame[\"tau2j2\"] / output_frame[\"tau1j2\"]\n",
    "    output_frame[\"tau32j2\"] = output_frame[\"tau3j2\"] / output_frame[\"tau2j2\"]\n",
    "    output_frame[\"mj1-mj2\"] = output_frame[\"mj1\"] -output_frame[\"mj2\"]\n",
    "\n",
    "    return output_frame"
   ]
  },
  {
   "cell_type": "code",
   "execution_count": 4,
   "metadata": {},
   "outputs": [],
   "source": [
    "# Network hyperparameters\n",
    "\n",
    "BATCH_SIZE = 2048# Uses about 3 GB of VRAM for batch size of 512\n",
    "EPOCHS = 1000\n",
    "LEARNING_RATE = 0.00001\n",
    "N_CRITIC = 5\n",
    "C_LAMBDA = 0.5"
   ]
  },
  {
   "cell_type": "code",
   "execution_count": 5,
   "metadata": {},
   "outputs": [
    {
     "name": "stderr",
     "output_type": "stream",
     "text": [
      "D:\\Users\\Azure\\anaconda3\\envs\\GPU\\lib\\site-packages\\pandas\\core\\series.py:679: RuntimeWarning: invalid value encountered in sqrt\n",
      "  result = getattr(ufunc, method)(*inputs, **kwargs)\n"
     ]
    },
    {
     "data": {
      "text/plain": [
       "1e-06"
      ]
     },
     "execution_count": 5,
     "metadata": {},
     "output_type": "execute_result"
    }
   ],
   "source": [
    "df = load_data(\"herwig\")\n",
    "df[\"tau2j2\"]=np.where(df[\"tau2j2\"]==0, 0.000001, df[\"tau2j2\"]) \n",
    "min(df[\"tau2j2\"])"
   ]
  },
  {
   "cell_type": "code",
   "execution_count": 6,
   "metadata": {},
   "outputs": [],
   "source": [
    "df = load_data(\"herwig\")\n",
    "df.dropna(inplace = True)\n",
    "#df[\"tau2j2\"]=np.where(df[\"tau2j2\"]==0, 0.000001, df[\"tau2j2\"]) \n",
    "# Ensures all batches have same size\n",
    "\n",
    "df.drop([i for i in range(df.shape[0] % (BATCH_SIZE * 4))], inplace = True)\n",
    "\n",
    "df.reset_index(drop = True, inplace = True)\n",
    "df = df.astype('float32')"
   ]
  },
  {
   "cell_type": "code",
   "execution_count": 7,
   "metadata": {},
   "outputs": [
    {
     "data": {
      "text/html": [
       "<div>\n",
       "<style scoped>\n",
       "    .dataframe tbody tr th:only-of-type {\n",
       "        vertical-align: middle;\n",
       "    }\n",
       "\n",
       "    .dataframe tbody tr th {\n",
       "        vertical-align: top;\n",
       "    }\n",
       "\n",
       "    .dataframe thead th {\n",
       "        text-align: right;\n",
       "    }\n",
       "</style>\n",
       "<table border=\"1\" class=\"dataframe\">\n",
       "  <thead>\n",
       "    <tr style=\"text-align: right;\">\n",
       "      <th></th>\n",
       "      <th>pxj1</th>\n",
       "      <th>pyj1</th>\n",
       "      <th>pzj1</th>\n",
       "      <th>mj1</th>\n",
       "      <th>tau1j1</th>\n",
       "      <th>tau2j1</th>\n",
       "      <th>tau3j1</th>\n",
       "      <th>pxj2</th>\n",
       "      <th>pyj2</th>\n",
       "      <th>pzj2</th>\n",
       "      <th>...</th>\n",
       "      <th>ej1</th>\n",
       "      <th>ej2</th>\n",
       "      <th>ejj</th>\n",
       "      <th>pjj</th>\n",
       "      <th>mjj</th>\n",
       "      <th>tau21j1</th>\n",
       "      <th>tau32j1</th>\n",
       "      <th>tau21j2</th>\n",
       "      <th>tau32j2</th>\n",
       "      <th>mj1-mj2</th>\n",
       "    </tr>\n",
       "  </thead>\n",
       "  <tbody>\n",
       "    <tr>\n",
       "      <th>0</th>\n",
       "      <td>-606.640015</td>\n",
       "      <td>136.223999</td>\n",
       "      <td>-2463.290039</td>\n",
       "      <td>115.829002</td>\n",
       "      <td>41.708900</td>\n",
       "      <td>19.615000</td>\n",
       "      <td>16.282600</td>\n",
       "      <td>1410.239990</td>\n",
       "      <td>-311.454010</td>\n",
       "      <td>516.468018</td>\n",
       "      <td>...</td>\n",
       "      <td>2543.183594</td>\n",
       "      <td>1537.945679</td>\n",
       "      <td>4081.129395</td>\n",
       "      <td>840.942322</td>\n",
       "      <td>3993.548828</td>\n",
       "      <td>0.470283</td>\n",
       "      <td>0.830110</td>\n",
       "      <td>0.614313</td>\n",
       "      <td>0.647716</td>\n",
       "      <td>2.881004</td>\n",
       "    </tr>\n",
       "    <tr>\n",
       "      <th>1</th>\n",
       "      <td>1075.790039</td>\n",
       "      <td>560.247986</td>\n",
       "      <td>-473.667999</td>\n",
       "      <td>253.820999</td>\n",
       "      <td>98.636002</td>\n",
       "      <td>46.423801</td>\n",
       "      <td>37.188900</td>\n",
       "      <td>-785.905029</td>\n",
       "      <td>-476.933990</td>\n",
       "      <td>-1670.449951</td>\n",
       "      <td>...</td>\n",
       "      <td>1326.645630</td>\n",
       "      <td>1906.993530</td>\n",
       "      <td>3233.639160</td>\n",
       "      <td>312.914948</td>\n",
       "      <td>3218.463379</td>\n",
       "      <td>0.470658</td>\n",
       "      <td>0.801074</td>\n",
       "      <td>0.345675</td>\n",
       "      <td>0.681456</td>\n",
       "      <td>220.523193</td>\n",
       "    </tr>\n",
       "    <tr>\n",
       "      <th>2</th>\n",
       "      <td>-963.197998</td>\n",
       "      <td>-802.231995</td>\n",
       "      <td>-255.048004</td>\n",
       "      <td>369.252991</td>\n",
       "      <td>203.923996</td>\n",
       "      <td>32.369499</td>\n",
       "      <td>22.955299</td>\n",
       "      <td>1066.229980</td>\n",
       "      <td>662.479980</td>\n",
       "      <td>-1211.520020</td>\n",
       "      <td>...</td>\n",
       "      <td>1331.436768</td>\n",
       "      <td>1748.691895</td>\n",
       "      <td>3080.128662</td>\n",
       "      <td>222.883026</td>\n",
       "      <td>3072.053955</td>\n",
       "      <td>0.158733</td>\n",
       "      <td>0.709165</td>\n",
       "      <td>0.349252</td>\n",
       "      <td>0.687567</td>\n",
       "      <td>249.183990</td>\n",
       "    </tr>\n",
       "    <tr>\n",
       "      <th>3</th>\n",
       "      <td>-914.739014</td>\n",
       "      <td>-1285.349976</td>\n",
       "      <td>-390.425995</td>\n",
       "      <td>420.726013</td>\n",
       "      <td>183.169006</td>\n",
       "      <td>29.843300</td>\n",
       "      <td>24.244101</td>\n",
       "      <td>910.085022</td>\n",
       "      <td>1286.180054</td>\n",
       "      <td>228.893997</td>\n",
       "      <td>...</td>\n",
       "      <td>1678.783691</td>\n",
       "      <td>1593.454956</td>\n",
       "      <td>3272.238770</td>\n",
       "      <td>4.799760</td>\n",
       "      <td>3272.235107</td>\n",
       "      <td>0.162928</td>\n",
       "      <td>0.812380</td>\n",
       "      <td>0.515532</td>\n",
       "      <td>0.832525</td>\n",
       "      <td>355.978119</td>\n",
       "    </tr>\n",
       "    <tr>\n",
       "      <th>4</th>\n",
       "      <td>1178.770020</td>\n",
       "      <td>-442.437988</td>\n",
       "      <td>-816.497009</td>\n",
       "      <td>429.519989</td>\n",
       "      <td>272.453003</td>\n",
       "      <td>162.826004</td>\n",
       "      <td>113.084999</td>\n",
       "      <td>-945.479004</td>\n",
       "      <td>402.459015</td>\n",
       "      <td>-412.460999</td>\n",
       "      <td>...</td>\n",
       "      <td>1560.898804</td>\n",
       "      <td>1110.571655</td>\n",
       "      <td>2671.470459</td>\n",
       "      <td>240.044449</td>\n",
       "      <td>2660.664062</td>\n",
       "      <td>0.597630</td>\n",
       "      <td>0.694514</td>\n",
       "      <td>0.720654</td>\n",
       "      <td>0.639655</td>\n",
       "      <td>343.837708</td>\n",
       "    </tr>\n",
       "    <tr>\n",
       "      <th>...</th>\n",
       "      <td>...</td>\n",
       "      <td>...</td>\n",
       "      <td>...</td>\n",
       "      <td>...</td>\n",
       "      <td>...</td>\n",
       "      <td>...</td>\n",
       "      <td>...</td>\n",
       "      <td>...</td>\n",
       "      <td>...</td>\n",
       "      <td>...</td>\n",
       "      <td>...</td>\n",
       "      <td>...</td>\n",
       "      <td>...</td>\n",
       "      <td>...</td>\n",
       "      <td>...</td>\n",
       "      <td>...</td>\n",
       "      <td>...</td>\n",
       "      <td>...</td>\n",
       "      <td>...</td>\n",
       "      <td>...</td>\n",
       "      <td>...</td>\n",
       "    </tr>\n",
       "    <tr>\n",
       "      <th>999419</th>\n",
       "      <td>-710.262024</td>\n",
       "      <td>-1026.920044</td>\n",
       "      <td>-1307.729980</td>\n",
       "      <td>796.106995</td>\n",
       "      <td>744.283020</td>\n",
       "      <td>368.661987</td>\n",
       "      <td>210.828003</td>\n",
       "      <td>692.814026</td>\n",
       "      <td>976.697998</td>\n",
       "      <td>-41.325802</td>\n",
       "      <td>...</td>\n",
       "      <td>1975.596313</td>\n",
       "      <td>1198.612427</td>\n",
       "      <td>3174.208740</td>\n",
       "      <td>73.136452</td>\n",
       "      <td>3173.365967</td>\n",
       "      <td>0.495325</td>\n",
       "      <td>0.571873</td>\n",
       "      <td>0.770408</td>\n",
       "      <td>0.594857</td>\n",
       "      <td>763.957764</td>\n",
       "    </tr>\n",
       "    <tr>\n",
       "      <th>999420</th>\n",
       "      <td>-268.907990</td>\n",
       "      <td>1307.540039</td>\n",
       "      <td>1420.180054</td>\n",
       "      <td>333.614014</td>\n",
       "      <td>240.792007</td>\n",
       "      <td>171.697006</td>\n",
       "      <td>130.660995</td>\n",
       "      <td>155.938995</td>\n",
       "      <td>-1274.060059</td>\n",
       "      <td>-1473.140015</td>\n",
       "      <td>...</td>\n",
       "      <td>1977.418091</td>\n",
       "      <td>1957.884277</td>\n",
       "      <td>3935.302490</td>\n",
       "      <td>122.490051</td>\n",
       "      <td>3933.395508</td>\n",
       "      <td>0.713051</td>\n",
       "      <td>0.760998</td>\n",
       "      <td>0.298112</td>\n",
       "      <td>0.729554</td>\n",
       "      <td>208.620010</td>\n",
       "    </tr>\n",
       "    <tr>\n",
       "      <th>999421</th>\n",
       "      <td>314.462006</td>\n",
       "      <td>1388.619995</td>\n",
       "      <td>-158.914001</td>\n",
       "      <td>420.259003</td>\n",
       "      <td>295.635986</td>\n",
       "      <td>57.412300</td>\n",
       "      <td>44.277100</td>\n",
       "      <td>65.702904</td>\n",
       "      <td>-1444.400024</td>\n",
       "      <td>-1056.260010</td>\n",
       "      <td>...</td>\n",
       "      <td>1492.991333</td>\n",
       "      <td>1792.290039</td>\n",
       "      <td>3285.281494</td>\n",
       "      <td>388.263031</td>\n",
       "      <td>3262.257812</td>\n",
       "      <td>0.194199</td>\n",
       "      <td>0.771213</td>\n",
       "      <td>0.600804</td>\n",
       "      <td>0.573244</td>\n",
       "      <td>342.734100</td>\n",
       "    </tr>\n",
       "    <tr>\n",
       "      <th>999422</th>\n",
       "      <td>-133.639999</td>\n",
       "      <td>1522.699951</td>\n",
       "      <td>-229.511993</td>\n",
       "      <td>632.781006</td>\n",
       "      <td>504.207001</td>\n",
       "      <td>105.698997</td>\n",
       "      <td>48.149700</td>\n",
       "      <td>29.203501</td>\n",
       "      <td>-1470.739990</td>\n",
       "      <td>-839.638977</td>\n",
       "      <td>...</td>\n",
       "      <td>1670.198242</td>\n",
       "      <td>1704.347900</td>\n",
       "      <td>3374.546143</td>\n",
       "      <td>127.697525</td>\n",
       "      <td>3372.129150</td>\n",
       "      <td>0.209634</td>\n",
       "      <td>0.455536</td>\n",
       "      <td>0.705832</td>\n",
       "      <td>0.759785</td>\n",
       "      <td>443.363007</td>\n",
       "    </tr>\n",
       "    <tr>\n",
       "      <th>999423</th>\n",
       "      <td>1654.319946</td>\n",
       "      <td>-688.971008</td>\n",
       "      <td>353.144012</td>\n",
       "      <td>150.893997</td>\n",
       "      <td>76.824097</td>\n",
       "      <td>48.240898</td>\n",
       "      <td>26.232500</td>\n",
       "      <td>-1712.619995</td>\n",
       "      <td>658.551025</td>\n",
       "      <td>220.513000</td>\n",
       "      <td>...</td>\n",
       "      <td>1832.739868</td>\n",
       "      <td>1850.804810</td>\n",
       "      <td>3683.544678</td>\n",
       "      <td>72.454445</td>\n",
       "      <td>3682.832031</td>\n",
       "      <td>0.627940</td>\n",
       "      <td>0.543781</td>\n",
       "      <td>0.276693</td>\n",
       "      <td>0.966118</td>\n",
       "      <td>50.416000</td>\n",
       "    </tr>\n",
       "  </tbody>\n",
       "</table>\n",
       "<p>999424 rows × 24 columns</p>\n",
       "</div>"
      ],
      "text/plain": [
       "               pxj1         pyj1         pzj1         mj1      tau1j1  \\\n",
       "0       -606.640015   136.223999 -2463.290039  115.829002   41.708900   \n",
       "1       1075.790039   560.247986  -473.667999  253.820999   98.636002   \n",
       "2       -963.197998  -802.231995  -255.048004  369.252991  203.923996   \n",
       "3       -914.739014 -1285.349976  -390.425995  420.726013  183.169006   \n",
       "4       1178.770020  -442.437988  -816.497009  429.519989  272.453003   \n",
       "...             ...          ...          ...         ...         ...   \n",
       "999419  -710.262024 -1026.920044 -1307.729980  796.106995  744.283020   \n",
       "999420  -268.907990  1307.540039  1420.180054  333.614014  240.792007   \n",
       "999421   314.462006  1388.619995  -158.914001  420.259003  295.635986   \n",
       "999422  -133.639999  1522.699951  -229.511993  632.781006  504.207001   \n",
       "999423  1654.319946  -688.971008   353.144012  150.893997   76.824097   \n",
       "\n",
       "            tau2j1      tau3j1         pxj2         pyj2         pzj2  ...  \\\n",
       "0        19.615000   16.282600  1410.239990  -311.454010   516.468018  ...   \n",
       "1        46.423801   37.188900  -785.905029  -476.933990 -1670.449951  ...   \n",
       "2        32.369499   22.955299  1066.229980   662.479980 -1211.520020  ...   \n",
       "3        29.843300   24.244101   910.085022  1286.180054   228.893997  ...   \n",
       "4       162.826004  113.084999  -945.479004   402.459015  -412.460999  ...   \n",
       "...            ...         ...          ...          ...          ...  ...   \n",
       "999419  368.661987  210.828003   692.814026   976.697998   -41.325802  ...   \n",
       "999420  171.697006  130.660995   155.938995 -1274.060059 -1473.140015  ...   \n",
       "999421   57.412300   44.277100    65.702904 -1444.400024 -1056.260010  ...   \n",
       "999422  105.698997   48.149700    29.203501 -1470.739990  -839.638977  ...   \n",
       "999423   48.240898   26.232500 -1712.619995   658.551025   220.513000  ...   \n",
       "\n",
       "                ej1          ej2          ejj         pjj          mjj  \\\n",
       "0       2543.183594  1537.945679  4081.129395  840.942322  3993.548828   \n",
       "1       1326.645630  1906.993530  3233.639160  312.914948  3218.463379   \n",
       "2       1331.436768  1748.691895  3080.128662  222.883026  3072.053955   \n",
       "3       1678.783691  1593.454956  3272.238770    4.799760  3272.235107   \n",
       "4       1560.898804  1110.571655  2671.470459  240.044449  2660.664062   \n",
       "...             ...          ...          ...         ...          ...   \n",
       "999419  1975.596313  1198.612427  3174.208740   73.136452  3173.365967   \n",
       "999420  1977.418091  1957.884277  3935.302490  122.490051  3933.395508   \n",
       "999421  1492.991333  1792.290039  3285.281494  388.263031  3262.257812   \n",
       "999422  1670.198242  1704.347900  3374.546143  127.697525  3372.129150   \n",
       "999423  1832.739868  1850.804810  3683.544678   72.454445  3682.832031   \n",
       "\n",
       "         tau21j1   tau32j1   tau21j2   tau32j2     mj1-mj2  \n",
       "0       0.470283  0.830110  0.614313  0.647716    2.881004  \n",
       "1       0.470658  0.801074  0.345675  0.681456  220.523193  \n",
       "2       0.158733  0.709165  0.349252  0.687567  249.183990  \n",
       "3       0.162928  0.812380  0.515532  0.832525  355.978119  \n",
       "4       0.597630  0.694514  0.720654  0.639655  343.837708  \n",
       "...          ...       ...       ...       ...         ...  \n",
       "999419  0.495325  0.571873  0.770408  0.594857  763.957764  \n",
       "999420  0.713051  0.760998  0.298112  0.729554  208.620010  \n",
       "999421  0.194199  0.771213  0.600804  0.573244  342.734100  \n",
       "999422  0.209634  0.455536  0.705832  0.759785  443.363007  \n",
       "999423  0.627940  0.543781  0.276693  0.966118   50.416000  \n",
       "\n",
       "[999424 rows x 24 columns]"
      ]
     },
     "execution_count": 7,
     "metadata": {},
     "output_type": "execute_result"
    }
   ],
   "source": [
    "df"
   ]
  },
  {
   "cell_type": "code",
   "execution_count": 8,
   "metadata": {},
   "outputs": [
    {
     "data": {
      "text/plain": [
       "False"
      ]
     },
     "execution_count": 8,
     "metadata": {},
     "output_type": "execute_result"
    }
   ],
   "source": [
    "np.any(np.isnan(df))"
   ]
  },
  {
   "cell_type": "code",
   "execution_count": 9,
   "metadata": {},
   "outputs": [],
   "source": [
    "df = df.drop(df.columns[[0,1,2,4,5,6,7,8,9,11,12,13,14,15,16,17,20,22]], axis=1)"
   ]
  },
  {
   "cell_type": "code",
   "execution_count": 10,
   "metadata": {},
   "outputs": [
    {
     "data": {
      "text/html": [
       "<div>\n",
       "<style scoped>\n",
       "    .dataframe tbody tr th:only-of-type {\n",
       "        vertical-align: middle;\n",
       "    }\n",
       "\n",
       "    .dataframe tbody tr th {\n",
       "        vertical-align: top;\n",
       "    }\n",
       "\n",
       "    .dataframe thead th {\n",
       "        text-align: right;\n",
       "    }\n",
       "</style>\n",
       "<table border=\"1\" class=\"dataframe\">\n",
       "  <thead>\n",
       "    <tr style=\"text-align: right;\">\n",
       "      <th></th>\n",
       "      <th>mj1</th>\n",
       "      <th>mj2</th>\n",
       "      <th>mjj</th>\n",
       "      <th>tau21j1</th>\n",
       "      <th>tau21j2</th>\n",
       "      <th>mj1-mj2</th>\n",
       "    </tr>\n",
       "  </thead>\n",
       "  <tbody>\n",
       "    <tr>\n",
       "      <th>0</th>\n",
       "      <td>115.829002</td>\n",
       "      <td>112.947998</td>\n",
       "      <td>3993.548828</td>\n",
       "      <td>0.470283</td>\n",
       "      <td>0.614313</td>\n",
       "      <td>2.881004</td>\n",
       "    </tr>\n",
       "    <tr>\n",
       "      <th>1</th>\n",
       "      <td>253.820999</td>\n",
       "      <td>33.297798</td>\n",
       "      <td>3218.463379</td>\n",
       "      <td>0.470658</td>\n",
       "      <td>0.345675</td>\n",
       "      <td>220.523193</td>\n",
       "    </tr>\n",
       "    <tr>\n",
       "      <th>2</th>\n",
       "      <td>369.252991</td>\n",
       "      <td>120.069000</td>\n",
       "      <td>3072.053955</td>\n",
       "      <td>0.158733</td>\n",
       "      <td>0.349252</td>\n",
       "      <td>249.183990</td>\n",
       "    </tr>\n",
       "    <tr>\n",
       "      <th>3</th>\n",
       "      <td>420.726013</td>\n",
       "      <td>64.747902</td>\n",
       "      <td>3272.235107</td>\n",
       "      <td>0.162928</td>\n",
       "      <td>0.515532</td>\n",
       "      <td>355.978119</td>\n",
       "    </tr>\n",
       "    <tr>\n",
       "      <th>4</th>\n",
       "      <td>429.519989</td>\n",
       "      <td>85.682297</td>\n",
       "      <td>2660.664062</td>\n",
       "      <td>0.597630</td>\n",
       "      <td>0.720654</td>\n",
       "      <td>343.837708</td>\n",
       "    </tr>\n",
       "    <tr>\n",
       "      <th>...</th>\n",
       "      <td>...</td>\n",
       "      <td>...</td>\n",
       "      <td>...</td>\n",
       "      <td>...</td>\n",
       "      <td>...</td>\n",
       "      <td>...</td>\n",
       "    </tr>\n",
       "    <tr>\n",
       "      <th>999419</th>\n",
       "      <td>796.106995</td>\n",
       "      <td>32.149200</td>\n",
       "      <td>3173.365967</td>\n",
       "      <td>0.495325</td>\n",
       "      <td>0.770408</td>\n",
       "      <td>763.957764</td>\n",
       "    </tr>\n",
       "    <tr>\n",
       "      <th>999420</th>\n",
       "      <td>333.614014</td>\n",
       "      <td>124.994003</td>\n",
       "      <td>3933.395508</td>\n",
       "      <td>0.713051</td>\n",
       "      <td>0.298112</td>\n",
       "      <td>208.620010</td>\n",
       "    </tr>\n",
       "    <tr>\n",
       "      <th>999421</th>\n",
       "      <td>420.259003</td>\n",
       "      <td>77.524902</td>\n",
       "      <td>3262.257812</td>\n",
       "      <td>0.194199</td>\n",
       "      <td>0.600804</td>\n",
       "      <td>342.734100</td>\n",
       "    </tr>\n",
       "    <tr>\n",
       "      <th>999422</th>\n",
       "      <td>632.781006</td>\n",
       "      <td>189.417999</td>\n",
       "      <td>3372.129150</td>\n",
       "      <td>0.209634</td>\n",
       "      <td>0.705832</td>\n",
       "      <td>443.363007</td>\n",
       "    </tr>\n",
       "    <tr>\n",
       "      <th>999423</th>\n",
       "      <td>150.893997</td>\n",
       "      <td>100.477997</td>\n",
       "      <td>3682.832031</td>\n",
       "      <td>0.627940</td>\n",
       "      <td>0.276693</td>\n",
       "      <td>50.416000</td>\n",
       "    </tr>\n",
       "  </tbody>\n",
       "</table>\n",
       "<p>999424 rows × 6 columns</p>\n",
       "</div>"
      ],
      "text/plain": [
       "               mj1         mj2          mjj   tau21j1   tau21j2     mj1-mj2\n",
       "0       115.829002  112.947998  3993.548828  0.470283  0.614313    2.881004\n",
       "1       253.820999   33.297798  3218.463379  0.470658  0.345675  220.523193\n",
       "2       369.252991  120.069000  3072.053955  0.158733  0.349252  249.183990\n",
       "3       420.726013   64.747902  3272.235107  0.162928  0.515532  355.978119\n",
       "4       429.519989   85.682297  2660.664062  0.597630  0.720654  343.837708\n",
       "...            ...         ...          ...       ...       ...         ...\n",
       "999419  796.106995   32.149200  3173.365967  0.495325  0.770408  763.957764\n",
       "999420  333.614014  124.994003  3933.395508  0.713051  0.298112  208.620010\n",
       "999421  420.259003   77.524902  3262.257812  0.194199  0.600804  342.734100\n",
       "999422  632.781006  189.417999  3372.129150  0.209634  0.705832  443.363007\n",
       "999423  150.893997  100.477997  3682.832031  0.627940  0.276693   50.416000\n",
       "\n",
       "[999424 rows x 6 columns]"
      ]
     },
     "execution_count": 10,
     "metadata": {},
     "output_type": "execute_result"
    }
   ],
   "source": [
    "df"
   ]
  },
  {
   "cell_type": "code",
   "execution_count": 11,
   "metadata": {},
   "outputs": [
    {
     "name": "stdout",
     "output_type": "stream",
     "text": [
      "Dataset consists of 366 batches of 2048 samples each, total 749568 samples\n",
      "Testset consists of 122 batches of 2048 samples each, total 249856 samples\n"
     ]
    },
    {
     "data": {
      "text/plain": [
       "20"
      ]
     },
     "execution_count": 11,
     "metadata": {},
     "output_type": "execute_result"
    }
   ],
   "source": [
    "# Normalize all inputs between -1 and 1\n",
    "\n",
    "train_features = [\"mj2\"]\n",
    "scaler = MinMaxScaler((-1,1)).fit(df[train_features])\n",
    "feature_df = scaler.transform(df[train_features])\n",
    "\n",
    "X_train, X_test = train_test_split(feature_df, test_size = 0.25)\n",
    "len_dataset = int(X_train.shape[0] / BATCH_SIZE)\n",
    "len_testset = int(X_test.shape[0] / BATCH_SIZE)\n",
    "print(\"Dataset consists of {} batches of {} samples each, total {} samples\".format(len_dataset, BATCH_SIZE, len_dataset * BATCH_SIZE))\n",
    "print(\"Testset consists of {} batches of {} samples each, total {} samples\".format(len_testset, BATCH_SIZE, len_testset * BATCH_SIZE))\n",
    "gc.collect()"
   ]
  },
  {
   "cell_type": "code",
   "execution_count": 12,
   "metadata": {},
   "outputs": [
    {
     "data": {
      "text/plain": [
       "array([[-0.856763  ],\n",
       "       [-0.5991595 ],\n",
       "       [-0.86924374],\n",
       "       ...,\n",
       "       [-0.8327837 ],\n",
       "       [-0.91726404],\n",
       "       [-0.6584562 ]], dtype=float32)"
      ]
     },
     "execution_count": 12,
     "metadata": {},
     "output_type": "execute_result"
    }
   ],
   "source": [
    "X_train"
   ]
  },
  {
   "cell_type": "code",
   "execution_count": 13,
   "metadata": {},
   "outputs": [],
   "source": [
    "train_dataset = tf.data.Dataset.from_tensor_slices(np.array(X_train)).batch(BATCH_SIZE)\n",
    "test_dataset = tf.data.Dataset.from_tensor_slices(np.array(X_test)).batch(BATCH_SIZE)"
   ]
  },
  {
   "cell_type": "code",
   "execution_count": 14,
   "metadata": {},
   "outputs": [],
   "source": [
    "def make_generator_model():\n",
    "    \n",
    "    model = tf.keras.Sequential()\n",
    "    model.add(layers.Dense(50, input_shape=(len(train_features),)))\n",
    "    model.add(layers.BatchNormalization())\n",
    "    model.add(layers.LeakyReLU())\n",
    "\n",
    "    model.add(layers.Dense(50))\n",
    "    model.add(layers.BatchNormalization())\n",
    "    model.add(layers.LeakyReLU())\n",
    "\n",
    "    model.add(layers.Dense(50))\n",
    "    model.add(layers.BatchNormalization())\n",
    "    model.add(layers.LeakyReLU())\n",
    "\n",
    "    model.add(layers.Dense(len(train_features), activation='tanh'))\n",
    "    assert model.output_shape == (None, len(train_features))\n",
    "\n",
    "    return model"
   ]
  },
  {
   "cell_type": "code",
   "execution_count": 15,
   "metadata": {},
   "outputs": [],
   "source": [
    "generator = make_generator_model()"
   ]
  },
  {
   "cell_type": "code",
   "execution_count": 16,
   "metadata": {},
   "outputs": [],
   "source": [
    "def make_discriminator_model():\n",
    "    model = tf.keras.Sequential()\n",
    "    model.add(layers.Dense(50, input_shape=(len(train_features),)))\n",
    "    model.add(layers.LeakyReLU())\n",
    "    model.add(layers.Dropout(0.3))\n",
    "\n",
    "    model.add(layers.Dense(50))\n",
    "    model.add(layers.LeakyReLU())\n",
    "    model.add(layers.Dropout(0.3))\n",
    "\n",
    "    model.add(layers.Dense(1)) # WGAN: No sigmoid activation in last layer\n",
    "\n",
    "    return model"
   ]
  },
  {
   "cell_type": "code",
   "execution_count": 17,
   "metadata": {},
   "outputs": [],
   "source": [
    "discriminator = make_discriminator_model()"
   ]
  },
  {
   "cell_type": "code",
   "execution_count": 18,
   "metadata": {},
   "outputs": [
    {
     "name": "stdout",
     "output_type": "stream",
     "text": [
      "Model: \"sequential\"\n",
      "_________________________________________________________________\n",
      "Layer (type)                 Output Shape              Param #   \n",
      "=================================================================\n",
      "dense (Dense)                (None, 50)                100       \n",
      "_________________________________________________________________\n",
      "batch_normalization (BatchNo (None, 50)                200       \n",
      "_________________________________________________________________\n",
      "leaky_re_lu (LeakyReLU)      (None, 50)                0         \n",
      "_________________________________________________________________\n",
      "dense_1 (Dense)              (None, 50)                2550      \n",
      "_________________________________________________________________\n",
      "batch_normalization_1 (Batch (None, 50)                200       \n",
      "_________________________________________________________________\n",
      "leaky_re_lu_1 (LeakyReLU)    (None, 50)                0         \n",
      "_________________________________________________________________\n",
      "dense_2 (Dense)              (None, 50)                2550      \n",
      "_________________________________________________________________\n",
      "batch_normalization_2 (Batch (None, 50)                200       \n",
      "_________________________________________________________________\n",
      "leaky_re_lu_2 (LeakyReLU)    (None, 50)                0         \n",
      "_________________________________________________________________\n",
      "dense_3 (Dense)              (None, 1)                 51        \n",
      "=================================================================\n",
      "Total params: 5,851\n",
      "Trainable params: 5,551\n",
      "Non-trainable params: 300\n",
      "_________________________________________________________________\n"
     ]
    }
   ],
   "source": [
    "generator.summary()"
   ]
  },
  {
   "cell_type": "code",
   "execution_count": 19,
   "metadata": {},
   "outputs": [
    {
     "name": "stdout",
     "output_type": "stream",
     "text": [
      "Model: \"sequential_1\"\n",
      "_________________________________________________________________\n",
      "Layer (type)                 Output Shape              Param #   \n",
      "=================================================================\n",
      "dense_4 (Dense)              (None, 50)                100       \n",
      "_________________________________________________________________\n",
      "leaky_re_lu_3 (LeakyReLU)    (None, 50)                0         \n",
      "_________________________________________________________________\n",
      "dropout (Dropout)            (None, 50)                0         \n",
      "_________________________________________________________________\n",
      "dense_5 (Dense)              (None, 50)                2550      \n",
      "_________________________________________________________________\n",
      "leaky_re_lu_4 (LeakyReLU)    (None, 50)                0         \n",
      "_________________________________________________________________\n",
      "dropout_1 (Dropout)          (None, 50)                0         \n",
      "_________________________________________________________________\n",
      "dense_6 (Dense)              (None, 1)                 51        \n",
      "=================================================================\n",
      "Total params: 2,701\n",
      "Trainable params: 2,701\n",
      "Non-trainable params: 0\n",
      "_________________________________________________________________\n"
     ]
    }
   ],
   "source": [
    "discriminator.summary()"
   ]
  },
  {
   "cell_type": "code",
   "execution_count": 20,
   "metadata": {},
   "outputs": [],
   "source": [
    "@tf.function\n",
    "def gradient_penalty(real, fake, epsilon): \n",
    "    # mixed_images = real * epsilon + fake * (1 - epsilon)\n",
    "    mixed_images = fake + epsilon * (real - fake)\n",
    "    with tf.GradientTape() as tape:\n",
    "        tape.watch(mixed_images) \n",
    "        mixed_scores = discriminator(mixed_images)\n",
    "        \n",
    "    gradient = tape.gradient(mixed_scores, mixed_images)[0]\n",
    "    \n",
    "    gradient_norm = tf.norm(gradient)\n",
    "    penalty = tf.math.reduce_mean((gradient_norm - 1)**2)\n",
    "    return penalty"
   ]
  },
  {
   "cell_type": "code",
   "execution_count": 21,
   "metadata": {},
   "outputs": [],
   "source": [
    "@tf.function\n",
    "def discriminator_loss(real_output, fake_output, gradient_penalty):\n",
    "    loss = tf.math.reduce_mean(fake_output) - tf.math.reduce_mean(real_output) + C_LAMBDA * gradient_penalty\n",
    "    return loss"
   ]
  },
  {
   "cell_type": "code",
   "execution_count": 22,
   "metadata": {},
   "outputs": [],
   "source": [
    "@tf.function\n",
    "def generator_loss(fake_output):\n",
    "    gen_loss = -1. * tf.math.reduce_mean(fake_output)\n",
    "    return gen_loss"
   ]
  },
  {
   "cell_type": "code",
   "execution_count": 23,
   "metadata": {},
   "outputs": [],
   "source": [
    "generator_optimizer = tf.keras.optimizers.RMSprop(lr=LEARNING_RATE)\n",
    "discriminator_optimizer = tf.keras.optimizers.RMSprop(lr=LEARNING_RATE)"
   ]
  },
  {
   "cell_type": "code",
   "execution_count": 24,
   "metadata": {},
   "outputs": [],
   "source": [
    "# Convert tensor to float for loss function plotting\n",
    "def K_eval(x):\n",
    "    try:\n",
    "        return K.get_value(K.to_dense(x))\n",
    "    except:\n",
    "        eval_fn = K.function([], [x])\n",
    "        return eval_fn([])[0]"
   ]
  },
  {
   "cell_type": "code",
   "execution_count": 25,
   "metadata": {},
   "outputs": [],
   "source": [
    "@tf.function\n",
    "def train_step_generator(images):\n",
    "  noise = tf.random.normal([BATCH_SIZE, len(train_features)])\n",
    "\n",
    "  with tf.GradientTape() as gen_tape, tf.GradientTape() as disc_tape:\n",
    "    generated_images = generator(noise, training=True)\n",
    "    fake_output = discriminator(generated_images, training=True)\n",
    "    gen_loss = generator_loss(fake_output)\n",
    "\n",
    "  gradients_of_generator = gen_tape.gradient(gen_loss, generator.trainable_variables)\n",
    "\n",
    "  generator_optimizer.apply_gradients(zip(gradients_of_generator, generator.trainable_variables))\n",
    "  \n",
    "  return gen_loss"
   ]
  },
  {
   "cell_type": "code",
   "execution_count": 26,
   "metadata": {},
   "outputs": [],
   "source": [
    "@tf.function\n",
    "def train_step_discriminator(images):\n",
    "  noise = tf.random.normal([BATCH_SIZE, len(train_features)])\n",
    "\n",
    "  with tf.GradientTape() as gen_tape, tf.GradientTape() as disc_tape:\n",
    "    generated_images = generator(noise, training=True)\n",
    "\n",
    "    real_output = discriminator(images, training=True)\n",
    "    fake_output = discriminator(generated_images, training=True)\n",
    "\n",
    "    epsilon = tf.random.uniform([BATCH_SIZE,len(train_features)],minval=0,maxval=1)\n",
    "\n",
    "    gp = gradient_penalty(images, generated_images, epsilon)\n",
    "    \n",
    "    disc_loss = discriminator_loss(real_output, fake_output, gp)\n",
    "\n",
    "  gradients_of_discriminator = disc_tape.gradient(disc_loss, discriminator.trainable_variables)\n",
    "\n",
    "  discriminator_optimizer.apply_gradients(zip(gradients_of_discriminator, discriminator.trainable_variables))\n",
    "  \n",
    "  return disc_loss"
   ]
  },
  {
   "cell_type": "code",
   "execution_count": 27,
   "metadata": {},
   "outputs": [],
   "source": [
    "@tf.function\n",
    "def evaluate_generator():\n",
    "    noise = tf.random.normal([BATCH_SIZE, len(train_features)])\n",
    "    generated_images = generator(noise, training=False)\n",
    "\n",
    "    fake_output = discriminator(generated_images, training=False)\n",
    "\n",
    "    gen_loss = generator_loss(fake_output)\n",
    "\n",
    "    return gen_loss"
   ]
  },
  {
   "cell_type": "code",
   "execution_count": 28,
   "metadata": {},
   "outputs": [],
   "source": [
    "@tf.function\n",
    "def evaluate_discriminator(images):\n",
    "    noise = tf.random.normal([BATCH_SIZE, len(train_features)])\n",
    "    generated_images = generator(noise, training=False)\n",
    "\n",
    "    real_output = discriminator(images, training=False)\n",
    "    fake_output = discriminator(generated_images, training=False)\n",
    "\n",
    "    epsilon = tf.random.uniform([BATCH_SIZE,len(train_features)],minval=0,maxval=1)\n",
    "\n",
    "    gp = gradient_penalty(images, generated_images, epsilon)\n",
    "    \n",
    "    disc_loss = discriminator_loss(real_output, fake_output, gp)\n",
    "\n",
    "    return disc_loss"
   ]
  },
  {
   "cell_type": "code",
   "execution_count": 29,
   "metadata": {},
   "outputs": [],
   "source": [
    "def graph_gan(generator):\n",
    "    fakedata = scaler.inverse_transform(generator(tf.random.normal((10000, len(train_features))), training=False))\n",
    "    plt.ylabel(\"Normalized to Unity\")\n",
    "    \n",
    "    plt.hist(df['mj2'], bins = 50, range = (0, 500), color = \"tab:orange\", alpha = 0.5, label = \"Herwig Background\", density = True)\n",
    "    plt.hist(fakedata, bins = 50, range = (0, 500), color = \"tab:blue\", histtype = \"step\", label = \"GAN\", density = True)\n",
    "    plt.legend()\n",
    "    plt.show()\n",
    "    "
   ]
  },
  {
   "cell_type": "code",
   "execution_count": 30,
   "metadata": {},
   "outputs": [],
   "source": [
    "train_gen_losses = []\n",
    "train_disc_losses = []\n",
    "test_gen_losses = []\n",
    "test_disc_losses = []"
   ]
  },
  {
   "cell_type": "code",
   "execution_count": 31,
   "metadata": {},
   "outputs": [],
   "source": [
    "def graph_genloss():\n",
    "    plt.title(\"Generator Loss\")\n",
    "    plt.ylabel(\"Wasserstein Loss\")\n",
    "    plt.xlabel(\"Epoch\")\n",
    "    plt.plot(train_gen_losses, 'b', label = \"Training loss\")\n",
    "    plt.plot(test_gen_losses, 'r', label = \"Validation loss\")\n",
    "    plt.legend()\n",
    "    plt.show()"
   ]
  },
  {
   "cell_type": "code",
   "execution_count": 32,
   "metadata": {},
   "outputs": [],
   "source": [
    "def graph_discloss():\n",
    "    plt.title(\"Discriminator Loss\")\n",
    "    plt.ylabel(\"Wasserstein Loss\")\n",
    "    plt.xlabel(\"Epoch\")\n",
    "    plt.plot(train_disc_losses, 'b', label = \"Training loss\")\n",
    "    plt.plot(test_disc_losses, 'r', label = \"Validation loss\")\n",
    "    plt.legend()\n",
    "    plt.show()"
   ]
  },
  {
   "cell_type": "code",
   "execution_count": 33,
   "metadata": {},
   "outputs": [],
   "source": [
    "def train(dataset, testset, epochs, n_critic):\n",
    "  for epoch in tqdm(range(epochs)):\n",
    "    \n",
    "    print_losses = ((epoch + 1) % 10 == 0)\n",
    "    draw_outputs = ((epoch + 1) % 100 == 0)\n",
    "\n",
    "    train_gen_loss = 0\n",
    "    train_disc_loss = 0\n",
    "\n",
    "    test_gen_loss = 0\n",
    "    test_disc_loss = 0\n",
    "\n",
    "\n",
    "    # Training\n",
    "\n",
    "    for image_batch in dataset:\n",
    "      train_gen_loss += K_eval(train_step_generator(image_batch))\n",
    "      for n in range(n_critic):\n",
    "        train_disc_loss += K_eval(train_step_discriminator(image_batch))\n",
    "    \n",
    "    train_gen_losses.append(train_gen_loss / len_dataset)\n",
    "    train_disc_losses.append(train_disc_loss / len_dataset / n_critic)\n",
    "\n",
    "            \n",
    "    # Evaluation\n",
    "\n",
    "    for test_batch in testset:\n",
    "      test_gen_loss += K_eval(evaluate_generator())\n",
    "      test_disc_loss += K_eval(evaluate_discriminator(test_batch))\n",
    "\n",
    "    test_gen_losses.append(test_gen_loss / len_testset)\n",
    "    test_disc_losses.append(test_disc_loss / len_testset)\n",
    "\n",
    "    # Logging\n",
    "\n",
    "    if print_losses:\n",
    "      print()\n",
    "\n",
    "      print(\"Epoch \" + str(epoch + 1) + \":\")\n",
    "      print()\n",
    "      print(\"Generator training loss: \" + str(train_gen_losses[-1]))\n",
    "      print(\"Discriminator training loss: \" + str(train_disc_losses[-1]))\n",
    "      print()\n",
    "      print(\"Generator validation loss: \" + str(test_gen_losses[-1]))\n",
    "      print(\"Discriminator validation loss: \" + str(test_disc_losses[-1]))\n",
    "\n",
    "    if draw_outputs:\n",
    "      print()\n",
    "      print(\"Epoch \" + str(epoch + 1) + \":\")\n",
    "      graph_gan(generator)\n",
    "\n",
    "      graph_genloss()\n",
    "      graph_discloss()\n"
   ]
  },
  {
   "cell_type": "code",
   "execution_count": null,
   "metadata": {
    "scrolled": false,
    "tags": []
   },
   "outputs": [
    {
     "name": "stderr",
     "output_type": "stream",
     "text": [
      "\r",
      "  0%|                                                                                         | 0/1000 [00:00<?, ?it/s]"
     ]
    },
    {
     "name": "stdout",
     "output_type": "stream",
     "text": [
      "WARNING:tensorflow:AutoGraph could not transform <function train_step_generator at 0x000001FF0DD82798> and will run it as-is.\n",
      "Please report this to the TensorFlow team. When filing the bug, set the verbosity to 10 (on Linux, `export AUTOGRAPH_VERBOSITY=10`) and attach the full output.\n",
      "Cause: Bad argument number for Name: 3, expecting 4\n",
      "WARNING: AutoGraph could not transform <function train_step_generator at 0x000001FF0DD82798> and will run it as-is.\n",
      "Please report this to the TensorFlow team. When filing the bug, set the verbosity to 10 (on Linux, `export AUTOGRAPH_VERBOSITY=10`) and attach the full output.\n",
      "Cause: Bad argument number for Name: 3, expecting 4\n",
      "WARNING:tensorflow:AutoGraph could not transform <function generator_loss at 0x000001FF3704F288> and will run it as-is.\n",
      "Please report this to the TensorFlow team. When filing the bug, set the verbosity to 10 (on Linux, `export AUTOGRAPH_VERBOSITY=10`) and attach the full output.\n",
      "Cause: Bad argument number for Name: 3, expecting 4\n",
      "WARNING: AutoGraph could not transform <function generator_loss at 0x000001FF3704F288> and will run it as-is.\n",
      "Please report this to the TensorFlow team. When filing the bug, set the verbosity to 10 (on Linux, `export AUTOGRAPH_VERBOSITY=10`) and attach the full output.\n",
      "Cause: Bad argument number for Name: 3, expecting 4\n",
      "WARNING:tensorflow:AutoGraph could not transform <function train_step_discriminator at 0x000001FF0752C438> and will run it as-is.\n",
      "Please report this to the TensorFlow team. When filing the bug, set the verbosity to 10 (on Linux, `export AUTOGRAPH_VERBOSITY=10`) and attach the full output.\n",
      "Cause: Bad argument number for Name: 3, expecting 4\n",
      "WARNING: AutoGraph could not transform <function train_step_discriminator at 0x000001FF0752C438> and will run it as-is.\n",
      "Please report this to the TensorFlow team. When filing the bug, set the verbosity to 10 (on Linux, `export AUTOGRAPH_VERBOSITY=10`) and attach the full output.\n",
      "Cause: Bad argument number for Name: 3, expecting 4\n",
      "WARNING:tensorflow:AutoGraph could not transform <function gradient_penalty at 0x000001FF370358B8> and will run it as-is.\n",
      "Please report this to the TensorFlow team. When filing the bug, set the verbosity to 10 (on Linux, `export AUTOGRAPH_VERBOSITY=10`) and attach the full output.\n",
      "Cause: module 'gast' has no attribute 'Num'\n",
      "WARNING: AutoGraph could not transform <function gradient_penalty at 0x000001FF370358B8> and will run it as-is.\n",
      "Please report this to the TensorFlow team. When filing the bug, set the verbosity to 10 (on Linux, `export AUTOGRAPH_VERBOSITY=10`) and attach the full output.\n",
      "Cause: module 'gast' has no attribute 'Num'\n",
      "WARNING:tensorflow:AutoGraph could not transform <function discriminator_loss at 0x000001FF37035438> and will run it as-is.\n",
      "Please report this to the TensorFlow team. When filing the bug, set the verbosity to 10 (on Linux, `export AUTOGRAPH_VERBOSITY=10`) and attach the full output.\n",
      "Cause: Bad argument number for Name: 3, expecting 4\n",
      "WARNING: AutoGraph could not transform <function discriminator_loss at 0x000001FF37035438> and will run it as-is.\n",
      "Please report this to the TensorFlow team. When filing the bug, set the verbosity to 10 (on Linux, `export AUTOGRAPH_VERBOSITY=10`) and attach the full output.\n",
      "Cause: Bad argument number for Name: 3, expecting 4\n",
      "WARNING:tensorflow:AutoGraph could not transform <function evaluate_generator at 0x000001FF37035558> and will run it as-is.\n",
      "Please report this to the TensorFlow team. When filing the bug, set the verbosity to 10 (on Linux, `export AUTOGRAPH_VERBOSITY=10`) and attach the full output.\n",
      "Cause: Bad argument number for Name: 3, expecting 4\n",
      "WARNING: AutoGraph could not transform <function evaluate_generator at 0x000001FF37035558> and will run it as-is.\n",
      "Please report this to the TensorFlow team. When filing the bug, set the verbosity to 10 (on Linux, `export AUTOGRAPH_VERBOSITY=10`) and attach the full output.\n",
      "Cause: Bad argument number for Name: 3, expecting 4\n",
      "WARNING:tensorflow:AutoGraph could not transform <function evaluate_discriminator at 0x000001FF370351F8> and will run it as-is.\n",
      "Please report this to the TensorFlow team. When filing the bug, set the verbosity to 10 (on Linux, `export AUTOGRAPH_VERBOSITY=10`) and attach the full output.\n",
      "Cause: Bad argument number for Name: 3, expecting 4\n",
      "WARNING: AutoGraph could not transform <function evaluate_discriminator at 0x000001FF370351F8> and will run it as-is.\n",
      "Please report this to the TensorFlow team. When filing the bug, set the verbosity to 10 (on Linux, `export AUTOGRAPH_VERBOSITY=10`) and attach the full output.\n",
      "Cause: Bad argument number for Name: 3, expecting 4\n"
     ]
    },
    {
     "name": "stderr",
     "output_type": "stream",
     "text": [
      "  1%|▊                                                                             | 10/1000 [02:22<3:53:38, 14.16s/it]"
     ]
    },
    {
     "name": "stdout",
     "output_type": "stream",
     "text": [
      "\n",
      "Epoch 10:\n",
      "\n",
      "Generator training loss: -0.5864329800579717\n",
      "Discriminator training loss: 0.013821683328999034\n",
      "\n",
      "Generator validation loss: -0.5503347579573021\n",
      "Discriminator validation loss: 0.029377981165393453\n"
     ]
    },
    {
     "name": "stderr",
     "output_type": "stream",
     "text": [
      "  2%|█▌                                                                            | 20/1000 [04:40<3:44:37, 13.75s/it]"
     ]
    },
    {
     "name": "stdout",
     "output_type": "stream",
     "text": [
      "\n",
      "Epoch 20:\n",
      "\n",
      "Generator training loss: -2.07048238366028\n",
      "Discriminator training loss: 0.13523114281681065\n",
      "\n",
      "Generator validation loss: -2.150262746654573\n",
      "Discriminator validation loss: 0.14280630232857877\n"
     ]
    },
    {
     "name": "stderr",
     "output_type": "stream",
     "text": [
      "  3%|██▎                                                                           | 30/1000 [06:59<3:42:36, 13.77s/it]"
     ]
    },
    {
     "name": "stdout",
     "output_type": "stream",
     "text": [
      "\n",
      "Epoch 30:\n",
      "\n",
      "Generator training loss: -2.1393809996016038\n",
      "Discriminator training loss: 0.13357616722013782\n",
      "\n",
      "Generator validation loss: -2.3283097020915298\n",
      "Discriminator validation loss: 0.15840994432324268\n"
     ]
    },
    {
     "name": "stderr",
     "output_type": "stream",
     "text": [
      "  4%|███                                                                           | 40/1000 [09:21<3:51:10, 14.45s/it]"
     ]
    },
    {
     "name": "stdout",
     "output_type": "stream",
     "text": [
      "\n",
      "Epoch 40:\n",
      "\n",
      "Generator training loss: -2.012246808067697\n",
      "Discriminator training loss: 0.10444709953796016\n",
      "\n",
      "Generator validation loss: -2.433966535036681\n",
      "Discriminator validation loss: 0.16257212433170098\n"
     ]
    },
    {
     "name": "stderr",
     "output_type": "stream",
     "text": [
      "  5%|███▉                                                                          | 50/1000 [11:41<3:42:48, 14.07s/it]"
     ]
    },
    {
     "name": "stdout",
     "output_type": "stream",
     "text": [
      "\n",
      "Epoch 50:\n",
      "\n",
      "Generator training loss: -1.81725299130372\n",
      "Discriminator training loss: 0.05438841374112609\n",
      "\n",
      "Generator validation loss: -2.5185419067007597\n",
      "Discriminator validation loss: 0.16061288081720226\n"
     ]
    },
    {
     "name": "stderr",
     "output_type": "stream",
     "text": [
      "  6%|████▋                                                                         | 60/1000 [13:59<3:35:54, 13.78s/it]"
     ]
    },
    {
     "name": "stdout",
     "output_type": "stream",
     "text": [
      "\n",
      "Epoch 60:\n",
      "\n",
      "Generator training loss: -1.6136407138871365\n",
      "Discriminator training loss: -0.002168730929474183\n",
      "\n",
      "Generator validation loss: -2.6101043302504743\n",
      "Discriminator validation loss: 0.019677509041312227\n"
     ]
    },
    {
     "name": "stderr",
     "output_type": "stream",
     "text": [
      "  7%|█████▍                                                                        | 70/1000 [16:18<3:34:00, 13.81s/it]"
     ]
    },
    {
     "name": "stdout",
     "output_type": "stream",
     "text": [
      "\n",
      "Epoch 70:\n",
      "\n",
      "Generator training loss: -2.153355604963876\n",
      "Discriminator training loss: -0.0014332964842914968\n",
      "\n",
      "Generator validation loss: -2.8757230707856474\n",
      "Discriminator validation loss: 0.0009469319161847826\n"
     ]
    },
    {
     "name": "stderr",
     "output_type": "stream",
     "text": [
      "  8%|██████▏                                                                       | 80/1000 [18:41<3:41:06, 14.42s/it]"
     ]
    },
    {
     "name": "stdout",
     "output_type": "stream",
     "text": [
      "\n",
      "Epoch 80:\n",
      "\n",
      "Generator training loss: -2.607635214029114\n",
      "Discriminator training loss: -0.0028343109255441106\n",
      "\n",
      "Generator validation loss: -3.2213076724380745\n",
      "Discriminator validation loss: 0.005686878306345325\n"
     ]
    },
    {
     "name": "stderr",
     "output_type": "stream",
     "text": [
      "  9%|███████                                                                       | 90/1000 [21:02<3:33:13, 14.06s/it]"
     ]
    },
    {
     "name": "stdout",
     "output_type": "stream",
     "text": [
      "\n",
      "Epoch 90:\n",
      "\n",
      "Generator training loss: -2.8826241506253436\n",
      "Discriminator training loss: 0.0009866591909281812\n",
      "\n",
      "Generator validation loss: -3.4938389238764027\n",
      "Discriminator validation loss: 0.002248455103549755\n"
     ]
    },
    {
     "name": "stderr",
     "output_type": "stream",
     "text": [
      " 10%|███████▋                                                                      | 99/1000 [23:09<3:32:07, 14.13s/it]"
     ]
    },
    {
     "name": "stdout",
     "output_type": "stream",
     "text": [
      "\n",
      "Epoch 100:\n",
      "\n",
      "Generator training loss: -3.0264016656927724\n",
      "Discriminator training loss: 0.0023796284622830534\n",
      "\n",
      "Generator validation loss: -3.6829973908721425\n",
      "Discriminator validation loss: -0.0004453060273441284\n",
      "\n",
      "Epoch 100:\n"
     ]
    },
    {
     "data": {
      "image/png": "[encoded data removed]",
      "text/plain": [
       "<Figure size 432x288 with 1 Axes>"
      ]
     },
     "metadata": {
      "needs_background": "light"
     },
     "output_type": "display_data"
    },
    {
     "data": {
      "image/png": "[encoded data removed]",
      "text/plain": [
       "<Figure size 432x288 with 1 Axes>"
      ]
     },
     "metadata": {
      "needs_background": "light"
     },
     "output_type": "display_data"
    },
    {
     "data": {
      "image/png": "[encoded data removed]",
      "text/plain": [
       "<Figure size 432x288 with 1 Axes>"
      ]
     },
     "metadata": {
      "needs_background": "light"
     },
     "output_type": "display_data"
    },
    {
     "name": "stderr",
     "output_type": "stream",
     "text": [
      " 11%|████████▍                                                                    | 110/1000 [25:43<3:26:08, 13.90s/it]"
     ]
    },
    {
     "name": "stdout",
     "output_type": "stream",
     "text": [
      "\n",
      "Epoch 110:\n",
      "\n",
      "Generator training loss: -3.0661980995063574\n",
      "Discriminator training loss: 0.008546850177341095\n",
      "\n",
      "Generator validation loss: -3.791129313531469\n",
      "Discriminator validation loss: 0.011473413766743462\n"
     ]
    },
    {
     "name": "stderr",
     "output_type": "stream",
     "text": [
      " 12%|█████████▏                                                                   | 120/1000 [28:04<3:23:52, 13.90s/it]"
     ]
    },
    {
     "name": "stdout",
     "output_type": "stream",
     "text": [
      "\n",
      "Epoch 120:\n",
      "\n",
      "Generator training loss: -2.900633252383581\n",
      "Discriminator training loss: 0.0056644507354646064\n",
      "\n",
      "Generator validation loss: -3.6926349518729036\n",
      "Discriminator validation loss: 0.021002455080141785\n"
     ]
    },
    {
     "name": "stderr",
     "output_type": "stream",
     "text": [
      " 13%|██████████                                                                   | 130/1000 [30:24<3:23:56, 14.07s/it]"
     ]
    },
    {
     "name": "stdout",
     "output_type": "stream",
     "text": [
      "\n",
      "Epoch 130:\n",
      "\n",
      "Generator training loss: -2.775810351137255\n",
      "Discriminator training loss: 0.005558849043548241\n",
      "\n",
      "Generator validation loss: -3.6233851733754894\n",
      "Discriminator validation loss: 0.034289475118161224\n"
     ]
    },
    {
     "name": "stderr",
     "output_type": "stream",
     "text": [
      " 14%|██████████▊                                                                  | 140/1000 [32:44<3:20:45, 14.01s/it]"
     ]
    },
    {
     "name": "stdout",
     "output_type": "stream",
     "text": [
      "\n",
      "Epoch 140:\n",
      "\n",
      "Generator training loss: -2.7616938880232516\n",
      "Discriminator training loss: 0.0009345597113057866\n",
      "\n",
      "Generator validation loss: -3.643667649050228\n",
      "Discriminator validation loss: 0.01872080033568696\n"
     ]
    },
    {
     "name": "stderr",
     "output_type": "stream",
     "text": [
      " 15%|███████████▌                                                                 | 150/1000 [35:05<3:19:54, 14.11s/it]"
     ]
    },
    {
     "name": "stdout",
     "output_type": "stream",
     "text": [
      "\n",
      "Epoch 150:\n",
      "\n",
      "Generator training loss: -2.741931127720192\n",
      "Discriminator training loss: 0.0010779997602796475\n",
      "\n",
      "Generator validation loss: -3.615872832595325\n",
      "Discriminator validation loss: -0.008357080447747082\n"
     ]
    },
    {
     "name": "stderr",
     "output_type": "stream",
     "text": [
      " 16%|████████████▎                                                                | 160/1000 [37:25<3:13:37, 13.83s/it]"
     ]
    },
    {
     "name": "stdout",
     "output_type": "stream",
     "text": [
      "\n",
      "Epoch 160:\n",
      "\n",
      "Generator training loss: -2.758488977541689\n",
      "Discriminator training loss: 0.0008832093579317711\n",
      "\n",
      "Generator validation loss: -3.6375749638823214\n",
      "Discriminator validation loss: 0.003624465438257235\n"
     ]
    },
    {
     "name": "stderr",
     "output_type": "stream",
     "text": [
      " 17%|█████████████                                                                | 170/1000 [39:43<3:12:26, 13.91s/it]"
     ]
    },
    {
     "name": "stdout",
     "output_type": "stream",
     "text": [
      "\n",
      "Epoch 170:\n",
      "\n",
      "Generator training loss: -2.8317145285059193\n",
      "Discriminator training loss: -0.002694030438646511\n",
      "\n",
      "Generator validation loss: -3.704366283338578\n",
      "Discriminator validation loss: -0.003494051333753484\n"
     ]
    },
    {
     "name": "stderr",
     "output_type": "stream",
     "text": [
      " 18%|█████████████▊                                                               | 180/1000 [42:03<3:12:52, 14.11s/it]"
     ]
    },
    {
     "name": "stdout",
     "output_type": "stream",
     "text": [
      "\n",
      "Epoch 180:\n",
      "\n",
      "Generator training loss: -2.8892221046927196\n",
      "Discriminator training loss: -0.004621102584148945\n",
      "\n",
      "Generator validation loss: -3.774862740860611\n",
      "Discriminator validation loss: -0.006397632117665633\n"
     ]
    },
    {
     "name": "stderr",
     "output_type": "stream",
     "text": [
      " 19%|██████████████▋                                                              | 190/1000 [44:23<3:12:11, 14.24s/it]"
     ]
    },
    {
     "name": "stdout",
     "output_type": "stream",
     "text": [
      "\n",
      "Epoch 190:\n",
      "\n",
      "Generator training loss: -2.9729085359417025\n",
      "Discriminator training loss: -0.00561814440317575\n",
      "\n",
      "Generator validation loss: -3.7831981318895935\n",
      "Discriminator validation loss: -0.04598445704848063\n"
     ]
    },
    {
     "name": "stderr",
     "output_type": "stream",
     "text": [
      " 20%|███████████████▎                                                             | 199/1000 [46:28<3:02:44, 13.69s/it]"
     ]
    },
    {
     "name": "stdout",
     "output_type": "stream",
     "text": [
      "\n",
      "Epoch 200:\n",
      "\n",
      "Generator training loss: -3.0776478586301126\n",
      "Discriminator training loss: -0.0027500369225791207\n",
      "\n",
      "Generator validation loss: -3.9253305743952267\n",
      "Discriminator validation loss: 0.008286497342642626\n",
      "\n",
      "Epoch 200:\n"
     ]
    },
    {
     "data": {
      "image/png": "[encoded data removed]",
      "text/plain": [
       "<Figure size 432x288 with 1 Axes>"
      ]
     },
     "metadata": {
      "needs_background": "light"
     },
     "output_type": "display_data"
    },
    {
     "data": {
      "image/png": "[encoded data removed]",
      "text/plain": [
       "<Figure size 432x288 with 1 Axes>"
      ]
     },
     "metadata": {
      "needs_background": "light"
     },
     "output_type": "display_data"
    },
    {
     "data": {
      "image/png": "[encoded data removed]",
      "text/plain": [
       "<Figure size 432x288 with 1 Axes>"
      ]
     },
     "metadata": {
      "needs_background": "light"
     },
     "output_type": "display_data"
    },
    {
     "name": "stderr",
     "output_type": "stream",
     "text": [
      " 21%|████████████████▏                                                            | 210/1000 [48:59<3:01:54, 13.82s/it]"
     ]
    },
    {
     "name": "stdout",
     "output_type": "stream",
     "text": [
      "\n",
      "Epoch 210:\n",
      "\n",
      "Generator training loss: -3.1459572152361845\n",
      "Discriminator training loss: -0.0025015262854279174\n",
      "\n",
      "Generator validation loss: -3.954900632139112\n",
      "Discriminator validation loss: -0.026588748575600445\n"
     ]
    },
    {
     "name": "stderr",
     "output_type": "stream",
     "text": [
      " 22%|████████████████▉                                                            | 220/1000 [51:17<2:59:44, 13.83s/it]"
     ]
    },
    {
     "name": "stdout",
     "output_type": "stream",
     "text": [
      "\n",
      "Epoch 220:\n",
      "\n",
      "Generator training loss: -3.191762581549056\n",
      "Discriminator training loss: 0.0009365066764075892\n",
      "\n",
      "Generator validation loss: -4.0532757376061115\n",
      "Discriminator validation loss: 0.006233474563427468\n"
     ]
    },
    {
     "name": "stderr",
     "output_type": "stream",
     "text": [
      " 23%|█████████████████▋                                                           | 230/1000 [53:35<2:58:36, 13.92s/it]"
     ]
    },
    {
     "name": "stdout",
     "output_type": "stream",
     "text": [
      "\n",
      "Epoch 230:\n",
      "\n",
      "Generator training loss: -3.2541861924968782\n",
      "Discriminator training loss: 0.000777451927542096\n",
      "\n",
      "Generator validation loss: -4.0890048996346895\n",
      "Discriminator validation loss: -0.011685200100459281\n"
     ]
    },
    {
     "name": "stderr",
     "output_type": "stream",
     "text": [
      " 24%|██████████████████▍                                                          | 240/1000 [55:55<2:56:44, 13.95s/it]"
     ]
    },
    {
     "name": "stdout",
     "output_type": "stream",
     "text": [
      "\n",
      "Epoch 240:\n",
      "\n",
      "Generator training loss: -3.316122356008311\n",
      "Discriminator training loss: 0.00034511446502306844\n",
      "\n",
      "Generator validation loss: -4.17363223873201\n",
      "Discriminator validation loss: 0.00533779286214682\n"
     ]
    },
    {
     "name": "stderr",
     "output_type": "stream",
     "text": [
      " 25%|███████████████████▎                                                         | 250/1000 [58:13<2:54:22, 13.95s/it]"
     ]
    },
    {
     "name": "stdout",
     "output_type": "stream",
     "text": [
      "\n",
      "Epoch 250:\n",
      "\n",
      "Generator training loss: -3.3571568753549963\n",
      "Discriminator training loss: 0.0006753884574219164\n",
      "\n",
      "Generator validation loss: -4.190299495321805\n",
      "Discriminator validation loss: -0.010087377160833385\n"
     ]
    },
    {
     "name": "stderr",
     "output_type": "stream",
     "text": [
      " 26%|███████████████████▌                                                       | 260/1000 [1:00:35<2:55:16, 14.21s/it]"
     ]
    },
    {
     "name": "stdout",
     "output_type": "stream",
     "text": [
      "\n",
      "Epoch 260:\n",
      "\n",
      "Generator training loss: -3.3681261500374218\n",
      "Discriminator training loss: 0.00021805085592452008\n",
      "\n",
      "Generator validation loss: -4.153992344121464\n",
      "Discriminator validation loss: -0.060134401514393386\n"
     ]
    },
    {
     "name": "stderr",
     "output_type": "stream",
     "text": [
      " 27%|████████████████████▎                                                      | 270/1000 [1:02:54<2:49:29, 13.93s/it]"
     ]
    },
    {
     "name": "stdout",
     "output_type": "stream",
     "text": [
      "\n",
      "Epoch 270:\n",
      "\n",
      "Generator training loss: -3.42821305175948\n",
      "Discriminator training loss: 0.0005168841288625733\n",
      "\n",
      "Generator validation loss: -4.2528477027767995\n",
      "Discriminator validation loss: 0.00883893069440688\n"
     ]
    },
    {
     "name": "stderr",
     "output_type": "stream",
     "text": [
      " 28%|█████████████████████                                                      | 280/1000 [1:05:14<2:48:21, 14.03s/it]"
     ]
    },
    {
     "name": "stdout",
     "output_type": "stream",
     "text": [
      "\n",
      "Epoch 280:\n",
      "\n",
      "Generator training loss: -3.480046389532871\n",
      "Discriminator training loss: 0.0003916225712869238\n",
      "\n",
      "Generator validation loss: -4.337576811430885\n",
      "Discriminator validation loss: 0.034665702368880884\n"
     ]
    },
    {
     "name": "stderr",
     "output_type": "stream",
     "text": [
      " 29%|█████████████████████▊                                                     | 290/1000 [1:07:34<2:47:34, 14.16s/it]"
     ]
    },
    {
     "name": "stdout",
     "output_type": "stream",
     "text": [
      "\n",
      "Epoch 290:\n",
      "\n",
      "Generator training loss: -3.48035253722811\n",
      "Discriminator training loss: 0.0013691521855246128\n",
      "\n",
      "Generator validation loss: -4.301635535036931\n",
      "Discriminator validation loss: 0.01117951493733181\n"
     ]
    },
    {
     "name": "stderr",
     "output_type": "stream",
     "text": [
      " 30%|██████████████████████▍                                                    | 299/1000 [1:09:39<2:42:45, 13.93s/it]"
     ]
    },
    {
     "name": "stdout",
     "output_type": "stream",
     "text": [
      "\n",
      "Epoch 300:\n",
      "\n",
      "Generator training loss: -3.5365965639958614\n",
      "Discriminator training loss: 0.00019285658087435956\n",
      "\n",
      "Generator validation loss: -4.346260125519799\n",
      "Discriminator validation loss: 0.025233243798195828\n",
      "\n",
      "Epoch 300:\n"
     ]
    },
    {
     "data": {
      "image/png": "[encoded data removed]",
      "text/plain": [
       "<Figure size 432x288 with 1 Axes>"
      ]
     },
     "metadata": {
      "needs_background": "light"
     },
     "output_type": "display_data"
    },
    {
     "data": {
      "image/png": "[encoded data removed]",
      "text/plain": [
       "<Figure size 432x288 with 1 Axes>"
      ]
     },
     "metadata": {
      "needs_background": "light"
     },
     "output_type": "display_data"
    },
    {
     "data": {
      "image/png": "[encoded data removed]",
      "text/plain": [
       "<Figure size 432x288 with 1 Axes>"
      ]
     },
     "metadata": {
      "needs_background": "light"
     },
     "output_type": "display_data"
    },
    {
     "name": "stderr",
     "output_type": "stream",
     "text": [
      " 31%|███████████████████████▎                                                   | 310/1000 [1:12:13<2:39:02, 13.83s/it]"
     ]
    },
    {
     "name": "stdout",
     "output_type": "stream",
     "text": [
      "\n",
      "Epoch 310:\n",
      "\n",
      "Generator training loss: -3.6161290081472344\n",
      "Discriminator training loss: 0.001117535255133455\n",
      "\n",
      "Generator validation loss: -4.4145499018372085\n",
      "Discriminator validation loss: 0.029452505261927355\n"
     ]
    },
    {
     "name": "stderr",
     "output_type": "stream",
     "text": [
      " 32%|████████████████████████                                                   | 320/1000 [1:14:31<2:37:24, 13.89s/it]"
     ]
    },
    {
     "name": "stdout",
     "output_type": "stream",
     "text": [
      "\n",
      "Epoch 320:\n",
      "\n",
      "Generator training loss: -3.678784516339745\n",
      "Discriminator training loss: 0.0016718517094613575\n",
      "\n",
      "Generator validation loss: -4.454536410628772\n",
      "Discriminator validation loss: -0.015988079449314564\n"
     ]
    },
    {
     "name": "stderr",
     "output_type": "stream",
     "text": [
      " 33%|████████████████████████▊                                                  | 330/1000 [1:16:51<2:35:45, 13.95s/it]"
     ]
    },
    {
     "name": "stdout",
     "output_type": "stream",
     "text": [
      "\n",
      "Epoch 330:\n",
      "\n",
      "Generator training loss: -3.5982296297459\n",
      "Discriminator training loss: 0.003998607786716938\n",
      "\n",
      "Generator validation loss: -4.391106957294902\n",
      "Discriminator validation loss: 0.00376066904910196\n"
     ]
    },
    {
     "name": "stderr",
     "output_type": "stream",
     "text": [
      " 34%|█████████████████████████▌                                                 | 340/1000 [1:19:11<2:32:51, 13.90s/it]"
     ]
    },
    {
     "name": "stdout",
     "output_type": "stream",
     "text": [
      "\n",
      "Epoch 340:\n",
      "\n",
      "Generator training loss: -3.4542890103136905\n",
      "Discriminator training loss: 0.0040499039878599576\n",
      "\n",
      "Generator validation loss: -4.215264214844\n",
      "Discriminator validation loss: -0.026434532107144106\n"
     ]
    },
    {
     "name": "stderr",
     "output_type": "stream",
     "text": [
      " 35%|██████████████████████████▎                                                | 350/1000 [1:21:31<2:31:15, 13.96s/it]"
     ]
    },
    {
     "name": "stdout",
     "output_type": "stream",
     "text": [
      "\n",
      "Epoch 350:\n",
      "\n",
      "Generator training loss: -3.2927364834019395\n",
      "Discriminator training loss: 0.00743446972016793\n",
      "\n",
      "Generator validation loss: -4.089433978815547\n",
      "Discriminator validation loss: 0.010557205093316983\n"
     ]
    },
    {
     "name": "stderr",
     "output_type": "stream",
     "text": [
      " 36%|███████████████████████████                                                | 360/1000 [1:23:51<2:29:12, 13.99s/it]"
     ]
    },
    {
     "name": "stdout",
     "output_type": "stream",
     "text": [
      "\n",
      "Epoch 360:\n",
      "\n",
      "Generator training loss: -2.943423822929299\n",
      "Discriminator training loss: 0.011130603441097512\n",
      "\n",
      "Generator validation loss: -3.7586110009521736\n",
      "Discriminator validation loss: 0.03911062252142879\n"
     ]
    },
    {
     "name": "stderr",
     "output_type": "stream",
     "text": [
      " 37%|███████████████████████████▊                                               | 370/1000 [1:26:11<2:28:11, 14.11s/it]"
     ]
    },
    {
     "name": "stdout",
     "output_type": "stream",
     "text": [
      "\n",
      "Epoch 370:\n",
      "\n",
      "Generator training loss: -2.582818665791079\n",
      "Discriminator training loss: 0.012463367112382424\n",
      "\n",
      "Generator validation loss: -3.280654365899133\n",
      "Discriminator validation loss: 0.024904693816559482\n"
     ]
    },
    {
     "name": "stderr",
     "output_type": "stream",
     "text": [
      " 38%|████████████████████████████▌                                              | 380/1000 [1:28:30<2:23:17, 13.87s/it]"
     ]
    },
    {
     "name": "stdout",
     "output_type": "stream",
     "text": [
      "\n",
      "Epoch 380:\n",
      "\n",
      "Generator training loss: -2.303626866288524\n",
      "Discriminator training loss: 0.007460249510601346\n",
      "\n",
      "Generator validation loss: -3.0774525775284065\n",
      "Discriminator validation loss: 0.005587406315841735\n"
     ]
    },
    {
     "name": "stderr",
     "output_type": "stream",
     "text": [
      " 39%|█████████████████████████████▎                                             | 390/1000 [1:30:50<2:22:58, 14.06s/it]"
     ]
    },
    {
     "name": "stdout",
     "output_type": "stream",
     "text": [
      "\n",
      "Epoch 390:\n",
      "\n",
      "Generator training loss: -2.1895636040004876\n",
      "Discriminator training loss: 0.0025214282395450154\n",
      "\n",
      "Generator validation loss: -2.9143762334448393\n",
      "Discriminator validation loss: 0.007307740463207277\n"
     ]
    },
    {
     "name": "stderr",
     "output_type": "stream",
     "text": [
      " 40%|█████████████████████████████▉                                             | 399/1000 [1:32:54<2:16:46, 13.65s/it]"
     ]
    },
    {
     "name": "stdout",
     "output_type": "stream",
     "text": [
      "\n",
      "Epoch 400:\n",
      "\n",
      "Generator training loss: -2.0629740761277455\n",
      "Discriminator training loss: 0.0017160487741709348\n",
      "\n",
      "Generator validation loss: -2.8025360713239578\n",
      "Discriminator validation loss: 0.019852989192929913\n",
      "\n",
      "Epoch 400:\n"
     ]
    },
    {
     "data": {
      "image/png": "[encoded data removed]",
      "text/plain": [
       "<Figure size 432x288 with 1 Axes>"
      ]
     },
     "metadata": {
      "needs_background": "light"
     },
     "output_type": "display_data"
    },
    {
     "data": {
      "image/png": "[encoded data removed]",
      "text/plain": [
       "<Figure size 432x288 with 1 Axes>"
      ]
     },
     "metadata": {
      "needs_background": "light"
     },
     "output_type": "display_data"
    },
    {
     "data": {
      "image/png": "[encoded data removed]",
      "text/plain": [
       "<Figure size 432x288 with 1 Axes>"
      ]
     },
     "metadata": {
      "needs_background": "light"
     },
     "output_type": "display_data"
    },
    {
     "name": "stderr",
     "output_type": "stream",
     "text": [
      " 41%|██████████████████████████████▋                                            | 410/1000 [1:35:28<2:15:12, 13.75s/it]"
     ]
    },
    {
     "name": "stdout",
     "output_type": "stream",
     "text": [
      "\n",
      "Epoch 410:\n",
      "\n",
      "Generator training loss: -1.898733674177055\n",
      "Discriminator training loss: 0.002345256868033712\n",
      "\n",
      "Generator validation loss: -2.6419479182509127\n",
      "Discriminator validation loss: 0.005696232186116996\n"
     ]
    },
    {
     "name": "stderr",
     "output_type": "stream",
     "text": [
      " 42%|███████████████████████████████▌                                           | 420/1000 [1:37:49<2:13:30, 13.81s/it]"
     ]
    },
    {
     "name": "stdout",
     "output_type": "stream",
     "text": [
      "\n",
      "Epoch 420:\n",
      "\n",
      "Generator training loss: -1.7838955104676752\n",
      "Discriminator training loss: 0.002575849810914331\n",
      "\n",
      "Generator validation loss: -2.4859788066051047\n",
      "Discriminator validation loss: -0.009165273668229213\n"
     ]
    },
    {
     "name": "stderr",
     "output_type": "stream",
     "text": [
      " 43%|████████████████████████████████▎                                          | 430/1000 [1:40:06<2:09:51, 13.67s/it]"
     ]
    },
    {
     "name": "stdout",
     "output_type": "stream",
     "text": [
      "\n",
      "Epoch 430:\n",
      "\n",
      "Generator training loss: -1.588085226348189\n",
      "Discriminator training loss: 0.006646737269301773\n",
      "\n",
      "Generator validation loss: -2.285771448104108\n",
      "Discriminator validation loss: -0.0032073582716278548\n"
     ]
    },
    {
     "name": "stderr",
     "output_type": "stream",
     "text": [
      " 44%|█████████████████████████████████                                          | 440/1000 [1:42:28<2:14:43, 14.44s/it]"
     ]
    },
    {
     "name": "stdout",
     "output_type": "stream",
     "text": [
      "\n",
      "Epoch 440:\n",
      "\n",
      "Generator training loss: -1.4964670398847653\n",
      "Discriminator training loss: 0.00029794611824012255\n",
      "\n",
      "Generator validation loss: -2.2359710306417746\n",
      "Discriminator validation loss: 0.02039990156553075\n"
     ]
    },
    {
     "name": "stderr",
     "output_type": "stream",
     "text": [
      " 45%|█████████████████████████████████▊                                         | 450/1000 [1:44:49<2:08:31, 14.02s/it]"
     ]
    },
    {
     "name": "stdout",
     "output_type": "stream",
     "text": [
      "\n",
      "Epoch 450:\n",
      "\n",
      "Generator training loss: -1.4253962626222705\n",
      "Discriminator training loss: 0.0012515179612918735\n",
      "\n",
      "Generator validation loss: -2.0962191155699434\n",
      "Discriminator validation loss: -0.004772384164351054\n"
     ]
    },
    {
     "name": "stderr",
     "output_type": "stream",
     "text": [
      " 46%|██████████████████████████████████▌                                        | 460/1000 [1:47:08<2:04:16, 13.81s/it]"
     ]
    },
    {
     "name": "stdout",
     "output_type": "stream",
     "text": [
      "\n",
      "Epoch 460:\n",
      "\n",
      "Generator training loss: -1.474093549889945\n",
      "Discriminator training loss: -9.324102123128633e-05\n",
      "\n",
      "Generator validation loss: -2.1642734926255023\n",
      "Discriminator validation loss: -0.006735743248890551\n"
     ]
    },
    {
     "name": "stderr",
     "output_type": "stream",
     "text": [
      " 47%|███████████████████████████████████▎                                       | 470/1000 [1:49:26<2:02:51, 13.91s/it]"
     ]
    },
    {
     "name": "stdout",
     "output_type": "stream",
     "text": [
      "\n",
      "Epoch 470:\n",
      "\n",
      "Generator training loss: -1.5355877329091556\n",
      "Discriminator training loss: 0.0014128009880754729\n",
      "\n",
      "Generator validation loss: -2.2787277014529117\n",
      "Discriminator validation loss: 0.004631755611745709\n"
     ]
    },
    {
     "name": "stderr",
     "output_type": "stream",
     "text": [
      " 48%|████████████████████████████████████                                       | 480/1000 [1:51:47<2:00:38, 13.92s/it]"
     ]
    },
    {
     "name": "stdout",
     "output_type": "stream",
     "text": [
      "\n",
      "Epoch 480:\n",
      "\n",
      "Generator training loss: -1.663781522401695\n",
      "Discriminator training loss: 0.0015990967751220453\n",
      "\n",
      "Generator validation loss: -2.412965174581184\n",
      "Discriminator validation loss: 0.010771637947296677\n"
     ]
    },
    {
     "name": "stderr",
     "output_type": "stream",
     "text": [
      " 49%|████████████████████████████████████▊                                      | 490/1000 [1:54:04<1:57:05, 13.78s/it]"
     ]
    },
    {
     "name": "stdout",
     "output_type": "stream",
     "text": [
      "\n",
      "Epoch 490:\n",
      "\n",
      "Generator training loss: -1.6949129221869297\n",
      "Discriminator training loss: 0.002070939132721574\n",
      "\n",
      "Generator validation loss: -2.4724858237094565\n",
      "Discriminator validation loss: 0.009748111368532934\n"
     ]
    },
    {
     "name": "stderr",
     "output_type": "stream",
     "text": [
      " 50%|█████████████████████████████████████▍                                     | 499/1000 [1:56:08<1:54:41, 13.74s/it]"
     ]
    },
    {
     "name": "stdout",
     "output_type": "stream",
     "text": [
      "\n",
      "Epoch 500:\n",
      "\n",
      "Generator training loss: -1.7519408516545114\n",
      "Discriminator training loss: 0.0007339771668714709\n",
      "\n",
      "Generator validation loss: -2.5726515816860513\n",
      "Discriminator validation loss: 0.0386454526518212\n",
      "\n",
      "Epoch 500:\n"
     ]
    },
    {
     "data": {
      "image/png": "[encoded data removed]",
      "text/plain": [
       "<Figure size 432x288 with 1 Axes>"
      ]
     },
     "metadata": {
      "needs_background": "light"
     },
     "output_type": "display_data"
    },
    {
     "data": {
      "image/png": "[encoded data removed]",
      "text/plain": [
       "<Figure size 432x288 with 1 Axes>"
      ]
     },
     "metadata": {
      "needs_background": "light"
     },
     "output_type": "display_data"
    },
    {
     "data": {
      "image/png": "[encoded data removed]",
      "text/plain": [
       "<Figure size 432x288 with 1 Axes>"
      ]
     },
     "metadata": {
      "needs_background": "light"
     },
     "output_type": "display_data"
    },
    {
     "name": "stderr",
     "output_type": "stream",
     "text": [
      " 51%|██████████████████████████████████████▎                                    | 510/1000 [1:58:41<1:52:53, 13.82s/it]"
     ]
    },
    {
     "name": "stdout",
     "output_type": "stream",
     "text": [
      "\n",
      "Epoch 510:\n",
      "\n",
      "Generator training loss: -1.7674686944549853\n",
      "Discriminator training loss: 0.0017572864144571351\n",
      "\n",
      "Generator validation loss: -2.549338825413438\n",
      "Discriminator validation loss: 0.013747064228795592\n"
     ]
    },
    {
     "name": "stderr",
     "output_type": "stream",
     "text": [
      " 52%|███████████████████████████████████████                                    | 520/1000 [2:01:00<1:52:30, 14.06s/it]"
     ]
    },
    {
     "name": "stdout",
     "output_type": "stream",
     "text": [
      "\n",
      "Epoch 520:\n",
      "\n",
      "Generator training loss: -1.793409372939438\n",
      "Discriminator training loss: 0.0020026114077706146\n",
      "\n",
      "Generator validation loss: -2.570008184089035\n",
      "Discriminator validation loss: 0.004965257175843094\n"
     ]
    },
    {
     "name": "stderr",
     "output_type": "stream",
     "text": [
      " 53%|███████████████████████████████████████▊                                   | 530/1000 [2:03:24<1:51:00, 14.17s/it]"
     ]
    },
    {
     "name": "stdout",
     "output_type": "stream",
     "text": [
      "\n",
      "Epoch 530:\n",
      "\n",
      "Generator training loss: -1.7406713627075237\n",
      "Discriminator training loss: 0.0011637501905383918\n",
      "\n",
      "Generator validation loss: -2.5088348447299396\n",
      "Discriminator validation loss: -0.02572170662556271\n"
     ]
    },
    {
     "name": "stderr",
     "output_type": "stream",
     "text": [
      " 54%|████████████████████████████████████████▌                                  | 540/1000 [2:05:45<1:47:12, 13.98s/it]"
     ]
    },
    {
     "name": "stdout",
     "output_type": "stream",
     "text": [
      "\n",
      "Epoch 540:\n",
      "\n",
      "Generator training loss: -1.774704706799137\n",
      "Discriminator training loss: -0.00016568476744769066\n",
      "\n",
      "Generator validation loss: -2.5716519844336587\n",
      "Discriminator validation loss: -0.031355457151400264\n"
     ]
    },
    {
     "name": "stderr",
     "output_type": "stream",
     "text": [
      " 55%|█████████████████████████████████████████▎                                 | 550/1000 [2:08:06<1:45:33, 14.08s/it]"
     ]
    },
    {
     "name": "stdout",
     "output_type": "stream",
     "text": [
      "\n",
      "Epoch 550:\n",
      "\n",
      "Generator training loss: -1.8660428826926185\n",
      "Discriminator training loss: -0.0009281650450789702\n",
      "\n",
      "Generator validation loss: -2.6694844785283824\n",
      "Discriminator validation loss: -0.0076588810983087225\n"
     ]
    },
    {
     "name": "stderr",
     "output_type": "stream",
     "text": [
      " 56%|██████████████████████████████████████████                                 | 560/1000 [2:10:26<1:42:12, 13.94s/it]"
     ]
    },
    {
     "name": "stdout",
     "output_type": "stream",
     "text": [
      "\n",
      "Epoch 560:\n",
      "\n",
      "Generator training loss: -1.934275538217826\n",
      "Discriminator training loss: 0.0015369187711764768\n",
      "\n",
      "Generator validation loss: -2.7284826724255673\n",
      "Discriminator validation loss: -0.004629126658431635\n"
     ]
    },
    {
     "name": "stderr",
     "output_type": "stream",
     "text": [
      " 57%|██████████████████████████████████████████▋                                | 570/1000 [2:12:47<1:42:11, 14.26s/it]"
     ]
    },
    {
     "name": "stdout",
     "output_type": "stream",
     "text": [
      "\n",
      "Epoch 570:\n",
      "\n",
      "Generator training loss: -1.966645074346678\n",
      "Discriminator training loss: 0.00023164978271376983\n",
      "\n",
      "Generator validation loss: -2.7984391685392036\n",
      "Discriminator validation loss: 0.035903692810383976\n"
     ]
    },
    {
     "name": "stderr",
     "output_type": "stream",
     "text": [
      " 58%|███████████████████████████████████████████▌                               | 580/1000 [2:15:08<1:38:42, 14.10s/it]"
     ]
    },
    {
     "name": "stdout",
     "output_type": "stream",
     "text": [
      "\n",
      "Epoch 580:\n",
      "\n",
      "Generator training loss: -1.996863138805973\n",
      "Discriminator training loss: -6.513964304321349e-05\n",
      "\n",
      "Generator validation loss: -2.809228482793589\n",
      "Discriminator validation loss: -0.0028271604500272975\n"
     ]
    },
    {
     "name": "stderr",
     "output_type": "stream",
     "text": [
      " 59%|████████████████████████████████████████████▎                              | 590/1000 [2:17:26<1:33:37, 13.70s/it]"
     ]
    },
    {
     "name": "stdout",
     "output_type": "stream",
     "text": [
      "\n",
      "Epoch 590:\n",
      "\n",
      "Generator training loss: -1.9713143191702378\n",
      "Discriminator training loss: 0.0006953894136951602\n",
      "\n",
      "Generator validation loss: -2.7773110847004125\n",
      "Discriminator validation loss: 0.010178914179139938\n"
     ]
    },
    {
     "name": "stderr",
     "output_type": "stream",
     "text": [
      " 60%|████████████████████████████████████████████▉                              | 599/1000 [2:19:30<1:31:44, 13.73s/it]"
     ]
    },
    {
     "name": "stdout",
     "output_type": "stream",
     "text": [
      "\n",
      "Epoch 600:\n",
      "\n",
      "Generator training loss: -1.9425752247617545\n",
      "Discriminator training loss: -0.00037116497214959905\n",
      "\n",
      "Generator validation loss: -2.756398214668524\n",
      "Discriminator validation loss: -0.013263541021857594\n",
      "\n",
      "Epoch 600:\n"
     ]
    },
    {
     "data": {
      "image/png": "[encoded data removed]",
      "text/plain": [
       "<Figure size 432x288 with 1 Axes>"
      ]
     },
     "metadata": {
      "needs_background": "light"
     },
     "output_type": "display_data"
    },
    {
     "data": {
      "image/png": "[encoded data removed]",
      "text/plain": [
       "<Figure size 432x288 with 1 Axes>"
      ]
     },
     "metadata": {
      "needs_background": "light"
     },
     "output_type": "display_data"
    },
    {
     "data": {
      "image/png": "[encoded data removed]",
      "text/plain": [
       "<Figure size 432x288 with 1 Axes>"
      ]
     },
     "metadata": {
      "needs_background": "light"
     },
     "output_type": "display_data"
    },
    {
     "name": "stderr",
     "output_type": "stream",
     "text": [
      " 61%|█████████████████████████████████████████████▊                             | 610/1000 [2:22:02<1:29:27, 13.76s/it]"
     ]
    },
    {
     "name": "stdout",
     "output_type": "stream",
     "text": [
      "\n",
      "Epoch 610:\n",
      "\n",
      "Generator training loss: -1.9510006315069772\n",
      "Discriminator training loss: -0.0005810927220255144\n",
      "\n",
      "Generator validation loss: -2.7692100259124257\n",
      "Discriminator validation loss: -0.017503528863374817\n"
     ]
    },
    {
     "name": "stderr",
     "output_type": "stream",
     "text": [
      " 62%|██████████████████████████████████████████████▌                            | 620/1000 [2:24:18<1:26:17, 13.63s/it]"
     ]
    },
    {
     "name": "stdout",
     "output_type": "stream",
     "text": [
      "\n",
      "Epoch 620:\n",
      "\n",
      "Generator training loss: -1.9791631698608398\n",
      "Discriminator training loss: -0.0006350176331912844\n",
      "\n",
      "Generator validation loss: -2.806056089088565\n",
      "Discriminator validation loss: 0.022827790393570406\n"
     ]
    },
    {
     "name": "stderr",
     "output_type": "stream",
     "text": [
      " 62%|██████████████████████████████████████████████▊                            | 624/1000 [2:25:13<1:25:34, 13.66s/it]"
     ]
    }
   ],
   "source": [
    "train_gen_losses = []\n",
    "train_disc_losses = []\n",
    "test_gen_losses = []\n",
    "test_disc_losses = []\n",
    "train(train_dataset, test_dataset, 1000, N_CRITIC)"
   ]
  },
  {
   "cell_type": "markdown",
   "metadata": {},
   "source": [
    "## Results\n",
    "Train for 4 features works pretty well and took 2:20 hrs for 1000 epos with a 1080"
   ]
  },
  {
   "cell_type": "code",
   "execution_count": null,
   "metadata": {},
   "outputs": [],
   "source": [
    "z"
   ]
  },
  {
   "cell_type": "code",
   "execution_count": null,
   "metadata": {},
   "outputs": [],
   "source": []
  }
 ],
 "metadata": {
  "kernelspec": {
   "display_name": "Python 3.7 (tensorflow)",
   "language": "python",
   "name": "tensorflow"
  },
  "language_info": {
   "codemirror_mode": {
    "name": "ipython",
    "version": 3
   },
   "file_extension": ".py",
   "mimetype": "text/x-python",
   "name": "python",
   "nbconvert_exporter": "python",
   "pygments_lexer": "ipython3",
   "version": "3.7.7"
  }
 },
 "nbformat": 4,
 "nbformat_minor": 2
}
