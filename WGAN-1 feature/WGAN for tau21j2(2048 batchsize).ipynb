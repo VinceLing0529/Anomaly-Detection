{
 "cells": [
  {
   "cell_type": "markdown",
   "metadata": {},
   "source": [
    "# Wasserstein GAN with Gradient Penalty\n",
    "## For generation of features based on LHCO2020 datasets"
   ]
  },
  {
   "cell_type": "code",
   "execution_count": 1,
   "metadata": {},
   "outputs": [
    {
     "name": "stdout",
     "output_type": "stream",
     "text": [
      "2.1.0\n",
      "PhysicalDevice(name='/physical_device:GPU:0', device_type='GPU')\n"
     ]
    },
    {
     "name": "stderr",
     "output_type": "stream",
     "text": [
      "Using TensorFlow backend.\n"
     ]
    }
   ],
   "source": [
    "import h5py as h5\n",
    "import numpy as np\n",
    "from math import ceil, floor\n",
    "from tqdm import tqdm\n",
    "import pandas as pd\n",
    "import matplotlib.pyplot as plt\n",
    "from sklearn.model_selection import train_test_split\n",
    "from sklearn.preprocessing import MinMaxScaler\n",
    "import tensorflow as tf\n",
    "from tensorflow.keras import layers\n",
    "import keras.backend as K\n",
    "import gc\n",
    "print(tf.__version__)\n",
    "physical_devices = tf.config.experimental.list_physical_devices('GPU')\n",
    "tf.config.experimental.set_memory_growth(physical_devices[0], True)\n",
    "print(physical_devices[0])"
   ]
  },
  {
   "cell_type": "code",
   "execution_count": 2,
   "metadata": {},
   "outputs": [],
   "source": [
    "filenames = {\n",
    "    \"herwig\": \"Herwig_qcd_features.h5\",\n",
    "    \"pythiabg\": \"GAN-data\\events_anomalydetection_DelphesPythia8_v2_qcd_features.h5\",\n",
    "    \"pythiasig\": \"GAN-data\\events_anomalydetection_DelphesPythia8_v2_Wprime_features.h5\"\n",
    "}\n",
    "\n",
    "datatypes = [\"herwig\", \"pythiabg\", \"pythiasig\"]\n",
    "features = [\"px\", \"py\", \"pz\", \"m\", \"tau1\", \"tau2\", \"tau3\"]\n",
    " # Can be flexibly changed to suit GAN needs"
   ]
  },
  {
   "cell_type": "code",
   "execution_count": 3,
   "metadata": {},
   "outputs": [],
   "source": [
    "def load_data(datatype, stop = None):\n",
    "    input_frame = pd.read_hdf(filenames[datatype], stop = stop)\n",
    "    output_frame = input_frame.copy()\n",
    "    for feature in features:\n",
    "        output_frame[feature + \"j1\"] = (input_frame[\"mj1\"] >= input_frame[\"mj2\"])*input_frame[feature + \"j1\"] + (input_frame[\"mj1\"] < input_frame[\"mj2\"])*input_frame[feature + \"j2\"]\n",
    "        output_frame[feature + \"j2\"] = (input_frame[\"mj1\"] >= input_frame[\"mj2\"])*input_frame[feature + \"j2\"] + (input_frame[\"mj1\"] < input_frame[\"mj2\"])*input_frame[feature + \"j1\"]\n",
    "    del input_frame\n",
    "    gc.collect()\n",
    "    output_frame[\"ej1\"] = np.sqrt(output_frame[\"mj1\"]**2 + output_frame[\"pxj1\"]**2 + output_frame[\"pyj1\"]**2 + output_frame[\"pzj1\"]**2)\n",
    "    output_frame[\"ej2\"] = np.sqrt(output_frame[\"mj2\"]**2 + output_frame[\"pxj2\"]**2 + output_frame[\"pyj2\"]**2 + output_frame[\"pzj2\"]**2)\n",
    "    output_frame[\"ejj\"] = output_frame[\"ej1\"] + output_frame[\"ej2\"]\n",
    "    output_frame[\"pjj\"] = np.sqrt((output_frame[\"pxj1\"] + output_frame[\"pxj2\"])**2 + (output_frame[\"pyj1\"] + output_frame[\"pyj2\"])**2 + (output_frame[\"pyj1\"] + output_frame[\"pyj2\"])**2)\n",
    "    output_frame[\"mjj\"] = np.sqrt(output_frame[\"ejj\"]**2 - output_frame[\"pjj\"]**2)\n",
    "    output_frame[\"tau21j1\"] = output_frame[\"tau2j1\"] / output_frame[\"tau1j1\"]\n",
    "    output_frame[\"tau32j1\"] = output_frame[\"tau3j1\"] / output_frame[\"tau2j1\"]\n",
    "    output_frame[\"tau21j2\"] = output_frame[\"tau2j2\"] / output_frame[\"tau1j2\"]\n",
    "    output_frame[\"tau32j2\"] = output_frame[\"tau3j2\"] / output_frame[\"tau2j2\"]\n",
    "    output_frame[\"mj1-mj2\"] = output_frame[\"mj1\"] -output_frame[\"mj2\"]\n",
    "\n",
    "    return output_frame"
   ]
  },
  {
   "cell_type": "code",
   "execution_count": 4,
   "metadata": {},
   "outputs": [],
   "source": [
    "# Network hyperparameters\n",
    "\n",
    "BATCH_SIZE = 2048# Uses about 3 GB of VRAM for batch size of 512\n",
    "EPOCHS = 1000\n",
    "LEARNING_RATE = 0.00001\n",
    "N_CRITIC = 5\n",
    "C_LAMBDA = 0.5"
   ]
  },
  {
   "cell_type": "code",
   "execution_count": 5,
   "metadata": {},
   "outputs": [
    {
     "name": "stderr",
     "output_type": "stream",
     "text": [
      "D:\\Users\\Azure\\anaconda3\\envs\\GPU\\lib\\site-packages\\pandas\\core\\series.py:679: RuntimeWarning: invalid value encountered in sqrt\n",
      "  result = getattr(ufunc, method)(*inputs, **kwargs)\n"
     ]
    },
    {
     "data": {
      "text/plain": [
       "1e-06"
      ]
     },
     "execution_count": 5,
     "metadata": {},
     "output_type": "execute_result"
    }
   ],
   "source": [
    "df = load_data(\"herwig\")\n",
    "df[\"tau2j2\"]=np.where(df[\"tau2j2\"]==0, 0.000001, df[\"tau2j2\"]) \n",
    "min(df[\"tau2j2\"])"
   ]
  },
  {
   "cell_type": "code",
   "execution_count": 6,
   "metadata": {},
   "outputs": [],
   "source": [
    "df = load_data(\"herwig\")\n",
    "df.dropna(inplace = True)\n",
    "#df[\"tau2j2\"]=np.where(df[\"tau2j2\"]==0, 0.000001, df[\"tau2j2\"]) \n",
    "# Ensures all batches have same size\n",
    "\n",
    "df.drop([i for i in range(df.shape[0] % (BATCH_SIZE * 4))], inplace = True)\n",
    "\n",
    "df.reset_index(drop = True, inplace = True)\n",
    "df = df.astype('float32')"
   ]
  },
  {
   "cell_type": "code",
   "execution_count": 7,
   "metadata": {},
   "outputs": [
    {
     "data": {
      "text/html": [
       "<div>\n",
       "<style scoped>\n",
       "    .dataframe tbody tr th:only-of-type {\n",
       "        vertical-align: middle;\n",
       "    }\n",
       "\n",
       "    .dataframe tbody tr th {\n",
       "        vertical-align: top;\n",
       "    }\n",
       "\n",
       "    .dataframe thead th {\n",
       "        text-align: right;\n",
       "    }\n",
       "</style>\n",
       "<table border=\"1\" class=\"dataframe\">\n",
       "  <thead>\n",
       "    <tr style=\"text-align: right;\">\n",
       "      <th></th>\n",
       "      <th>pxj1</th>\n",
       "      <th>pyj1</th>\n",
       "      <th>pzj1</th>\n",
       "      <th>mj1</th>\n",
       "      <th>tau1j1</th>\n",
       "      <th>tau2j1</th>\n",
       "      <th>tau3j1</th>\n",
       "      <th>pxj2</th>\n",
       "      <th>pyj2</th>\n",
       "      <th>pzj2</th>\n",
       "      <th>...</th>\n",
       "      <th>ej1</th>\n",
       "      <th>ej2</th>\n",
       "      <th>ejj</th>\n",
       "      <th>pjj</th>\n",
       "      <th>mjj</th>\n",
       "      <th>tau21j1</th>\n",
       "      <th>tau32j1</th>\n",
       "      <th>tau21j2</th>\n",
       "      <th>tau32j2</th>\n",
       "      <th>mj1-mj2</th>\n",
       "    </tr>\n",
       "  </thead>\n",
       "  <tbody>\n",
       "    <tr>\n",
       "      <th>0</th>\n",
       "      <td>-606.640015</td>\n",
       "      <td>136.223999</td>\n",
       "      <td>-2463.290039</td>\n",
       "      <td>115.829002</td>\n",
       "      <td>41.708900</td>\n",
       "      <td>19.615000</td>\n",
       "      <td>16.282600</td>\n",
       "      <td>1410.239990</td>\n",
       "      <td>-311.454010</td>\n",
       "      <td>516.468018</td>\n",
       "      <td>...</td>\n",
       "      <td>2543.183594</td>\n",
       "      <td>1537.945679</td>\n",
       "      <td>4081.129395</td>\n",
       "      <td>840.942322</td>\n",
       "      <td>3993.548828</td>\n",
       "      <td>0.470283</td>\n",
       "      <td>0.830110</td>\n",
       "      <td>0.614313</td>\n",
       "      <td>0.647716</td>\n",
       "      <td>2.881004</td>\n",
       "    </tr>\n",
       "    <tr>\n",
       "      <th>1</th>\n",
       "      <td>1075.790039</td>\n",
       "      <td>560.247986</td>\n",
       "      <td>-473.667999</td>\n",
       "      <td>253.820999</td>\n",
       "      <td>98.636002</td>\n",
       "      <td>46.423801</td>\n",
       "      <td>37.188900</td>\n",
       "      <td>-785.905029</td>\n",
       "      <td>-476.933990</td>\n",
       "      <td>-1670.449951</td>\n",
       "      <td>...</td>\n",
       "      <td>1326.645630</td>\n",
       "      <td>1906.993530</td>\n",
       "      <td>3233.639160</td>\n",
       "      <td>312.914948</td>\n",
       "      <td>3218.463379</td>\n",
       "      <td>0.470658</td>\n",
       "      <td>0.801074</td>\n",
       "      <td>0.345675</td>\n",
       "      <td>0.681456</td>\n",
       "      <td>220.523193</td>\n",
       "    </tr>\n",
       "    <tr>\n",
       "      <th>2</th>\n",
       "      <td>-963.197998</td>\n",
       "      <td>-802.231995</td>\n",
       "      <td>-255.048004</td>\n",
       "      <td>369.252991</td>\n",
       "      <td>203.923996</td>\n",
       "      <td>32.369499</td>\n",
       "      <td>22.955299</td>\n",
       "      <td>1066.229980</td>\n",
       "      <td>662.479980</td>\n",
       "      <td>-1211.520020</td>\n",
       "      <td>...</td>\n",
       "      <td>1331.436768</td>\n",
       "      <td>1748.691895</td>\n",
       "      <td>3080.128662</td>\n",
       "      <td>222.883026</td>\n",
       "      <td>3072.053955</td>\n",
       "      <td>0.158733</td>\n",
       "      <td>0.709165</td>\n",
       "      <td>0.349252</td>\n",
       "      <td>0.687567</td>\n",
       "      <td>249.183990</td>\n",
       "    </tr>\n",
       "    <tr>\n",
       "      <th>3</th>\n",
       "      <td>-914.739014</td>\n",
       "      <td>-1285.349976</td>\n",
       "      <td>-390.425995</td>\n",
       "      <td>420.726013</td>\n",
       "      <td>183.169006</td>\n",
       "      <td>29.843300</td>\n",
       "      <td>24.244101</td>\n",
       "      <td>910.085022</td>\n",
       "      <td>1286.180054</td>\n",
       "      <td>228.893997</td>\n",
       "      <td>...</td>\n",
       "      <td>1678.783691</td>\n",
       "      <td>1593.454956</td>\n",
       "      <td>3272.238770</td>\n",
       "      <td>4.799760</td>\n",
       "      <td>3272.235107</td>\n",
       "      <td>0.162928</td>\n",
       "      <td>0.812380</td>\n",
       "      <td>0.515532</td>\n",
       "      <td>0.832525</td>\n",
       "      <td>355.978119</td>\n",
       "    </tr>\n",
       "    <tr>\n",
       "      <th>4</th>\n",
       "      <td>1178.770020</td>\n",
       "      <td>-442.437988</td>\n",
       "      <td>-816.497009</td>\n",
       "      <td>429.519989</td>\n",
       "      <td>272.453003</td>\n",
       "      <td>162.826004</td>\n",
       "      <td>113.084999</td>\n",
       "      <td>-945.479004</td>\n",
       "      <td>402.459015</td>\n",
       "      <td>-412.460999</td>\n",
       "      <td>...</td>\n",
       "      <td>1560.898804</td>\n",
       "      <td>1110.571655</td>\n",
       "      <td>2671.470459</td>\n",
       "      <td>240.044449</td>\n",
       "      <td>2660.664062</td>\n",
       "      <td>0.597630</td>\n",
       "      <td>0.694514</td>\n",
       "      <td>0.720654</td>\n",
       "      <td>0.639655</td>\n",
       "      <td>343.837708</td>\n",
       "    </tr>\n",
       "    <tr>\n",
       "      <th>...</th>\n",
       "      <td>...</td>\n",
       "      <td>...</td>\n",
       "      <td>...</td>\n",
       "      <td>...</td>\n",
       "      <td>...</td>\n",
       "      <td>...</td>\n",
       "      <td>...</td>\n",
       "      <td>...</td>\n",
       "      <td>...</td>\n",
       "      <td>...</td>\n",
       "      <td>...</td>\n",
       "      <td>...</td>\n",
       "      <td>...</td>\n",
       "      <td>...</td>\n",
       "      <td>...</td>\n",
       "      <td>...</td>\n",
       "      <td>...</td>\n",
       "      <td>...</td>\n",
       "      <td>...</td>\n",
       "      <td>...</td>\n",
       "      <td>...</td>\n",
       "    </tr>\n",
       "    <tr>\n",
       "      <th>999419</th>\n",
       "      <td>-710.262024</td>\n",
       "      <td>-1026.920044</td>\n",
       "      <td>-1307.729980</td>\n",
       "      <td>796.106995</td>\n",
       "      <td>744.283020</td>\n",
       "      <td>368.661987</td>\n",
       "      <td>210.828003</td>\n",
       "      <td>692.814026</td>\n",
       "      <td>976.697998</td>\n",
       "      <td>-41.325802</td>\n",
       "      <td>...</td>\n",
       "      <td>1975.596313</td>\n",
       "      <td>1198.612427</td>\n",
       "      <td>3174.208740</td>\n",
       "      <td>73.136452</td>\n",
       "      <td>3173.365967</td>\n",
       "      <td>0.495325</td>\n",
       "      <td>0.571873</td>\n",
       "      <td>0.770408</td>\n",
       "      <td>0.594857</td>\n",
       "      <td>763.957764</td>\n",
       "    </tr>\n",
       "    <tr>\n",
       "      <th>999420</th>\n",
       "      <td>-268.907990</td>\n",
       "      <td>1307.540039</td>\n",
       "      <td>1420.180054</td>\n",
       "      <td>333.614014</td>\n",
       "      <td>240.792007</td>\n",
       "      <td>171.697006</td>\n",
       "      <td>130.660995</td>\n",
       "      <td>155.938995</td>\n",
       "      <td>-1274.060059</td>\n",
       "      <td>-1473.140015</td>\n",
       "      <td>...</td>\n",
       "      <td>1977.418091</td>\n",
       "      <td>1957.884277</td>\n",
       "      <td>3935.302490</td>\n",
       "      <td>122.490051</td>\n",
       "      <td>3933.395508</td>\n",
       "      <td>0.713051</td>\n",
       "      <td>0.760998</td>\n",
       "      <td>0.298112</td>\n",
       "      <td>0.729554</td>\n",
       "      <td>208.620010</td>\n",
       "    </tr>\n",
       "    <tr>\n",
       "      <th>999421</th>\n",
       "      <td>314.462006</td>\n",
       "      <td>1388.619995</td>\n",
       "      <td>-158.914001</td>\n",
       "      <td>420.259003</td>\n",
       "      <td>295.635986</td>\n",
       "      <td>57.412300</td>\n",
       "      <td>44.277100</td>\n",
       "      <td>65.702904</td>\n",
       "      <td>-1444.400024</td>\n",
       "      <td>-1056.260010</td>\n",
       "      <td>...</td>\n",
       "      <td>1492.991333</td>\n",
       "      <td>1792.290039</td>\n",
       "      <td>3285.281494</td>\n",
       "      <td>388.263031</td>\n",
       "      <td>3262.257812</td>\n",
       "      <td>0.194199</td>\n",
       "      <td>0.771213</td>\n",
       "      <td>0.600804</td>\n",
       "      <td>0.573244</td>\n",
       "      <td>342.734100</td>\n",
       "    </tr>\n",
       "    <tr>\n",
       "      <th>999422</th>\n",
       "      <td>-133.639999</td>\n",
       "      <td>1522.699951</td>\n",
       "      <td>-229.511993</td>\n",
       "      <td>632.781006</td>\n",
       "      <td>504.207001</td>\n",
       "      <td>105.698997</td>\n",
       "      <td>48.149700</td>\n",
       "      <td>29.203501</td>\n",
       "      <td>-1470.739990</td>\n",
       "      <td>-839.638977</td>\n",
       "      <td>...</td>\n",
       "      <td>1670.198242</td>\n",
       "      <td>1704.347900</td>\n",
       "      <td>3374.546143</td>\n",
       "      <td>127.697525</td>\n",
       "      <td>3372.129150</td>\n",
       "      <td>0.209634</td>\n",
       "      <td>0.455536</td>\n",
       "      <td>0.705832</td>\n",
       "      <td>0.759785</td>\n",
       "      <td>443.363007</td>\n",
       "    </tr>\n",
       "    <tr>\n",
       "      <th>999423</th>\n",
       "      <td>1654.319946</td>\n",
       "      <td>-688.971008</td>\n",
       "      <td>353.144012</td>\n",
       "      <td>150.893997</td>\n",
       "      <td>76.824097</td>\n",
       "      <td>48.240898</td>\n",
       "      <td>26.232500</td>\n",
       "      <td>-1712.619995</td>\n",
       "      <td>658.551025</td>\n",
       "      <td>220.513000</td>\n",
       "      <td>...</td>\n",
       "      <td>1832.739868</td>\n",
       "      <td>1850.804810</td>\n",
       "      <td>3683.544678</td>\n",
       "      <td>72.454445</td>\n",
       "      <td>3682.832031</td>\n",
       "      <td>0.627940</td>\n",
       "      <td>0.543781</td>\n",
       "      <td>0.276693</td>\n",
       "      <td>0.966118</td>\n",
       "      <td>50.416000</td>\n",
       "    </tr>\n",
       "  </tbody>\n",
       "</table>\n",
       "<p>999424 rows × 24 columns</p>\n",
       "</div>"
      ],
      "text/plain": [
       "               pxj1         pyj1         pzj1         mj1      tau1j1  \\\n",
       "0       -606.640015   136.223999 -2463.290039  115.829002   41.708900   \n",
       "1       1075.790039   560.247986  -473.667999  253.820999   98.636002   \n",
       "2       -963.197998  -802.231995  -255.048004  369.252991  203.923996   \n",
       "3       -914.739014 -1285.349976  -390.425995  420.726013  183.169006   \n",
       "4       1178.770020  -442.437988  -816.497009  429.519989  272.453003   \n",
       "...             ...          ...          ...         ...         ...   \n",
       "999419  -710.262024 -1026.920044 -1307.729980  796.106995  744.283020   \n",
       "999420  -268.907990  1307.540039  1420.180054  333.614014  240.792007   \n",
       "999421   314.462006  1388.619995  -158.914001  420.259003  295.635986   \n",
       "999422  -133.639999  1522.699951  -229.511993  632.781006  504.207001   \n",
       "999423  1654.319946  -688.971008   353.144012  150.893997   76.824097   \n",
       "\n",
       "            tau2j1      tau3j1         pxj2         pyj2         pzj2  ...  \\\n",
       "0        19.615000   16.282600  1410.239990  -311.454010   516.468018  ...   \n",
       "1        46.423801   37.188900  -785.905029  -476.933990 -1670.449951  ...   \n",
       "2        32.369499   22.955299  1066.229980   662.479980 -1211.520020  ...   \n",
       "3        29.843300   24.244101   910.085022  1286.180054   228.893997  ...   \n",
       "4       162.826004  113.084999  -945.479004   402.459015  -412.460999  ...   \n",
       "...            ...         ...          ...          ...          ...  ...   \n",
       "999419  368.661987  210.828003   692.814026   976.697998   -41.325802  ...   \n",
       "999420  171.697006  130.660995   155.938995 -1274.060059 -1473.140015  ...   \n",
       "999421   57.412300   44.277100    65.702904 -1444.400024 -1056.260010  ...   \n",
       "999422  105.698997   48.149700    29.203501 -1470.739990  -839.638977  ...   \n",
       "999423   48.240898   26.232500 -1712.619995   658.551025   220.513000  ...   \n",
       "\n",
       "                ej1          ej2          ejj         pjj          mjj  \\\n",
       "0       2543.183594  1537.945679  4081.129395  840.942322  3993.548828   \n",
       "1       1326.645630  1906.993530  3233.639160  312.914948  3218.463379   \n",
       "2       1331.436768  1748.691895  3080.128662  222.883026  3072.053955   \n",
       "3       1678.783691  1593.454956  3272.238770    4.799760  3272.235107   \n",
       "4       1560.898804  1110.571655  2671.470459  240.044449  2660.664062   \n",
       "...             ...          ...          ...         ...          ...   \n",
       "999419  1975.596313  1198.612427  3174.208740   73.136452  3173.365967   \n",
       "999420  1977.418091  1957.884277  3935.302490  122.490051  3933.395508   \n",
       "999421  1492.991333  1792.290039  3285.281494  388.263031  3262.257812   \n",
       "999422  1670.198242  1704.347900  3374.546143  127.697525  3372.129150   \n",
       "999423  1832.739868  1850.804810  3683.544678   72.454445  3682.832031   \n",
       "\n",
       "         tau21j1   tau32j1   tau21j2   tau32j2     mj1-mj2  \n",
       "0       0.470283  0.830110  0.614313  0.647716    2.881004  \n",
       "1       0.470658  0.801074  0.345675  0.681456  220.523193  \n",
       "2       0.158733  0.709165  0.349252  0.687567  249.183990  \n",
       "3       0.162928  0.812380  0.515532  0.832525  355.978119  \n",
       "4       0.597630  0.694514  0.720654  0.639655  343.837708  \n",
       "...          ...       ...       ...       ...         ...  \n",
       "999419  0.495325  0.571873  0.770408  0.594857  763.957764  \n",
       "999420  0.713051  0.760998  0.298112  0.729554  208.620010  \n",
       "999421  0.194199  0.771213  0.600804  0.573244  342.734100  \n",
       "999422  0.209634  0.455536  0.705832  0.759785  443.363007  \n",
       "999423  0.627940  0.543781  0.276693  0.966118   50.416000  \n",
       "\n",
       "[999424 rows x 24 columns]"
      ]
     },
     "execution_count": 7,
     "metadata": {},
     "output_type": "execute_result"
    }
   ],
   "source": [
    "df"
   ]
  },
  {
   "cell_type": "code",
   "execution_count": 8,
   "metadata": {},
   "outputs": [
    {
     "data": {
      "text/plain": [
       "False"
      ]
     },
     "execution_count": 8,
     "metadata": {},
     "output_type": "execute_result"
    }
   ],
   "source": [
    "np.any(np.isnan(df))"
   ]
  },
  {
   "cell_type": "code",
   "execution_count": 9,
   "metadata": {},
   "outputs": [],
   "source": [
    "df = df.drop(df.columns[[0,1,2,4,5,6,7,8,9,11,12,13,14,15,16,17,20,22]], axis=1)"
   ]
  },
  {
   "cell_type": "code",
   "execution_count": 10,
   "metadata": {},
   "outputs": [
    {
     "data": {
      "text/html": [
       "<div>\n",
       "<style scoped>\n",
       "    .dataframe tbody tr th:only-of-type {\n",
       "        vertical-align: middle;\n",
       "    }\n",
       "\n",
       "    .dataframe tbody tr th {\n",
       "        vertical-align: top;\n",
       "    }\n",
       "\n",
       "    .dataframe thead th {\n",
       "        text-align: right;\n",
       "    }\n",
       "</style>\n",
       "<table border=\"1\" class=\"dataframe\">\n",
       "  <thead>\n",
       "    <tr style=\"text-align: right;\">\n",
       "      <th></th>\n",
       "      <th>mj1</th>\n",
       "      <th>mj2</th>\n",
       "      <th>mjj</th>\n",
       "      <th>tau21j1</th>\n",
       "      <th>tau21j2</th>\n",
       "      <th>mj1-mj2</th>\n",
       "    </tr>\n",
       "  </thead>\n",
       "  <tbody>\n",
       "    <tr>\n",
       "      <th>0</th>\n",
       "      <td>115.829002</td>\n",
       "      <td>112.947998</td>\n",
       "      <td>3993.548828</td>\n",
       "      <td>0.470283</td>\n",
       "      <td>0.614313</td>\n",
       "      <td>2.881004</td>\n",
       "    </tr>\n",
       "    <tr>\n",
       "      <th>1</th>\n",
       "      <td>253.820999</td>\n",
       "      <td>33.297798</td>\n",
       "      <td>3218.463379</td>\n",
       "      <td>0.470658</td>\n",
       "      <td>0.345675</td>\n",
       "      <td>220.523193</td>\n",
       "    </tr>\n",
       "    <tr>\n",
       "      <th>2</th>\n",
       "      <td>369.252991</td>\n",
       "      <td>120.069000</td>\n",
       "      <td>3072.053955</td>\n",
       "      <td>0.158733</td>\n",
       "      <td>0.349252</td>\n",
       "      <td>249.183990</td>\n",
       "    </tr>\n",
       "    <tr>\n",
       "      <th>3</th>\n",
       "      <td>420.726013</td>\n",
       "      <td>64.747902</td>\n",
       "      <td>3272.235107</td>\n",
       "      <td>0.162928</td>\n",
       "      <td>0.515532</td>\n",
       "      <td>355.978119</td>\n",
       "    </tr>\n",
       "    <tr>\n",
       "      <th>4</th>\n",
       "      <td>429.519989</td>\n",
       "      <td>85.682297</td>\n",
       "      <td>2660.664062</td>\n",
       "      <td>0.597630</td>\n",
       "      <td>0.720654</td>\n",
       "      <td>343.837708</td>\n",
       "    </tr>\n",
       "    <tr>\n",
       "      <th>...</th>\n",
       "      <td>...</td>\n",
       "      <td>...</td>\n",
       "      <td>...</td>\n",
       "      <td>...</td>\n",
       "      <td>...</td>\n",
       "      <td>...</td>\n",
       "    </tr>\n",
       "    <tr>\n",
       "      <th>999419</th>\n",
       "      <td>796.106995</td>\n",
       "      <td>32.149200</td>\n",
       "      <td>3173.365967</td>\n",
       "      <td>0.495325</td>\n",
       "      <td>0.770408</td>\n",
       "      <td>763.957764</td>\n",
       "    </tr>\n",
       "    <tr>\n",
       "      <th>999420</th>\n",
       "      <td>333.614014</td>\n",
       "      <td>124.994003</td>\n",
       "      <td>3933.395508</td>\n",
       "      <td>0.713051</td>\n",
       "      <td>0.298112</td>\n",
       "      <td>208.620010</td>\n",
       "    </tr>\n",
       "    <tr>\n",
       "      <th>999421</th>\n",
       "      <td>420.259003</td>\n",
       "      <td>77.524902</td>\n",
       "      <td>3262.257812</td>\n",
       "      <td>0.194199</td>\n",
       "      <td>0.600804</td>\n",
       "      <td>342.734100</td>\n",
       "    </tr>\n",
       "    <tr>\n",
       "      <th>999422</th>\n",
       "      <td>632.781006</td>\n",
       "      <td>189.417999</td>\n",
       "      <td>3372.129150</td>\n",
       "      <td>0.209634</td>\n",
       "      <td>0.705832</td>\n",
       "      <td>443.363007</td>\n",
       "    </tr>\n",
       "    <tr>\n",
       "      <th>999423</th>\n",
       "      <td>150.893997</td>\n",
       "      <td>100.477997</td>\n",
       "      <td>3682.832031</td>\n",
       "      <td>0.627940</td>\n",
       "      <td>0.276693</td>\n",
       "      <td>50.416000</td>\n",
       "    </tr>\n",
       "  </tbody>\n",
       "</table>\n",
       "<p>999424 rows × 6 columns</p>\n",
       "</div>"
      ],
      "text/plain": [
       "               mj1         mj2          mjj   tau21j1   tau21j2     mj1-mj2\n",
       "0       115.829002  112.947998  3993.548828  0.470283  0.614313    2.881004\n",
       "1       253.820999   33.297798  3218.463379  0.470658  0.345675  220.523193\n",
       "2       369.252991  120.069000  3072.053955  0.158733  0.349252  249.183990\n",
       "3       420.726013   64.747902  3272.235107  0.162928  0.515532  355.978119\n",
       "4       429.519989   85.682297  2660.664062  0.597630  0.720654  343.837708\n",
       "...            ...         ...          ...       ...       ...         ...\n",
       "999419  796.106995   32.149200  3173.365967  0.495325  0.770408  763.957764\n",
       "999420  333.614014  124.994003  3933.395508  0.713051  0.298112  208.620010\n",
       "999421  420.259003   77.524902  3262.257812  0.194199  0.600804  342.734100\n",
       "999422  632.781006  189.417999  3372.129150  0.209634  0.705832  443.363007\n",
       "999423  150.893997  100.477997  3682.832031  0.627940  0.276693   50.416000\n",
       "\n",
       "[999424 rows x 6 columns]"
      ]
     },
     "execution_count": 10,
     "metadata": {},
     "output_type": "execute_result"
    }
   ],
   "source": [
    "df"
   ]
  },
  {
   "cell_type": "code",
   "execution_count": 11,
   "metadata": {},
   "outputs": [
    {
     "name": "stdout",
     "output_type": "stream",
     "text": [
      "Dataset consists of 366 batches of 2048 samples each, total 749568 samples\n",
      "Testset consists of 122 batches of 2048 samples each, total 249856 samples\n"
     ]
    },
    {
     "data": {
      "text/plain": [
       "20"
      ]
     },
     "execution_count": 11,
     "metadata": {},
     "output_type": "execute_result"
    }
   ],
   "source": [
    "# Normalize all inputs between -1 and 1\n",
    "\n",
    "train_features = [\"tau21j2\"]\n",
    "scaler = MinMaxScaler((-1,1)).fit(df[train_features])\n",
    "feature_df = scaler.transform(df[train_features])\n",
    "\n",
    "X_train, X_test = train_test_split(feature_df, test_size = 0.25)\n",
    "len_dataset = int(X_train.shape[0] / BATCH_SIZE)\n",
    "len_testset = int(X_test.shape[0] / BATCH_SIZE)\n",
    "print(\"Dataset consists of {} batches of {} samples each, total {} samples\".format(len_dataset, BATCH_SIZE, len_dataset * BATCH_SIZE))\n",
    "print(\"Testset consists of {} batches of {} samples each, total {} samples\".format(len_testset, BATCH_SIZE, len_testset * BATCH_SIZE))\n",
    "gc.collect()"
   ]
  },
  {
   "cell_type": "code",
   "execution_count": 12,
   "metadata": {},
   "outputs": [
    {
     "data": {
      "text/plain": [
       "array([[ 0.10093808],\n",
       "       [ 0.37500465],\n",
       "       [-0.35312194],\n",
       "       ...,\n",
       "       [ 0.11286628],\n",
       "       [ 0.38153064],\n",
       "       [ 0.36073804]], dtype=float32)"
      ]
     },
     "execution_count": 12,
     "metadata": {},
     "output_type": "execute_result"
    }
   ],
   "source": [
    "X_train"
   ]
  },
  {
   "cell_type": "code",
   "execution_count": 13,
   "metadata": {},
   "outputs": [],
   "source": [
    "train_dataset = tf.data.Dataset.from_tensor_slices(np.array(X_train)).batch(BATCH_SIZE)\n",
    "test_dataset = tf.data.Dataset.from_tensor_slices(np.array(X_test)).batch(BATCH_SIZE)"
   ]
  },
  {
   "cell_type": "code",
   "execution_count": 14,
   "metadata": {},
   "outputs": [],
   "source": [
    "def make_generator_model():\n",
    "    \n",
    "    model = tf.keras.Sequential()\n",
    "    model.add(layers.Dense(50, input_shape=(len(train_features),)))\n",
    "    model.add(layers.BatchNormalization())\n",
    "    model.add(layers.LeakyReLU())\n",
    "\n",
    "    model.add(layers.Dense(50))\n",
    "    model.add(layers.BatchNormalization())\n",
    "    model.add(layers.LeakyReLU())\n",
    "\n",
    "    model.add(layers.Dense(50))\n",
    "    model.add(layers.BatchNormalization())\n",
    "    model.add(layers.LeakyReLU())\n",
    "\n",
    "    model.add(layers.Dense(len(train_features), activation='tanh'))\n",
    "    assert model.output_shape == (None, len(train_features))\n",
    "\n",
    "    return model"
   ]
  },
  {
   "cell_type": "code",
   "execution_count": 15,
   "metadata": {},
   "outputs": [],
   "source": [
    "generator = make_generator_model()"
   ]
  },
  {
   "cell_type": "code",
   "execution_count": 16,
   "metadata": {},
   "outputs": [],
   "source": [
    "def make_discriminator_model():\n",
    "    model = tf.keras.Sequential()\n",
    "    model.add(layers.Dense(50, input_shape=(len(train_features),)))\n",
    "    model.add(layers.LeakyReLU())\n",
    "    model.add(layers.Dropout(0.3))\n",
    "\n",
    "    model.add(layers.Dense(50))\n",
    "    model.add(layers.LeakyReLU())\n",
    "    model.add(layers.Dropout(0.3))\n",
    "\n",
    "    model.add(layers.Dense(1)) # WGAN: No sigmoid activation in last layer\n",
    "\n",
    "    return model"
   ]
  },
  {
   "cell_type": "code",
   "execution_count": 17,
   "metadata": {},
   "outputs": [],
   "source": [
    "discriminator = make_discriminator_model()"
   ]
  },
  {
   "cell_type": "code",
   "execution_count": 18,
   "metadata": {},
   "outputs": [
    {
     "name": "stdout",
     "output_type": "stream",
     "text": [
      "Model: \"sequential\"\n",
      "_________________________________________________________________\n",
      "Layer (type)                 Output Shape              Param #   \n",
      "=================================================================\n",
      "dense (Dense)                (None, 50)                100       \n",
      "_________________________________________________________________\n",
      "batch_normalization (BatchNo (None, 50)                200       \n",
      "_________________________________________________________________\n",
      "leaky_re_lu (LeakyReLU)      (None, 50)                0         \n",
      "_________________________________________________________________\n",
      "dense_1 (Dense)              (None, 50)                2550      \n",
      "_________________________________________________________________\n",
      "batch_normalization_1 (Batch (None, 50)                200       \n",
      "_________________________________________________________________\n",
      "leaky_re_lu_1 (LeakyReLU)    (None, 50)                0         \n",
      "_________________________________________________________________\n",
      "dense_2 (Dense)              (None, 50)                2550      \n",
      "_________________________________________________________________\n",
      "batch_normalization_2 (Batch (None, 50)                200       \n",
      "_________________________________________________________________\n",
      "leaky_re_lu_2 (LeakyReLU)    (None, 50)                0         \n",
      "_________________________________________________________________\n",
      "dense_3 (Dense)              (None, 1)                 51        \n",
      "=================================================================\n",
      "Total params: 5,851\n",
      "Trainable params: 5,551\n",
      "Non-trainable params: 300\n",
      "_________________________________________________________________\n"
     ]
    }
   ],
   "source": [
    "generator.summary()"
   ]
  },
  {
   "cell_type": "code",
   "execution_count": 19,
   "metadata": {},
   "outputs": [
    {
     "name": "stdout",
     "output_type": "stream",
     "text": [
      "Model: \"sequential_1\"\n",
      "_________________________________________________________________\n",
      "Layer (type)                 Output Shape              Param #   \n",
      "=================================================================\n",
      "dense_4 (Dense)              (None, 50)                100       \n",
      "_________________________________________________________________\n",
      "leaky_re_lu_3 (LeakyReLU)    (None, 50)                0         \n",
      "_________________________________________________________________\n",
      "dropout (Dropout)            (None, 50)                0         \n",
      "_________________________________________________________________\n",
      "dense_5 (Dense)              (None, 50)                2550      \n",
      "_________________________________________________________________\n",
      "leaky_re_lu_4 (LeakyReLU)    (None, 50)                0         \n",
      "_________________________________________________________________\n",
      "dropout_1 (Dropout)          (None, 50)                0         \n",
      "_________________________________________________________________\n",
      "dense_6 (Dense)              (None, 1)                 51        \n",
      "=================================================================\n",
      "Total params: 2,701\n",
      "Trainable params: 2,701\n",
      "Non-trainable params: 0\n",
      "_________________________________________________________________\n"
     ]
    }
   ],
   "source": [
    "discriminator.summary()"
   ]
  },
  {
   "cell_type": "code",
   "execution_count": 20,
   "metadata": {},
   "outputs": [],
   "source": [
    "@tf.function\n",
    "def gradient_penalty(real, fake, epsilon): \n",
    "    # mixed_images = real * epsilon + fake * (1 - epsilon)\n",
    "    mixed_images = fake + epsilon * (real - fake)\n",
    "    with tf.GradientTape() as tape:\n",
    "        tape.watch(mixed_images) \n",
    "        mixed_scores = discriminator(mixed_images)\n",
    "        \n",
    "    gradient = tape.gradient(mixed_scores, mixed_images)[0]\n",
    "    \n",
    "    gradient_norm = tf.norm(gradient)\n",
    "    penalty = tf.math.reduce_mean((gradient_norm - 1)**2)\n",
    "    return penalty"
   ]
  },
  {
   "cell_type": "code",
   "execution_count": 21,
   "metadata": {},
   "outputs": [],
   "source": [
    "@tf.function\n",
    "def discriminator_loss(real_output, fake_output, gradient_penalty):\n",
    "    loss = tf.math.reduce_mean(fake_output) - tf.math.reduce_mean(real_output) + C_LAMBDA * gradient_penalty\n",
    "    return loss"
   ]
  },
  {
   "cell_type": "code",
   "execution_count": 22,
   "metadata": {},
   "outputs": [],
   "source": [
    "@tf.function\n",
    "def generator_loss(fake_output):\n",
    "    gen_loss = -1. * tf.math.reduce_mean(fake_output)\n",
    "    return gen_loss"
   ]
  },
  {
   "cell_type": "code",
   "execution_count": 23,
   "metadata": {},
   "outputs": [],
   "source": [
    "generator_optimizer = tf.keras.optimizers.RMSprop(lr=LEARNING_RATE)\n",
    "discriminator_optimizer = tf.keras.optimizers.RMSprop(lr=LEARNING_RATE)"
   ]
  },
  {
   "cell_type": "code",
   "execution_count": 24,
   "metadata": {},
   "outputs": [],
   "source": [
    "# Convert tensor to float for loss function plotting\n",
    "def K_eval(x):\n",
    "    try:\n",
    "        return K.get_value(K.to_dense(x))\n",
    "    except:\n",
    "        eval_fn = K.function([], [x])\n",
    "        return eval_fn([])[0]"
   ]
  },
  {
   "cell_type": "code",
   "execution_count": 25,
   "metadata": {},
   "outputs": [],
   "source": [
    "@tf.function\n",
    "def train_step_generator(images):\n",
    "  noise = tf.random.normal([BATCH_SIZE, len(train_features)])\n",
    "\n",
    "  with tf.GradientTape() as gen_tape, tf.GradientTape() as disc_tape:\n",
    "    generated_images = generator(noise, training=True)\n",
    "    fake_output = discriminator(generated_images, training=True)\n",
    "    gen_loss = generator_loss(fake_output)\n",
    "\n",
    "  gradients_of_generator = gen_tape.gradient(gen_loss, generator.trainable_variables)\n",
    "\n",
    "  generator_optimizer.apply_gradients(zip(gradients_of_generator, generator.trainable_variables))\n",
    "  \n",
    "  return gen_loss"
   ]
  },
  {
   "cell_type": "code",
   "execution_count": 26,
   "metadata": {},
   "outputs": [],
   "source": [
    "@tf.function\n",
    "def train_step_discriminator(images):\n",
    "  noise = tf.random.normal([BATCH_SIZE, len(train_features)])\n",
    "\n",
    "  with tf.GradientTape() as gen_tape, tf.GradientTape() as disc_tape:\n",
    "    generated_images = generator(noise, training=True)\n",
    "\n",
    "    real_output = discriminator(images, training=True)\n",
    "    fake_output = discriminator(generated_images, training=True)\n",
    "\n",
    "    epsilon = tf.random.uniform([BATCH_SIZE,len(train_features)],minval=0,maxval=1)\n",
    "\n",
    "    gp = gradient_penalty(images, generated_images, epsilon)\n",
    "    \n",
    "    disc_loss = discriminator_loss(real_output, fake_output, gp)\n",
    "\n",
    "  gradients_of_discriminator = disc_tape.gradient(disc_loss, discriminator.trainable_variables)\n",
    "\n",
    "  discriminator_optimizer.apply_gradients(zip(gradients_of_discriminator, discriminator.trainable_variables))\n",
    "  \n",
    "  return disc_loss"
   ]
  },
  {
   "cell_type": "code",
   "execution_count": 27,
   "metadata": {},
   "outputs": [],
   "source": [
    "@tf.function\n",
    "def evaluate_generator():\n",
    "    noise = tf.random.normal([BATCH_SIZE, len(train_features)])\n",
    "    generated_images = generator(noise, training=False)\n",
    "\n",
    "    fake_output = discriminator(generated_images, training=False)\n",
    "\n",
    "    gen_loss = generator_loss(fake_output)\n",
    "\n",
    "    return gen_loss"
   ]
  },
  {
   "cell_type": "code",
   "execution_count": 28,
   "metadata": {},
   "outputs": [],
   "source": [
    "@tf.function\n",
    "def evaluate_discriminator(images):\n",
    "    noise = tf.random.normal([BATCH_SIZE, len(train_features)])\n",
    "    generated_images = generator(noise, training=False)\n",
    "\n",
    "    real_output = discriminator(images, training=False)\n",
    "    fake_output = discriminator(generated_images, training=False)\n",
    "\n",
    "    epsilon = tf.random.uniform([BATCH_SIZE,len(train_features)],minval=0,maxval=1)\n",
    "\n",
    "    gp = gradient_penalty(images, generated_images, epsilon)\n",
    "    \n",
    "    disc_loss = discriminator_loss(real_output, fake_output, gp)\n",
    "\n",
    "    return disc_loss"
   ]
  },
  {
   "cell_type": "code",
   "execution_count": 29,
   "metadata": {},
   "outputs": [],
   "source": [
    "def graph_gan(generator):\n",
    "    fakedata = scaler.inverse_transform(generator(tf.random.normal((10000, len(train_features))), training=False))\n",
    "    plt.ylabel(\"Normalized to Unity\")\n",
    "    \n",
    "    plt.hist(df['tau21j2'], bins = 25, range = (0, 1), color = \"tab:orange\", alpha = 0.5, label = \"Herwig Background\", density = True)\n",
    "    plt.hist(fakedata, bins = 25, range = (0, 1), color = \"tab:blue\", histtype = \"step\", label = \"GAN\", density = True)\n",
    "    plt.legend()\n",
    "    plt.show()\n",
    "    "
   ]
  },
  {
   "cell_type": "code",
   "execution_count": 30,
   "metadata": {},
   "outputs": [],
   "source": [
    "train_gen_losses = []\n",
    "train_disc_losses = []\n",
    "test_gen_losses = []\n",
    "test_disc_losses = []"
   ]
  },
  {
   "cell_type": "code",
   "execution_count": 31,
   "metadata": {},
   "outputs": [],
   "source": [
    "def graph_genloss():\n",
    "    plt.title(\"Generator Loss\")\n",
    "    plt.ylabel(\"Wasserstein Loss\")\n",
    "    plt.xlabel(\"Epoch\")\n",
    "    plt.plot(train_gen_losses, 'b', label = \"Training loss\")\n",
    "    plt.plot(test_gen_losses, 'r', label = \"Validation loss\")\n",
    "    plt.legend()\n",
    "    plt.show()"
   ]
  },
  {
   "cell_type": "code",
   "execution_count": 32,
   "metadata": {},
   "outputs": [],
   "source": [
    "def graph_discloss():\n",
    "    plt.title(\"Discriminator Loss\")\n",
    "    plt.ylabel(\"Wasserstein Loss\")\n",
    "    plt.xlabel(\"Epoch\")\n",
    "    plt.plot(train_disc_losses, 'b', label = \"Training loss\")\n",
    "    plt.plot(test_disc_losses, 'r', label = \"Validation loss\")\n",
    "    plt.legend()\n",
    "    plt.show()"
   ]
  },
  {
   "cell_type": "code",
   "execution_count": 33,
   "metadata": {},
   "outputs": [],
   "source": [
    "def train(dataset, testset, epochs, n_critic):\n",
    "  for epoch in tqdm(range(epochs)):\n",
    "    \n",
    "    print_losses = ((epoch + 1) % 10 == 0)\n",
    "    draw_outputs = ((epoch + 1) % 100 == 0)\n",
    "\n",
    "    train_gen_loss = 0\n",
    "    train_disc_loss = 0\n",
    "\n",
    "    test_gen_loss = 0\n",
    "    test_disc_loss = 0\n",
    "\n",
    "\n",
    "    # Training\n",
    "\n",
    "    for image_batch in dataset:\n",
    "      train_gen_loss += K_eval(train_step_generator(image_batch))\n",
    "      for n in range(n_critic):\n",
    "        train_disc_loss += K_eval(train_step_discriminator(image_batch))\n",
    "    \n",
    "    train_gen_losses.append(train_gen_loss / len_dataset)\n",
    "    train_disc_losses.append(train_disc_loss / len_dataset / n_critic)\n",
    "\n",
    "            \n",
    "    # Evaluation\n",
    "\n",
    "    for test_batch in testset:\n",
    "      test_gen_loss += K_eval(evaluate_generator())\n",
    "      test_disc_loss += K_eval(evaluate_discriminator(test_batch))\n",
    "\n",
    "    test_gen_losses.append(test_gen_loss / len_testset)\n",
    "    test_disc_losses.append(test_disc_loss / len_testset)\n",
    "\n",
    "    # Logging\n",
    "\n",
    "    if print_losses:\n",
    "      print()\n",
    "\n",
    "      print(\"Epoch \" + str(epoch + 1) + \":\")\n",
    "      print()\n",
    "      print(\"Generator training loss: \" + str(train_gen_losses[-1]))\n",
    "      print(\"Discriminator training loss: \" + str(train_disc_losses[-1]))\n",
    "      print()\n",
    "      print(\"Generator validation loss: \" + str(test_gen_losses[-1]))\n",
    "      print(\"Discriminator validation loss: \" + str(test_disc_losses[-1]))\n",
    "\n",
    "    if draw_outputs:\n",
    "      print()\n",
    "      print(\"Epoch \" + str(epoch + 1) + \":\")\n",
    "      graph_gan(generator)\n",
    "\n",
    "      graph_genloss()\n",
    "      graph_discloss()\n"
   ]
  },
  {
   "cell_type": "code",
   "execution_count": null,
   "metadata": {
    "scrolled": false,
    "tags": []
   },
   "outputs": [
    {
     "name": "stderr",
     "output_type": "stream",
     "text": [
      "\r",
      "  0%|                                                                                         | 0/1000 [00:00<?, ?it/s]"
     ]
    },
    {
     "name": "stdout",
     "output_type": "stream",
     "text": [
      "WARNING:tensorflow:AutoGraph could not transform <function train_step_generator at 0x00000133435B0B88> and will run it as-is.\n",
      "Please report this to the TensorFlow team. When filing the bug, set the verbosity to 10 (on Linux, `export AUTOGRAPH_VERBOSITY=10`) and attach the full output.\n",
      "Cause: Bad argument number for Name: 3, expecting 4\n",
      "WARNING: AutoGraph could not transform <function train_step_generator at 0x00000133435B0B88> and will run it as-is.\n",
      "Please report this to the TensorFlow team. When filing the bug, set the verbosity to 10 (on Linux, `export AUTOGRAPH_VERBOSITY=10`) and attach the full output.\n",
      "Cause: Bad argument number for Name: 3, expecting 4\n",
      "WARNING:tensorflow:AutoGraph could not transform <function generator_loss at 0x0000013343A60318> and will run it as-is.\n",
      "Please report this to the TensorFlow team. When filing the bug, set the verbosity to 10 (on Linux, `export AUTOGRAPH_VERBOSITY=10`) and attach the full output.\n",
      "Cause: Bad argument number for Name: 3, expecting 4\n",
      "WARNING: AutoGraph could not transform <function generator_loss at 0x0000013343A60318> and will run it as-is.\n",
      "Please report this to the TensorFlow team. When filing the bug, set the verbosity to 10 (on Linux, `export AUTOGRAPH_VERBOSITY=10`) and attach the full output.\n",
      "Cause: Bad argument number for Name: 3, expecting 4\n",
      "WARNING:tensorflow:AutoGraph could not transform <function train_step_discriminator at 0x0000013343A51708> and will run it as-is.\n",
      "Please report this to the TensorFlow team. When filing the bug, set the verbosity to 10 (on Linux, `export AUTOGRAPH_VERBOSITY=10`) and attach the full output.\n",
      "Cause: Bad argument number for Name: 3, expecting 4\n",
      "WARNING: AutoGraph could not transform <function train_step_discriminator at 0x0000013343A51708> and will run it as-is.\n",
      "Please report this to the TensorFlow team. When filing the bug, set the verbosity to 10 (on Linux, `export AUTOGRAPH_VERBOSITY=10`) and attach the full output.\n",
      "Cause: Bad argument number for Name: 3, expecting 4\n",
      "WARNING:tensorflow:AutoGraph could not transform <function gradient_penalty at 0x0000013343A51D38> and will run it as-is.\n",
      "Please report this to the TensorFlow team. When filing the bug, set the verbosity to 10 (on Linux, `export AUTOGRAPH_VERBOSITY=10`) and attach the full output.\n",
      "Cause: module 'gast' has no attribute 'Num'\n",
      "WARNING: AutoGraph could not transform <function gradient_penalty at 0x0000013343A51D38> and will run it as-is.\n",
      "Please report this to the TensorFlow team. When filing the bug, set the verbosity to 10 (on Linux, `export AUTOGRAPH_VERBOSITY=10`) and attach the full output.\n",
      "Cause: module 'gast' has no attribute 'Num'\n",
      "WARNING:tensorflow:AutoGraph could not transform <function discriminator_loss at 0x0000013343A51288> and will run it as-is.\n",
      "Please report this to the TensorFlow team. When filing the bug, set the verbosity to 10 (on Linux, `export AUTOGRAPH_VERBOSITY=10`) and attach the full output.\n",
      "Cause: Bad argument number for Name: 3, expecting 4\n",
      "WARNING: AutoGraph could not transform <function discriminator_loss at 0x0000013343A51288> and will run it as-is.\n",
      "Please report this to the TensorFlow team. When filing the bug, set the verbosity to 10 (on Linux, `export AUTOGRAPH_VERBOSITY=10`) and attach the full output.\n",
      "Cause: Bad argument number for Name: 3, expecting 4\n",
      "WARNING:tensorflow:AutoGraph could not transform <function evaluate_generator at 0x0000013343A514C8> and will run it as-is.\n",
      "Please report this to the TensorFlow team. When filing the bug, set the verbosity to 10 (on Linux, `export AUTOGRAPH_VERBOSITY=10`) and attach the full output.\n",
      "Cause: Bad argument number for Name: 3, expecting 4\n",
      "WARNING: AutoGraph could not transform <function evaluate_generator at 0x0000013343A514C8> and will run it as-is.\n",
      "Please report this to the TensorFlow team. When filing the bug, set the verbosity to 10 (on Linux, `export AUTOGRAPH_VERBOSITY=10`) and attach the full output.\n",
      "Cause: Bad argument number for Name: 3, expecting 4\n",
      "WARNING:tensorflow:AutoGraph could not transform <function evaluate_discriminator at 0x0000013343A51AF8> and will run it as-is.\n",
      "Please report this to the TensorFlow team. When filing the bug, set the verbosity to 10 (on Linux, `export AUTOGRAPH_VERBOSITY=10`) and attach the full output.\n",
      "Cause: Bad argument number for Name: 3, expecting 4\n",
      "WARNING: AutoGraph could not transform <function evaluate_discriminator at 0x0000013343A51AF8> and will run it as-is.\n",
      "Please report this to the TensorFlow team. When filing the bug, set the verbosity to 10 (on Linux, `export AUTOGRAPH_VERBOSITY=10`) and attach the full output.\n",
      "Cause: Bad argument number for Name: 3, expecting 4\n"
     ]
    },
    {
     "name": "stderr",
     "output_type": "stream",
     "text": [
      "  1%|▊                                                                             | 10/1000 [02:23<3:53:22, 14.14s/it]"
     ]
    },
    {
     "name": "stdout",
     "output_type": "stream",
     "text": [
      "\n",
      "Epoch 10:\n",
      "\n",
      "Generator training loss: -0.3872015015349362\n",
      "Discriminator training loss: 0.3637128008193657\n",
      "\n",
      "Generator validation loss: -0.47217886003314474\n",
      "Discriminator validation loss: 0.3988601943997086\n"
     ]
    },
    {
     "name": "stderr",
     "output_type": "stream",
     "text": [
      "  2%|█▌                                                                            | 20/1000 [04:48<3:52:40, 14.25s/it]"
     ]
    },
    {
     "name": "stdout",
     "output_type": "stream",
     "text": [
      "\n",
      "Epoch 20:\n",
      "\n",
      "Generator training loss: 0.07273030380815104\n",
      "Discriminator training loss: 0.3591980880726882\n",
      "\n",
      "Generator validation loss: -0.15807716182020845\n",
      "Discriminator validation loss: 0.48127259411772744\n"
     ]
    },
    {
     "name": "stderr",
     "output_type": "stream",
     "text": [
      "  3%|██▎                                                                           | 30/1000 [07:08<3:44:29, 13.89s/it]"
     ]
    },
    {
     "name": "stdout",
     "output_type": "stream",
     "text": [
      "\n",
      "Epoch 30:\n",
      "\n",
      "Generator training loss: 0.006246912483026686\n",
      "Discriminator training loss: 0.21058648786828166\n",
      "\n",
      "Generator validation loss: -0.5347941425002989\n",
      "Discriminator validation loss: 0.42973133408632436\n"
     ]
    },
    {
     "name": "stderr",
     "output_type": "stream",
     "text": [
      "  4%|███                                                                           | 40/1000 [09:27<3:44:00, 14.00s/it]"
     ]
    },
    {
     "name": "stdout",
     "output_type": "stream",
     "text": [
      "\n",
      "Epoch 40:\n",
      "\n",
      "Generator training loss: 0.05542864662193047\n",
      "Discriminator training loss: 0.041568122413314756\n",
      "\n",
      "Generator validation loss: -0.7373275190103249\n",
      "Discriminator validation loss: 0.21767937966057513\n"
     ]
    },
    {
     "name": "stderr",
     "output_type": "stream",
     "text": [
      "  5%|███▉                                                                          | 50/1000 [11:46<3:41:19, 13.98s/it]"
     ]
    },
    {
     "name": "stdout",
     "output_type": "stream",
     "text": [
      "\n",
      "Epoch 50:\n",
      "\n",
      "Generator training loss: 0.34698692021148453\n",
      "Discriminator training loss: -0.00205819838727402\n",
      "\n",
      "Generator validation loss: -0.327235110470506\n",
      "Discriminator validation loss: 0.007083287968330818\n"
     ]
    },
    {
     "name": "stderr",
     "output_type": "stream",
     "text": [
      "  6%|████▋                                                                         | 60/1000 [14:11<3:43:36, 14.27s/it]"
     ]
    },
    {
     "name": "stdout",
     "output_type": "stream",
     "text": [
      "\n",
      "Epoch 60:\n",
      "\n",
      "Generator training loss: 0.32178086205258394\n",
      "Discriminator training loss: 0.012320861383913787\n",
      "\n",
      "Generator validation loss: -0.4363782549979257\n",
      "Discriminator validation loss: 0.04971095490589982\n"
     ]
    },
    {
     "name": "stderr",
     "output_type": "stream",
     "text": [
      "  7%|█████▍                                                                        | 70/1000 [16:33<3:40:51, 14.25s/it]"
     ]
    },
    {
     "name": "stdout",
     "output_type": "stream",
     "text": [
      "\n",
      "Epoch 70:\n",
      "\n",
      "Generator training loss: 0.04190341199785115\n",
      "Discriminator training loss: 0.01445561092786804\n",
      "\n",
      "Generator validation loss: -0.8695185687698301\n",
      "Discriminator validation loss: 0.03523589217210891\n"
     ]
    },
    {
     "name": "stderr",
     "output_type": "stream",
     "text": [
      "  8%|██████▏                                                                       | 80/1000 [18:58<3:41:43, 14.46s/it]"
     ]
    },
    {
     "name": "stdout",
     "output_type": "stream",
     "text": [
      "\n",
      "Epoch 80:\n",
      "\n",
      "Generator training loss: 0.057882941287275544\n",
      "Discriminator training loss: 0.005214686893022751\n",
      "\n",
      "Generator validation loss: -0.8805815914615256\n",
      "Discriminator validation loss: 0.04631069441493906\n"
     ]
    },
    {
     "name": "stderr",
     "output_type": "stream",
     "text": [
      "  9%|███████                                                                       | 90/1000 [21:21<3:36:02, 14.24s/it]"
     ]
    },
    {
     "name": "stdout",
     "output_type": "stream",
     "text": [
      "\n",
      "Epoch 90:\n",
      "\n",
      "Generator training loss: 0.037843082962453346\n",
      "Discriminator training loss: 0.002443336027135956\n",
      "\n",
      "Generator validation loss: -0.980325197098685\n",
      "Discriminator validation loss: 0.05086630080505961\n"
     ]
    },
    {
     "name": "stderr",
     "output_type": "stream",
     "text": [
      " 10%|███████▋                                                                      | 99/1000 [23:30<3:36:46, 14.44s/it]"
     ]
    },
    {
     "name": "stdout",
     "output_type": "stream",
     "text": [
      "\n",
      "Epoch 100:\n",
      "\n",
      "Generator training loss: 0.07357678244328075\n",
      "Discriminator training loss: 0.0025645747963300167\n",
      "\n",
      "Generator validation loss: -0.9373653702071456\n",
      "Discriminator validation loss: 0.028812502333360007\n",
      "\n",
      "Epoch 100:\n"
     ]
    },
    {
     "data": {
      "image/png": "[encoded data removed]",
      "text/plain": [
       "<Figure size 432x288 with 1 Axes>"
      ]
     },
     "metadata": {
      "needs_background": "light"
     },
     "output_type": "display_data"
    },
    {
     "data": {
      "image/png": "[encoded data removed]",
      "text/plain": [
       "<Figure size 432x288 with 1 Axes>"
      ]
     },
     "metadata": {
      "needs_background": "light"
     },
     "output_type": "display_data"
    },
    {
     "data": {
      "image/png": "[encoded data removed]",
      "text/plain": [
       "<Figure size 432x288 with 1 Axes>"
      ]
     },
     "metadata": {
      "needs_background": "light"
     },
     "output_type": "display_data"
    },
    {
     "name": "stderr",
     "output_type": "stream",
     "text": [
      " 11%|████████▍                                                                    | 110/1000 [26:05<3:27:28, 13.99s/it]"
     ]
    },
    {
     "name": "stdout",
     "output_type": "stream",
     "text": [
      "\n",
      "Epoch 110:\n",
      "\n",
      "Generator training loss: 0.06137141202642618\n",
      "Discriminator training loss: 0.0008534352444476496\n",
      "\n",
      "Generator validation loss: -0.9674628372075128\n",
      "Discriminator validation loss: 0.044337267086642686\n"
     ]
    },
    {
     "name": "stderr",
     "output_type": "stream",
     "text": [
      " 12%|█████████▏                                                                   | 120/1000 [28:21<3:19:39, 13.61s/it]"
     ]
    },
    {
     "name": "stdout",
     "output_type": "stream",
     "text": [
      "\n",
      "Epoch 120:\n",
      "\n",
      "Generator training loss: 0.05300518660488045\n",
      "Discriminator training loss: 0.0010960894192429721\n",
      "\n",
      "Generator validation loss: -0.892453427686066\n",
      "Discriminator validation loss: -0.03072630566712774\n"
     ]
    },
    {
     "name": "stderr",
     "output_type": "stream",
     "text": [
      " 13%|██████████                                                                   | 130/1000 [30:43<3:25:11, 14.15s/it]"
     ]
    },
    {
     "name": "stdout",
     "output_type": "stream",
     "text": [
      "\n",
      "Epoch 130:\n",
      "\n",
      "Generator training loss: 0.022651047264531134\n",
      "Discriminator training loss: 0.0005778703851230274\n",
      "\n",
      "Generator validation loss: -0.9386875639196302\n",
      "Discriminator validation loss: -0.04356167638735449\n"
     ]
    },
    {
     "name": "stderr",
     "output_type": "stream",
     "text": [
      " 14%|██████████▊                                                                  | 140/1000 [33:03<3:18:55, 13.88s/it]"
     ]
    },
    {
     "name": "stdout",
     "output_type": "stream",
     "text": [
      "\n",
      "Epoch 140:\n",
      "\n",
      "Generator training loss: -0.04001718632306883\n",
      "Discriminator training loss: 0.0003148405837505454\n",
      "\n",
      "Generator validation loss: -1.0086919772820395\n",
      "Discriminator validation loss: -0.02144383979802875\n"
     ]
    },
    {
     "name": "stderr",
     "output_type": "stream",
     "text": [
      " 15%|███████████▌                                                                 | 150/1000 [35:23<3:17:34, 13.95s/it]"
     ]
    },
    {
     "name": "stdout",
     "output_type": "stream",
     "text": [
      "\n",
      "Epoch 150:\n",
      "\n",
      "Generator training loss: -0.09074907810961613\n",
      "Discriminator training loss: 0.0010235319491261915\n",
      "\n",
      "Generator validation loss: -1.0699201490058274\n",
      "Discriminator validation loss: -0.008512276984592823\n"
     ]
    },
    {
     "name": "stderr",
     "output_type": "stream",
     "text": [
      " 16%|████████████▎                                                                | 160/1000 [37:46<3:18:46, 14.20s/it]"
     ]
    },
    {
     "name": "stdout",
     "output_type": "stream",
     "text": [
      "\n",
      "Epoch 160:\n",
      "\n",
      "Generator training loss: -0.12337204850599413\n",
      "Discriminator training loss: 0.0012266123689704095\n",
      "\n",
      "Generator validation loss: -1.1213377362391987\n",
      "Discriminator validation loss: -0.0058040401966790054\n"
     ]
    },
    {
     "name": "stderr",
     "output_type": "stream",
     "text": [
      " 17%|█████████████                                                                | 170/1000 [40:07<3:14:43, 14.08s/it]"
     ]
    },
    {
     "name": "stdout",
     "output_type": "stream",
     "text": [
      "\n",
      "Epoch 170:\n",
      "\n",
      "Generator training loss: -0.09868982318239133\n",
      "Discriminator training loss: 0.001104674344281844\n",
      "\n",
      "Generator validation loss: -1.1384186519951116\n",
      "Discriminator validation loss: 0.008890255747008\n"
     ]
    },
    {
     "name": "stderr",
     "output_type": "stream",
     "text": [
      " 18%|█████████████▊                                                               | 180/1000 [42:27<3:12:00, 14.05s/it]"
     ]
    },
    {
     "name": "stdout",
     "output_type": "stream",
     "text": [
      "\n",
      "Epoch 180:\n",
      "\n",
      "Generator training loss: -0.07763308885156131\n",
      "Discriminator training loss: -0.00011385521131279482\n",
      "\n",
      "Generator validation loss: -1.0636326123456485\n",
      "Discriminator validation loss: 0.0017989746468584434\n"
     ]
    },
    {
     "name": "stderr",
     "output_type": "stream",
     "text": [
      " 19%|██████████████▋                                                              | 190/1000 [44:48<3:10:23, 14.10s/it]"
     ]
    },
    {
     "name": "stdout",
     "output_type": "stream",
     "text": [
      "\n",
      "Epoch 190:\n",
      "\n",
      "Generator training loss: -0.10680843432703631\n",
      "Discriminator training loss: 0.001045250009272303\n",
      "\n",
      "Generator validation loss: -1.1078846532790387\n",
      "Discriminator validation loss: 0.016929582238114308\n"
     ]
    },
    {
     "name": "stderr",
     "output_type": "stream",
     "text": [
      " 20%|███████████████▎                                                             | 199/1000 [46:57<3:09:23, 14.19s/it]"
     ]
    },
    {
     "name": "stdout",
     "output_type": "stream",
     "text": [
      "\n",
      "Epoch 200:\n",
      "\n",
      "Generator training loss: -0.13445698237809978\n",
      "Discriminator training loss: 0.0010615167283161055\n",
      "\n",
      "Generator validation loss: -1.1122887994422288\n",
      "Discriminator validation loss: -0.00684575985002591\n",
      "\n",
      "Epoch 200:\n"
     ]
    },
    {
     "data": {
      "image/png": "[encoded data removed]",
      "text/plain": [
       "<Figure size 432x288 with 1 Axes>"
      ]
     },
     "metadata": {
      "needs_background": "light"
     },
     "output_type": "display_data"
    },
    {
     "data": {
      "image/png": "[encoded data removed]",
      "text/plain": [
       "<Figure size 432x288 with 1 Axes>"
      ]
     },
     "metadata": {
      "needs_background": "light"
     },
     "output_type": "display_data"
    },
    {
     "data": {
      "image/png": "[encoded data removed]",
      "text/plain": [
       "<Figure size 432x288 with 1 Axes>"
      ]
     },
     "metadata": {
      "needs_background": "light"
     },
     "output_type": "display_data"
    },
    {
     "name": "stderr",
     "output_type": "stream",
     "text": [
      " 21%|████████████████▏                                                            | 210/1000 [49:35<3:06:00, 14.13s/it]"
     ]
    },
    {
     "name": "stdout",
     "output_type": "stream",
     "text": [
      "\n",
      "Epoch 210:\n",
      "\n",
      "Generator training loss: -0.11544431514956587\n",
      "Discriminator training loss: 0.0015896979012101783\n",
      "\n",
      "Generator validation loss: -1.0893900247870898\n",
      "Discriminator validation loss: 0.0026872783890242126\n"
     ]
    },
    {
     "name": "stderr",
     "output_type": "stream",
     "text": [
      " 22%|████████████████▉                                                            | 220/1000 [51:56<3:04:36, 14.20s/it]"
     ]
    },
    {
     "name": "stdout",
     "output_type": "stream",
     "text": [
      "\n",
      "Epoch 220:\n",
      "\n",
      "Generator training loss: -0.07126497484545116\n",
      "Discriminator training loss: -0.0008893307320289492\n",
      "\n",
      "Generator validation loss: -1.0181274418948127\n",
      "Discriminator validation loss: -0.020541935807979497\n"
     ]
    },
    {
     "name": "stderr",
     "output_type": "stream",
     "text": [
      " 23%|█████████████████▋                                                           | 230/1000 [54:18<3:03:04, 14.27s/it]"
     ]
    },
    {
     "name": "stdout",
     "output_type": "stream",
     "text": [
      "\n",
      "Epoch 230:\n",
      "\n",
      "Generator training loss: -0.10021543641742624\n",
      "Discriminator training loss: 0.0013094328365052523\n",
      "\n",
      "Generator validation loss: -1.0606125329361586\n",
      "Discriminator validation loss: 0.003498275277155192\n"
     ]
    },
    {
     "name": "stderr",
     "output_type": "stream",
     "text": [
      " 24%|██████████████████▍                                                          | 240/1000 [56:39<2:59:33, 14.18s/it]"
     ]
    },
    {
     "name": "stdout",
     "output_type": "stream",
     "text": [
      "\n",
      "Epoch 240:\n",
      "\n",
      "Generator training loss: -0.117803644490698\n",
      "Discriminator training loss: 0.0013246995421026132\n",
      "\n",
      "Generator validation loss: -1.0854487526612204\n",
      "Discriminator validation loss: -0.010652233840640993\n"
     ]
    },
    {
     "name": "stderr",
     "output_type": "stream",
     "text": [
      " 25%|███████████████████▎                                                         | 250/1000 [59:01<2:57:27, 14.20s/it]"
     ]
    },
    {
     "name": "stdout",
     "output_type": "stream",
     "text": [
      "\n",
      "Epoch 250:\n",
      "\n",
      "Generator training loss: -0.12832500363186083\n",
      "Discriminator training loss: -0.0006056673035315918\n",
      "\n",
      "Generator validation loss: -1.12102388358507\n",
      "Discriminator validation loss: 0.01562644007828537\n"
     ]
    },
    {
     "name": "stderr",
     "output_type": "stream",
     "text": [
      " 26%|███████████████████▌                                                       | 260/1000 [1:01:24<2:55:06, 14.20s/it]"
     ]
    },
    {
     "name": "stdout",
     "output_type": "stream",
     "text": [
      "\n",
      "Epoch 260:\n",
      "\n",
      "Generator training loss: -0.14673624509344987\n",
      "Discriminator training loss: 0.00022124222672513885\n",
      "\n",
      "Generator validation loss: -1.177503818371257\n",
      "Discriminator validation loss: 0.011644352236991657\n"
     ]
    },
    {
     "name": "stderr",
     "output_type": "stream",
     "text": [
      " 27%|████████████████████▎                                                      | 270/1000 [1:03:46<2:54:27, 14.34s/it]"
     ]
    },
    {
     "name": "stdout",
     "output_type": "stream",
     "text": [
      "\n",
      "Epoch 270:\n",
      "\n",
      "Generator training loss: -0.19680788351701256\n",
      "Discriminator training loss: 0.001079074680127946\n",
      "\n",
      "Generator validation loss: -1.2407486038129838\n",
      "Discriminator validation loss: 0.01623893593157428\n"
     ]
    },
    {
     "name": "stderr",
     "output_type": "stream",
     "text": [
      " 28%|█████████████████████                                                      | 280/1000 [1:06:07<2:49:10, 14.10s/it]"
     ]
    },
    {
     "name": "stdout",
     "output_type": "stream",
     "text": [
      "\n",
      "Epoch 280:\n",
      "\n",
      "Generator training loss: -0.2206377608528554\n",
      "Discriminator training loss: 0.000938818793202287\n",
      "\n",
      "Generator validation loss: -1.1815815753624088\n",
      "Discriminator validation loss: -0.0359183153381846\n"
     ]
    },
    {
     "name": "stderr",
     "output_type": "stream",
     "text": [
      " 29%|█████████████████████▊                                                     | 290/1000 [1:08:28<2:46:01, 14.03s/it]"
     ]
    },
    {
     "name": "stdout",
     "output_type": "stream",
     "text": [
      "\n",
      "Epoch 290:\n",
      "\n",
      "Generator training loss: -0.22018923777374413\n",
      "Discriminator training loss: -3.247973250100819e-05\n",
      "\n",
      "Generator validation loss: -1.2140821746138275\n",
      "Discriminator validation loss: 0.01313422145236085\n"
     ]
    },
    {
     "name": "stderr",
     "output_type": "stream",
     "text": [
      " 30%|██████████████████████▍                                                    | 299/1000 [1:10:35<2:44:42, 14.10s/it]"
     ]
    },
    {
     "name": "stdout",
     "output_type": "stream",
     "text": [
      "\n",
      "Epoch 300:\n",
      "\n",
      "Generator training loss: -0.190618668545465\n",
      "Discriminator training loss: 0.0011395470793785201\n",
      "\n",
      "Generator validation loss: -1.185026942706499\n",
      "Discriminator validation loss: -0.019327306515822516\n",
      "\n",
      "Epoch 300:\n"
     ]
    },
    {
     "data": {
      "image/png": "[encoded data removed]",
      "text/plain": [
       "<Figure size 432x288 with 1 Axes>"
      ]
     },
     "metadata": {
      "needs_background": "light"
     },
     "output_type": "display_data"
    },
    {
     "data": {
      "image/png": "[encoded data removed]",
      "text/plain": [
       "<Figure size 432x288 with 1 Axes>"
      ]
     },
     "metadata": {
      "needs_background": "light"
     },
     "output_type": "display_data"
    },
    {
     "data": {
      "image/png": "[encoded data removed]",
      "text/plain": [
       "<Figure size 432x288 with 1 Axes>"
      ]
     },
     "metadata": {
      "needs_background": "light"
     },
     "output_type": "display_data"
    },
    {
     "name": "stderr",
     "output_type": "stream",
     "text": [
      " 31%|███████████████████████▎                                                   | 310/1000 [1:13:13<2:41:50, 14.07s/it]"
     ]
    },
    {
     "name": "stdout",
     "output_type": "stream",
     "text": [
      "\n",
      "Epoch 310:\n",
      "\n",
      "Generator training loss: -0.2158123767766796\n",
      "Discriminator training loss: 9.239747918390159e-05\n",
      "\n",
      "Generator validation loss: -1.2212583803739705\n",
      "Discriminator validation loss: 0.005559314234963748\n"
     ]
    },
    {
     "name": "stderr",
     "output_type": "stream",
     "text": [
      " 32%|████████████████████████                                                   | 320/1000 [1:15:32<2:37:54, 13.93s/it]"
     ]
    },
    {
     "name": "stdout",
     "output_type": "stream",
     "text": [
      "\n",
      "Epoch 320:\n",
      "\n",
      "Generator training loss: -0.23951959198778444\n",
      "Discriminator training loss: 0.0011760029769579713\n",
      "\n",
      "Generator validation loss: -1.23048071587672\n",
      "Discriminator validation loss: -0.001108649326106686\n"
     ]
    },
    {
     "name": "stderr",
     "output_type": "stream",
     "text": [
      " 33%|████████████████████████▊                                                  | 330/1000 [1:17:51<2:35:00, 13.88s/it]"
     ]
    },
    {
     "name": "stdout",
     "output_type": "stream",
     "text": [
      "\n",
      "Epoch 330:\n",
      "\n",
      "Generator training loss: -0.2791681759914414\n",
      "Discriminator training loss: -0.00015514667396471183\n",
      "\n",
      "Generator validation loss: -1.2712692227519926\n",
      "Discriminator validation loss: 0.017933820788681765\n"
     ]
    },
    {
     "name": "stderr",
     "output_type": "stream",
     "text": [
      " 34%|█████████████████████████▌                                                 | 340/1000 [1:20:10<2:33:35, 13.96s/it]"
     ]
    },
    {
     "name": "stdout",
     "output_type": "stream",
     "text": [
      "\n",
      "Epoch 340:\n",
      "\n",
      "Generator training loss: -0.2517434640741739\n",
      "Discriminator training loss: -0.0005435491248503578\n",
      "\n",
      "Generator validation loss: -1.2561044399855568\n",
      "Discriminator validation loss: 0.011797428083153762\n"
     ]
    },
    {
     "name": "stderr",
     "output_type": "stream",
     "text": [
      " 35%|██████████████████████████▎                                                | 350/1000 [1:22:29<2:31:03, 13.94s/it]"
     ]
    },
    {
     "name": "stdout",
     "output_type": "stream",
     "text": [
      "\n",
      "Epoch 350:\n",
      "\n",
      "Generator training loss: -0.28060504598695724\n",
      "Discriminator training loss: 0.0014389530171912488\n",
      "\n",
      "Generator validation loss: -1.281557931274664\n",
      "Discriminator validation loss: 0.006620215252518929\n"
     ]
    },
    {
     "name": "stderr",
     "output_type": "stream",
     "text": [
      " 36%|███████████████████████████                                                | 360/1000 [1:24:49<2:28:35, 13.93s/it]"
     ]
    },
    {
     "name": "stdout",
     "output_type": "stream",
     "text": [
      "\n",
      "Epoch 360:\n",
      "\n",
      "Generator training loss: -0.2784411563980775\n",
      "Discriminator training loss: 0.0005909438037613783\n",
      "\n",
      "Generator validation loss: -1.3114465807305007\n",
      "Discriminator validation loss: 0.02301835013194712\n"
     ]
    },
    {
     "name": "stderr",
     "output_type": "stream",
     "text": [
      " 37%|███████████████████████████▊                                               | 370/1000 [1:27:11<2:30:03, 14.29s/it]"
     ]
    },
    {
     "name": "stdout",
     "output_type": "stream",
     "text": [
      "\n",
      "Epoch 370:\n",
      "\n",
      "Generator training loss: -0.247244527675415\n",
      "Discriminator training loss: -0.0003383939322946171\n",
      "\n",
      "Generator validation loss: -1.2554376008080654\n",
      "Discriminator validation loss: -0.027483678254924836\n"
     ]
    },
    {
     "name": "stderr",
     "output_type": "stream",
     "text": [
      " 38%|████████████████████████████▌                                              | 380/1000 [1:29:35<2:27:05, 14.24s/it]"
     ]
    },
    {
     "name": "stdout",
     "output_type": "stream",
     "text": [
      "\n",
      "Epoch 380:\n",
      "\n",
      "Generator training loss: -0.2749332944796385\n",
      "Discriminator training loss: 0.0003693846828111637\n",
      "\n",
      "Generator validation loss: -1.3052446685853552\n",
      "Discriminator validation loss: -0.008947996071732573\n"
     ]
    },
    {
     "name": "stderr",
     "output_type": "stream",
     "text": [
      " 39%|█████████████████████████████▎                                             | 390/1000 [1:31:57<2:24:02, 14.17s/it]"
     ]
    },
    {
     "name": "stdout",
     "output_type": "stream",
     "text": [
      "\n",
      "Epoch 390:\n",
      "\n",
      "Generator training loss: -0.30450497189017595\n",
      "Discriminator training loss: 0.0014460046594237108\n",
      "\n",
      "Generator validation loss: -1.310522885596166\n",
      "Discriminator validation loss: -0.006486120752104726\n"
     ]
    },
    {
     "name": "stderr",
     "output_type": "stream",
     "text": [
      " 40%|█████████████████████████████▉                                             | 399/1000 [1:34:03<2:21:10, 14.09s/it]"
     ]
    },
    {
     "name": "stdout",
     "output_type": "stream",
     "text": [
      "\n",
      "Epoch 400:\n",
      "\n",
      "Generator training loss: -0.28928405099390636\n",
      "Discriminator training loss: 0.0009257596555143523\n",
      "\n",
      "Generator validation loss: -1.3266887625709909\n",
      "Discriminator validation loss: 0.013169330842010524\n",
      "\n",
      "Epoch 400:\n"
     ]
    },
    {
     "data": {
      "image/png": "[encoded data removed]",
      "text/plain": [
       "<Figure size 432x288 with 1 Axes>"
      ]
     },
     "metadata": {
      "needs_background": "light"
     },
     "output_type": "display_data"
    },
    {
     "data": {
      "image/png": "[encoded data removed]",
      "text/plain": [
       "<Figure size 432x288 with 1 Axes>"
      ]
     },
     "metadata": {
      "needs_background": "light"
     },
     "output_type": "display_data"
    },
    {
     "data": {
      "image/png": "[encoded data removed]",
      "text/plain": [
       "<Figure size 432x288 with 1 Axes>"
      ]
     },
     "metadata": {
      "needs_background": "light"
     },
     "output_type": "display_data"
    },
    {
     "name": "stderr",
     "output_type": "stream",
     "text": [
      " 41%|██████████████████████████████▋                                            | 410/1000 [1:36:40<2:18:55, 14.13s/it]"
     ]
    },
    {
     "name": "stdout",
     "output_type": "stream",
     "text": [
      "\n",
      "Epoch 410:\n",
      "\n",
      "Generator training loss: -0.2762237812896244\n",
      "Discriminator training loss: 0.0014214221089906593\n",
      "\n",
      "Generator validation loss: -1.2941934994009674\n",
      "Discriminator validation loss: -0.0014236598138670728\n"
     ]
    },
    {
     "name": "stderr",
     "output_type": "stream",
     "text": [
      " 42%|███████████████████████████████▌                                           | 420/1000 [1:39:01<2:16:30, 14.12s/it]"
     ]
    },
    {
     "name": "stdout",
     "output_type": "stream",
     "text": [
      "\n",
      "Epoch 420:\n",
      "\n",
      "Generator training loss: -0.28939465807923853\n",
      "Discriminator training loss: 0.0002560257548043285\n",
      "\n",
      "Generator validation loss: -1.3004504139306114\n",
      "Discriminator validation loss: -0.010780396504131085\n"
     ]
    },
    {
     "name": "stderr",
     "output_type": "stream",
     "text": [
      " 43%|████████████████████████████████▎                                          | 430/1000 [1:41:21<2:12:54, 13.99s/it]"
     ]
    },
    {
     "name": "stdout",
     "output_type": "stream",
     "text": [
      "\n",
      "Epoch 430:\n",
      "\n",
      "Generator training loss: -0.4020617828994501\n",
      "Discriminator training loss: 0.0008723129648223832\n",
      "\n",
      "Generator validation loss: -1.4111098168326206\n",
      "Discriminator validation loss: -0.010649216570080349\n"
     ]
    },
    {
     "name": "stderr",
     "output_type": "stream",
     "text": [
      " 44%|█████████████████████████████████                                          | 440/1000 [1:43:42<2:12:45, 14.22s/it]"
     ]
    },
    {
     "name": "stdout",
     "output_type": "stream",
     "text": [
      "\n",
      "Epoch 440:\n",
      "\n",
      "Generator training loss: -0.36608958781742656\n",
      "Discriminator training loss: 0.0012146377892409486\n",
      "\n",
      "Generator validation loss: -1.3951195283014266\n",
      "Discriminator validation loss: -0.018573970551083445\n"
     ]
    },
    {
     "name": "stderr",
     "output_type": "stream",
     "text": [
      " 45%|█████████████████████████████████▊                                         | 450/1000 [1:46:04<2:08:48, 14.05s/it]"
     ]
    },
    {
     "name": "stdout",
     "output_type": "stream",
     "text": [
      "\n",
      "Epoch 450:\n",
      "\n",
      "Generator training loss: -0.3821092147807606\n",
      "Discriminator training loss: 0.0006564922327701513\n",
      "\n",
      "Generator validation loss: -1.4084827841305343\n",
      "Discriminator validation loss: -0.012730424139351913\n"
     ]
    },
    {
     "name": "stderr",
     "output_type": "stream",
     "text": [
      " 46%|██████████████████████████████████▌                                        | 460/1000 [1:48:25<2:07:07, 14.13s/it]"
     ]
    },
    {
     "name": "stdout",
     "output_type": "stream",
     "text": [
      "\n",
      "Epoch 460:\n",
      "\n",
      "Generator training loss: -0.3866404001830054\n",
      "Discriminator training loss: 0.0011971190119284025\n",
      "\n",
      "Generator validation loss: -1.4007588517470437\n",
      "Discriminator validation loss: -0.03292242365938871\n"
     ]
    },
    {
     "name": "stderr",
     "output_type": "stream",
     "text": [
      " 47%|███████████████████████████████████▎                                       | 470/1000 [1:50:46<2:04:51, 14.14s/it]"
     ]
    },
    {
     "name": "stdout",
     "output_type": "stream",
     "text": [
      "\n",
      "Epoch 470:\n",
      "\n",
      "Generator training loss: -0.4084003302243238\n",
      "Discriminator training loss: 0.001224703734954202\n",
      "\n",
      "Generator validation loss: -1.42973456519549\n",
      "Discriminator validation loss: 0.0005353372132690236\n"
     ]
    },
    {
     "name": "stderr",
     "output_type": "stream",
     "text": [
      " 48%|████████████████████████████████████                                       | 480/1000 [1:53:06<2:01:18, 14.00s/it]"
     ]
    },
    {
     "name": "stdout",
     "output_type": "stream",
     "text": [
      "\n",
      "Epoch 480:\n",
      "\n",
      "Generator training loss: -0.3688089370401831\n",
      "Discriminator training loss: 4.8694731762861425e-05\n",
      "\n",
      "Generator validation loss: -1.4081097118190078\n",
      "Discriminator validation loss: -0.014938794028970076\n"
     ]
    },
    {
     "name": "stderr",
     "output_type": "stream",
     "text": [
      " 49%|████████████████████████████████████▊                                      | 490/1000 [1:55:27<1:58:27, 13.94s/it]"
     ]
    },
    {
     "name": "stdout",
     "output_type": "stream",
     "text": [
      "\n",
      "Epoch 490:\n",
      "\n",
      "Generator training loss: -0.36099255166418565\n",
      "Discriminator training loss: 0.0006703437730119547\n",
      "\n",
      "Generator validation loss: -1.4249996279106765\n",
      "Discriminator validation loss: 0.0027040723376319607\n"
     ]
    },
    {
     "name": "stderr",
     "output_type": "stream",
     "text": [
      " 50%|█████████████████████████████████████▍                                     | 499/1000 [1:57:34<1:57:35, 14.08s/it]"
     ]
    },
    {
     "name": "stdout",
     "output_type": "stream",
     "text": [
      "\n",
      "Epoch 500:\n",
      "\n",
      "Generator training loss: -0.36951749303627535\n",
      "Discriminator training loss: -0.0001683391957908622\n",
      "\n",
      "Generator validation loss: -1.4293675921002373\n",
      "Discriminator validation loss: -0.006384478140523138\n",
      "\n",
      "Epoch 500:\n"
     ]
    },
    {
     "data": {
      "image/png": "[encoded data removed]",
      "text/plain": [
       "<Figure size 432x288 with 1 Axes>"
      ]
     },
     "metadata": {
      "needs_background": "light"
     },
     "output_type": "display_data"
    },
    {
     "data": {
      "image/png": "[encoded data removed]",
      "text/plain": [
       "<Figure size 432x288 with 1 Axes>"
      ]
     },
     "metadata": {
      "needs_background": "light"
     },
     "output_type": "display_data"
    },
    {
     "data": {
      "image/png": "[encoded data removed]",
      "text/plain": [
       "<Figure size 432x288 with 1 Axes>"
      ]
     },
     "metadata": {
      "needs_background": "light"
     },
     "output_type": "display_data"
    },
    {
     "name": "stderr",
     "output_type": "stream",
     "text": [
      " 51%|██████████████████████████████████████▎                                    | 510/1000 [2:00:09<1:54:16, 13.99s/it]"
     ]
    },
    {
     "name": "stdout",
     "output_type": "stream",
     "text": [
      "\n",
      "Epoch 510:\n",
      "\n",
      "Generator training loss: -0.4393969656176906\n",
      "Discriminator training loss: -0.0009608160225552687\n",
      "\n",
      "Generator validation loss: -1.4880545324966556\n",
      "Discriminator validation loss: -0.010024020585377479\n"
     ]
    },
    {
     "name": "stderr",
     "output_type": "stream",
     "text": [
      " 52%|███████████████████████████████████████                                    | 520/1000 [2:02:30<1:52:26, 14.06s/it]"
     ]
    },
    {
     "name": "stdout",
     "output_type": "stream",
     "text": [
      "\n",
      "Epoch 520:\n",
      "\n",
      "Generator training loss: -0.4563950357215652\n",
      "Discriminator training loss: 0.00022446815048289087\n",
      "\n",
      "Generator validation loss: -1.5272694542759755\n",
      "Discriminator validation loss: 0.004833164709050267\n"
     ]
    },
    {
     "name": "stderr",
     "output_type": "stream",
     "text": [
      " 53%|███████████████████████████████████████▊                                   | 530/1000 [2:04:53<1:51:43, 14.26s/it]"
     ]
    },
    {
     "name": "stdout",
     "output_type": "stream",
     "text": [
      "\n",
      "Epoch 530:\n",
      "\n",
      "Generator training loss: -0.465803257266029\n",
      "Discriminator training loss: 0.003330982095276291\n",
      "\n",
      "Generator validation loss: -1.5430507972592213\n",
      "Discriminator validation loss: 0.019694893724680116\n"
     ]
    },
    {
     "name": "stderr",
     "output_type": "stream",
     "text": [
      " 54%|████████████████████████████████████████▌                                  | 540/1000 [2:07:12<1:46:03, 13.83s/it]"
     ]
    },
    {
     "name": "stdout",
     "output_type": "stream",
     "text": [
      "\n",
      "Epoch 540:\n",
      "\n",
      "Generator training loss: -0.4598573432431195\n",
      "Discriminator training loss: -0.0009654003179004249\n",
      "\n",
      "Generator validation loss: -1.5276120148721288\n",
      "Discriminator validation loss: -0.006946559113948454\n"
     ]
    },
    {
     "name": "stderr",
     "output_type": "stream",
     "text": [
      " 55%|█████████████████████████████████████████▎                                 | 550/1000 [2:09:33<1:45:34, 14.08s/it]"
     ]
    },
    {
     "name": "stdout",
     "output_type": "stream",
     "text": [
      "\n",
      "Epoch 550:\n",
      "\n",
      "Generator training loss: -0.5617666088981055\n",
      "Discriminator training loss: 0.0026740850225726973\n",
      "\n",
      "Generator validation loss: -1.613781403322689\n",
      "Discriminator validation loss: 0.01294159112578319\n"
     ]
    },
    {
     "name": "stderr",
     "output_type": "stream",
     "text": [
      " 56%|██████████████████████████████████████████                                 | 560/1000 [2:11:58<1:45:30, 14.39s/it]"
     ]
    },
    {
     "name": "stdout",
     "output_type": "stream",
     "text": [
      "\n",
      "Epoch 560:\n",
      "\n",
      "Generator training loss: -0.6006530112093263\n",
      "Discriminator training loss: -0.0007997686956951724\n",
      "\n",
      "Generator validation loss: -1.6531513167209313\n",
      "Discriminator validation loss: -0.006500410785758772\n"
     ]
    },
    {
     "name": "stderr",
     "output_type": "stream",
     "text": [
      " 57%|██████████████████████████████████████████▋                                | 570/1000 [2:14:19<1:40:47, 14.06s/it]"
     ]
    },
    {
     "name": "stdout",
     "output_type": "stream",
     "text": [
      "\n",
      "Epoch 570:\n",
      "\n",
      "Generator training loss: -0.5667728892441004\n",
      "Discriminator training loss: -0.0017486079202683725\n",
      "\n",
      "Generator validation loss: -1.6471131932540017\n",
      "Discriminator validation loss: 0.0038790469958168284\n"
     ]
    },
    {
     "name": "stderr",
     "output_type": "stream",
     "text": [
      " 58%|███████████████████████████████████████████▌                               | 580/1000 [2:16:37<1:36:40, 13.81s/it]"
     ]
    },
    {
     "name": "stdout",
     "output_type": "stream",
     "text": [
      "\n",
      "Epoch 580:\n",
      "\n",
      "Generator training loss: -0.5485571060187179\n",
      "Discriminator training loss: 0.00032376353958538285\n",
      "\n",
      "Generator validation loss: -1.6056046886522262\n",
      "Discriminator validation loss: -0.007117338972312743\n"
     ]
    },
    {
     "name": "stderr",
     "output_type": "stream",
     "text": [
      " 59%|████████████████████████████████████████████▎                              | 590/1000 [2:18:59<1:37:10, 14.22s/it]"
     ]
    },
    {
     "name": "stdout",
     "output_type": "stream",
     "text": [
      "\n",
      "Epoch 590:\n",
      "\n",
      "Generator training loss: -0.6418808359917396\n",
      "Discriminator training loss: 0.0013927877281618792\n",
      "\n",
      "Generator validation loss: -1.6995085800280336\n",
      "Discriminator validation loss: 0.007662478388231305\n"
     ]
    },
    {
     "name": "stderr",
     "output_type": "stream",
     "text": [
      " 60%|████████████████████████████████████████████▉                              | 599/1000 [2:21:05<1:33:16, 13.96s/it]"
     ]
    },
    {
     "name": "stdout",
     "output_type": "stream",
     "text": [
      "\n",
      "Epoch 600:\n",
      "\n",
      "Generator training loss: -0.6268323366759253\n",
      "Discriminator training loss: 0.00018720305725054078\n",
      "\n",
      "Generator validation loss: -1.6802506427295874\n",
      "Discriminator validation loss: 0.0002271813173734461\n",
      "\n",
      "Epoch 600:\n"
     ]
    },
    {
     "data": {
      "image/png": "[encoded data removed]",
      "text/plain": [
       "<Figure size 432x288 with 1 Axes>"
      ]
     },
     "metadata": {
      "needs_background": "light"
     },
     "output_type": "display_data"
    },
    {
     "data": {
      "image/png": "[encoded data removed]",
      "text/plain": [
       "<Figure size 432x288 with 1 Axes>"
      ]
     },
     "metadata": {
      "needs_background": "light"
     },
     "output_type": "display_data"
    },
    {
     "data": {
      "image/png": "[encoded data removed]",
      "text/plain": [
       "<Figure size 432x288 with 1 Axes>"
      ]
     },
     "metadata": {
      "needs_background": "light"
     },
     "output_type": "display_data"
    },
    {
     "name": "stderr",
     "output_type": "stream",
     "text": [
      " 61%|█████████████████████████████████████████████▊                             | 610/1000 [2:23:39<1:30:44, 13.96s/it]"
     ]
    },
    {
     "name": "stdout",
     "output_type": "stream",
     "text": [
      "\n",
      "Epoch 610:\n",
      "\n",
      "Generator training loss: -0.6030801985758901\n",
      "Discriminator training loss: 0.00080222607242523\n",
      "\n",
      "Generator validation loss: -1.6525548305667814\n",
      "Discriminator validation loss: 0.009344245641602997\n"
     ]
    },
    {
     "name": "stderr",
     "output_type": "stream",
     "text": [
      " 62%|██████████████████████████████████████████████▌                            | 620/1000 [2:25:59<1:28:33, 13.98s/it]"
     ]
    },
    {
     "name": "stdout",
     "output_type": "stream",
     "text": [
      "\n",
      "Epoch 620:\n",
      "\n",
      "Generator training loss: -0.5797878796122765\n",
      "Discriminator training loss: 0.0016773680041724168\n",
      "\n",
      "Generator validation loss: -1.6979732396172695\n",
      "Discriminator validation loss: 0.012619057452672573\n"
     ]
    },
    {
     "name": "stderr",
     "output_type": "stream",
     "text": [
      " 63%|███████████████████████████████████████████████▎                           | 630/1000 [2:28:20<1:27:51, 14.25s/it]"
     ]
    },
    {
     "name": "stdout",
     "output_type": "stream",
     "text": [
      "\n",
      "Epoch 630:\n",
      "\n",
      "Generator training loss: -0.6326777062129453\n",
      "Discriminator training loss: 0.0007098532638019854\n",
      "\n",
      "Generator validation loss: -1.6496057060898328\n",
      "Discriminator validation loss: -0.01313624868587377\n"
     ]
    },
    {
     "name": "stderr",
     "output_type": "stream",
     "text": [
      " 64%|████████████████████████████████████████████████                           | 640/1000 [2:30:46<1:26:40, 14.44s/it]"
     ]
    },
    {
     "name": "stdout",
     "output_type": "stream",
     "text": [
      "\n",
      "Epoch 640:\n",
      "\n",
      "Generator training loss: -0.6559518280902196\n",
      "Discriminator training loss: 0.00020063035194876558\n",
      "\n",
      "Generator validation loss: -1.7463235513108675\n",
      "Discriminator validation loss: 0.007539217242232494\n"
     ]
    },
    {
     "name": "stderr",
     "output_type": "stream",
     "text": [
      " 65%|████████████████████████████████████████████████▊                          | 650/1000 [2:33:08<1:22:45, 14.19s/it]"
     ]
    },
    {
     "name": "stdout",
     "output_type": "stream",
     "text": [
      "\n",
      "Epoch 650:\n",
      "\n",
      "Generator training loss: -0.7199268003956216\n",
      "Discriminator training loss: 0.0013945707933198917\n",
      "\n",
      "Generator validation loss: -1.7881832826332968\n",
      "Discriminator validation loss: -0.01730400473013001\n"
     ]
    },
    {
     "name": "stderr",
     "output_type": "stream",
     "text": [
      " 66%|█████████████████████████████████████████████████▌                         | 660/1000 [2:35:30<1:19:59, 14.12s/it]"
     ]
    },
    {
     "name": "stdout",
     "output_type": "stream",
     "text": [
      "\n",
      "Epoch 660:\n",
      "\n",
      "Generator training loss: -0.8299459192922206\n",
      "Discriminator training loss: 0.0030150613167249695\n",
      "\n",
      "Generator validation loss: -1.808779089177241\n",
      "Discriminator validation loss: -0.009604846636886846\n"
     ]
    },
    {
     "name": "stderr",
     "output_type": "stream",
     "text": [
      " 67%|██████████████████████████████████████████████████▎                        | 670/1000 [2:37:52<1:18:29, 14.27s/it]"
     ]
    },
    {
     "name": "stdout",
     "output_type": "stream",
     "text": [
      "\n",
      "Epoch 670:\n",
      "\n",
      "Generator training loss: -0.9476047409036772\n",
      "Discriminator training loss: 0.006406023861637436\n",
      "\n",
      "Generator validation loss: -2.0104945946912296\n",
      "Discriminator validation loss: 0.009027405654855042\n"
     ]
    },
    {
     "name": "stderr",
     "output_type": "stream",
     "text": [
      " 68%|███████████████████████████████████████████████████                        | 680/1000 [2:40:15<1:16:43, 14.39s/it]"
     ]
    },
    {
     "name": "stdout",
     "output_type": "stream",
     "text": [
      "\n",
      "Epoch 680:\n",
      "\n",
      "Generator training loss: -1.114656424261833\n",
      "Discriminator training loss: 0.006405748195411533\n",
      "\n",
      "Generator validation loss: -2.0897973013705893\n",
      "Discriminator validation loss: -0.013002949085737365\n"
     ]
    },
    {
     "name": "stderr",
     "output_type": "stream",
     "text": [
      " 69%|███████████████████████████████████████████████████▋                       | 690/1000 [2:42:38<1:14:08, 14.35s/it]"
     ]
    },
    {
     "name": "stdout",
     "output_type": "stream",
     "text": [
      "\n",
      "Epoch 690:\n",
      "\n",
      "Generator training loss: -1.18295526211379\n",
      "Discriminator training loss: 0.0021202015375333286\n",
      "\n",
      "Generator validation loss: -2.139171148909897\n",
      "Discriminator validation loss: 0.017716864169027548\n"
     ]
    },
    {
     "name": "stderr",
     "output_type": "stream",
     "text": [
      " 70%|████████████████████████████████████████████████████▍                      | 699/1000 [2:44:44<1:10:17, 14.01s/it]"
     ]
    },
    {
     "name": "stdout",
     "output_type": "stream",
     "text": [
      "\n",
      "Epoch 700:\n",
      "\n",
      "Generator training loss: -1.2474168076541254\n",
      "Discriminator training loss: 0.0043358291200087965\n",
      "\n",
      "Generator validation loss: -2.140958318944837\n",
      "Discriminator validation loss: -0.025689793935763178\n",
      "\n",
      "Epoch 700:\n"
     ]
    },
    {
     "data": {
      "image/png": "[encoded data removed]",
      "text/plain": [
       "<Figure size 432x288 with 1 Axes>"
      ]
     },
     "metadata": {
      "needs_background": "light"
     },
     "output_type": "display_data"
    },
    {
     "data": {
      "image/png": "[encoded data removed]",
      "text/plain": [
       "<Figure size 432x288 with 1 Axes>"
      ]
     },
     "metadata": {
      "needs_background": "light"
     },
     "output_type": "display_data"
    },
    {
     "data": {
      "image/png": "[encoded data removed]",
      "text/plain": [
       "<Figure size 432x288 with 1 Axes>"
      ]
     },
     "metadata": {
      "needs_background": "light"
     },
     "output_type": "display_data"
    },
    {
     "name": "stderr",
     "output_type": "stream",
     "text": [
      " 71%|█████████████████████████████████████████████████████▎                     | 710/1000 [2:47:17<1:07:01, 13.87s/it]"
     ]
    },
    {
     "name": "stdout",
     "output_type": "stream",
     "text": [
      "\n",
      "Epoch 710:\n",
      "\n",
      "Generator training loss: -1.3551397186810854\n",
      "Discriminator training loss: 0.0010298306840197426\n",
      "\n",
      "Generator validation loss: -2.2482241177168047\n",
      "Discriminator validation loss: 0.0002825023364523792\n"
     ]
    },
    {
     "name": "stderr",
     "output_type": "stream",
     "text": [
      " 72%|██████████████████████████████████████████████████████                     | 720/1000 [2:49:36<1:05:01, 13.93s/it]"
     ]
    },
    {
     "name": "stdout",
     "output_type": "stream",
     "text": [
      "\n",
      "Epoch 720:\n",
      "\n",
      "Generator training loss: -1.416964813334043\n",
      "Discriminator training loss: 0.002006904855572499\n",
      "\n",
      "Generator validation loss: -2.291591609110598\n",
      "Discriminator validation loss: -0.023506870352544777\n"
     ]
    },
    {
     "name": "stderr",
     "output_type": "stream",
     "text": [
      " 73%|██████████████████████████████████████████████████████▊                    | 730/1000 [2:51:55<1:02:18, 13.84s/it]"
     ]
    },
    {
     "name": "stdout",
     "output_type": "stream",
     "text": [
      "\n",
      "Epoch 730:\n",
      "\n",
      "Generator training loss: -1.4927534047371702\n",
      "Discriminator training loss: 0.008850339843544542\n",
      "\n",
      "Generator validation loss: -2.3628326517636657\n",
      "Discriminator validation loss: -0.02575146606321767\n"
     ]
    },
    {
     "name": "stderr",
     "output_type": "stream",
     "text": [
      " 73%|██████████████████████████████████████████████████████▉                    | 733/1000 [2:52:36<1:01:24, 13.80s/it]"
     ]
    }
   ],
   "source": [
    "train_gen_losses = []\n",
    "train_disc_losses = []\n",
    "test_gen_losses = []\n",
    "test_disc_losses = []\n",
    "train(train_dataset, test_dataset, 1000, N_CRITIC)"
   ]
  },
  {
   "cell_type": "markdown",
   "metadata": {},
   "source": [
    "## Results\n",
    "Train for 4 features works pretty well and took 2:20 hrs for 1000 epos with a 1080"
   ]
  },
  {
   "cell_type": "code",
   "execution_count": null,
   "metadata": {},
   "outputs": [],
   "source": [
    "z"
   ]
  },
  {
   "cell_type": "code",
   "execution_count": null,
   "metadata": {},
   "outputs": [],
   "source": []
  }
 ],
 "metadata": {
  "kernelspec": {
   "display_name": "Python 3.7 (tensorflow)",
   "language": "python",
   "name": "tensorflow"
  },
  "language_info": {
   "codemirror_mode": {
    "name": "ipython",
    "version": 3
   },
   "file_extension": ".py",
   "mimetype": "text/x-python",
   "name": "python",
   "nbconvert_exporter": "python",
   "pygments_lexer": "ipython3",
   "version": "3.7.7"
  }
 },
 "nbformat": 4,
 "nbformat_minor": 2
}
