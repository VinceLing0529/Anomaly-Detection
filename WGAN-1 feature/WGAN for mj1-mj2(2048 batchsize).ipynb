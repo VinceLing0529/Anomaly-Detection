{
 "cells": [
  {
   "cell_type": "markdown",
   "metadata": {},
   "source": [
    "# Wasserstein GAN with Gradient Penalty\n",
    "## For generation of features based on LHCO2020 datasets"
   ]
  },
  {
   "cell_type": "code",
   "execution_count": 1,
   "metadata": {},
   "outputs": [
    {
     "name": "stdout",
     "output_type": "stream",
     "text": [
      "2.1.0\n",
      "PhysicalDevice(name='/physical_device:GPU:0', device_type='GPU')\n"
     ]
    },
    {
     "name": "stderr",
     "output_type": "stream",
     "text": [
      "Using TensorFlow backend.\n"
     ]
    }
   ],
   "source": [
    "import h5py as h5\n",
    "import numpy as np\n",
    "from math import ceil, floor\n",
    "from tqdm import tqdm\n",
    "import pandas as pd\n",
    "import matplotlib.pyplot as plt\n",
    "from sklearn.model_selection import train_test_split\n",
    "from sklearn.preprocessing import MinMaxScaler\n",
    "import tensorflow as tf\n",
    "from tensorflow.keras import layers\n",
    "import keras.backend as K\n",
    "import gc\n",
    "print(tf.__version__)\n",
    "physical_devices = tf.config.experimental.list_physical_devices('GPU')\n",
    "tf.config.experimental.set_memory_growth(physical_devices[0], True)\n",
    "print(physical_devices[0])"
   ]
  },
  {
   "cell_type": "code",
   "execution_count": 2,
   "metadata": {},
   "outputs": [],
   "source": [
    "filenames = {\n",
    "    \"herwig\": \"Herwig_qcd_features.h5\",\n",
    "    \"pythiabg\": \"GAN-data\\events_anomalydetection_DelphesPythia8_v2_qcd_features.h5\",\n",
    "    \"pythiasig\": \"GAN-data\\events_anomalydetection_DelphesPythia8_v2_Wprime_features.h5\"\n",
    "}\n",
    "\n",
    "datatypes = [\"herwig\", \"pythiabg\", \"pythiasig\"]\n",
    "features = [\"px\", \"py\", \"pz\", \"m\", \"tau1\", \"tau2\", \"tau3\"]\n",
    " # Can be flexibly changed to suit GAN needs"
   ]
  },
  {
   "cell_type": "code",
   "execution_count": 3,
   "metadata": {},
   "outputs": [],
   "source": [
    "def load_data(datatype, stop = None):\n",
    "    input_frame = pd.read_hdf(filenames[datatype], stop = stop)\n",
    "    output_frame = input_frame.copy()\n",
    "    for feature in features:\n",
    "        output_frame[feature + \"j1\"] = (input_frame[\"mj1\"] >= input_frame[\"mj2\"])*input_frame[feature + \"j1\"] + (input_frame[\"mj1\"] < input_frame[\"mj2\"])*input_frame[feature + \"j2\"]\n",
    "        output_frame[feature + \"j2\"] = (input_frame[\"mj1\"] >= input_frame[\"mj2\"])*input_frame[feature + \"j2\"] + (input_frame[\"mj1\"] < input_frame[\"mj2\"])*input_frame[feature + \"j1\"]\n",
    "    del input_frame\n",
    "    gc.collect()\n",
    "    output_frame[\"ej1\"] = np.sqrt(output_frame[\"mj1\"]**2 + output_frame[\"pxj1\"]**2 + output_frame[\"pyj1\"]**2 + output_frame[\"pzj1\"]**2)\n",
    "    output_frame[\"ej2\"] = np.sqrt(output_frame[\"mj2\"]**2 + output_frame[\"pxj2\"]**2 + output_frame[\"pyj2\"]**2 + output_frame[\"pzj2\"]**2)\n",
    "    output_frame[\"ejj\"] = output_frame[\"ej1\"] + output_frame[\"ej2\"]\n",
    "    output_frame[\"pjj\"] = np.sqrt((output_frame[\"pxj1\"] + output_frame[\"pxj2\"])**2 + (output_frame[\"pyj1\"] + output_frame[\"pyj2\"])**2 + (output_frame[\"pyj1\"] + output_frame[\"pyj2\"])**2)\n",
    "    output_frame[\"mjj\"] = np.sqrt(output_frame[\"ejj\"]**2 - output_frame[\"pjj\"]**2)\n",
    "    output_frame[\"tau21j1\"] = output_frame[\"tau2j1\"] / output_frame[\"tau1j1\"]\n",
    "    output_frame[\"tau32j1\"] = output_frame[\"tau3j1\"] / output_frame[\"tau2j1\"]\n",
    "    output_frame[\"tau21j2\"] = output_frame[\"tau2j2\"] / output_frame[\"tau1j2\"]\n",
    "    output_frame[\"tau32j2\"] = output_frame[\"tau3j2\"] / output_frame[\"tau2j2\"]\n",
    "    output_frame[\"mj1-mj2\"] = output_frame[\"mj1\"] -output_frame[\"mj2\"]\n",
    "\n",
    "    return output_frame"
   ]
  },
  {
   "cell_type": "code",
   "execution_count": 4,
   "metadata": {},
   "outputs": [],
   "source": [
    "# Network hyperparameters\n",
    "\n",
    "BATCH_SIZE = 2048# Uses about 3 GB of VRAM for batch size of 512\n",
    "EPOCHS = 1000\n",
    "LEARNING_RATE = 0.00001\n",
    "N_CRITIC = 5\n",
    "C_LAMBDA = 0.5"
   ]
  },
  {
   "cell_type": "code",
   "execution_count": 5,
   "metadata": {},
   "outputs": [
    {
     "name": "stderr",
     "output_type": "stream",
     "text": [
      "D:\\Users\\Azure\\anaconda3\\envs\\GPU\\lib\\site-packages\\pandas\\core\\series.py:679: RuntimeWarning: invalid value encountered in sqrt\n",
      "  result = getattr(ufunc, method)(*inputs, **kwargs)\n"
     ]
    },
    {
     "data": {
      "text/plain": [
       "1e-06"
      ]
     },
     "execution_count": 5,
     "metadata": {},
     "output_type": "execute_result"
    }
   ],
   "source": [
    "df = load_data(\"herwig\")\n",
    "df[\"tau2j2\"]=np.where(df[\"tau2j2\"]==0, 0.000001, df[\"tau2j2\"]) \n",
    "min(df[\"tau2j2\"])"
   ]
  },
  {
   "cell_type": "code",
   "execution_count": 6,
   "metadata": {},
   "outputs": [],
   "source": [
    "df = load_data(\"herwig\")\n",
    "df.dropna(inplace = True)\n",
    "#df[\"tau2j2\"]=np.where(df[\"tau2j2\"]==0, 0.000001, df[\"tau2j2\"]) \n",
    "# Ensures all batches have same size\n",
    "\n",
    "df.drop([i for i in range(df.shape[0] % (BATCH_SIZE * 4))], inplace = True)\n",
    "\n",
    "df.reset_index(drop = True, inplace = True)\n",
    "df = df.astype('float32')"
   ]
  },
  {
   "cell_type": "code",
   "execution_count": 7,
   "metadata": {},
   "outputs": [
    {
     "data": {
      "text/html": [
       "<div>\n",
       "<style scoped>\n",
       "    .dataframe tbody tr th:only-of-type {\n",
       "        vertical-align: middle;\n",
       "    }\n",
       "\n",
       "    .dataframe tbody tr th {\n",
       "        vertical-align: top;\n",
       "    }\n",
       "\n",
       "    .dataframe thead th {\n",
       "        text-align: right;\n",
       "    }\n",
       "</style>\n",
       "<table border=\"1\" class=\"dataframe\">\n",
       "  <thead>\n",
       "    <tr style=\"text-align: right;\">\n",
       "      <th></th>\n",
       "      <th>pxj1</th>\n",
       "      <th>pyj1</th>\n",
       "      <th>pzj1</th>\n",
       "      <th>mj1</th>\n",
       "      <th>tau1j1</th>\n",
       "      <th>tau2j1</th>\n",
       "      <th>tau3j1</th>\n",
       "      <th>pxj2</th>\n",
       "      <th>pyj2</th>\n",
       "      <th>pzj2</th>\n",
       "      <th>...</th>\n",
       "      <th>ej1</th>\n",
       "      <th>ej2</th>\n",
       "      <th>ejj</th>\n",
       "      <th>pjj</th>\n",
       "      <th>mjj</th>\n",
       "      <th>tau21j1</th>\n",
       "      <th>tau32j1</th>\n",
       "      <th>tau21j2</th>\n",
       "      <th>tau32j2</th>\n",
       "      <th>mj1-mj2</th>\n",
       "    </tr>\n",
       "  </thead>\n",
       "  <tbody>\n",
       "    <tr>\n",
       "      <th>0</th>\n",
       "      <td>-606.640015</td>\n",
       "      <td>136.223999</td>\n",
       "      <td>-2463.290039</td>\n",
       "      <td>115.829002</td>\n",
       "      <td>41.708900</td>\n",
       "      <td>19.615000</td>\n",
       "      <td>16.282600</td>\n",
       "      <td>1410.239990</td>\n",
       "      <td>-311.454010</td>\n",
       "      <td>516.468018</td>\n",
       "      <td>...</td>\n",
       "      <td>2543.183594</td>\n",
       "      <td>1537.945679</td>\n",
       "      <td>4081.129395</td>\n",
       "      <td>840.942322</td>\n",
       "      <td>3993.548828</td>\n",
       "      <td>0.470283</td>\n",
       "      <td>0.830110</td>\n",
       "      <td>0.614313</td>\n",
       "      <td>0.647716</td>\n",
       "      <td>2.881004</td>\n",
       "    </tr>\n",
       "    <tr>\n",
       "      <th>1</th>\n",
       "      <td>1075.790039</td>\n",
       "      <td>560.247986</td>\n",
       "      <td>-473.667999</td>\n",
       "      <td>253.820999</td>\n",
       "      <td>98.636002</td>\n",
       "      <td>46.423801</td>\n",
       "      <td>37.188900</td>\n",
       "      <td>-785.905029</td>\n",
       "      <td>-476.933990</td>\n",
       "      <td>-1670.449951</td>\n",
       "      <td>...</td>\n",
       "      <td>1326.645630</td>\n",
       "      <td>1906.993530</td>\n",
       "      <td>3233.639160</td>\n",
       "      <td>312.914948</td>\n",
       "      <td>3218.463379</td>\n",
       "      <td>0.470658</td>\n",
       "      <td>0.801074</td>\n",
       "      <td>0.345675</td>\n",
       "      <td>0.681456</td>\n",
       "      <td>220.523193</td>\n",
       "    </tr>\n",
       "    <tr>\n",
       "      <th>2</th>\n",
       "      <td>-963.197998</td>\n",
       "      <td>-802.231995</td>\n",
       "      <td>-255.048004</td>\n",
       "      <td>369.252991</td>\n",
       "      <td>203.923996</td>\n",
       "      <td>32.369499</td>\n",
       "      <td>22.955299</td>\n",
       "      <td>1066.229980</td>\n",
       "      <td>662.479980</td>\n",
       "      <td>-1211.520020</td>\n",
       "      <td>...</td>\n",
       "      <td>1331.436768</td>\n",
       "      <td>1748.691895</td>\n",
       "      <td>3080.128662</td>\n",
       "      <td>222.883026</td>\n",
       "      <td>3072.053955</td>\n",
       "      <td>0.158733</td>\n",
       "      <td>0.709165</td>\n",
       "      <td>0.349252</td>\n",
       "      <td>0.687567</td>\n",
       "      <td>249.183990</td>\n",
       "    </tr>\n",
       "    <tr>\n",
       "      <th>3</th>\n",
       "      <td>-914.739014</td>\n",
       "      <td>-1285.349976</td>\n",
       "      <td>-390.425995</td>\n",
       "      <td>420.726013</td>\n",
       "      <td>183.169006</td>\n",
       "      <td>29.843300</td>\n",
       "      <td>24.244101</td>\n",
       "      <td>910.085022</td>\n",
       "      <td>1286.180054</td>\n",
       "      <td>228.893997</td>\n",
       "      <td>...</td>\n",
       "      <td>1678.783691</td>\n",
       "      <td>1593.454956</td>\n",
       "      <td>3272.238770</td>\n",
       "      <td>4.799760</td>\n",
       "      <td>3272.235107</td>\n",
       "      <td>0.162928</td>\n",
       "      <td>0.812380</td>\n",
       "      <td>0.515532</td>\n",
       "      <td>0.832525</td>\n",
       "      <td>355.978119</td>\n",
       "    </tr>\n",
       "    <tr>\n",
       "      <th>4</th>\n",
       "      <td>1178.770020</td>\n",
       "      <td>-442.437988</td>\n",
       "      <td>-816.497009</td>\n",
       "      <td>429.519989</td>\n",
       "      <td>272.453003</td>\n",
       "      <td>162.826004</td>\n",
       "      <td>113.084999</td>\n",
       "      <td>-945.479004</td>\n",
       "      <td>402.459015</td>\n",
       "      <td>-412.460999</td>\n",
       "      <td>...</td>\n",
       "      <td>1560.898804</td>\n",
       "      <td>1110.571655</td>\n",
       "      <td>2671.470459</td>\n",
       "      <td>240.044449</td>\n",
       "      <td>2660.664062</td>\n",
       "      <td>0.597630</td>\n",
       "      <td>0.694514</td>\n",
       "      <td>0.720654</td>\n",
       "      <td>0.639655</td>\n",
       "      <td>343.837708</td>\n",
       "    </tr>\n",
       "    <tr>\n",
       "      <th>...</th>\n",
       "      <td>...</td>\n",
       "      <td>...</td>\n",
       "      <td>...</td>\n",
       "      <td>...</td>\n",
       "      <td>...</td>\n",
       "      <td>...</td>\n",
       "      <td>...</td>\n",
       "      <td>...</td>\n",
       "      <td>...</td>\n",
       "      <td>...</td>\n",
       "      <td>...</td>\n",
       "      <td>...</td>\n",
       "      <td>...</td>\n",
       "      <td>...</td>\n",
       "      <td>...</td>\n",
       "      <td>...</td>\n",
       "      <td>...</td>\n",
       "      <td>...</td>\n",
       "      <td>...</td>\n",
       "      <td>...</td>\n",
       "      <td>...</td>\n",
       "    </tr>\n",
       "    <tr>\n",
       "      <th>999419</th>\n",
       "      <td>-710.262024</td>\n",
       "      <td>-1026.920044</td>\n",
       "      <td>-1307.729980</td>\n",
       "      <td>796.106995</td>\n",
       "      <td>744.283020</td>\n",
       "      <td>368.661987</td>\n",
       "      <td>210.828003</td>\n",
       "      <td>692.814026</td>\n",
       "      <td>976.697998</td>\n",
       "      <td>-41.325802</td>\n",
       "      <td>...</td>\n",
       "      <td>1975.596313</td>\n",
       "      <td>1198.612427</td>\n",
       "      <td>3174.208740</td>\n",
       "      <td>73.136452</td>\n",
       "      <td>3173.365967</td>\n",
       "      <td>0.495325</td>\n",
       "      <td>0.571873</td>\n",
       "      <td>0.770408</td>\n",
       "      <td>0.594857</td>\n",
       "      <td>763.957764</td>\n",
       "    </tr>\n",
       "    <tr>\n",
       "      <th>999420</th>\n",
       "      <td>-268.907990</td>\n",
       "      <td>1307.540039</td>\n",
       "      <td>1420.180054</td>\n",
       "      <td>333.614014</td>\n",
       "      <td>240.792007</td>\n",
       "      <td>171.697006</td>\n",
       "      <td>130.660995</td>\n",
       "      <td>155.938995</td>\n",
       "      <td>-1274.060059</td>\n",
       "      <td>-1473.140015</td>\n",
       "      <td>...</td>\n",
       "      <td>1977.418091</td>\n",
       "      <td>1957.884277</td>\n",
       "      <td>3935.302490</td>\n",
       "      <td>122.490051</td>\n",
       "      <td>3933.395508</td>\n",
       "      <td>0.713051</td>\n",
       "      <td>0.760998</td>\n",
       "      <td>0.298112</td>\n",
       "      <td>0.729554</td>\n",
       "      <td>208.620010</td>\n",
       "    </tr>\n",
       "    <tr>\n",
       "      <th>999421</th>\n",
       "      <td>314.462006</td>\n",
       "      <td>1388.619995</td>\n",
       "      <td>-158.914001</td>\n",
       "      <td>420.259003</td>\n",
       "      <td>295.635986</td>\n",
       "      <td>57.412300</td>\n",
       "      <td>44.277100</td>\n",
       "      <td>65.702904</td>\n",
       "      <td>-1444.400024</td>\n",
       "      <td>-1056.260010</td>\n",
       "      <td>...</td>\n",
       "      <td>1492.991333</td>\n",
       "      <td>1792.290039</td>\n",
       "      <td>3285.281494</td>\n",
       "      <td>388.263031</td>\n",
       "      <td>3262.257812</td>\n",
       "      <td>0.194199</td>\n",
       "      <td>0.771213</td>\n",
       "      <td>0.600804</td>\n",
       "      <td>0.573244</td>\n",
       "      <td>342.734100</td>\n",
       "    </tr>\n",
       "    <tr>\n",
       "      <th>999422</th>\n",
       "      <td>-133.639999</td>\n",
       "      <td>1522.699951</td>\n",
       "      <td>-229.511993</td>\n",
       "      <td>632.781006</td>\n",
       "      <td>504.207001</td>\n",
       "      <td>105.698997</td>\n",
       "      <td>48.149700</td>\n",
       "      <td>29.203501</td>\n",
       "      <td>-1470.739990</td>\n",
       "      <td>-839.638977</td>\n",
       "      <td>...</td>\n",
       "      <td>1670.198242</td>\n",
       "      <td>1704.347900</td>\n",
       "      <td>3374.546143</td>\n",
       "      <td>127.697525</td>\n",
       "      <td>3372.129150</td>\n",
       "      <td>0.209634</td>\n",
       "      <td>0.455536</td>\n",
       "      <td>0.705832</td>\n",
       "      <td>0.759785</td>\n",
       "      <td>443.363007</td>\n",
       "    </tr>\n",
       "    <tr>\n",
       "      <th>999423</th>\n",
       "      <td>1654.319946</td>\n",
       "      <td>-688.971008</td>\n",
       "      <td>353.144012</td>\n",
       "      <td>150.893997</td>\n",
       "      <td>76.824097</td>\n",
       "      <td>48.240898</td>\n",
       "      <td>26.232500</td>\n",
       "      <td>-1712.619995</td>\n",
       "      <td>658.551025</td>\n",
       "      <td>220.513000</td>\n",
       "      <td>...</td>\n",
       "      <td>1832.739868</td>\n",
       "      <td>1850.804810</td>\n",
       "      <td>3683.544678</td>\n",
       "      <td>72.454445</td>\n",
       "      <td>3682.832031</td>\n",
       "      <td>0.627940</td>\n",
       "      <td>0.543781</td>\n",
       "      <td>0.276693</td>\n",
       "      <td>0.966118</td>\n",
       "      <td>50.416000</td>\n",
       "    </tr>\n",
       "  </tbody>\n",
       "</table>\n",
       "<p>999424 rows × 24 columns</p>\n",
       "</div>"
      ],
      "text/plain": [
       "               pxj1         pyj1         pzj1         mj1      tau1j1  \\\n",
       "0       -606.640015   136.223999 -2463.290039  115.829002   41.708900   \n",
       "1       1075.790039   560.247986  -473.667999  253.820999   98.636002   \n",
       "2       -963.197998  -802.231995  -255.048004  369.252991  203.923996   \n",
       "3       -914.739014 -1285.349976  -390.425995  420.726013  183.169006   \n",
       "4       1178.770020  -442.437988  -816.497009  429.519989  272.453003   \n",
       "...             ...          ...          ...         ...         ...   \n",
       "999419  -710.262024 -1026.920044 -1307.729980  796.106995  744.283020   \n",
       "999420  -268.907990  1307.540039  1420.180054  333.614014  240.792007   \n",
       "999421   314.462006  1388.619995  -158.914001  420.259003  295.635986   \n",
       "999422  -133.639999  1522.699951  -229.511993  632.781006  504.207001   \n",
       "999423  1654.319946  -688.971008   353.144012  150.893997   76.824097   \n",
       "\n",
       "            tau2j1      tau3j1         pxj2         pyj2         pzj2  ...  \\\n",
       "0        19.615000   16.282600  1410.239990  -311.454010   516.468018  ...   \n",
       "1        46.423801   37.188900  -785.905029  -476.933990 -1670.449951  ...   \n",
       "2        32.369499   22.955299  1066.229980   662.479980 -1211.520020  ...   \n",
       "3        29.843300   24.244101   910.085022  1286.180054   228.893997  ...   \n",
       "4       162.826004  113.084999  -945.479004   402.459015  -412.460999  ...   \n",
       "...            ...         ...          ...          ...          ...  ...   \n",
       "999419  368.661987  210.828003   692.814026   976.697998   -41.325802  ...   \n",
       "999420  171.697006  130.660995   155.938995 -1274.060059 -1473.140015  ...   \n",
       "999421   57.412300   44.277100    65.702904 -1444.400024 -1056.260010  ...   \n",
       "999422  105.698997   48.149700    29.203501 -1470.739990  -839.638977  ...   \n",
       "999423   48.240898   26.232500 -1712.619995   658.551025   220.513000  ...   \n",
       "\n",
       "                ej1          ej2          ejj         pjj          mjj  \\\n",
       "0       2543.183594  1537.945679  4081.129395  840.942322  3993.548828   \n",
       "1       1326.645630  1906.993530  3233.639160  312.914948  3218.463379   \n",
       "2       1331.436768  1748.691895  3080.128662  222.883026  3072.053955   \n",
       "3       1678.783691  1593.454956  3272.238770    4.799760  3272.235107   \n",
       "4       1560.898804  1110.571655  2671.470459  240.044449  2660.664062   \n",
       "...             ...          ...          ...         ...          ...   \n",
       "999419  1975.596313  1198.612427  3174.208740   73.136452  3173.365967   \n",
       "999420  1977.418091  1957.884277  3935.302490  122.490051  3933.395508   \n",
       "999421  1492.991333  1792.290039  3285.281494  388.263031  3262.257812   \n",
       "999422  1670.198242  1704.347900  3374.546143  127.697525  3372.129150   \n",
       "999423  1832.739868  1850.804810  3683.544678   72.454445  3682.832031   \n",
       "\n",
       "         tau21j1   tau32j1   tau21j2   tau32j2     mj1-mj2  \n",
       "0       0.470283  0.830110  0.614313  0.647716    2.881004  \n",
       "1       0.470658  0.801074  0.345675  0.681456  220.523193  \n",
       "2       0.158733  0.709165  0.349252  0.687567  249.183990  \n",
       "3       0.162928  0.812380  0.515532  0.832525  355.978119  \n",
       "4       0.597630  0.694514  0.720654  0.639655  343.837708  \n",
       "...          ...       ...       ...       ...         ...  \n",
       "999419  0.495325  0.571873  0.770408  0.594857  763.957764  \n",
       "999420  0.713051  0.760998  0.298112  0.729554  208.620010  \n",
       "999421  0.194199  0.771213  0.600804  0.573244  342.734100  \n",
       "999422  0.209634  0.455536  0.705832  0.759785  443.363007  \n",
       "999423  0.627940  0.543781  0.276693  0.966118   50.416000  \n",
       "\n",
       "[999424 rows x 24 columns]"
      ]
     },
     "execution_count": 7,
     "metadata": {},
     "output_type": "execute_result"
    }
   ],
   "source": [
    "df"
   ]
  },
  {
   "cell_type": "code",
   "execution_count": 8,
   "metadata": {},
   "outputs": [
    {
     "data": {
      "text/plain": [
       "False"
      ]
     },
     "execution_count": 8,
     "metadata": {},
     "output_type": "execute_result"
    }
   ],
   "source": [
    "np.any(np.isnan(df))"
   ]
  },
  {
   "cell_type": "code",
   "execution_count": 9,
   "metadata": {},
   "outputs": [],
   "source": [
    "df = df.drop(df.columns[[0,1,2,4,5,6,7,8,9,11,12,13,14,15,16,17,20,22]], axis=1)"
   ]
  },
  {
   "cell_type": "code",
   "execution_count": 10,
   "metadata": {},
   "outputs": [
    {
     "data": {
      "text/html": [
       "<div>\n",
       "<style scoped>\n",
       "    .dataframe tbody tr th:only-of-type {\n",
       "        vertical-align: middle;\n",
       "    }\n",
       "\n",
       "    .dataframe tbody tr th {\n",
       "        vertical-align: top;\n",
       "    }\n",
       "\n",
       "    .dataframe thead th {\n",
       "        text-align: right;\n",
       "    }\n",
       "</style>\n",
       "<table border=\"1\" class=\"dataframe\">\n",
       "  <thead>\n",
       "    <tr style=\"text-align: right;\">\n",
       "      <th></th>\n",
       "      <th>mj1</th>\n",
       "      <th>mj2</th>\n",
       "      <th>mjj</th>\n",
       "      <th>tau21j1</th>\n",
       "      <th>tau21j2</th>\n",
       "      <th>mj1-mj2</th>\n",
       "    </tr>\n",
       "  </thead>\n",
       "  <tbody>\n",
       "    <tr>\n",
       "      <th>0</th>\n",
       "      <td>115.829002</td>\n",
       "      <td>112.947998</td>\n",
       "      <td>3993.548828</td>\n",
       "      <td>0.470283</td>\n",
       "      <td>0.614313</td>\n",
       "      <td>2.881004</td>\n",
       "    </tr>\n",
       "    <tr>\n",
       "      <th>1</th>\n",
       "      <td>253.820999</td>\n",
       "      <td>33.297798</td>\n",
       "      <td>3218.463379</td>\n",
       "      <td>0.470658</td>\n",
       "      <td>0.345675</td>\n",
       "      <td>220.523193</td>\n",
       "    </tr>\n",
       "    <tr>\n",
       "      <th>2</th>\n",
       "      <td>369.252991</td>\n",
       "      <td>120.069000</td>\n",
       "      <td>3072.053955</td>\n",
       "      <td>0.158733</td>\n",
       "      <td>0.349252</td>\n",
       "      <td>249.183990</td>\n",
       "    </tr>\n",
       "    <tr>\n",
       "      <th>3</th>\n",
       "      <td>420.726013</td>\n",
       "      <td>64.747902</td>\n",
       "      <td>3272.235107</td>\n",
       "      <td>0.162928</td>\n",
       "      <td>0.515532</td>\n",
       "      <td>355.978119</td>\n",
       "    </tr>\n",
       "    <tr>\n",
       "      <th>4</th>\n",
       "      <td>429.519989</td>\n",
       "      <td>85.682297</td>\n",
       "      <td>2660.664062</td>\n",
       "      <td>0.597630</td>\n",
       "      <td>0.720654</td>\n",
       "      <td>343.837708</td>\n",
       "    </tr>\n",
       "    <tr>\n",
       "      <th>...</th>\n",
       "      <td>...</td>\n",
       "      <td>...</td>\n",
       "      <td>...</td>\n",
       "      <td>...</td>\n",
       "      <td>...</td>\n",
       "      <td>...</td>\n",
       "    </tr>\n",
       "    <tr>\n",
       "      <th>999419</th>\n",
       "      <td>796.106995</td>\n",
       "      <td>32.149200</td>\n",
       "      <td>3173.365967</td>\n",
       "      <td>0.495325</td>\n",
       "      <td>0.770408</td>\n",
       "      <td>763.957764</td>\n",
       "    </tr>\n",
       "    <tr>\n",
       "      <th>999420</th>\n",
       "      <td>333.614014</td>\n",
       "      <td>124.994003</td>\n",
       "      <td>3933.395508</td>\n",
       "      <td>0.713051</td>\n",
       "      <td>0.298112</td>\n",
       "      <td>208.620010</td>\n",
       "    </tr>\n",
       "    <tr>\n",
       "      <th>999421</th>\n",
       "      <td>420.259003</td>\n",
       "      <td>77.524902</td>\n",
       "      <td>3262.257812</td>\n",
       "      <td>0.194199</td>\n",
       "      <td>0.600804</td>\n",
       "      <td>342.734100</td>\n",
       "    </tr>\n",
       "    <tr>\n",
       "      <th>999422</th>\n",
       "      <td>632.781006</td>\n",
       "      <td>189.417999</td>\n",
       "      <td>3372.129150</td>\n",
       "      <td>0.209634</td>\n",
       "      <td>0.705832</td>\n",
       "      <td>443.363007</td>\n",
       "    </tr>\n",
       "    <tr>\n",
       "      <th>999423</th>\n",
       "      <td>150.893997</td>\n",
       "      <td>100.477997</td>\n",
       "      <td>3682.832031</td>\n",
       "      <td>0.627940</td>\n",
       "      <td>0.276693</td>\n",
       "      <td>50.416000</td>\n",
       "    </tr>\n",
       "  </tbody>\n",
       "</table>\n",
       "<p>999424 rows × 6 columns</p>\n",
       "</div>"
      ],
      "text/plain": [
       "               mj1         mj2          mjj   tau21j1   tau21j2     mj1-mj2\n",
       "0       115.829002  112.947998  3993.548828  0.470283  0.614313    2.881004\n",
       "1       253.820999   33.297798  3218.463379  0.470658  0.345675  220.523193\n",
       "2       369.252991  120.069000  3072.053955  0.158733  0.349252  249.183990\n",
       "3       420.726013   64.747902  3272.235107  0.162928  0.515532  355.978119\n",
       "4       429.519989   85.682297  2660.664062  0.597630  0.720654  343.837708\n",
       "...            ...         ...          ...       ...       ...         ...\n",
       "999419  796.106995   32.149200  3173.365967  0.495325  0.770408  763.957764\n",
       "999420  333.614014  124.994003  3933.395508  0.713051  0.298112  208.620010\n",
       "999421  420.259003   77.524902  3262.257812  0.194199  0.600804  342.734100\n",
       "999422  632.781006  189.417999  3372.129150  0.209634  0.705832  443.363007\n",
       "999423  150.893997  100.477997  3682.832031  0.627940  0.276693   50.416000\n",
       "\n",
       "[999424 rows x 6 columns]"
      ]
     },
     "execution_count": 10,
     "metadata": {},
     "output_type": "execute_result"
    }
   ],
   "source": [
    "df"
   ]
  },
  {
   "cell_type": "code",
   "execution_count": 11,
   "metadata": {},
   "outputs": [
    {
     "name": "stdout",
     "output_type": "stream",
     "text": [
      "Dataset consists of 366 batches of 2048 samples each, total 749568 samples\n",
      "Testset consists of 122 batches of 2048 samples each, total 249856 samples\n"
     ]
    },
    {
     "data": {
      "text/plain": [
       "20"
      ]
     },
     "execution_count": 11,
     "metadata": {},
     "output_type": "execute_result"
    }
   ],
   "source": [
    "# Normalize all inputs between -1 and 1\n",
    "\n",
    "train_features = [\"mj1-mj2\"]\n",
    "scaler = MinMaxScaler((-1,1)).fit(df[train_features])\n",
    "feature_df = scaler.transform(df[train_features])\n",
    "\n",
    "X_train, X_test = train_test_split(feature_df, test_size = 0.25)\n",
    "len_dataset = int(X_train.shape[0] / BATCH_SIZE)\n",
    "len_testset = int(X_test.shape[0] / BATCH_SIZE)\n",
    "print(\"Dataset consists of {} batches of {} samples each, total {} samples\".format(len_dataset, BATCH_SIZE, len_dataset * BATCH_SIZE))\n",
    "print(\"Testset consists of {} batches of {} samples each, total {} samples\".format(len_testset, BATCH_SIZE, len_testset * BATCH_SIZE))\n",
    "gc.collect()"
   ]
  },
  {
   "cell_type": "code",
   "execution_count": 12,
   "metadata": {},
   "outputs": [
    {
     "data": {
      "text/plain": [
       "array([[-0.8420107 ],\n",
       "       [-0.29810023],\n",
       "       [-0.9210304 ],\n",
       "       ...,\n",
       "       [-0.97977406],\n",
       "       [-0.73957765],\n",
       "       [-0.83700246]], dtype=float32)"
      ]
     },
     "execution_count": 12,
     "metadata": {},
     "output_type": "execute_result"
    }
   ],
   "source": [
    "X_train"
   ]
  },
  {
   "cell_type": "code",
   "execution_count": 13,
   "metadata": {},
   "outputs": [],
   "source": [
    "train_dataset = tf.data.Dataset.from_tensor_slices(np.array(X_train)).batch(BATCH_SIZE)\n",
    "test_dataset = tf.data.Dataset.from_tensor_slices(np.array(X_test)).batch(BATCH_SIZE)"
   ]
  },
  {
   "cell_type": "code",
   "execution_count": 14,
   "metadata": {},
   "outputs": [],
   "source": [
    "def make_generator_model():\n",
    "    \n",
    "    model = tf.keras.Sequential()\n",
    "    model.add(layers.Dense(50, input_shape=(len(train_features),)))\n",
    "    model.add(layers.BatchNormalization())\n",
    "    model.add(layers.LeakyReLU())\n",
    "\n",
    "    model.add(layers.Dense(50))\n",
    "    model.add(layers.BatchNormalization())\n",
    "    model.add(layers.LeakyReLU())\n",
    "\n",
    "    model.add(layers.Dense(50))\n",
    "    model.add(layers.BatchNormalization())\n",
    "    model.add(layers.LeakyReLU())\n",
    "\n",
    "    model.add(layers.Dense(len(train_features), activation='tanh'))\n",
    "    assert model.output_shape == (None, len(train_features))\n",
    "\n",
    "    return model"
   ]
  },
  {
   "cell_type": "code",
   "execution_count": 15,
   "metadata": {},
   "outputs": [],
   "source": [
    "generator = make_generator_model()"
   ]
  },
  {
   "cell_type": "code",
   "execution_count": 16,
   "metadata": {},
   "outputs": [],
   "source": [
    "def make_discriminator_model():\n",
    "    model = tf.keras.Sequential()\n",
    "    model.add(layers.Dense(50, input_shape=(len(train_features),)))\n",
    "    model.add(layers.LeakyReLU())\n",
    "    model.add(layers.Dropout(0.3))\n",
    "\n",
    "    model.add(layers.Dense(50))\n",
    "    model.add(layers.LeakyReLU())\n",
    "    model.add(layers.Dropout(0.3))\n",
    "\n",
    "    model.add(layers.Dense(1)) # WGAN: No sigmoid activation in last layer\n",
    "\n",
    "    return model"
   ]
  },
  {
   "cell_type": "code",
   "execution_count": 17,
   "metadata": {},
   "outputs": [],
   "source": [
    "discriminator = make_discriminator_model()"
   ]
  },
  {
   "cell_type": "code",
   "execution_count": 18,
   "metadata": {},
   "outputs": [
    {
     "name": "stdout",
     "output_type": "stream",
     "text": [
      "Model: \"sequential\"\n",
      "_________________________________________________________________\n",
      "Layer (type)                 Output Shape              Param #   \n",
      "=================================================================\n",
      "dense (Dense)                (None, 50)                100       \n",
      "_________________________________________________________________\n",
      "batch_normalization (BatchNo (None, 50)                200       \n",
      "_________________________________________________________________\n",
      "leaky_re_lu (LeakyReLU)      (None, 50)                0         \n",
      "_________________________________________________________________\n",
      "dense_1 (Dense)              (None, 50)                2550      \n",
      "_________________________________________________________________\n",
      "batch_normalization_1 (Batch (None, 50)                200       \n",
      "_________________________________________________________________\n",
      "leaky_re_lu_1 (LeakyReLU)    (None, 50)                0         \n",
      "_________________________________________________________________\n",
      "dense_2 (Dense)              (None, 50)                2550      \n",
      "_________________________________________________________________\n",
      "batch_normalization_2 (Batch (None, 50)                200       \n",
      "_________________________________________________________________\n",
      "leaky_re_lu_2 (LeakyReLU)    (None, 50)                0         \n",
      "_________________________________________________________________\n",
      "dense_3 (Dense)              (None, 1)                 51        \n",
      "=================================================================\n",
      "Total params: 5,851\n",
      "Trainable params: 5,551\n",
      "Non-trainable params: 300\n",
      "_________________________________________________________________\n"
     ]
    }
   ],
   "source": [
    "generator.summary()"
   ]
  },
  {
   "cell_type": "code",
   "execution_count": 19,
   "metadata": {},
   "outputs": [
    {
     "name": "stdout",
     "output_type": "stream",
     "text": [
      "Model: \"sequential_1\"\n",
      "_________________________________________________________________\n",
      "Layer (type)                 Output Shape              Param #   \n",
      "=================================================================\n",
      "dense_4 (Dense)              (None, 50)                100       \n",
      "_________________________________________________________________\n",
      "leaky_re_lu_3 (LeakyReLU)    (None, 50)                0         \n",
      "_________________________________________________________________\n",
      "dropout (Dropout)            (None, 50)                0         \n",
      "_________________________________________________________________\n",
      "dense_5 (Dense)              (None, 50)                2550      \n",
      "_________________________________________________________________\n",
      "leaky_re_lu_4 (LeakyReLU)    (None, 50)                0         \n",
      "_________________________________________________________________\n",
      "dropout_1 (Dropout)          (None, 50)                0         \n",
      "_________________________________________________________________\n",
      "dense_6 (Dense)              (None, 1)                 51        \n",
      "=================================================================\n",
      "Total params: 2,701\n",
      "Trainable params: 2,701\n",
      "Non-trainable params: 0\n",
      "_________________________________________________________________\n"
     ]
    }
   ],
   "source": [
    "discriminator.summary()"
   ]
  },
  {
   "cell_type": "code",
   "execution_count": 20,
   "metadata": {},
   "outputs": [],
   "source": [
    "@tf.function\n",
    "def gradient_penalty(real, fake, epsilon): \n",
    "    # mixed_images = real * epsilon + fake * (1 - epsilon)\n",
    "    mixed_images = fake + epsilon * (real - fake)\n",
    "    with tf.GradientTape() as tape:\n",
    "        tape.watch(mixed_images) \n",
    "        mixed_scores = discriminator(mixed_images)\n",
    "        \n",
    "    gradient = tape.gradient(mixed_scores, mixed_images)[0]\n",
    "    \n",
    "    gradient_norm = tf.norm(gradient)\n",
    "    penalty = tf.math.reduce_mean((gradient_norm - 1)**2)\n",
    "    return penalty"
   ]
  },
  {
   "cell_type": "code",
   "execution_count": 21,
   "metadata": {},
   "outputs": [],
   "source": [
    "@tf.function\n",
    "def discriminator_loss(real_output, fake_output, gradient_penalty):\n",
    "    loss = tf.math.reduce_mean(fake_output) - tf.math.reduce_mean(real_output) + C_LAMBDA * gradient_penalty\n",
    "    return loss"
   ]
  },
  {
   "cell_type": "code",
   "execution_count": 22,
   "metadata": {},
   "outputs": [],
   "source": [
    "@tf.function\n",
    "def generator_loss(fake_output):\n",
    "    gen_loss = -1. * tf.math.reduce_mean(fake_output)\n",
    "    return gen_loss"
   ]
  },
  {
   "cell_type": "code",
   "execution_count": 23,
   "metadata": {},
   "outputs": [],
   "source": [
    "generator_optimizer = tf.keras.optimizers.RMSprop(lr=LEARNING_RATE)\n",
    "discriminator_optimizer = tf.keras.optimizers.RMSprop(lr=LEARNING_RATE)"
   ]
  },
  {
   "cell_type": "code",
   "execution_count": 24,
   "metadata": {},
   "outputs": [],
   "source": [
    "# Convert tensor to float for loss function plotting\n",
    "def K_eval(x):\n",
    "    try:\n",
    "        return K.get_value(K.to_dense(x))\n",
    "    except:\n",
    "        eval_fn = K.function([], [x])\n",
    "        return eval_fn([])[0]"
   ]
  },
  {
   "cell_type": "code",
   "execution_count": 25,
   "metadata": {},
   "outputs": [],
   "source": [
    "@tf.function\n",
    "def train_step_generator(images):\n",
    "  noise = tf.random.normal([BATCH_SIZE, len(train_features)])\n",
    "\n",
    "  with tf.GradientTape() as gen_tape, tf.GradientTape() as disc_tape:\n",
    "    generated_images = generator(noise, training=True)\n",
    "    fake_output = discriminator(generated_images, training=True)\n",
    "    gen_loss = generator_loss(fake_output)\n",
    "\n",
    "  gradients_of_generator = gen_tape.gradient(gen_loss, generator.trainable_variables)\n",
    "\n",
    "  generator_optimizer.apply_gradients(zip(gradients_of_generator, generator.trainable_variables))\n",
    "  \n",
    "  return gen_loss"
   ]
  },
  {
   "cell_type": "code",
   "execution_count": 26,
   "metadata": {},
   "outputs": [],
   "source": [
    "@tf.function\n",
    "def train_step_discriminator(images):\n",
    "  noise = tf.random.normal([BATCH_SIZE, len(train_features)])\n",
    "\n",
    "  with tf.GradientTape() as gen_tape, tf.GradientTape() as disc_tape:\n",
    "    generated_images = generator(noise, training=True)\n",
    "\n",
    "    real_output = discriminator(images, training=True)\n",
    "    fake_output = discriminator(generated_images, training=True)\n",
    "\n",
    "    epsilon = tf.random.uniform([BATCH_SIZE,len(train_features)],minval=0,maxval=1)\n",
    "\n",
    "    gp = gradient_penalty(images, generated_images, epsilon)\n",
    "    \n",
    "    disc_loss = discriminator_loss(real_output, fake_output, gp)\n",
    "\n",
    "  gradients_of_discriminator = disc_tape.gradient(disc_loss, discriminator.trainable_variables)\n",
    "\n",
    "  discriminator_optimizer.apply_gradients(zip(gradients_of_discriminator, discriminator.trainable_variables))\n",
    "  \n",
    "  return disc_loss"
   ]
  },
  {
   "cell_type": "code",
   "execution_count": 27,
   "metadata": {},
   "outputs": [],
   "source": [
    "@tf.function\n",
    "def evaluate_generator():\n",
    "    noise = tf.random.normal([BATCH_SIZE, len(train_features)])\n",
    "    generated_images = generator(noise, training=False)\n",
    "\n",
    "    fake_output = discriminator(generated_images, training=False)\n",
    "\n",
    "    gen_loss = generator_loss(fake_output)\n",
    "\n",
    "    return gen_loss"
   ]
  },
  {
   "cell_type": "code",
   "execution_count": 28,
   "metadata": {},
   "outputs": [],
   "source": [
    "@tf.function\n",
    "def evaluate_discriminator(images):\n",
    "    noise = tf.random.normal([BATCH_SIZE, len(train_features)])\n",
    "    generated_images = generator(noise, training=False)\n",
    "\n",
    "    real_output = discriminator(images, training=False)\n",
    "    fake_output = discriminator(generated_images, training=False)\n",
    "\n",
    "    epsilon = tf.random.uniform([BATCH_SIZE,len(train_features)],minval=0,maxval=1)\n",
    "\n",
    "    gp = gradient_penalty(images, generated_images, epsilon)\n",
    "    \n",
    "    disc_loss = discriminator_loss(real_output, fake_output, gp)\n",
    "\n",
    "    return disc_loss"
   ]
  },
  {
   "cell_type": "code",
   "execution_count": 29,
   "metadata": {},
   "outputs": [],
   "source": [
    "def graph_gan(generator):\n",
    "    fakedata = scaler.inverse_transform(generator(tf.random.normal((10000, len(train_features))), training=False))\n",
    "    plt.ylabel(\"Normalized to Unity\")\n",
    "    \n",
    "    plt.hist(df['mj1-mj2'], bins = 50, range = (0, 800), color = \"tab:orange\", alpha = 0.5, label = \"Herwig Background\", density = True)\n",
    "    plt.hist(fakedata, bins = 50, range = (0, 800), color = \"tab:blue\", histtype = \"step\", label = \"GAN\", density = True)\n",
    "    plt.legend()\n",
    "    plt.show()\n",
    "    "
   ]
  },
  {
   "cell_type": "code",
   "execution_count": 30,
   "metadata": {},
   "outputs": [],
   "source": [
    "train_gen_losses = []\n",
    "train_disc_losses = []\n",
    "test_gen_losses = []\n",
    "test_disc_losses = []"
   ]
  },
  {
   "cell_type": "code",
   "execution_count": 31,
   "metadata": {},
   "outputs": [],
   "source": [
    "def graph_genloss():\n",
    "    plt.title(\"Generator Loss\")\n",
    "    plt.ylabel(\"Wasserstein Loss\")\n",
    "    plt.xlabel(\"Epoch\")\n",
    "    plt.plot(train_gen_losses, 'b', label = \"Training loss\")\n",
    "    plt.plot(test_gen_losses, 'r', label = \"Validation loss\")\n",
    "    plt.legend()\n",
    "    plt.show()"
   ]
  },
  {
   "cell_type": "code",
   "execution_count": 32,
   "metadata": {},
   "outputs": [],
   "source": [
    "def graph_discloss():\n",
    "    plt.title(\"Discriminator Loss\")\n",
    "    plt.ylabel(\"Wasserstein Loss\")\n",
    "    plt.xlabel(\"Epoch\")\n",
    "    plt.plot(train_disc_losses, 'b', label = \"Training loss\")\n",
    "    plt.plot(test_disc_losses, 'r', label = \"Validation loss\")\n",
    "    plt.legend()\n",
    "    plt.show()"
   ]
  },
  {
   "cell_type": "code",
   "execution_count": 33,
   "metadata": {},
   "outputs": [],
   "source": [
    "def train(dataset, testset, epochs, n_critic):\n",
    "  for epoch in tqdm(range(epochs)):\n",
    "    \n",
    "    print_losses = ((epoch + 1) % 10 == 0)\n",
    "    draw_outputs = ((epoch + 1) % 100 == 0)\n",
    "\n",
    "    train_gen_loss = 0\n",
    "    train_disc_loss = 0\n",
    "\n",
    "    test_gen_loss = 0\n",
    "    test_disc_loss = 0\n",
    "\n",
    "\n",
    "    # Training\n",
    "\n",
    "    for image_batch in dataset:\n",
    "      train_gen_loss += K_eval(train_step_generator(image_batch))\n",
    "      for n in range(n_critic):\n",
    "        train_disc_loss += K_eval(train_step_discriminator(image_batch))\n",
    "    \n",
    "    train_gen_losses.append(train_gen_loss / len_dataset)\n",
    "    train_disc_losses.append(train_disc_loss / len_dataset / n_critic)\n",
    "\n",
    "            \n",
    "    # Evaluation\n",
    "\n",
    "    for test_batch in testset:\n",
    "      test_gen_loss += K_eval(evaluate_generator())\n",
    "      test_disc_loss += K_eval(evaluate_discriminator(test_batch))\n",
    "\n",
    "    test_gen_losses.append(test_gen_loss / len_testset)\n",
    "    test_disc_losses.append(test_disc_loss / len_testset)\n",
    "\n",
    "    # Logging\n",
    "\n",
    "    if print_losses:\n",
    "      print()\n",
    "\n",
    "      print(\"Epoch \" + str(epoch + 1) + \":\")\n",
    "      print()\n",
    "      print(\"Generator training loss: \" + str(train_gen_losses[-1]))\n",
    "      print(\"Discriminator training loss: \" + str(train_disc_losses[-1]))\n",
    "      print()\n",
    "      print(\"Generator validation loss: \" + str(test_gen_losses[-1]))\n",
    "      print(\"Discriminator validation loss: \" + str(test_disc_losses[-1]))\n",
    "\n",
    "    if draw_outputs:\n",
    "      print()\n",
    "      print(\"Epoch \" + str(epoch + 1) + \":\")\n",
    "      graph_gan(generator)\n",
    "\n",
    "      graph_genloss()\n",
    "      graph_discloss()\n"
   ]
  },
  {
   "cell_type": "code",
   "execution_count": null,
   "metadata": {
    "scrolled": false,
    "tags": []
   },
   "outputs": [
    {
     "name": "stderr",
     "output_type": "stream",
     "text": [
      "\r",
      "  0%|                                                                                         | 0/1000 [00:00<?, ?it/s]"
     ]
    },
    {
     "name": "stdout",
     "output_type": "stream",
     "text": [
      "WARNING:tensorflow:AutoGraph could not transform <function train_step_generator at 0x000001E7F1912C18> and will run it as-is.\n",
      "Please report this to the TensorFlow team. When filing the bug, set the verbosity to 10 (on Linux, `export AUTOGRAPH_VERBOSITY=10`) and attach the full output.\n",
      "Cause: Bad argument number for Name: 3, expecting 4\n",
      "WARNING: AutoGraph could not transform <function train_step_generator at 0x000001E7F1912C18> and will run it as-is.\n",
      "Please report this to the TensorFlow team. When filing the bug, set the verbosity to 10 (on Linux, `export AUTOGRAPH_VERBOSITY=10`) and attach the full output.\n",
      "Cause: Bad argument number for Name: 3, expecting 4\n",
      "WARNING:tensorflow:AutoGraph could not transform <function generator_loss at 0x000001E7A7F10288> and will run it as-is.\n",
      "Please report this to the TensorFlow team. When filing the bug, set the verbosity to 10 (on Linux, `export AUTOGRAPH_VERBOSITY=10`) and attach the full output.\n",
      "Cause: Bad argument number for Name: 3, expecting 4\n",
      "WARNING: AutoGraph could not transform <function generator_loss at 0x000001E7A7F10288> and will run it as-is.\n",
      "Please report this to the TensorFlow team. When filing the bug, set the verbosity to 10 (on Linux, `export AUTOGRAPH_VERBOSITY=10`) and attach the full output.\n",
      "Cause: Bad argument number for Name: 3, expecting 4\n",
      "WARNING:tensorflow:AutoGraph could not transform <function train_step_discriminator at 0x000001E7F18C0D38> and will run it as-is.\n",
      "Please report this to the TensorFlow team. When filing the bug, set the verbosity to 10 (on Linux, `export AUTOGRAPH_VERBOSITY=10`) and attach the full output.\n",
      "Cause: Bad argument number for Name: 3, expecting 4\n",
      "WARNING: AutoGraph could not transform <function train_step_discriminator at 0x000001E7F18C0D38> and will run it as-is.\n",
      "Please report this to the TensorFlow team. When filing the bug, set the verbosity to 10 (on Linux, `export AUTOGRAPH_VERBOSITY=10`) and attach the full output.\n",
      "Cause: Bad argument number for Name: 3, expecting 4\n",
      "WARNING:tensorflow:AutoGraph could not transform <function gradient_penalty at 0x000001E7A7F02708> and will run it as-is.\n",
      "Please report this to the TensorFlow team. When filing the bug, set the verbosity to 10 (on Linux, `export AUTOGRAPH_VERBOSITY=10`) and attach the full output.\n",
      "Cause: module 'gast' has no attribute 'Num'\n",
      "WARNING: AutoGraph could not transform <function gradient_penalty at 0x000001E7A7F02708> and will run it as-is.\n",
      "Please report this to the TensorFlow team. When filing the bug, set the verbosity to 10 (on Linux, `export AUTOGRAPH_VERBOSITY=10`) and attach the full output.\n",
      "Cause: module 'gast' has no attribute 'Num'\n",
      "WARNING:tensorflow:AutoGraph could not transform <function discriminator_loss at 0x000001E7A7F02288> and will run it as-is.\n",
      "Please report this to the TensorFlow team. When filing the bug, set the verbosity to 10 (on Linux, `export AUTOGRAPH_VERBOSITY=10`) and attach the full output.\n",
      "Cause: Bad argument number for Name: 3, expecting 4\n",
      "WARNING: AutoGraph could not transform <function discriminator_loss at 0x000001E7A7F02288> and will run it as-is.\n",
      "Please report this to the TensorFlow team. When filing the bug, set the verbosity to 10 (on Linux, `export AUTOGRAPH_VERBOSITY=10`) and attach the full output.\n",
      "Cause: Bad argument number for Name: 3, expecting 4\n",
      "WARNING:tensorflow:AutoGraph could not transform <function evaluate_generator at 0x000001E7A7F02048> and will run it as-is.\n",
      "Please report this to the TensorFlow team. When filing the bug, set the verbosity to 10 (on Linux, `export AUTOGRAPH_VERBOSITY=10`) and attach the full output.\n",
      "Cause: Bad argument number for Name: 3, expecting 4\n",
      "WARNING: AutoGraph could not transform <function evaluate_generator at 0x000001E7A7F02048> and will run it as-is.\n",
      "Please report this to the TensorFlow team. When filing the bug, set the verbosity to 10 (on Linux, `export AUTOGRAPH_VERBOSITY=10`) and attach the full output.\n",
      "Cause: Bad argument number for Name: 3, expecting 4\n",
      "WARNING:tensorflow:AutoGraph could not transform <function evaluate_discriminator at 0x000001E7A7F02F78> and will run it as-is.\n",
      "Please report this to the TensorFlow team. When filing the bug, set the verbosity to 10 (on Linux, `export AUTOGRAPH_VERBOSITY=10`) and attach the full output.\n",
      "Cause: Bad argument number for Name: 3, expecting 4\n",
      "WARNING: AutoGraph could not transform <function evaluate_discriminator at 0x000001E7A7F02F78> and will run it as-is.\n",
      "Please report this to the TensorFlow team. When filing the bug, set the verbosity to 10 (on Linux, `export AUTOGRAPH_VERBOSITY=10`) and attach the full output.\n",
      "Cause: Bad argument number for Name: 3, expecting 4\n"
     ]
    },
    {
     "name": "stderr",
     "output_type": "stream",
     "text": [
      "  1%|▊                                                                             | 10/1000 [02:21<3:53:44, 14.17s/it]"
     ]
    },
    {
     "name": "stdout",
     "output_type": "stream",
     "text": [
      "\n",
      "Epoch 10:\n",
      "\n",
      "Generator training loss: -1.1717549764393458\n",
      "Discriminator training loss: -0.124781137472782\n",
      "\n",
      "Generator validation loss: -1.228417580244971\n",
      "Discriminator validation loss: -0.09906512114112495\n"
     ]
    },
    {
     "name": "stderr",
     "output_type": "stream",
     "text": [
      "  2%|█▌                                                                            | 20/1000 [04:43<3:49:30, 14.05s/it]"
     ]
    },
    {
     "name": "stdout",
     "output_type": "stream",
     "text": [
      "\n",
      "Epoch 20:\n",
      "\n",
      "Generator training loss: -1.4248099786336306\n",
      "Discriminator training loss: 0.1461802839988568\n",
      "\n",
      "Generator validation loss: -1.6260676608710993\n",
      "Discriminator validation loss: 0.15965425821601367\n"
     ]
    },
    {
     "name": "stderr",
     "output_type": "stream",
     "text": [
      "  3%|██▎                                                                           | 30/1000 [07:03<3:46:28, 14.01s/it]"
     ]
    },
    {
     "name": "stdout",
     "output_type": "stream",
     "text": [
      "\n",
      "Epoch 30:\n",
      "\n",
      "Generator training loss: -1.7955880236755954\n",
      "Discriminator training loss: 0.1723153542096172\n",
      "\n",
      "Generator validation loss: -1.9378662314571318\n",
      "Discriminator validation loss: 0.1923549888563938\n"
     ]
    },
    {
     "name": "stderr",
     "output_type": "stream",
     "text": [
      "  4%|███                                                                           | 40/1000 [09:25<3:51:35, 14.47s/it]"
     ]
    },
    {
     "name": "stdout",
     "output_type": "stream",
     "text": [
      "\n",
      "Epoch 40:\n",
      "\n",
      "Generator training loss: -1.6627844510182657\n",
      "Discriminator training loss: 0.147884043497466\n",
      "\n",
      "Generator validation loss: -1.9775843405332723\n",
      "Discriminator validation loss: 0.19958304381761394\n"
     ]
    },
    {
     "name": "stderr",
     "output_type": "stream",
     "text": [
      "  5%|███▉                                                                          | 50/1000 [11:44<3:41:05, 13.96s/it]"
     ]
    },
    {
     "name": "stdout",
     "output_type": "stream",
     "text": [
      "\n",
      "Epoch 50:\n",
      "\n",
      "Generator training loss: -1.3327815969133638\n",
      "Discriminator training loss: 0.09212170210387048\n",
      "\n",
      "Generator validation loss: -1.9584318291945535\n",
      "Discriminator validation loss: 0.2003941344188862\n"
     ]
    },
    {
     "name": "stderr",
     "output_type": "stream",
     "text": [
      "  6%|████▋                                                                         | 60/1000 [14:03<3:37:59, 13.91s/it]"
     ]
    },
    {
     "name": "stdout",
     "output_type": "stream",
     "text": [
      "\n",
      "Epoch 60:\n",
      "\n",
      "Generator training loss: -0.9347914590861628\n",
      "Discriminator training loss: 0.00829271663265313\n",
      "\n",
      "Generator validation loss: -1.986728913471347\n",
      "Discriminator validation loss: 0.1429284819569744\n"
     ]
    },
    {
     "name": "stderr",
     "output_type": "stream",
     "text": [
      "  7%|█████▍                                                                        | 70/1000 [16:23<3:36:32, 13.97s/it]"
     ]
    },
    {
     "name": "stdout",
     "output_type": "stream",
     "text": [
      "\n",
      "Epoch 70:\n",
      "\n",
      "Generator training loss: -1.1436409399809082\n",
      "Discriminator training loss: -0.00021519328168975198\n",
      "\n",
      "Generator validation loss: -2.0531661862232644\n",
      "Discriminator validation loss: 0.007901396487169655\n"
     ]
    },
    {
     "name": "stderr",
     "output_type": "stream",
     "text": [
      "  8%|██████▏                                                                       | 80/1000 [18:46<3:42:05, 14.48s/it]"
     ]
    },
    {
     "name": "stdout",
     "output_type": "stream",
     "text": [
      "\n",
      "Epoch 80:\n",
      "\n",
      "Generator training loss: -1.2878548577835\n",
      "Discriminator training loss: 0.0006786334700749242\n",
      "\n",
      "Generator validation loss: -2.1006273812935\n",
      "Discriminator validation loss: 0.0020598107461648665\n"
     ]
    },
    {
     "name": "stderr",
     "output_type": "stream",
     "text": [
      "  9%|███████                                                                       | 90/1000 [21:09<3:36:34, 14.28s/it]"
     ]
    },
    {
     "name": "stdout",
     "output_type": "stream",
     "text": [
      "\n",
      "Epoch 90:\n",
      "\n",
      "Generator training loss: -1.3047152063885674\n",
      "Discriminator training loss: 0.0008290598207018835\n",
      "\n",
      "Generator validation loss: -2.181146957835213\n",
      "Discriminator validation loss: 0.005486281272407991\n"
     ]
    },
    {
     "name": "stderr",
     "output_type": "stream",
     "text": [
      " 10%|███████▋                                                                      | 99/1000 [23:16<3:32:33, 14.15s/it]"
     ]
    },
    {
     "name": "stdout",
     "output_type": "stream",
     "text": [
      "\n",
      "Epoch 100:\n",
      "\n",
      "Generator training loss: -1.236739931862211\n",
      "Discriminator training loss: 0.002008606600768578\n",
      "\n",
      "Generator validation loss: -2.203064148543311\n",
      "Discriminator validation loss: 0.0011159791587279407\n",
      "\n",
      "Epoch 100:\n"
     ]
    },
    {
     "data": {
      "image/png": "[encoded data removed]",
      "text/plain": [
       "<Figure size 432x288 with 1 Axes>"
      ]
     },
     "metadata": {
      "needs_background": "light"
     },
     "output_type": "display_data"
    },
    {
     "data": {
      "image/png": "[encoded data removed]",
      "text/plain": [
       "<Figure size 432x288 with 1 Axes>"
      ]
     },
     "metadata": {
      "needs_background": "light"
     },
     "output_type": "display_data"
    },
    {
     "data": {
      "image/png": "[encoded data removed]",
      "text/plain": [
       "<Figure size 432x288 with 1 Axes>"
      ]
     },
     "metadata": {
      "needs_background": "light"
     },
     "output_type": "display_data"
    },
    {
     "name": "stderr",
     "output_type": "stream",
     "text": [
      " 11%|████████▍                                                                    | 110/1000 [25:52<3:28:53, 14.08s/it]"
     ]
    },
    {
     "name": "stdout",
     "output_type": "stream",
     "text": [
      "\n",
      "Epoch 110:\n",
      "\n",
      "Generator training loss: -1.166006741953678\n",
      "Discriminator training loss: 0.0003925841665368154\n",
      "\n",
      "Generator validation loss: -2.179032341378634\n",
      "Discriminator validation loss: 0.005250906192918964\n"
     ]
    },
    {
     "name": "stderr",
     "output_type": "stream",
     "text": [
      " 12%|█████████▏                                                                   | 120/1000 [28:15<3:26:01, 14.05s/it]"
     ]
    },
    {
     "name": "stdout",
     "output_type": "stream",
     "text": [
      "\n",
      "Epoch 120:\n",
      "\n",
      "Generator training loss: -1.1349528220181908\n",
      "Discriminator training loss: -0.00044238954888881933\n",
      "\n",
      "Generator validation loss: -2.1638552693069957\n",
      "Discriminator validation loss: 0.007355897304075713\n"
     ]
    },
    {
     "name": "stderr",
     "output_type": "stream",
     "text": [
      " 13%|██████████                                                                   | 130/1000 [30:36<3:25:45, 14.19s/it]"
     ]
    },
    {
     "name": "stdout",
     "output_type": "stream",
     "text": [
      "\n",
      "Epoch 130:\n",
      "\n",
      "Generator training loss: -1.1125523776955943\n",
      "Discriminator training loss: 0.0011283969997932387\n",
      "\n",
      "Generator validation loss: -2.146032733995406\n",
      "Discriminator validation loss: 0.0035944378459597096\n"
     ]
    },
    {
     "name": "stderr",
     "output_type": "stream",
     "text": [
      " 14%|██████████▊                                                                  | 140/1000 [32:58<3:22:42, 14.14s/it]"
     ]
    },
    {
     "name": "stdout",
     "output_type": "stream",
     "text": [
      "\n",
      "Epoch 140:\n",
      "\n",
      "Generator training loss: -1.113278710125574\n",
      "Discriminator training loss: 0.0008089221350436689\n",
      "\n",
      "Generator validation loss: -2.1461013125591593\n",
      "Discriminator validation loss: 0.0019661963356231325\n"
     ]
    },
    {
     "name": "stderr",
     "output_type": "stream",
     "text": [
      " 15%|███████████▌                                                                 | 150/1000 [35:19<3:19:30, 14.08s/it]"
     ]
    },
    {
     "name": "stdout",
     "output_type": "stream",
     "text": [
      "\n",
      "Epoch 150:\n",
      "\n",
      "Generator training loss: -1.1017242937140126\n",
      "Discriminator training loss: -0.00033094127711940486\n",
      "\n",
      "Generator validation loss: -2.1445062121406933\n",
      "Discriminator validation loss: 0.006761454017622946\n"
     ]
    },
    {
     "name": "stderr",
     "output_type": "stream",
     "text": [
      " 16%|████████████▎                                                                | 160/1000 [37:41<3:17:22, 14.10s/it]"
     ]
    },
    {
     "name": "stdout",
     "output_type": "stream",
     "text": [
      "\n",
      "Epoch 160:\n",
      "\n",
      "Generator training loss: -1.0965168593359775\n",
      "Discriminator training loss: 0.0011444395983968116\n",
      "\n",
      "Generator validation loss: -2.1348389680268336\n",
      "Discriminator validation loss: -0.00681596594019583\n"
     ]
    },
    {
     "name": "stderr",
     "output_type": "stream",
     "text": [
      " 17%|█████████████                                                                | 170/1000 [40:03<3:15:29, 14.13s/it]"
     ]
    },
    {
     "name": "stdout",
     "output_type": "stream",
     "text": [
      "\n",
      "Epoch 170:\n",
      "\n",
      "Generator training loss: -1.0874043090747354\n",
      "Discriminator training loss: 0.0007520682105534006\n",
      "\n",
      "Generator validation loss: -2.127458998414337\n",
      "Discriminator validation loss: 0.00755988937441439\n"
     ]
    },
    {
     "name": "stderr",
     "output_type": "stream",
     "text": [
      " 18%|█████████████▊                                                               | 180/1000 [42:23<3:12:58, 14.12s/it]"
     ]
    },
    {
     "name": "stdout",
     "output_type": "stream",
     "text": [
      "\n",
      "Epoch 180:\n",
      "\n",
      "Generator training loss: -1.075170971331049\n",
      "Discriminator training loss: 8.958143468435628e-05\n",
      "\n",
      "Generator validation loss: -2.118744080183936\n",
      "Discriminator validation loss: 0.001160775326797357\n"
     ]
    },
    {
     "name": "stderr",
     "output_type": "stream",
     "text": [
      " 19%|██████████████▋                                                              | 190/1000 [44:46<3:15:01, 14.45s/it]"
     ]
    },
    {
     "name": "stdout",
     "output_type": "stream",
     "text": [
      "\n",
      "Epoch 190:\n",
      "\n",
      "Generator training loss: -1.069255583273257\n",
      "Discriminator training loss: 0.000634944382400533\n",
      "\n",
      "Generator validation loss: -2.1026885587660993\n",
      "Discriminator validation loss: 0.003690451658466835\n"
     ]
    },
    {
     "name": "stderr",
     "output_type": "stream",
     "text": [
      " 20%|███████████████▎                                                             | 199/1000 [46:52<3:06:44, 13.99s/it]"
     ]
    },
    {
     "name": "stdout",
     "output_type": "stream",
     "text": [
      "\n",
      "Epoch 200:\n",
      "\n",
      "Generator training loss: -1.0610024331371641\n",
      "Discriminator training loss: -0.00016750285928035817\n",
      "\n",
      "Generator validation loss: -2.1068885287300487\n",
      "Discriminator validation loss: 0.005340969216183007\n",
      "\n",
      "Epoch 200:\n"
     ]
    },
    {
     "data": {
      "image/png": "[encoded data removed]",
      "text/plain": [
       "<Figure size 432x288 with 1 Axes>"
      ]
     },
     "metadata": {
      "needs_background": "light"
     },
     "output_type": "display_data"
    },
    {
     "data": {
      "image/png": "[encoded data removed]",
      "text/plain": [
       "<Figure size 432x288 with 1 Axes>"
      ]
     },
     "metadata": {
      "needs_background": "light"
     },
     "output_type": "display_data"
    },
    {
     "data": {
      "image/png": "[encoded data removed]",
      "text/plain": [
       "<Figure size 432x288 with 1 Axes>"
      ]
     },
     "metadata": {
      "needs_background": "light"
     },
     "output_type": "display_data"
    },
    {
     "name": "stderr",
     "output_type": "stream",
     "text": [
      " 21%|████████████████▏                                                            | 210/1000 [49:25<3:02:18, 13.85s/it]"
     ]
    },
    {
     "name": "stdout",
     "output_type": "stream",
     "text": [
      "\n",
      "Epoch 210:\n",
      "\n",
      "Generator training loss: -1.0767500302830681\n",
      "Discriminator training loss: -0.000839502802909671\n",
      "\n",
      "Generator validation loss: -2.116268636750393\n",
      "Discriminator validation loss: -0.004533021773329624\n"
     ]
    },
    {
     "name": "stderr",
     "output_type": "stream",
     "text": [
      " 22%|████████████████▉                                                            | 220/1000 [51:44<2:59:49, 13.83s/it]"
     ]
    },
    {
     "name": "stdout",
     "output_type": "stream",
     "text": [
      "\n",
      "Epoch 220:\n",
      "\n",
      "Generator training loss: -1.0991944384053756\n",
      "Discriminator training loss: -0.0008428389830829683\n",
      "\n",
      "Generator validation loss: -2.134850718935982\n",
      "Discriminator validation loss: 0.00489111536241625\n"
     ]
    },
    {
     "name": "stderr",
     "output_type": "stream",
     "text": [
      " 23%|█████████████████▋                                                           | 230/1000 [54:02<2:58:02, 13.87s/it]"
     ]
    },
    {
     "name": "stdout",
     "output_type": "stream",
     "text": [
      "\n",
      "Epoch 230:\n",
      "\n",
      "Generator training loss: -1.1950016347436958\n",
      "Discriminator training loss: -0.002081839529019106\n",
      "\n",
      "Generator validation loss: -2.240338261010217\n",
      "Discriminator validation loss: 0.009184670108313229\n"
     ]
    },
    {
     "name": "stderr",
     "output_type": "stream",
     "text": [
      " 24%|██████████████████▍                                                          | 240/1000 [56:22<2:56:34, 13.94s/it]"
     ]
    },
    {
     "name": "stdout",
     "output_type": "stream",
     "text": [
      "\n",
      "Epoch 240:\n",
      "\n",
      "Generator training loss: -1.2339766276338713\n",
      "Discriminator training loss: -0.0010522257339562698\n",
      "\n",
      "Generator validation loss: -2.280966788041787\n",
      "Discriminator validation loss: 0.014538264779954171\n"
     ]
    },
    {
     "name": "stderr",
     "output_type": "stream",
     "text": [
      " 25%|███████████████████▎                                                         | 250/1000 [58:42<2:56:28, 14.12s/it]"
     ]
    },
    {
     "name": "stdout",
     "output_type": "stream",
     "text": [
      "\n",
      "Epoch 250:\n",
      "\n",
      "Generator training loss: -1.228251760123206\n",
      "Discriminator training loss: -0.0010540501453875262\n",
      "\n",
      "Generator validation loss: -2.2636081410236044\n",
      "Discriminator validation loss: -0.01351958560446262\n"
     ]
    },
    {
     "name": "stderr",
     "output_type": "stream",
     "text": [
      " 26%|███████████████████▌                                                       | 260/1000 [1:01:06<2:56:20, 14.30s/it]"
     ]
    },
    {
     "name": "stdout",
     "output_type": "stream",
     "text": [
      "\n",
      "Epoch 260:\n",
      "\n",
      "Generator training loss: -1.2269092710291754\n",
      "Discriminator training loss: -0.0016600797329682608\n",
      "\n",
      "Generator validation loss: -2.2584880355928765\n",
      "Discriminator validation loss: 0.001732546433216709\n"
     ]
    },
    {
     "name": "stderr",
     "output_type": "stream",
     "text": [
      " 27%|████████████████████▎                                                      | 270/1000 [1:03:27<2:51:00, 14.05s/it]"
     ]
    },
    {
     "name": "stdout",
     "output_type": "stream",
     "text": [
      "\n",
      "Epoch 270:\n",
      "\n",
      "Generator training loss: -1.2409827569143368\n",
      "Discriminator training loss: -0.0008953222659587621\n",
      "\n",
      "Generator validation loss: -2.277376856960234\n",
      "Discriminator validation loss: -0.012906949669428047\n"
     ]
    },
    {
     "name": "stderr",
     "output_type": "stream",
     "text": [
      " 28%|█████████████████████                                                      | 280/1000 [1:05:48<2:49:51, 14.16s/it]"
     ]
    },
    {
     "name": "stdout",
     "output_type": "stream",
     "text": [
      "\n",
      "Epoch 280:\n",
      "\n",
      "Generator training loss: -1.2341002121649154\n",
      "Discriminator training loss: 0.0003796978123741138\n",
      "\n",
      "Generator validation loss: -2.267903568314724\n",
      "Discriminator validation loss: 0.003154753322797049\n"
     ]
    },
    {
     "name": "stderr",
     "output_type": "stream",
     "text": [
      " 29%|█████████████████████▊                                                     | 290/1000 [1:08:09<2:44:59, 13.94s/it]"
     ]
    },
    {
     "name": "stdout",
     "output_type": "stream",
     "text": [
      "\n",
      "Epoch 290:\n",
      "\n",
      "Generator training loss: -1.2359297314628226\n",
      "Discriminator training loss: 0.00047696021445050376\n",
      "\n",
      "Generator validation loss: -2.289224319770688\n",
      "Discriminator validation loss: 0.0024029338502393823\n"
     ]
    },
    {
     "name": "stderr",
     "output_type": "stream",
     "text": [
      " 30%|██████████████████████▍                                                    | 299/1000 [1:10:15<2:42:22, 13.90s/it]"
     ]
    },
    {
     "name": "stdout",
     "output_type": "stream",
     "text": [
      "\n",
      "Epoch 300:\n",
      "\n",
      "Generator training loss: -1.2498852620359326\n",
      "Discriminator training loss: -0.0008115930107297807\n",
      "\n",
      "Generator validation loss: -2.280708492779341\n",
      "Discriminator validation loss: -0.00188319254871725\n",
      "\n",
      "Epoch 300:\n"
     ]
    },
    {
     "data": {
      "image/png": "[encoded data removed]",
      "text/plain": [
       "<Figure size 432x288 with 1 Axes>"
      ]
     },
     "metadata": {
      "needs_background": "light"
     },
     "output_type": "display_data"
    },
    {
     "data": {
      "image/png": "[encoded data removed]",
      "text/plain": [
       "<Figure size 432x288 with 1 Axes>"
      ]
     },
     "metadata": {
      "needs_background": "light"
     },
     "output_type": "display_data"
    },
    {
     "data": {
      "image/png": "[encoded data removed]",
      "text/plain": [
       "<Figure size 432x288 with 1 Axes>"
      ]
     },
     "metadata": {
      "needs_background": "light"
     },
     "output_type": "display_data"
    },
    {
     "name": "stderr",
     "output_type": "stream",
     "text": [
      " 31%|███████████████████████▎                                                   | 310/1000 [1:12:49<2:40:12, 13.93s/it]"
     ]
    },
    {
     "name": "stdout",
     "output_type": "stream",
     "text": [
      "\n",
      "Epoch 310:\n",
      "\n",
      "Generator training loss: -1.2591618605650188\n",
      "Discriminator training loss: -0.0006811612148394587\n",
      "\n",
      "Generator validation loss: -2.318547833161276\n",
      "Discriminator validation loss: 0.014102999836499383\n"
     ]
    },
    {
     "name": "stderr",
     "output_type": "stream",
     "text": [
      " 32%|████████████████████████                                                   | 320/1000 [1:15:08<2:38:08, 13.95s/it]"
     ]
    },
    {
     "name": "stdout",
     "output_type": "stream",
     "text": [
      "\n",
      "Epoch 320:\n",
      "\n",
      "Generator training loss: -1.2702668739146874\n",
      "Discriminator training loss: 0.00031230839959675284\n",
      "\n",
      "Generator validation loss: -2.318966312486617\n",
      "Discriminator validation loss: 0.002937867295437828\n"
     ]
    },
    {
     "name": "stderr",
     "output_type": "stream",
     "text": [
      " 33%|████████████████████████▊                                                  | 330/1000 [1:17:30<2:38:01, 14.15s/it]"
     ]
    },
    {
     "name": "stdout",
     "output_type": "stream",
     "text": [
      "\n",
      "Epoch 330:\n",
      "\n",
      "Generator training loss: -1.2994409496666954\n",
      "Discriminator training loss: -0.0004047910183559355\n",
      "\n",
      "Generator validation loss: -2.3628831965024353\n",
      "Discriminator validation loss: 0.014980188769395233\n"
     ]
    },
    {
     "name": "stderr",
     "output_type": "stream",
     "text": [
      " 34%|█████████████████████████▌                                                 | 340/1000 [1:19:51<2:35:22, 14.12s/it]"
     ]
    },
    {
     "name": "stdout",
     "output_type": "stream",
     "text": [
      "\n",
      "Epoch 340:\n",
      "\n",
      "Generator training loss: -1.3048906622688627\n",
      "Discriminator training loss: 0.0002369521868642123\n",
      "\n",
      "Generator validation loss: -2.3708498106628166\n",
      "Discriminator validation loss: 0.017193025781975325\n"
     ]
    },
    {
     "name": "stderr",
     "output_type": "stream",
     "text": [
      " 35%|██████████████████████████▎                                                | 350/1000 [1:22:13<2:33:32, 14.17s/it]"
     ]
    },
    {
     "name": "stdout",
     "output_type": "stream",
     "text": [
      "\n",
      "Epoch 350:\n",
      "\n",
      "Generator training loss: -1.336962829847805\n",
      "Discriminator training loss: 0.0005289639550823556\n",
      "\n",
      "Generator validation loss: -2.408902578666562\n",
      "Discriminator validation loss: 0.011465585229013756\n"
     ]
    },
    {
     "name": "stderr",
     "output_type": "stream",
     "text": [
      " 36%|███████████████████████████                                                | 360/1000 [1:24:34<2:30:17, 14.09s/it]"
     ]
    },
    {
     "name": "stdout",
     "output_type": "stream",
     "text": [
      "\n",
      "Epoch 360:\n",
      "\n",
      "Generator training loss: -1.368798650679041\n",
      "Discriminator training loss: 0.001854416647731709\n",
      "\n",
      "Generator validation loss: -2.4360385175611152\n",
      "Discriminator validation loss: 0.029063139816929328\n"
     ]
    },
    {
     "name": "stderr",
     "output_type": "stream",
     "text": [
      " 37%|███████████████████████████▊                                               | 370/1000 [1:26:54<2:27:01, 14.00s/it]"
     ]
    },
    {
     "name": "stdout",
     "output_type": "stream",
     "text": [
      "\n",
      "Epoch 370:\n",
      "\n",
      "Generator training loss: -1.4061906441964738\n",
      "Discriminator training loss: -0.0005566196355051387\n",
      "\n",
      "Generator validation loss: -2.4430121339735438\n",
      "Discriminator validation loss: -0.02430350614757445\n"
     ]
    },
    {
     "name": "stderr",
     "output_type": "stream",
     "text": [
      " 38%|████████████████████████████▌                                              | 380/1000 [1:29:14<2:26:13, 14.15s/it]"
     ]
    },
    {
     "name": "stdout",
     "output_type": "stream",
     "text": [
      "\n",
      "Epoch 380:\n",
      "\n",
      "Generator training loss: -1.4570219953203463\n",
      "Discriminator training loss: -0.0003267839219100847\n",
      "\n",
      "Generator validation loss: -2.512482733022971\n",
      "Discriminator validation loss: -0.0019260484238329213\n"
     ]
    },
    {
     "name": "stderr",
     "output_type": "stream",
     "text": [
      " 39%|█████████████████████████████▎                                             | 390/1000 [1:31:38<2:24:27, 14.21s/it]"
     ]
    },
    {
     "name": "stdout",
     "output_type": "stream",
     "text": [
      "\n",
      "Epoch 390:\n",
      "\n",
      "Generator training loss: -1.492584692650154\n",
      "Discriminator training loss: 0.0011577630141577264\n",
      "\n",
      "Generator validation loss: -2.551919204289796\n",
      "Discriminator validation loss: 0.015247003791985469\n"
     ]
    },
    {
     "name": "stderr",
     "output_type": "stream",
     "text": [
      " 40%|█████████████████████████████▉                                             | 399/1000 [1:33:43<2:20:23, 14.02s/it]"
     ]
    },
    {
     "name": "stdout",
     "output_type": "stream",
     "text": [
      "\n",
      "Epoch 400:\n",
      "\n",
      "Generator training loss: -1.536313994986112\n",
      "Discriminator training loss: 0.0006846259572595527\n",
      "\n",
      "Generator validation loss: -2.5912470563513335\n",
      "Discriminator validation loss: -0.0010257431961496772\n",
      "\n",
      "Epoch 400:\n"
     ]
    },
    {
     "data": {
      "image/png": "[encoded data removed]",
      "text/plain": [
       "<Figure size 432x288 with 1 Axes>"
      ]
     },
     "metadata": {
      "needs_background": "light"
     },
     "output_type": "display_data"
    },
    {
     "data": {
      "image/png": "[encoded data removed]",
      "text/plain": [
       "<Figure size 432x288 with 1 Axes>"
      ]
     },
     "metadata": {
      "needs_background": "light"
     },
     "output_type": "display_data"
    },
    {
     "data": {
      "image/png": "[encoded data removed]",
      "text/plain": [
       "<Figure size 432x288 with 1 Axes>"
      ]
     },
     "metadata": {
      "needs_background": "light"
     },
     "output_type": "display_data"
    },
    {
     "name": "stderr",
     "output_type": "stream",
     "text": [
      " 41%|██████████████████████████████▋                                            | 410/1000 [1:36:20<2:20:38, 14.30s/it]"
     ]
    },
    {
     "name": "stdout",
     "output_type": "stream",
     "text": [
      "\n",
      "Epoch 410:\n",
      "\n",
      "Generator training loss: -1.558302996588535\n",
      "Discriminator training loss: 0.0007573268185485768\n",
      "\n",
      "Generator validation loss: -2.616586329507046\n",
      "Discriminator validation loss: 0.027684742798570725\n"
     ]
    },
    {
     "name": "stderr",
     "output_type": "stream",
     "text": [
      " 42%|███████████████████████████████▌                                           | 420/1000 [1:38:40<2:13:25, 13.80s/it]"
     ]
    },
    {
     "name": "stdout",
     "output_type": "stream",
     "text": [
      "\n",
      "Epoch 420:\n",
      "\n",
      "Generator training loss: -1.57342077702121\n",
      "Discriminator training loss: 0.0006556320399889796\n",
      "\n",
      "Generator validation loss: -2.6356168516346665\n",
      "Discriminator validation loss: 0.00712754497983012\n"
     ]
    },
    {
     "name": "stderr",
     "output_type": "stream",
     "text": [
      " 43%|████████████████████████████████▎                                          | 430/1000 [1:41:00<2:13:57, 14.10s/it]"
     ]
    },
    {
     "name": "stdout",
     "output_type": "stream",
     "text": [
      "\n",
      "Epoch 430:\n",
      "\n",
      "Generator training loss: -1.5852701074438669\n",
      "Discriminator training loss: 0.002174732176817351\n",
      "\n",
      "Generator validation loss: -2.6153384779320388\n",
      "Discriminator validation loss: -0.019764502139043513\n"
     ]
    },
    {
     "name": "stderr",
     "output_type": "stream",
     "text": [
      " 44%|█████████████████████████████████                                          | 440/1000 [1:43:24<2:14:08, 14.37s/it]"
     ]
    },
    {
     "name": "stdout",
     "output_type": "stream",
     "text": [
      "\n",
      "Epoch 440:\n",
      "\n",
      "Generator training loss: -1.6904998164359337\n",
      "Discriminator training loss: -0.0005463659477705147\n",
      "\n",
      "Generator validation loss: -2.722688997378115\n",
      "Discriminator validation loss: 0.009383699016146491\n"
     ]
    },
    {
     "name": "stderr",
     "output_type": "stream",
     "text": [
      " 45%|█████████████████████████████████▊                                         | 450/1000 [1:45:46<2:10:38, 14.25s/it]"
     ]
    },
    {
     "name": "stdout",
     "output_type": "stream",
     "text": [
      "\n",
      "Epoch 450:\n",
      "\n",
      "Generator training loss: -1.70167858776499\n",
      "Discriminator training loss: 0.0006180629192823175\n",
      "\n",
      "Generator validation loss: -2.7565917714697417\n",
      "Discriminator validation loss: 0.0050808001720188106\n"
     ]
    },
    {
     "name": "stderr",
     "output_type": "stream",
     "text": [
      " 46%|██████████████████████████████████▌                                        | 460/1000 [1:48:06<2:05:15, 13.92s/it]"
     ]
    },
    {
     "name": "stdout",
     "output_type": "stream",
     "text": [
      "\n",
      "Epoch 460:\n",
      "\n",
      "Generator training loss: -1.7288635457799735\n",
      "Discriminator training loss: 0.0003218578906063292\n",
      "\n",
      "Generator validation loss: -2.7909347796049273\n",
      "Discriminator validation loss: 0.01246559082198369\n"
     ]
    },
    {
     "name": "stderr",
     "output_type": "stream",
     "text": [
      " 47%|███████████████████████████████████▎                                       | 470/1000 [1:50:26<2:05:59, 14.26s/it]"
     ]
    },
    {
     "name": "stdout",
     "output_type": "stream",
     "text": [
      "\n",
      "Epoch 470:\n",
      "\n",
      "Generator training loss: -1.7621108143707442\n",
      "Discriminator training loss: 6.869234602476591e-05\n",
      "\n",
      "Generator validation loss: -2.814587993699996\n",
      "Discriminator validation loss: 0.011326357558036612\n"
     ]
    },
    {
     "name": "stderr",
     "output_type": "stream",
     "text": [
      " 48%|████████████████████████████████████                                       | 480/1000 [1:52:46<1:59:56, 13.84s/it]"
     ]
    },
    {
     "name": "stdout",
     "output_type": "stream",
     "text": [
      "\n",
      "Epoch 480:\n",
      "\n",
      "Generator training loss: -1.785894620939682\n",
      "Discriminator training loss: -0.0006747642388668556\n",
      "\n",
      "Generator validation loss: -2.8357632961429533\n",
      "Discriminator validation loss: -0.009407751727849245\n"
     ]
    },
    {
     "name": "stderr",
     "output_type": "stream",
     "text": [
      " 49%|████████████████████████████████████▊                                      | 490/1000 [1:55:04<1:56:53, 13.75s/it]"
     ]
    },
    {
     "name": "stdout",
     "output_type": "stream",
     "text": [
      "\n",
      "Epoch 490:\n",
      "\n",
      "Generator training loss: -1.9146010478337605\n",
      "Discriminator training loss: 0.00013110429240814335\n",
      "\n",
      "Generator validation loss: -2.9803261424674363\n",
      "Discriminator validation loss: -0.004479614875413435\n"
     ]
    },
    {
     "name": "stderr",
     "output_type": "stream",
     "text": [
      " 50%|█████████████████████████████████████▍                                     | 499/1000 [1:57:09<1:54:55, 13.76s/it]"
     ]
    },
    {
     "name": "stdout",
     "output_type": "stream",
     "text": [
      "\n",
      "Epoch 500:\n",
      "\n",
      "Generator training loss: -1.9589646813647994\n",
      "Discriminator training loss: 0.0002205525869071036\n",
      "\n",
      "Generator validation loss: -3.0077991036118052\n",
      "Discriminator validation loss: 0.014299093115980332\n",
      "\n",
      "Epoch 500:\n"
     ]
    },
    {
     "data": {
      "image/png": "[encoded data removed]",
      "text/plain": [
       "<Figure size 432x288 with 1 Axes>"
      ]
     },
     "metadata": {
      "needs_background": "light"
     },
     "output_type": "display_data"
    },
    {
     "data": {
      "image/png": "[encoded data removed]",
      "text/plain": [
       "<Figure size 432x288 with 1 Axes>"
      ]
     },
     "metadata": {
      "needs_background": "light"
     },
     "output_type": "display_data"
    },
    {
     "data": {
      "image/png": "[encoded data removed]",
      "text/plain": [
       "<Figure size 432x288 with 1 Axes>"
      ]
     },
     "metadata": {
      "needs_background": "light"
     },
     "output_type": "display_data"
    },
    {
     "name": "stderr",
     "output_type": "stream",
     "text": [
      " 51%|██████████████████████████████████████▎                                    | 510/1000 [1:59:44<1:54:32, 14.03s/it]"
     ]
    },
    {
     "name": "stdout",
     "output_type": "stream",
     "text": [
      "\n",
      "Epoch 510:\n",
      "\n",
      "Generator training loss: -2.02320820907426\n",
      "Discriminator training loss: 0.0005035253981817921\n",
      "\n",
      "Generator validation loss: -3.0776911192252987\n",
      "Discriminator validation loss: 0.028357556921842157\n"
     ]
    },
    {
     "name": "stderr",
     "output_type": "stream",
     "text": [
      " 52%|███████████████████████████████████████                                    | 520/1000 [2:02:08<1:56:35, 14.57s/it]"
     ]
    },
    {
     "name": "stdout",
     "output_type": "stream",
     "text": [
      "\n",
      "Epoch 520:\n",
      "\n",
      "Generator training loss: -2.133717877617299\n",
      "Discriminator training loss: -0.0005806710047161816\n",
      "\n",
      "Generator validation loss: -3.136207908880515\n",
      "Discriminator validation loss: 0.0020285899293815074\n"
     ]
    },
    {
     "name": "stderr",
     "output_type": "stream",
     "text": [
      " 53%|███████████████████████████████████████▊                                   | 530/1000 [2:04:32<1:52:40, 14.38s/it]"
     ]
    },
    {
     "name": "stdout",
     "output_type": "stream",
     "text": [
      "\n",
      "Epoch 530:\n",
      "\n",
      "Generator training loss: -2.1441379479371783\n",
      "Discriminator training loss: -0.00029050739057574554\n",
      "\n",
      "Generator validation loss: -3.1565734304365565\n",
      "Discriminator validation loss: -0.0041738793536706745\n"
     ]
    },
    {
     "name": "stderr",
     "output_type": "stream",
     "text": [
      " 54%|████████████████████████████████████████▌                                  | 540/1000 [2:06:56<1:50:13, 14.38s/it]"
     ]
    },
    {
     "name": "stdout",
     "output_type": "stream",
     "text": [
      "\n",
      "Epoch 540:\n",
      "\n",
      "Generator training loss: -2.15412759520317\n",
      "Discriminator training loss: 0.00011905031933565625\n",
      "\n",
      "Generator validation loss: -3.170917380051535\n",
      "Discriminator validation loss: -0.002434319281448671\n"
     ]
    },
    {
     "name": "stderr",
     "output_type": "stream",
     "text": [
      " 55%|█████████████████████████████████████████▎                                 | 550/1000 [2:09:18<1:46:27, 14.19s/it]"
     ]
    },
    {
     "name": "stdout",
     "output_type": "stream",
     "text": [
      "\n",
      "Epoch 550:\n",
      "\n",
      "Generator training loss: -2.238661322437349\n",
      "Discriminator training loss: 0.0023480005154096397\n",
      "\n",
      "Generator validation loss: -3.265776843321128\n",
      "Discriminator validation loss: 0.01955674905100929\n"
     ]
    },
    {
     "name": "stderr",
     "output_type": "stream",
     "text": [
      " 56%|██████████████████████████████████████████                                 | 560/1000 [2:11:40<1:44:52, 14.30s/it]"
     ]
    },
    {
     "name": "stdout",
     "output_type": "stream",
     "text": [
      "\n",
      "Epoch 560:\n",
      "\n",
      "Generator training loss: -2.2823679577457447\n",
      "Discriminator training loss: 0.0012168446884901186\n",
      "\n",
      "Generator validation loss: -3.3004810126101383\n",
      "Discriminator validation loss: 0.012717804062079074\n"
     ]
    },
    {
     "name": "stderr",
     "output_type": "stream",
     "text": [
      " 57%|██████████████████████████████████████████▋                                | 570/1000 [2:14:03<1:41:55, 14.22s/it]"
     ]
    },
    {
     "name": "stdout",
     "output_type": "stream",
     "text": [
      "\n",
      "Epoch 570:\n",
      "\n",
      "Generator training loss: -2.3546589339365727\n",
      "Discriminator training loss: 0.0008039323998116722\n",
      "\n",
      "Generator validation loss: -3.3300169745429615\n",
      "Discriminator validation loss: 0.0007434086676424114\n"
     ]
    },
    {
     "name": "stderr",
     "output_type": "stream",
     "text": [
      " 58%|███████████████████████████████████████████▌                               | 580/1000 [2:16:25<1:38:48, 14.11s/it]"
     ]
    },
    {
     "name": "stdout",
     "output_type": "stream",
     "text": [
      "\n",
      "Epoch 580:\n",
      "\n",
      "Generator training loss: -2.4072446836148456\n",
      "Discriminator training loss: -0.0007997280123352221\n",
      "\n",
      "Generator validation loss: -3.39092453972238\n",
      "Discriminator validation loss: -0.008923734611121066\n"
     ]
    },
    {
     "name": "stderr",
     "output_type": "stream",
     "text": [
      " 59%|████████████████████████████████████████████▎                              | 590/1000 [2:18:45<1:36:32, 14.13s/it]"
     ]
    },
    {
     "name": "stdout",
     "output_type": "stream",
     "text": [
      "\n",
      "Epoch 590:\n",
      "\n",
      "Generator training loss: -2.3813969717651116\n",
      "Discriminator training loss: -0.0013972186482965672\n",
      "\n",
      "Generator validation loss: -3.400083387484316\n",
      "Discriminator validation loss: 0.019312718558004965\n"
     ]
    },
    {
     "name": "stderr",
     "output_type": "stream",
     "text": [
      " 60%|████████████████████████████████████████████▉                              | 599/1000 [2:20:50<1:32:55, 13.90s/it]"
     ]
    },
    {
     "name": "stdout",
     "output_type": "stream",
     "text": [
      "\n",
      "Epoch 600:\n",
      "\n",
      "Generator training loss: -2.4776462283942218\n",
      "Discriminator training loss: 0.0008363677815241864\n",
      "\n",
      "Generator validation loss: -3.4727096108139537\n",
      "Discriminator validation loss: -0.0033541333925582043\n",
      "\n",
      "Epoch 600:\n"
     ]
    },
    {
     "data": {
      "image/png": "[encoded data removed]",
      "text/plain": [
       "<Figure size 432x288 with 1 Axes>"
      ]
     },
     "metadata": {
      "needs_background": "light"
     },
     "output_type": "display_data"
    },
    {
     "data": {
      "image/png": "[encoded data removed]",
      "text/plain": [
       "<Figure size 432x288 with 1 Axes>"
      ]
     },
     "metadata": {
      "needs_background": "light"
     },
     "output_type": "display_data"
    },
    {
     "data": {
      "image/png": "[encoded data removed]",
      "text/plain": [
       "<Figure size 432x288 with 1 Axes>"
      ]
     },
     "metadata": {
      "needs_background": "light"
     },
     "output_type": "display_data"
    },
    {
     "name": "stderr",
     "output_type": "stream",
     "text": [
      " 61%|█████████████████████████████████████████████▊                             | 610/1000 [2:23:23<1:30:12, 13.88s/it]"
     ]
    },
    {
     "name": "stdout",
     "output_type": "stream",
     "text": [
      "\n",
      "Epoch 610:\n",
      "\n",
      "Generator training loss: -2.4267906445623098\n",
      "Discriminator training loss: -0.0012494204921326133\n",
      "\n",
      "Generator validation loss: -3.4834031316100575\n",
      "Discriminator validation loss: 0.011090252529371713\n"
     ]
    },
    {
     "name": "stderr",
     "output_type": "stream",
     "text": [
      " 62%|██████████████████████████████████████████████▎                            | 618/1000 [2:25:13<1:28:07, 13.84s/it]"
     ]
    }
   ],
   "source": [
    "train_gen_losses = []\n",
    "train_disc_losses = []\n",
    "test_gen_losses = []\n",
    "test_disc_losses = []\n",
    "train(train_dataset, test_dataset, 1000, N_CRITIC)"
   ]
  },
  {
   "cell_type": "markdown",
   "metadata": {},
   "source": [
    "## Results\n",
    "Train for 4 features works pretty well and took 2:20 hrs for 1000 epos with a 1080"
   ]
  },
  {
   "cell_type": "code",
   "execution_count": null,
   "metadata": {},
   "outputs": [],
   "source": [
    "z"
   ]
  },
  {
   "cell_type": "code",
   "execution_count": null,
   "metadata": {},
   "outputs": [],
   "source": []
  }
 ],
 "metadata": {
  "kernelspec": {
   "display_name": "Python 3.7 (tensorflow)",
   "language": "python",
   "name": "tensorflow"
  },
  "language_info": {
   "codemirror_mode": {
    "name": "ipython",
    "version": 3
   },
   "file_extension": ".py",
   "mimetype": "text/x-python",
   "name": "python",
   "nbconvert_exporter": "python",
   "pygments_lexer": "ipython3",
   "version": "3.7.7"
  }
 },
 "nbformat": 4,
 "nbformat_minor": 2
}
